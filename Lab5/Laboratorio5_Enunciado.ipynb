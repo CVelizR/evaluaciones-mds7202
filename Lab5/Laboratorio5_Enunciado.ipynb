{
 "cells": [
  {
   "cell_type": "markdown",
   "metadata": {
    "cell_id": "00000-d922277a-c096-45e6-919d-d08ca8ca4c9c",
    "deepnote_cell_height": 155.43333435058594,
    "deepnote_cell_type": "markdown",
    "id": "XUZ1dFPHzAHl"
   },
   "source": [
    "<h1><center>Laboratorio 5: El Pandas no Muerde (act IV) 🐼</center></h1>\n",
    "\n",
    "<center><strong>MDS7202: Laboratorio de Programación Científica para Ciencia de Datos</strong></center>"
   ]
  },
  {
   "cell_type": "markdown",
   "metadata": {
    "cell_id": "00001-41058c5a-e4f2-45ba-8925-5dee28b63c02",
    "deepnote_cell_height": 165.78334045410156,
    "deepnote_cell_type": "markdown",
    "id": "UD8X1uhGzAHq"
   },
   "source": [
    "### Cuerpo Docente:\n",
    "\n",
    "- Profesor: Pablo Badilla\n",
    "- Auxiliar: Ignacio Meza D.\n",
    "- Ayudante: Patricio Ortiz"
   ]
  },
  {
   "cell_type": "markdown",
   "metadata": {
    "cell_id": "00002-e1842bc9-c821-4133-b500-4fe9b07f9071",
    "deepnote_cell_height": 171.86666870117188,
    "deepnote_cell_type": "markdown",
    "id": "tXflExjqzAHr"
   },
   "source": [
    "### Equipo: SUPER IMPORTANTE - notebooks sin nombre no serán revisados\n",
    "\n",
    "- Nombre de alumno 1: Natalia Abarca G.\n",
    "- Nombre de alumno 2: César Véliz R.\n"
   ]
  },
  {
   "cell_type": "markdown",
   "metadata": {
    "cell_id": "00003-1ff7590e-80bb-4f14-b210-a464229ab3d9",
    "deepnote_cell_height": 61.56666564941406,
    "deepnote_cell_type": "markdown",
    "id": "AD-V0bbZzAHr"
   },
   "source": [
    "### **Link de repositorio de GitHub:** `https://github.com/CVelizR/evaluaciones-mds7202`"
   ]
  },
  {
   "cell_type": "markdown",
   "metadata": {
    "cell_id": "00005-9b6fbc71-5250-4293-939d-cff84ea69ac4",
    "deepnote_cell_height": 571,
    "deepnote_cell_type": "markdown",
    "id": "6uBLPj1PzAHs"
   },
   "source": [
    "\n",
    "## Reglas:\n",
    "\n",
    "- Fecha de entrega: 22/10/2021\n",
    "- **Grupos de 2 personas**\n",
    "- **Ausentes** deberán realizar la actividad solos. \n",
    "- Cualquier duda fuera del horario de clases al foro. Mensajes al equipo docente serán respondidos por este medio.\n",
    "- Prohibidas las copias. \n",
    "- Pueden usar cualquer matrial del curso que estimen conveniente.\n",
    "\n",
    "### Objetivos principales del laboratorio\n",
    "\n",
    "- Aplicar los paradigmas y buenas prácticas de programación vistas hasta este momento.\n",
    "- Comprender y aprovechar las ventajas que nos ofrece la liberia `numpy` con respecto a trabajar en Python 'puro'.\n",
    "- Visualizar aplicaciones de filtros de imágenes sin el uso de librerías.\n",
    "- Verificar que el uso indiscriminado de `for` puede afectar en la eficiencia en al procesar datos masivos.\n",
    "\n",
    "\n",
    "El laboratorio deberá ser desarrollado sin el uso indiscriminado de iteradores nativos de python (aka \"for\", \"while\"). La idea es que aprendan a exprimir al máximo las funciones optimizadas que nos entrega `numpy`, las cuales vale mencionar, son bastante más eficientes que los iteradores nativos sobre arreglos (*o tensores*)."
   ]
  },
  {
   "cell_type": "markdown",
   "metadata": {
    "cell_id": "00006-aba27b6e-506c-4de4-9ba7-161e8fa8eeb6",
    "deepnote_cell_height": 69.03334045410156,
    "deepnote_cell_type": "markdown",
    "id": "wrG4gYabzAHs"
   },
   "source": [
    "## Descripción del laboratorio."
   ]
  },
  {
   "cell_type": "markdown",
   "metadata": {
    "cell_id": "00007-92b497a3-20e7-40e4-8a65-2115c3cf717b",
    "deepnote_cell_height": 61.03334045410156,
    "deepnote_cell_type": "markdown",
    "id": "MhISwri4zAHy"
   },
   "source": [
    "### Importamos librerias utiles 😸"
   ]
  },
  {
   "cell_type": "code",
   "execution_count": 4,
   "metadata": {
    "ExecuteTime": {
     "end_time": "2021-03-29T00:08:16.884674Z",
     "start_time": "2021-03-29T00:08:16.349846Z"
    },
    "cell_id": "00008-02ea8e34-1cb6-4773-a4b1-3369d7843ddf",
    "colab": {
     "base_uri": "https://localhost:8080/"
    },
    "deepnote_cell_height": 987.5499877929688,
    "deepnote_cell_type": "code",
    "deepnote_to_be_reexecuted": false,
    "executionInfo": {
     "elapsed": 7340,
     "status": "ok",
     "timestamp": 1619926444128,
     "user": {
      "displayName": "IGNACIO ALEJANDRO MEZA",
      "photoUrl": "",
      "userId": "17011121633069169364"
     },
     "user_tz": 240
    },
    "execution_millis": 15959,
    "execution_start": 1634325916301,
    "id": "uyc33dKdzAHy",
    "outputId": "275fee3c-4ef0-4bfb-acb7-e318d613bdce",
    "source_hash": "80b1c1a9"
   },
   "outputs": [
    {
     "name": "stdout",
     "output_type": "stream",
     "text": [
      "Requirement already satisfied: pandas in c:\\users\\cesar\\anaconda3\\lib\\site-packages (1.4.2)\n",
      "Requirement already satisfied: numpy>=1.18.5 in c:\\users\\cesar\\anaconda3\\lib\\site-packages (from pandas) (1.20.3)\n",
      "Requirement already satisfied: pytz>=2020.1 in c:\\users\\cesar\\anaconda3\\lib\\site-packages (from pandas) (2021.3)\n",
      "Requirement already satisfied: python-dateutil>=2.8.1 in c:\\users\\cesar\\anaconda3\\lib\\site-packages (from pandas) (2.8.2)\n",
      "Requirement already satisfied: six>=1.5 in c:\\users\\cesar\\anaconda3\\lib\\site-packages (from python-dateutil>=2.8.1->pandas) (1.16.0)\n"
     ]
    },
    {
     "name": "stderr",
     "output_type": "stream",
     "text": [
      "WARNING: Ignoring invalid distribution -atplotlib (c:\\users\\cesar\\anaconda3\\lib\\site-packages)\n",
      "WARNING: Ignoring invalid distribution -atplotlib (c:\\users\\cesar\\anaconda3\\lib\\site-packages)\n",
      "WARNING: Ignoring invalid distribution -atplotlib (c:\\users\\cesar\\anaconda3\\lib\\site-packages)\n",
      "WARNING: Ignoring invalid distribution -atplotlib (c:\\users\\cesar\\anaconda3\\lib\\site-packages)\n",
      "WARNING: Ignoring invalid distribution -atplotlib (c:\\users\\cesar\\anaconda3\\lib\\site-packages)\n",
      "WARNING: Ignoring invalid distribution -atplotlib (c:\\users\\cesar\\anaconda3\\lib\\site-packages)\n"
     ]
    },
    {
     "name": "stdout",
     "output_type": "stream",
     "text": [
      "Requirement already satisfied: xlrd in c:\\users\\cesar\\anaconda3\\lib\\site-packages (2.0.1)\n"
     ]
    },
    {
     "name": "stderr",
     "output_type": "stream",
     "text": [
      "WARNING: Ignoring invalid distribution -atplotlib (c:\\users\\cesar\\anaconda3\\lib\\site-packages)\n",
      "WARNING: Ignoring invalid distribution -atplotlib (c:\\users\\cesar\\anaconda3\\lib\\site-packages)\n",
      "WARNING: Ignoring invalid distribution -atplotlib (c:\\users\\cesar\\anaconda3\\lib\\site-packages)\n",
      "WARNING: Ignoring invalid distribution -atplotlib (c:\\users\\cesar\\anaconda3\\lib\\site-packages)\n",
      "WARNING: Ignoring invalid distribution -atplotlib (c:\\users\\cesar\\anaconda3\\lib\\site-packages)\n",
      "WARNING: Ignoring invalid distribution -atplotlib (c:\\users\\cesar\\anaconda3\\lib\\site-packages)\n"
     ]
    },
    {
     "name": "stdout",
     "output_type": "stream",
     "text": [
      "Requirement already satisfied: openpyxl in c:\\users\\cesar\\anaconda3\\lib\\site-packages (3.0.9)\n",
      "Requirement already satisfied: et-xmlfile in c:\\users\\cesar\\anaconda3\\lib\\site-packages (from openpyxl) (1.1.0)\n"
     ]
    },
    {
     "name": "stderr",
     "output_type": "stream",
     "text": [
      "WARNING: Ignoring invalid distribution -atplotlib (c:\\users\\cesar\\anaconda3\\lib\\site-packages)\n",
      "WARNING: Ignoring invalid distribution -atplotlib (c:\\users\\cesar\\anaconda3\\lib\\site-packages)\n",
      "WARNING: Ignoring invalid distribution -atplotlib (c:\\users\\cesar\\anaconda3\\lib\\site-packages)\n",
      "WARNING: Ignoring invalid distribution -atplotlib (c:\\users\\cesar\\anaconda3\\lib\\site-packages)\n",
      "WARNING: Ignoring invalid distribution -atplotlib (c:\\users\\cesar\\anaconda3\\lib\\site-packages)\n",
      "WARNING: Ignoring invalid distribution -atplotlib (c:\\users\\cesar\\anaconda3\\lib\\site-packages)\n"
     ]
    },
    {
     "name": "stdout",
     "output_type": "stream",
     "text": [
      "Requirement already satisfied: plotly in c:\\users\\cesar\\anaconda3\\lib\\site-packages (5.8.0)\n",
      "Requirement already satisfied: tenacity>=6.2.0 in c:\\users\\cesar\\anaconda3\\lib\\site-packages (from plotly) (8.0.1)\n"
     ]
    },
    {
     "name": "stderr",
     "output_type": "stream",
     "text": [
      "WARNING: Ignoring invalid distribution -atplotlib (c:\\users\\cesar\\anaconda3\\lib\\site-packages)\n",
      "WARNING: Ignoring invalid distribution -atplotlib (c:\\users\\cesar\\anaconda3\\lib\\site-packages)\n",
      "WARNING: Ignoring invalid distribution -atplotlib (c:\\users\\cesar\\anaconda3\\lib\\site-packages)\n",
      "WARNING: Ignoring invalid distribution -atplotlib (c:\\users\\cesar\\anaconda3\\lib\\site-packages)\n",
      "WARNING: Ignoring invalid distribution -atplotlib (c:\\users\\cesar\\anaconda3\\lib\\site-packages)\n",
      "WARNING: Ignoring invalid distribution -atplotlib (c:\\users\\cesar\\anaconda3\\lib\\site-packages)\n"
     ]
    },
    {
     "name": "stdout",
     "output_type": "stream",
     "text": [
      "Requirement already satisfied: missingno in c:\\users\\cesar\\anaconda3\\lib\\site-packages (0.5.1)\n",
      "Requirement already satisfied: scipy in c:\\users\\cesar\\anaconda3\\lib\\site-packages (from missingno) (1.7.1)\n",
      "Requirement already satisfied: seaborn in c:\\users\\cesar\\anaconda3\\lib\\site-packages (from missingno) (0.11.2)\n",
      "Requirement already satisfied: matplotlib in c:\\users\\cesar\\anaconda3\\lib\\site-packages (from missingno) (3.2.2)\n",
      "Requirement already satisfied: numpy in c:\\users\\cesar\\anaconda3\\lib\\site-packages (from missingno) (1.20.3)\n",
      "Requirement already satisfied: cycler>=0.10 in c:\\users\\cesar\\anaconda3\\lib\\site-packages (from matplotlib->missingno) (0.10.0)\n",
      "Requirement already satisfied: pyparsing!=2.0.4,!=2.1.2,!=2.1.6,>=2.0.1 in c:\\users\\cesar\\anaconda3\\lib\\site-packages (from matplotlib->missingno) (3.0.4)\n",
      "Requirement already satisfied: kiwisolver>=1.0.1 in c:\\users\\cesar\\anaconda3\\lib\\site-packages (from matplotlib->missingno) (1.3.1)\n",
      "Requirement already satisfied: python-dateutil>=2.1 in c:\\users\\cesar\\anaconda3\\lib\\site-packages (from matplotlib->missingno) (2.8.2)\n",
      "Requirement already satisfied: six in c:\\users\\cesar\\anaconda3\\lib\\site-packages (from cycler>=0.10->matplotlib->missingno) (1.16.0)\n",
      "Requirement already satisfied: pandas>=0.23 in c:\\users\\cesar\\anaconda3\\lib\\site-packages (from seaborn->missingno) (1.4.2)\n",
      "Requirement already satisfied: pytz>=2020.1 in c:\\users\\cesar\\anaconda3\\lib\\site-packages (from pandas>=0.23->seaborn->missingno) (2021.3)\n"
     ]
    },
    {
     "name": "stderr",
     "output_type": "stream",
     "text": [
      "WARNING: Ignoring invalid distribution -atplotlib (c:\\users\\cesar\\anaconda3\\lib\\site-packages)\n",
      "WARNING: Ignoring invalid distribution -atplotlib (c:\\users\\cesar\\anaconda3\\lib\\site-packages)\n",
      "WARNING: Ignoring invalid distribution -atplotlib (c:\\users\\cesar\\anaconda3\\lib\\site-packages)\n",
      "WARNING: Ignoring invalid distribution -atplotlib (c:\\users\\cesar\\anaconda3\\lib\\site-packages)\n",
      "WARNING: Ignoring invalid distribution -atplotlib (c:\\users\\cesar\\anaconda3\\lib\\site-packages)\n",
      "WARNING: Ignoring invalid distribution -atplotlib (c:\\users\\cesar\\anaconda3\\lib\\site-packages)\n"
     ]
    }
   ],
   "source": [
    "# Libreria Core del lab.\n",
    "import numpy as np\n",
    "!pip install --upgrade pandas\n",
    "!pip install xlrd\n",
    "!pip install openpyxl\n",
    "import pandas as pd\n",
    "import datetime\n",
    "from scipy import stats\n",
    "\n",
    "from IPython.display import display, Markdown, Latex\n",
    "\n",
    "#Libreria para plotear\n",
    "!pip install --upgrade plotly\n",
    "!pip install missingno\n",
    "import matplotlib.pyplot as plt\n",
    "import missingno as msno\n",
    "import plotly.express as px"
   ]
  },
  {
   "cell_type": "code",
   "execution_count": 2,
   "metadata": {
    "cell_id": "00009-ba85c0a3-286a-4df8-a94e-78588eb64ebd",
    "deepnote_cell_height": 218.53334045410156,
    "deepnote_cell_type": "code",
    "deepnote_to_be_reexecuted": false,
    "execution_millis": 4,
    "execution_start": 1634315852279,
    "id": "gQ0-zPV4NNrq",
    "source_hash": "c60dc4a7"
   },
   "outputs": [
    {
     "name": "stdout",
     "output_type": "stream",
     "text": [
      "Ignorando conexión drive-colab\n"
     ]
    }
   ],
   "source": [
    "# Si usted está utilizando Colabolatory le puede ser útil este código para cargar los archivos.\n",
    "try:\n",
    "    from google.colab import drive\n",
    "    drive.mount(\"/content/drive\")\n",
    "    path = 'Dirección donde tiene los archivos en el Drive'\n",
    "except: \n",
    "    print('Ignorando conexión drive-colab')"
   ]
  },
  {
   "cell_type": "markdown",
   "metadata": {
    "cell_id": "00010-5ea0bd58-e4cf-4cd1-b34d-a6286ab74a6c",
    "deepnote_cell_height": 344.0333251953125,
    "deepnote_cell_type": "markdown",
    "tags": []
   },
   "source": [
    "<p align=\"center\"><iframe width=\"560\" height=\"315\" src=\"https://www.youtube.com/embed/MW4d8_LLYp8?rel=0&amp;controls=0&amp;showinfo=0\" frameborder=\"1\" allowfullscreen></iframe></p>"
   ]
  },
  {
   "cell_type": "markdown",
   "metadata": {
    "cell_id": "00011-0668869e-1260-4409-b506-4251e2a12350",
    "deepnote_cell_height": 133.03334045410156,
    "deepnote_cell_type": "markdown",
    "id": "QDwIXTh7bK_A"
   },
   "source": [
    "# Segmentación de Clientes en Tienda de Retail 🛍️"
   ]
  },
  {
   "cell_type": "markdown",
   "metadata": {
    "cell_id": "00012-f421236d-70fc-4317-934a-d9ca05ba774a",
    "deepnote_cell_height": 293.8500061035156,
    "deepnote_cell_type": "markdown",
    "tags": []
   },
   "source": [
    "<p align=\"center\">\n",
    "  <img width=300 src=\"https://s1.eestatic.com/2018/04/14/social/la_jungla_-_social_299733421_73842361_854x640.jpg\">\n",
    "</p>"
   ]
  },
  {
   "cell_type": "markdown",
   "metadata": {
    "cell_id": "00013-b2816031-9bf6-401b-9ce5-d9a10d6d1395",
    "deepnote_cell_height": 69.03334045410156,
    "deepnote_cell_type": "markdown",
    "tags": []
   },
   "source": [
    "## 1.1 Cargar Dataset"
   ]
  },
  {
   "cell_type": "markdown",
   "metadata": {
    "cell_id": "00014-d3ac5fae-56fd-4d4e-83db-be9df9d130a4",
    "deepnote_cell_height": 272.6333312988281,
    "deepnote_cell_type": "markdown",
    "tags": []
   },
   "source": [
    "Mr. Lepin Mora quien es el gerente de una cotizada tienda de retail en Europa, les solicita si pueden analizar los datos de algunas de sus tiendas y si es posible extraer los diferenciar los tipos de clientes que posee el retail.\n",
    "\n",
    "Para esto, el área de ventas les entrega el archivo `online_retail_II.xlsx` con el que se les pide que cargue y visualicen algunas de las filas que componen el Dataset.\n",
    "\n",
    "Realice una primera visualización de los datos y señale los atributos que componen el dataset. Señale las columnas que conforman el dataset, el tipo de variable presente en cada columna y comente que representa cada una de estas.\n",
    "\n",
    "**Respuesta:**"
   ]
  },
  {
   "cell_type": "code",
   "execution_count": 5,
   "metadata": {
    "cell_id": "00015-b7ecc992-93dc-4d37-8161-9e2a5238e17d",
    "colab": {
     "base_uri": "https://localhost:8080/",
     "height": 204
    },
    "deepnote_cell_height": 449.54998779296875,
    "deepnote_cell_type": "code",
    "deepnote_output_heights": [
     174
    ],
    "deepnote_to_be_reexecuted": false,
    "executionInfo": {
     "elapsed": 77353,
     "status": "ok",
     "timestamp": 1619717831933,
     "user": {
      "displayName": "IGNACIO ALEJANDRO MEZA",
      "photoUrl": "",
      "userId": "17011121633069169364"
     },
     "user_tz": 240
    },
    "execution_millis": 375,
    "execution_start": 1634325932264,
    "id": "7FNOu-CvjV5m",
    "outputId": "90b4f92c-71df-44d4-8084-4dd06a6179e4",
    "source_hash": "579ecb11"
   },
   "outputs": [
    {
     "data": {
      "text/html": [
       "<div>\n",
       "<style scoped>\n",
       "    .dataframe tbody tr th:only-of-type {\n",
       "        vertical-align: middle;\n",
       "    }\n",
       "\n",
       "    .dataframe tbody tr th {\n",
       "        vertical-align: top;\n",
       "    }\n",
       "\n",
       "    .dataframe thead th {\n",
       "        text-align: right;\n",
       "    }\n",
       "</style>\n",
       "<table border=\"1\" class=\"dataframe\">\n",
       "  <thead>\n",
       "    <tr style=\"text-align: right;\">\n",
       "      <th></th>\n",
       "      <th>Invoice</th>\n",
       "      <th>StockCode</th>\n",
       "      <th>Description</th>\n",
       "      <th>Quantity</th>\n",
       "      <th>InvoiceDate</th>\n",
       "      <th>Price</th>\n",
       "      <th>Customer ID</th>\n",
       "      <th>Country</th>\n",
       "    </tr>\n",
       "  </thead>\n",
       "  <tbody>\n",
       "    <tr>\n",
       "      <th>0</th>\n",
       "      <td>489434</td>\n",
       "      <td>85048</td>\n",
       "      <td>15CM CHRISTMAS GLASS BALL 20 LIGHTS</td>\n",
       "      <td>12</td>\n",
       "      <td>2009-12-01 07:45:00</td>\n",
       "      <td>6.95</td>\n",
       "      <td>13085.0</td>\n",
       "      <td>United Kingdom</td>\n",
       "    </tr>\n",
       "    <tr>\n",
       "      <th>1</th>\n",
       "      <td>489434</td>\n",
       "      <td>79323P</td>\n",
       "      <td>PINK CHERRY LIGHTS</td>\n",
       "      <td>12</td>\n",
       "      <td>2009-12-01 07:45:00</td>\n",
       "      <td>6.75</td>\n",
       "      <td>13085.0</td>\n",
       "      <td>United Kingdom</td>\n",
       "    </tr>\n",
       "    <tr>\n",
       "      <th>2</th>\n",
       "      <td>489434</td>\n",
       "      <td>79323W</td>\n",
       "      <td>WHITE CHERRY LIGHTS</td>\n",
       "      <td>12</td>\n",
       "      <td>2009-12-01 07:45:00</td>\n",
       "      <td>6.75</td>\n",
       "      <td>13085.0</td>\n",
       "      <td>United Kingdom</td>\n",
       "    </tr>\n",
       "    <tr>\n",
       "      <th>3</th>\n",
       "      <td>489434</td>\n",
       "      <td>22041</td>\n",
       "      <td>RECORD FRAME 7\" SINGLE SIZE</td>\n",
       "      <td>48</td>\n",
       "      <td>2009-12-01 07:45:00</td>\n",
       "      <td>2.10</td>\n",
       "      <td>13085.0</td>\n",
       "      <td>United Kingdom</td>\n",
       "    </tr>\n",
       "    <tr>\n",
       "      <th>4</th>\n",
       "      <td>489434</td>\n",
       "      <td>21232</td>\n",
       "      <td>STRAWBERRY CERAMIC TRINKET BOX</td>\n",
       "      <td>24</td>\n",
       "      <td>2009-12-01 07:45:00</td>\n",
       "      <td>1.25</td>\n",
       "      <td>13085.0</td>\n",
       "      <td>United Kingdom</td>\n",
       "    </tr>\n",
       "  </tbody>\n",
       "</table>\n",
       "</div>"
      ],
      "text/plain": [
       "  Invoice StockCode                          Description  Quantity  \\\n",
       "0  489434     85048  15CM CHRISTMAS GLASS BALL 20 LIGHTS        12   \n",
       "1  489434    79323P                   PINK CHERRY LIGHTS        12   \n",
       "2  489434    79323W                  WHITE CHERRY LIGHTS        12   \n",
       "3  489434     22041         RECORD FRAME 7\" SINGLE SIZE         48   \n",
       "4  489434     21232       STRAWBERRY CERAMIC TRINKET BOX        24   \n",
       "\n",
       "          InvoiceDate  Price Customer ID         Country  \n",
       "0 2009-12-01 07:45:00   6.95     13085.0  United Kingdom  \n",
       "1 2009-12-01 07:45:00   6.75     13085.0  United Kingdom  \n",
       "2 2009-12-01 07:45:00   6.75     13085.0  United Kingdom  \n",
       "3 2009-12-01 07:45:00   2.10     13085.0  United Kingdom  \n",
       "4 2009-12-01 07:45:00   1.25     13085.0  United Kingdom  "
      ]
     },
     "metadata": {},
     "output_type": "display_data"
    },
    {
     "name": "stdout",
     "output_type": "stream",
     "text": [
      " \n",
      "Nombre columnas: ['Invoice', 'StockCode', 'Description', 'Quantity', 'InvoiceDate', 'Price', 'Customer ID', 'Country']\n",
      " \n",
      "Invoice              category\n",
      "StockCode            category\n",
      "Description            object\n",
      "Quantity                int64\n",
      "InvoiceDate    datetime64[ns]\n",
      "Price                 float64\n",
      "Customer ID          category\n",
      "Country                object\n",
      "dtype: object\n",
      " \n",
      "Invoice representa...\n",
      "StockCode corresponde al código de stock\n",
      "Description corresponde a una descripción del producto\n",
      "Quantity es la cantidad de stock disponible del producto en la tienda\n",
      "InvoiceDate corresponde a la fecha de \n",
      "Price corresponde al precio por unidad de la tienda\n",
      "Customer ID corresponde a la ID del cliente\n",
      "Country corresponde al país de la tienda del producto\n"
     ]
    }
   ],
   "source": [
    "df_retail = pd.read_pickle(\"online_retail_II.pickle\")\n",
    "df_retail = df_retail.astype(\n",
    "    {\n",
    "        \"Invoice\": \"category\",\n",
    "        \"StockCode\": \"category\",\n",
    "        \"Description\": str,\n",
    "        \"Customer ID\": \"category\",\n",
    "    }\n",
    ")\n",
    "\n",
    "#Se muestran los primeras 5 filas\n",
    "display(df_retail.head())\n",
    "\n",
    "#Columnas\n",
    "print(\" \")\n",
    "print(\"Nombre columnas: \"+str(list(df_retail.columns)))\n",
    "print(\" \")\n",
    "\n",
    "#Tipo de variable por columna\n",
    "\n",
    "print(df_retail.dtypes)\n",
    "\n",
    "print(\" \")\n",
    "print(\"Invoice representa...\")\n",
    "print(\"StockCode corresponde al código de stock\")\n",
    "print(\"Description corresponde a una descripción del producto\")\n",
    "print(\"Quantity es la cantidad de stock disponible del producto en la tienda\")\n",
    "print(\"InvoiceDate corresponde a la fecha de \")\n",
    "print(\"Price corresponde al precio por unidad de la tienda\")\n",
    "print(\"Customer ID corresponde a la ID del cliente\")\n",
    "print(\"Country corresponde al país de la tienda del producto\")"
   ]
  },
  {
   "cell_type": "markdown",
   "metadata": {
    "cell_id": "00016-95d543d8-e605-4635-98c6-8a4a1293df5a",
    "deepnote_cell_height": 332.23333740234375,
    "deepnote_cell_type": "markdown",
    "id": "Rcjs-dd1V-1u"
   },
   "source": [
    "## 1.2 Analisís Explotatorio de los Datos [0.5 puntos] \n",
    "\n",
    "En base a la primera visualización del dataset, *Don Mora* le solicita que realicen un análisis exploratorio de los datos, para esto les deberán realizar un análisis univariado y multivariado. De la revisión, ustedes deben explicar potenciales anomalías visualizadas y señalar si existe la necesidad de realizar una limpieza de datos.\n",
    "\n",
    "Explique a que nos referimos con análisis univariable, multivariable y de datos faltantes. ¿Qué beneficios nos otorga estudiar estos datos?. Sea conciso con su respuesta y no escriba mas de 5 líneas para su respuesta.\n",
    "\n",
    "**Respuesta a la Pregunta:**"
   ]
  },
  {
   "cell_type": "markdown",
   "metadata": {
    "cell_id": "00017-6d2ae959-397e-46d6-af72-1d1023615611",
    "deepnote_cell_height": 65.43333435058594,
    "deepnote_cell_type": "markdown",
    "tags": []
   },
   "source": [
    "> Un análisis univariable consiste en estudiar el comportamiento de las distintas variables presentes en el dataset mediante estadísiticas de resumen y sus distribuciones. Por otro lado, un análisis multivariable se trata de estudiar el comportamiento que ejercen las variables entre sí.  Finalmente, con respecto al análisis de datos faltantes consiste en buscar inconsistencia en los datos, como lo puede ser valores nulos/nan."
   ]
  },
  {
   "cell_type": "markdown",
   "metadata": {
    "cell_id": "00018-0d2e4dfa-8dfb-4959-b694-e5ac27dd372a",
    "deepnote_cell_height": 225.43333435058594,
    "deepnote_cell_type": "markdown",
    "tags": []
   },
   "source": [
    "### 1.2.1 Análisis Univariado [2 Puntos]\n",
    "\n",
    "A continuación, se le presentan dos funciones para analizar los datos que componen un dataframe. La primera de estas es la función ``profile_serie()`` la cual recibe una serie y le entrega un análisis detallado de los datos que conforman dicha serie. \n",
    "\n",
    "Ejecute la funcion ``profile_serie()`` sobre cada serie para realizar un análisis univariado de estas. A continuación, comente acerca de el comportamiento de cada variable según las estadísticas descriptivas y los gráficos generados."
   ]
  },
  {
   "cell_type": "code",
   "execution_count": 6,
   "metadata": {
    "cell_id": "00019-075c9c6a-b956-4329-a280-abd00da1a752",
    "deepnote_cell_height": 1682.0333251953125,
    "deepnote_cell_type": "code",
    "deepnote_to_be_reexecuted": false,
    "execution_millis": 1,
    "execution_start": 1634325950632,
    "source_hash": "60609391",
    "tags": []
   },
   "outputs": [],
   "source": [
    "from pandas.api.types import is_numeric_dtype\n",
    "from pandas.core.dtypes.common import is_datetime_or_timedelta_dtype\n",
    "\n",
    "\n",
    "def profile_serie(serie_in, n_samples=1000, random_state=42):\n",
    "    serie = serie_in.copy()\n",
    "\n",
    "    profile = pd.Series(dtype='object')\n",
    "    profile[\"Type\"] = serie.dtype\n",
    "    profile = pd.concat([profile, serie.describe(datetime_is_numeric=True)])\n",
    "\n",
    "    # profile = pd.Series([])\n",
    "\n",
    "    if is_numeric_dtype(serie):\n",
    "        profile[\"Negative\"] = (serie < 0).sum()\n",
    "        profile[\"Negative (%)\"] = (\n",
    "            str(round((serie < 0).sum() / len(serie) * 100, 2)) + \" %\"\n",
    "        )\n",
    "        profile[\"Zeros\"] = (serie == 0).sum()\n",
    "        profile[\"Zeros (%)\"] = (\n",
    "            str(round((serie == 0).sum() / len(serie) * 100, 2)) + \" %\"\n",
    "        )\n",
    "        profile[\"Kurt\"] = serie.kurt()\n",
    "        profile[\"Skew\"] = serie.skew()\n",
    "\n",
    "    profile[\" \"] = \" \"  # espacio\n",
    "\n",
    "    profile[\"Missing cells\"] = serie.isnull().sum()\n",
    "    profile[\"Missing cells (%)\"] = (\n",
    "        str(round(serie.isnull().sum() / len(serie) * 100, 2)) + \" %\"\n",
    "    )\n",
    "    profile[\"Duplicate rows\"] = serie.duplicated(False).sum()\n",
    "    profile[\"Duplicate rows (%)\"] = (\n",
    "        str(round(serie.duplicated(False).sum() / len(serie) * 100, 2)) + \" %\"\n",
    "    )\n",
    "    profile[\"Total size in memory\"] = str(serie.memory_usage(index=True)) + \" bytes\"\n",
    "\n",
    "    # profile = pd.concat([profile, description])\n",
    "\n",
    "    profile = profile.rename(\n",
    "        index={\n",
    "            \"count\": \"Number of observations\",\n",
    "            \"mean\": \"Mean\",\n",
    "            \"std\": \"Std\",\n",
    "            \"min\": \"Min\",\n",
    "            \"max\": \"Max\",\n",
    "            \"unique\": \"Unique\",\n",
    "            \"top\": \"Top\",\n",
    "            \"freq\": \"Freq\",\n",
    "        }\n",
    "    )\n",
    "    no_outliers_fig = None\n",
    "\n",
    "    if is_numeric_dtype(serie):\n",
    "\n",
    "        sampled_serie = serie.sample(n_samples, random_state=random_state)\n",
    "        fig = px.histogram(\n",
    "            sampled_serie, marginal=\"box\", title=f\"{serie.name} - With Outliers\"\n",
    "        )\n",
    "\n",
    "        no_outliers = sampled_serie.loc[(np.abs(stats.zscore(sampled_serie)) < 3)]\n",
    "        # zscore = https://es.wikipedia.org/wiki/Unidad_tipificada\n",
    "        \n",
    "        no_outliers_fig = px.histogram(\n",
    "            no_outliers, marginal=\"box\", title=f\"{serie.name} - Without Outliers\"\n",
    "        )\n",
    "\n",
    "    elif is_datetime_or_timedelta_dtype(serie):\n",
    "        sampled_serie = serie.sample(n_samples, random_state=random_state)\n",
    "        fig = px.histogram(sampled_serie, marginal=\"box\", title=f\"{serie.name}\")\n",
    "    \n",
    "    else:\n",
    "        count = (\n",
    "            serie.value_counts()[0:100]\n",
    "            .reset_index()\n",
    "            .rename(columns={\"index\": serie.name, serie.name: \"Count\"})\n",
    "        )\n",
    "        fig = px.bar(\n",
    "            x=count[serie.name].astype(str),\n",
    "            y=count[\"Count\"],\n",
    "            title=f\"100 Most common categories of {serie.name}\",\n",
    "        )\n",
    "    display(Markdown(f'## {serie.name} Profile'))\n",
    "    display(profile)\n",
    "    fig.show()\n",
    "\n",
    "    if no_outliers_fig:\n",
    "        no_outliers_fig.show()\n",
    "\n",
    "    # return fig, profile"
   ]
  },
  {
   "cell_type": "code",
   "execution_count": 7,
   "metadata": {
    "cell_id": "00020-0dd41995-78f8-4f2c-ac5d-f36288ccfda0",
    "deepnote_cell_height": 1714.0999755859375,
    "deepnote_cell_type": "code",
    "deepnote_output_heights": [
     49,
     424,
     527,
     527
    ],
    "deepnote_to_be_reexecuted": false,
    "execution_millis": 2062,
    "execution_start": 1634325955534,
    "source_hash": "6155d0f5",
    "tags": []
   },
   "outputs": [
    {
     "data": {
      "text/markdown": [
       "## Price Profile"
      ],
      "text/plain": [
       "<IPython.core.display.Markdown object>"
      ]
     },
     "metadata": {},
     "output_type": "display_data"
    },
    {
     "data": {
      "text/plain": [
       "Type                            float64\n",
       "Number of observations         525461.0\n",
       "Mean                           4.688834\n",
       "Std                          146.126914\n",
       "Min                           -53594.36\n",
       "25%                                1.25\n",
       "50%                                 2.1\n",
       "75%                                4.21\n",
       "Max                            25111.09\n",
       "Negative                              3\n",
       "Negative (%)                      0.0 %\n",
       "Zeros                              3687\n",
       "Zeros (%)                         0.7 %\n",
       "Kurt                       64868.344873\n",
       "Skew                        -140.768446\n",
       "                                       \n",
       "Missing cells                         0\n",
       "Missing cells (%)                 0.0 %\n",
       "Duplicate rows                   524485\n",
       "Duplicate rows (%)              99.81 %\n",
       "Total size in memory      4203816 bytes\n",
       "dtype: object"
      ]
     },
     "metadata": {},
     "output_type": "display_data"
    },
    {
     "data": {
      "application/vnd.plotly.v1+json": {
       "config": {
        "plotlyServerURL": "https://plot.ly"
       },
       "data": [
        {
         "alignmentgroup": "True",
         "bingroup": "x",
         "hovertemplate": "variable=Price<br>value=%{x}<br>count=%{y}<extra></extra>",
         "legendgroup": "Price",
         "marker": {
          "color": "#636efa",
          "pattern": {
           "shape": ""
          }
         },
         "name": "Price",
         "offsetgroup": "Price",
         "orientation": "v",
         "showlegend": true,
         "type": "histogram",
         "x": [
          7.95,
          2.1,
          0.55,
          1.25,
          4.95,
          0.64,
          5.91,
          3.75,
          1.25,
          1.95,
          1.25,
          12.72,
          0.38,
          1.25,
          2.95,
          5.06,
          8.5,
          6.04,
          1.65,
          4.25,
          4.21,
          3.75,
          5.91,
          2.1,
          10.95,
          4.21,
          13.87,
          0.42,
          0.1,
          2.51,
          2.51,
          2.95,
          4.21,
          0.42,
          1.45,
          2.55,
          1.66,
          4.65,
          5.55,
          2.51,
          0.65,
          2.55,
          1.45,
          9.95,
          1.25,
          2.1,
          1.95,
          1.65,
          0.87,
          2.95,
          0.85,
          0.55,
          1.65,
          0.85,
          8.49,
          0.85,
          5.91,
          4.21,
          2.1,
          2.51,
          1.95,
          6.35,
          0.65,
          2.55,
          8.5,
          1.25,
          10.95,
          0.85,
          13.57,
          0.85,
          0.85,
          2.1,
          3.75,
          1.65,
          12.75,
          7.49,
          1.66,
          1.65,
          7.65,
          1.65,
          2.95,
          0.65,
          2.55,
          0.85,
          0.85,
          2.51,
          0.85,
          5.91,
          4.25,
          4.95,
          18,
          1.65,
          1.65,
          10.95,
          2.55,
          1.65,
          1.25,
          2.57,
          2.55,
          2.95,
          0.85,
          0.85,
          1.65,
          0.85,
          0.65,
          2.95,
          8.5,
          8.5,
          0.08,
          1.25,
          1.25,
          6.75,
          6.75,
          3.75,
          2.95,
          1.45,
          1.25,
          5.95,
          4.65,
          0.95,
          0.85,
          2.95,
          1.65,
          6.77,
          2.1,
          2.25,
          4.21,
          1.69,
          0.42,
          1.25,
          1.65,
          1.25,
          2.55,
          1.65,
          2.57,
          1.25,
          2.51,
          5.91,
          0.42,
          1.66,
          5.88,
          0.85,
          0.21,
          0.19,
          1.65,
          1.65,
          1.69,
          0.42,
          4.95,
          2.95,
          3.75,
          1.65,
          1.65,
          1.95,
          1.69,
          0.29,
          5.95,
          8.5,
          2.1,
          4.21,
          2.95,
          7.95,
          1.65,
          0.42,
          1.25,
          1.45,
          1.65,
          3.75,
          0.36,
          10.75,
          12.75,
          2.1,
          1.25,
          4.95,
          2.55,
          0.42,
          5.95,
          1.25,
          1.69,
          1.69,
          1.65,
          4.95,
          1.84,
          1.95,
          4.65,
          1.25,
          0.85,
          5.95,
          1.95,
          0.85,
          0.42,
          1.65,
          4.25,
          1.25,
          4.95,
          0.85,
          2.55,
          1.06,
          0,
          1.25,
          4.25,
          3.36,
          0.85,
          5.45,
          1.95,
          7.49,
          1.25,
          0.42,
          7.62,
          1.25,
          2.51,
          1.66,
          0.85,
          3.75,
          1.95,
          0.85,
          2.95,
          4.25,
          2.1,
          3.75,
          1.45,
          0.85,
          0.42,
          8.5,
          3.45,
          8.47,
          8.95,
          3.25,
          0.85,
          1.65,
          0.85,
          2.98,
          2.95,
          0.55,
          3.75,
          1.25,
          1.65,
          0.85,
          7.49,
          0.38,
          1.65,
          3.36,
          1.65,
          34,
          3.75,
          1.95,
          5.06,
          4.65,
          3.39,
          1.25,
          1.25,
          8.47,
          2.95,
          4.95,
          0.65,
          0.85,
          4.21,
          0.65,
          4.95,
          2.1,
          2.51,
          3.75,
          0.85,
          0.43,
          8.5,
          1.25,
          2.95,
          2.95,
          7.95,
          2.1,
          5.91,
          2.95,
          0.95,
          1.25,
          2.51,
          1.25,
          3.36,
          1.25,
          2.55,
          2.95,
          4.25,
          2.1,
          0.72,
          7.49,
          4.21,
          2.95,
          0.85,
          0.42,
          2.51,
          0.85,
          3.75,
          1.65,
          3.75,
          0.42,
          12.75,
          1.25,
          1.65,
          1.65,
          0.85,
          1.45,
          0.85,
          0.34,
          2.95,
          0.85,
          9.95,
          4.21,
          1.95,
          2.51,
          2.55,
          9.95,
          4.21,
          1.66,
          0.85,
          9.95,
          0,
          1.65,
          2.95,
          1.06,
          1.25,
          1.25,
          4.25,
          1.65,
          8.5,
          16.13,
          1.25,
          7.49,
          2.1,
          11.26,
          0.43,
          0.42,
          10.17,
          1.66,
          0.81,
          5.95,
          4.21,
          14.95,
          1.25,
          0.72,
          3.36,
          3.75,
          1.06,
          8.5,
          6.75,
          2.95,
          0.42,
          0.55,
          11.87,
          0.65,
          2.1,
          1.95,
          2.1,
          1.45,
          2.95,
          79.95,
          1.65,
          4.25,
          2.55,
          4.95,
          2.1,
          2.51,
          4.25,
          1.25,
          1.65,
          4.25,
          1.66,
          122.3,
          3.45,
          7.65,
          9.95,
          1.65,
          3.36,
          9.95,
          1.65,
          2.55,
          2.1,
          0.85,
          0.85,
          2.95,
          3.36,
          4.3,
          5.06,
          0.19,
          2.1,
          3.36,
          1.66,
          2.1,
          5.91,
          5.95,
          1.06,
          2.55,
          34,
          2.55,
          7.49,
          0.65,
          2.95,
          7.95,
          8.47,
          2.1,
          3.36,
          2.1,
          1.95,
          2.55,
          2.51,
          2.1,
          2.12,
          9.95,
          4.95,
          4.21,
          1.25,
          0.42,
          2.95,
          5.91,
          0.55,
          0.42,
          38.26,
          12.75,
          2.95,
          9.95,
          16.95,
          5.45,
          0.55,
          3.95,
          2.95,
          0.85,
          4.21,
          0.55,
          7.49,
          0.85,
          0.72,
          1.25,
          2.51,
          6.95,
          1.66,
          5.91,
          4.95,
          4.21,
          0.85,
          3.95,
          0.42,
          1.66,
          1.25,
          1.25,
          2.95,
          34.74,
          1.95,
          1.25,
          2.51,
          0.85,
          2.1,
          1.06,
          6.75,
          2.1,
          0.55,
          6.04,
          0.85,
          0.85,
          0.83,
          3.25,
          2.55,
          7.62,
          1.45,
          1.06,
          1.45,
          2.1,
          2.95,
          9.95,
          1.65,
          12.75,
          1.25,
          3.75,
          0.85,
          0.55,
          1.25,
          0.85,
          0.65,
          1.25,
          1.69,
          5.95,
          0,
          1.25,
          0.55,
          2.1,
          4.21,
          1.65,
          5.95,
          1.25,
          1.45,
          0.85,
          2.95,
          2.95,
          1.65,
          8.47,
          8.5,
          2.55,
          2.1,
          0.85,
          8.5,
          1.95,
          1.7,
          0.65,
          2.95,
          1.65,
          1.25,
          0.85,
          4.25,
          0.64,
          0.42,
          0.38,
          1.65,
          2.1,
          12.75,
          0.65,
          0.65,
          4.95,
          0.85,
          1.25,
          1.66,
          1.65,
          0.85,
          4.95,
          3.04,
          0.42,
          16.95,
          1.65,
          1.25,
          5.06,
          0.85,
          0.85,
          2.1,
          1.65,
          0.85,
          8.47,
          3.43,
          2.55,
          0.42,
          9.95,
          1.66,
          0.65,
          1.25,
          12.75,
          12.72,
          5.95,
          4.65,
          3.39,
          6.75,
          1.65,
          4.25,
          0.85,
          2.55,
          2.95,
          3.75,
          2.55,
          1.65,
          7.95,
          1.95,
          0.29,
          4.95,
          1.25,
          0.42,
          2.95,
          5.95,
          1.25,
          4.95,
          5.91,
          4.21,
          16.98,
          1.65,
          4.25,
          2.95,
          1.25,
          1.45,
          3.36,
          10.95,
          1.49,
          12.75,
          4.25,
          0.29,
          9.95,
          1.65,
          1.45,
          7.95,
          1.45,
          1.66,
          1.65,
          2.95,
          5.95,
          3.75,
          0.42,
          2.95,
          2.98,
          2.95,
          1.65,
          1.65,
          1.95,
          0.38,
          1.65,
          7.95,
          2.55,
          4.25,
          2.95,
          0.85,
          2.95,
          1.45,
          1.65,
          0.42,
          5.95,
          1.25,
          2.1,
          0.85,
          3.75,
          34,
          3.75,
          1.45,
          4.25,
          1.25,
          1.65,
          3.75,
          7.62,
          0.55,
          1.95,
          1.45,
          1.7,
          0.36,
          4.5,
          4.95,
          1.95,
          4.21,
          1.25,
          5.17,
          2.55,
          0.42,
          4.95,
          1.95,
          2.55,
          1.28,
          1.65,
          0.42,
          1.95,
          1.65,
          2.1,
          0.85,
          5.95,
          0.65,
          1.45,
          7.65,
          2.1,
          2.95,
          4.95,
          8.47,
          0.95,
          1.25,
          2.95,
          9.95,
          1.65,
          2.55,
          1.65,
          1.25,
          1.25,
          1.25,
          1.25,
          2.51,
          0.85,
          7.49,
          1.65,
          1.45,
          1.95,
          0.65,
          1.25,
          0.42,
          2.1,
          12.75,
          0.85,
          1.7,
          2.1,
          2.95,
          1.25,
          3.36,
          1.65,
          1.95,
          2.55,
          5.45,
          0.55,
          16.95,
          6.04,
          4.21,
          5.95,
          4.95,
          1.06,
          2.55,
          7.49,
          1.25,
          0.55,
          1.95,
          5.95,
          5.95,
          295,
          2.51,
          5.91,
          4.3,
          1.65,
          2.51,
          1.25,
          1.25,
          16.98,
          1.25,
          10.95,
          3.35,
          1.45,
          1.65,
          1.25,
          1.65,
          4.21,
          2.95,
          0.42,
          2.55,
          4.95,
          4.95,
          1.25,
          3.36,
          1.25,
          1.95,
          3.36,
          2.51,
          0.85,
          2.55,
          2.55,
          1.65,
          5.91,
          1.7,
          2.1,
          3.36,
          0.42,
          2.1,
          1.65,
          0.36,
          2.95,
          8.5,
          0.42,
          0.42,
          1.25,
          1.66,
          1.06,
          5.2,
          1.28,
          12.75,
          1.25,
          2.95,
          3.75,
          1.66,
          5.95,
          8.5,
          0.55,
          0.85,
          2.95,
          1.25,
          0.85,
          1.25,
          1.25,
          4.21,
          0.85,
          0.42,
          7.95,
          3.36,
          1.25,
          0.38,
          0.85,
          2.95,
          8.95,
          1.65,
          0.85,
          11.02,
          7.95,
          0.85,
          2.25,
          4.95,
          0.85,
          11.02,
          2.1,
          0.85,
          12.75,
          2.55,
          0.42,
          2.95,
          12.75,
          1.69,
          0.85,
          1.25,
          5.06,
          5.91,
          4.65,
          0.95,
          1.25,
          1.65,
          0.85,
          0.65,
          2.95,
          8.47,
          1.66,
          5.91,
          0.42,
          5.95,
          7.95,
          4.21,
          2.95,
          1.25,
          0.85,
          6.35,
          0.65,
          0.42,
          6.75,
          0.42,
          2.55,
          12.75,
          2.95,
          0.85,
          4.95,
          2.55,
          1.25,
          2.95,
          1.28,
          6.75,
          1.95,
          1.66,
          4.3,
          0.53,
          1.65,
          3.75,
          2.1,
          2.1,
          3.36,
          3.75,
          5.95,
          1.25,
          0.95,
          2.95,
          4.21,
          1.66,
          5.91,
          1.69,
          5.49,
          2.55,
          1.65,
          0.65,
          1.66,
          0.85,
          7.95,
          2.95,
          4.25,
          0.55,
          0.65,
          1.45,
          3.75,
          1.85,
          5.95,
          4.95,
          1.25,
          2.55,
          12.75,
          9.95,
          0.85,
          1.25,
          1.25,
          0.42,
          1.69,
          0.42,
          1.69,
          2.95,
          1.25,
          1.65,
          5.91,
          3.36,
          0.55,
          1.25,
          0.85,
          1.25,
          5.95,
          6.45,
          2.95,
          1.28,
          1.95,
          1.25,
          0.85,
          0.42,
          1.25,
          1.65,
          4.95,
          2.95,
          3.95,
          3.36,
          0.55,
          1.95,
          2.1,
          1.66,
          2.1,
          1.25,
          9.95,
          1.95,
          3.75,
          3.75,
          12.72,
          3.75,
          0.43,
          0.85,
          0.85,
          2.95,
          0.81,
          0.85,
          1.25,
          2.1,
          5.95,
          0.85,
          2.95,
          8.95,
          2.1,
          2.55,
          3.75,
          0.42,
          0.85,
          1.65,
          2.55,
          9.95,
          4.21,
          29.79,
          4.95,
          1.65,
          3.75,
          0.21,
          2.55,
          2.1,
          4.21,
          0.85,
          0.55,
          0.85,
          0.85,
          2.95,
          0.65,
          1.06,
          7.95,
          4.25,
          0.55,
          2.95,
          2.1,
          1269.51,
          2.51,
          0.65,
          1.25,
          4.25,
          3.75,
          1.25,
          3.36,
          0.55,
          3.75,
          2.55,
          1.95,
          0.42,
          0.42,
          0.42,
          4.21,
          0.85,
          3.75,
          0.43,
          0.42,
          1.65,
          2.95,
          2.51,
          0.85,
          3.25,
          4.95,
          14.43,
          5.45,
          7.95,
          2.1,
          0.42,
          12.75,
          1.45,
          0.85,
          1.66,
          0.85,
          8.47,
          2.1,
          1.85,
          6.75,
          3.75,
          1.25,
          2.95,
          1.66,
          2.95,
          4.25,
          4.95,
          1.25,
          4.21,
          4.95,
          1.25,
          12.75,
          3.75,
          2.95,
          1.65,
          1.95,
          1.95,
          2.98
         ],
         "xaxis": "x",
         "yaxis": "y"
        },
        {
         "alignmentgroup": "True",
         "hovertemplate": "variable=Price<br>value=%{x}<extra></extra>",
         "legendgroup": "Price",
         "marker": {
          "color": "#636efa"
         },
         "name": "Price",
         "notched": true,
         "offsetgroup": "Price",
         "showlegend": false,
         "type": "box",
         "x": [
          7.95,
          2.1,
          0.55,
          1.25,
          4.95,
          0.64,
          5.91,
          3.75,
          1.25,
          1.95,
          1.25,
          12.72,
          0.38,
          1.25,
          2.95,
          5.06,
          8.5,
          6.04,
          1.65,
          4.25,
          4.21,
          3.75,
          5.91,
          2.1,
          10.95,
          4.21,
          13.87,
          0.42,
          0.1,
          2.51,
          2.51,
          2.95,
          4.21,
          0.42,
          1.45,
          2.55,
          1.66,
          4.65,
          5.55,
          2.51,
          0.65,
          2.55,
          1.45,
          9.95,
          1.25,
          2.1,
          1.95,
          1.65,
          0.87,
          2.95,
          0.85,
          0.55,
          1.65,
          0.85,
          8.49,
          0.85,
          5.91,
          4.21,
          2.1,
          2.51,
          1.95,
          6.35,
          0.65,
          2.55,
          8.5,
          1.25,
          10.95,
          0.85,
          13.57,
          0.85,
          0.85,
          2.1,
          3.75,
          1.65,
          12.75,
          7.49,
          1.66,
          1.65,
          7.65,
          1.65,
          2.95,
          0.65,
          2.55,
          0.85,
          0.85,
          2.51,
          0.85,
          5.91,
          4.25,
          4.95,
          18,
          1.65,
          1.65,
          10.95,
          2.55,
          1.65,
          1.25,
          2.57,
          2.55,
          2.95,
          0.85,
          0.85,
          1.65,
          0.85,
          0.65,
          2.95,
          8.5,
          8.5,
          0.08,
          1.25,
          1.25,
          6.75,
          6.75,
          3.75,
          2.95,
          1.45,
          1.25,
          5.95,
          4.65,
          0.95,
          0.85,
          2.95,
          1.65,
          6.77,
          2.1,
          2.25,
          4.21,
          1.69,
          0.42,
          1.25,
          1.65,
          1.25,
          2.55,
          1.65,
          2.57,
          1.25,
          2.51,
          5.91,
          0.42,
          1.66,
          5.88,
          0.85,
          0.21,
          0.19,
          1.65,
          1.65,
          1.69,
          0.42,
          4.95,
          2.95,
          3.75,
          1.65,
          1.65,
          1.95,
          1.69,
          0.29,
          5.95,
          8.5,
          2.1,
          4.21,
          2.95,
          7.95,
          1.65,
          0.42,
          1.25,
          1.45,
          1.65,
          3.75,
          0.36,
          10.75,
          12.75,
          2.1,
          1.25,
          4.95,
          2.55,
          0.42,
          5.95,
          1.25,
          1.69,
          1.69,
          1.65,
          4.95,
          1.84,
          1.95,
          4.65,
          1.25,
          0.85,
          5.95,
          1.95,
          0.85,
          0.42,
          1.65,
          4.25,
          1.25,
          4.95,
          0.85,
          2.55,
          1.06,
          0,
          1.25,
          4.25,
          3.36,
          0.85,
          5.45,
          1.95,
          7.49,
          1.25,
          0.42,
          7.62,
          1.25,
          2.51,
          1.66,
          0.85,
          3.75,
          1.95,
          0.85,
          2.95,
          4.25,
          2.1,
          3.75,
          1.45,
          0.85,
          0.42,
          8.5,
          3.45,
          8.47,
          8.95,
          3.25,
          0.85,
          1.65,
          0.85,
          2.98,
          2.95,
          0.55,
          3.75,
          1.25,
          1.65,
          0.85,
          7.49,
          0.38,
          1.65,
          3.36,
          1.65,
          34,
          3.75,
          1.95,
          5.06,
          4.65,
          3.39,
          1.25,
          1.25,
          8.47,
          2.95,
          4.95,
          0.65,
          0.85,
          4.21,
          0.65,
          4.95,
          2.1,
          2.51,
          3.75,
          0.85,
          0.43,
          8.5,
          1.25,
          2.95,
          2.95,
          7.95,
          2.1,
          5.91,
          2.95,
          0.95,
          1.25,
          2.51,
          1.25,
          3.36,
          1.25,
          2.55,
          2.95,
          4.25,
          2.1,
          0.72,
          7.49,
          4.21,
          2.95,
          0.85,
          0.42,
          2.51,
          0.85,
          3.75,
          1.65,
          3.75,
          0.42,
          12.75,
          1.25,
          1.65,
          1.65,
          0.85,
          1.45,
          0.85,
          0.34,
          2.95,
          0.85,
          9.95,
          4.21,
          1.95,
          2.51,
          2.55,
          9.95,
          4.21,
          1.66,
          0.85,
          9.95,
          0,
          1.65,
          2.95,
          1.06,
          1.25,
          1.25,
          4.25,
          1.65,
          8.5,
          16.13,
          1.25,
          7.49,
          2.1,
          11.26,
          0.43,
          0.42,
          10.17,
          1.66,
          0.81,
          5.95,
          4.21,
          14.95,
          1.25,
          0.72,
          3.36,
          3.75,
          1.06,
          8.5,
          6.75,
          2.95,
          0.42,
          0.55,
          11.87,
          0.65,
          2.1,
          1.95,
          2.1,
          1.45,
          2.95,
          79.95,
          1.65,
          4.25,
          2.55,
          4.95,
          2.1,
          2.51,
          4.25,
          1.25,
          1.65,
          4.25,
          1.66,
          122.3,
          3.45,
          7.65,
          9.95,
          1.65,
          3.36,
          9.95,
          1.65,
          2.55,
          2.1,
          0.85,
          0.85,
          2.95,
          3.36,
          4.3,
          5.06,
          0.19,
          2.1,
          3.36,
          1.66,
          2.1,
          5.91,
          5.95,
          1.06,
          2.55,
          34,
          2.55,
          7.49,
          0.65,
          2.95,
          7.95,
          8.47,
          2.1,
          3.36,
          2.1,
          1.95,
          2.55,
          2.51,
          2.1,
          2.12,
          9.95,
          4.95,
          4.21,
          1.25,
          0.42,
          2.95,
          5.91,
          0.55,
          0.42,
          38.26,
          12.75,
          2.95,
          9.95,
          16.95,
          5.45,
          0.55,
          3.95,
          2.95,
          0.85,
          4.21,
          0.55,
          7.49,
          0.85,
          0.72,
          1.25,
          2.51,
          6.95,
          1.66,
          5.91,
          4.95,
          4.21,
          0.85,
          3.95,
          0.42,
          1.66,
          1.25,
          1.25,
          2.95,
          34.74,
          1.95,
          1.25,
          2.51,
          0.85,
          2.1,
          1.06,
          6.75,
          2.1,
          0.55,
          6.04,
          0.85,
          0.85,
          0.83,
          3.25,
          2.55,
          7.62,
          1.45,
          1.06,
          1.45,
          2.1,
          2.95,
          9.95,
          1.65,
          12.75,
          1.25,
          3.75,
          0.85,
          0.55,
          1.25,
          0.85,
          0.65,
          1.25,
          1.69,
          5.95,
          0,
          1.25,
          0.55,
          2.1,
          4.21,
          1.65,
          5.95,
          1.25,
          1.45,
          0.85,
          2.95,
          2.95,
          1.65,
          8.47,
          8.5,
          2.55,
          2.1,
          0.85,
          8.5,
          1.95,
          1.7,
          0.65,
          2.95,
          1.65,
          1.25,
          0.85,
          4.25,
          0.64,
          0.42,
          0.38,
          1.65,
          2.1,
          12.75,
          0.65,
          0.65,
          4.95,
          0.85,
          1.25,
          1.66,
          1.65,
          0.85,
          4.95,
          3.04,
          0.42,
          16.95,
          1.65,
          1.25,
          5.06,
          0.85,
          0.85,
          2.1,
          1.65,
          0.85,
          8.47,
          3.43,
          2.55,
          0.42,
          9.95,
          1.66,
          0.65,
          1.25,
          12.75,
          12.72,
          5.95,
          4.65,
          3.39,
          6.75,
          1.65,
          4.25,
          0.85,
          2.55,
          2.95,
          3.75,
          2.55,
          1.65,
          7.95,
          1.95,
          0.29,
          4.95,
          1.25,
          0.42,
          2.95,
          5.95,
          1.25,
          4.95,
          5.91,
          4.21,
          16.98,
          1.65,
          4.25,
          2.95,
          1.25,
          1.45,
          3.36,
          10.95,
          1.49,
          12.75,
          4.25,
          0.29,
          9.95,
          1.65,
          1.45,
          7.95,
          1.45,
          1.66,
          1.65,
          2.95,
          5.95,
          3.75,
          0.42,
          2.95,
          2.98,
          2.95,
          1.65,
          1.65,
          1.95,
          0.38,
          1.65,
          7.95,
          2.55,
          4.25,
          2.95,
          0.85,
          2.95,
          1.45,
          1.65,
          0.42,
          5.95,
          1.25,
          2.1,
          0.85,
          3.75,
          34,
          3.75,
          1.45,
          4.25,
          1.25,
          1.65,
          3.75,
          7.62,
          0.55,
          1.95,
          1.45,
          1.7,
          0.36,
          4.5,
          4.95,
          1.95,
          4.21,
          1.25,
          5.17,
          2.55,
          0.42,
          4.95,
          1.95,
          2.55,
          1.28,
          1.65,
          0.42,
          1.95,
          1.65,
          2.1,
          0.85,
          5.95,
          0.65,
          1.45,
          7.65,
          2.1,
          2.95,
          4.95,
          8.47,
          0.95,
          1.25,
          2.95,
          9.95,
          1.65,
          2.55,
          1.65,
          1.25,
          1.25,
          1.25,
          1.25,
          2.51,
          0.85,
          7.49,
          1.65,
          1.45,
          1.95,
          0.65,
          1.25,
          0.42,
          2.1,
          12.75,
          0.85,
          1.7,
          2.1,
          2.95,
          1.25,
          3.36,
          1.65,
          1.95,
          2.55,
          5.45,
          0.55,
          16.95,
          6.04,
          4.21,
          5.95,
          4.95,
          1.06,
          2.55,
          7.49,
          1.25,
          0.55,
          1.95,
          5.95,
          5.95,
          295,
          2.51,
          5.91,
          4.3,
          1.65,
          2.51,
          1.25,
          1.25,
          16.98,
          1.25,
          10.95,
          3.35,
          1.45,
          1.65,
          1.25,
          1.65,
          4.21,
          2.95,
          0.42,
          2.55,
          4.95,
          4.95,
          1.25,
          3.36,
          1.25,
          1.95,
          3.36,
          2.51,
          0.85,
          2.55,
          2.55,
          1.65,
          5.91,
          1.7,
          2.1,
          3.36,
          0.42,
          2.1,
          1.65,
          0.36,
          2.95,
          8.5,
          0.42,
          0.42,
          1.25,
          1.66,
          1.06,
          5.2,
          1.28,
          12.75,
          1.25,
          2.95,
          3.75,
          1.66,
          5.95,
          8.5,
          0.55,
          0.85,
          2.95,
          1.25,
          0.85,
          1.25,
          1.25,
          4.21,
          0.85,
          0.42,
          7.95,
          3.36,
          1.25,
          0.38,
          0.85,
          2.95,
          8.95,
          1.65,
          0.85,
          11.02,
          7.95,
          0.85,
          2.25,
          4.95,
          0.85,
          11.02,
          2.1,
          0.85,
          12.75,
          2.55,
          0.42,
          2.95,
          12.75,
          1.69,
          0.85,
          1.25,
          5.06,
          5.91,
          4.65,
          0.95,
          1.25,
          1.65,
          0.85,
          0.65,
          2.95,
          8.47,
          1.66,
          5.91,
          0.42,
          5.95,
          7.95,
          4.21,
          2.95,
          1.25,
          0.85,
          6.35,
          0.65,
          0.42,
          6.75,
          0.42,
          2.55,
          12.75,
          2.95,
          0.85,
          4.95,
          2.55,
          1.25,
          2.95,
          1.28,
          6.75,
          1.95,
          1.66,
          4.3,
          0.53,
          1.65,
          3.75,
          2.1,
          2.1,
          3.36,
          3.75,
          5.95,
          1.25,
          0.95,
          2.95,
          4.21,
          1.66,
          5.91,
          1.69,
          5.49,
          2.55,
          1.65,
          0.65,
          1.66,
          0.85,
          7.95,
          2.95,
          4.25,
          0.55,
          0.65,
          1.45,
          3.75,
          1.85,
          5.95,
          4.95,
          1.25,
          2.55,
          12.75,
          9.95,
          0.85,
          1.25,
          1.25,
          0.42,
          1.69,
          0.42,
          1.69,
          2.95,
          1.25,
          1.65,
          5.91,
          3.36,
          0.55,
          1.25,
          0.85,
          1.25,
          5.95,
          6.45,
          2.95,
          1.28,
          1.95,
          1.25,
          0.85,
          0.42,
          1.25,
          1.65,
          4.95,
          2.95,
          3.95,
          3.36,
          0.55,
          1.95,
          2.1,
          1.66,
          2.1,
          1.25,
          9.95,
          1.95,
          3.75,
          3.75,
          12.72,
          3.75,
          0.43,
          0.85,
          0.85,
          2.95,
          0.81,
          0.85,
          1.25,
          2.1,
          5.95,
          0.85,
          2.95,
          8.95,
          2.1,
          2.55,
          3.75,
          0.42,
          0.85,
          1.65,
          2.55,
          9.95,
          4.21,
          29.79,
          4.95,
          1.65,
          3.75,
          0.21,
          2.55,
          2.1,
          4.21,
          0.85,
          0.55,
          0.85,
          0.85,
          2.95,
          0.65,
          1.06,
          7.95,
          4.25,
          0.55,
          2.95,
          2.1,
          1269.51,
          2.51,
          0.65,
          1.25,
          4.25,
          3.75,
          1.25,
          3.36,
          0.55,
          3.75,
          2.55,
          1.95,
          0.42,
          0.42,
          0.42,
          4.21,
          0.85,
          3.75,
          0.43,
          0.42,
          1.65,
          2.95,
          2.51,
          0.85,
          3.25,
          4.95,
          14.43,
          5.45,
          7.95,
          2.1,
          0.42,
          12.75,
          1.45,
          0.85,
          1.66,
          0.85,
          8.47,
          2.1,
          1.85,
          6.75,
          3.75,
          1.25,
          2.95,
          1.66,
          2.95,
          4.25,
          4.95,
          1.25,
          4.21,
          4.95,
          1.25,
          12.75,
          3.75,
          2.95,
          1.65,
          1.95,
          1.95,
          2.98
         ],
         "xaxis": "x2",
         "yaxis": "y2"
        }
       ],
       "layout": {
        "barmode": "relative",
        "legend": {
         "title": {
          "text": "variable"
         },
         "tracegroupgap": 0
        },
        "template": {
         "data": {
          "bar": [
           {
            "error_x": {
             "color": "#2a3f5f"
            },
            "error_y": {
             "color": "#2a3f5f"
            },
            "marker": {
             "line": {
              "color": "#E5ECF6",
              "width": 0.5
             },
             "pattern": {
              "fillmode": "overlay",
              "size": 10,
              "solidity": 0.2
             }
            },
            "type": "bar"
           }
          ],
          "barpolar": [
           {
            "marker": {
             "line": {
              "color": "#E5ECF6",
              "width": 0.5
             },
             "pattern": {
              "fillmode": "overlay",
              "size": 10,
              "solidity": 0.2
             }
            },
            "type": "barpolar"
           }
          ],
          "carpet": [
           {
            "aaxis": {
             "endlinecolor": "#2a3f5f",
             "gridcolor": "white",
             "linecolor": "white",
             "minorgridcolor": "white",
             "startlinecolor": "#2a3f5f"
            },
            "baxis": {
             "endlinecolor": "#2a3f5f",
             "gridcolor": "white",
             "linecolor": "white",
             "minorgridcolor": "white",
             "startlinecolor": "#2a3f5f"
            },
            "type": "carpet"
           }
          ],
          "choropleth": [
           {
            "colorbar": {
             "outlinewidth": 0,
             "ticks": ""
            },
            "type": "choropleth"
           }
          ],
          "contour": [
           {
            "colorbar": {
             "outlinewidth": 0,
             "ticks": ""
            },
            "colorscale": [
             [
              0,
              "#0d0887"
             ],
             [
              0.1111111111111111,
              "#46039f"
             ],
             [
              0.2222222222222222,
              "#7201a8"
             ],
             [
              0.3333333333333333,
              "#9c179e"
             ],
             [
              0.4444444444444444,
              "#bd3786"
             ],
             [
              0.5555555555555556,
              "#d8576b"
             ],
             [
              0.6666666666666666,
              "#ed7953"
             ],
             [
              0.7777777777777778,
              "#fb9f3a"
             ],
             [
              0.8888888888888888,
              "#fdca26"
             ],
             [
              1,
              "#f0f921"
             ]
            ],
            "type": "contour"
           }
          ],
          "contourcarpet": [
           {
            "colorbar": {
             "outlinewidth": 0,
             "ticks": ""
            },
            "type": "contourcarpet"
           }
          ],
          "heatmap": [
           {
            "colorbar": {
             "outlinewidth": 0,
             "ticks": ""
            },
            "colorscale": [
             [
              0,
              "#0d0887"
             ],
             [
              0.1111111111111111,
              "#46039f"
             ],
             [
              0.2222222222222222,
              "#7201a8"
             ],
             [
              0.3333333333333333,
              "#9c179e"
             ],
             [
              0.4444444444444444,
              "#bd3786"
             ],
             [
              0.5555555555555556,
              "#d8576b"
             ],
             [
              0.6666666666666666,
              "#ed7953"
             ],
             [
              0.7777777777777778,
              "#fb9f3a"
             ],
             [
              0.8888888888888888,
              "#fdca26"
             ],
             [
              1,
              "#f0f921"
             ]
            ],
            "type": "heatmap"
           }
          ],
          "heatmapgl": [
           {
            "colorbar": {
             "outlinewidth": 0,
             "ticks": ""
            },
            "colorscale": [
             [
              0,
              "#0d0887"
             ],
             [
              0.1111111111111111,
              "#46039f"
             ],
             [
              0.2222222222222222,
              "#7201a8"
             ],
             [
              0.3333333333333333,
              "#9c179e"
             ],
             [
              0.4444444444444444,
              "#bd3786"
             ],
             [
              0.5555555555555556,
              "#d8576b"
             ],
             [
              0.6666666666666666,
              "#ed7953"
             ],
             [
              0.7777777777777778,
              "#fb9f3a"
             ],
             [
              0.8888888888888888,
              "#fdca26"
             ],
             [
              1,
              "#f0f921"
             ]
            ],
            "type": "heatmapgl"
           }
          ],
          "histogram": [
           {
            "marker": {
             "pattern": {
              "fillmode": "overlay",
              "size": 10,
              "solidity": 0.2
             }
            },
            "type": "histogram"
           }
          ],
          "histogram2d": [
           {
            "colorbar": {
             "outlinewidth": 0,
             "ticks": ""
            },
            "colorscale": [
             [
              0,
              "#0d0887"
             ],
             [
              0.1111111111111111,
              "#46039f"
             ],
             [
              0.2222222222222222,
              "#7201a8"
             ],
             [
              0.3333333333333333,
              "#9c179e"
             ],
             [
              0.4444444444444444,
              "#bd3786"
             ],
             [
              0.5555555555555556,
              "#d8576b"
             ],
             [
              0.6666666666666666,
              "#ed7953"
             ],
             [
              0.7777777777777778,
              "#fb9f3a"
             ],
             [
              0.8888888888888888,
              "#fdca26"
             ],
             [
              1,
              "#f0f921"
             ]
            ],
            "type": "histogram2d"
           }
          ],
          "histogram2dcontour": [
           {
            "colorbar": {
             "outlinewidth": 0,
             "ticks": ""
            },
            "colorscale": [
             [
              0,
              "#0d0887"
             ],
             [
              0.1111111111111111,
              "#46039f"
             ],
             [
              0.2222222222222222,
              "#7201a8"
             ],
             [
              0.3333333333333333,
              "#9c179e"
             ],
             [
              0.4444444444444444,
              "#bd3786"
             ],
             [
              0.5555555555555556,
              "#d8576b"
             ],
             [
              0.6666666666666666,
              "#ed7953"
             ],
             [
              0.7777777777777778,
              "#fb9f3a"
             ],
             [
              0.8888888888888888,
              "#fdca26"
             ],
             [
              1,
              "#f0f921"
             ]
            ],
            "type": "histogram2dcontour"
           }
          ],
          "mesh3d": [
           {
            "colorbar": {
             "outlinewidth": 0,
             "ticks": ""
            },
            "type": "mesh3d"
           }
          ],
          "parcoords": [
           {
            "line": {
             "colorbar": {
              "outlinewidth": 0,
              "ticks": ""
             }
            },
            "type": "parcoords"
           }
          ],
          "pie": [
           {
            "automargin": true,
            "type": "pie"
           }
          ],
          "scatter": [
           {
            "fillpattern": {
             "fillmode": "overlay",
             "size": 10,
             "solidity": 0.2
            },
            "type": "scatter"
           }
          ],
          "scatter3d": [
           {
            "line": {
             "colorbar": {
              "outlinewidth": 0,
              "ticks": ""
             }
            },
            "marker": {
             "colorbar": {
              "outlinewidth": 0,
              "ticks": ""
             }
            },
            "type": "scatter3d"
           }
          ],
          "scattercarpet": [
           {
            "marker": {
             "colorbar": {
              "outlinewidth": 0,
              "ticks": ""
             }
            },
            "type": "scattercarpet"
           }
          ],
          "scattergeo": [
           {
            "marker": {
             "colorbar": {
              "outlinewidth": 0,
              "ticks": ""
             }
            },
            "type": "scattergeo"
           }
          ],
          "scattergl": [
           {
            "marker": {
             "colorbar": {
              "outlinewidth": 0,
              "ticks": ""
             }
            },
            "type": "scattergl"
           }
          ],
          "scattermapbox": [
           {
            "marker": {
             "colorbar": {
              "outlinewidth": 0,
              "ticks": ""
             }
            },
            "type": "scattermapbox"
           }
          ],
          "scatterpolar": [
           {
            "marker": {
             "colorbar": {
              "outlinewidth": 0,
              "ticks": ""
             }
            },
            "type": "scatterpolar"
           }
          ],
          "scatterpolargl": [
           {
            "marker": {
             "colorbar": {
              "outlinewidth": 0,
              "ticks": ""
             }
            },
            "type": "scatterpolargl"
           }
          ],
          "scatterternary": [
           {
            "marker": {
             "colorbar": {
              "outlinewidth": 0,
              "ticks": ""
             }
            },
            "type": "scatterternary"
           }
          ],
          "surface": [
           {
            "colorbar": {
             "outlinewidth": 0,
             "ticks": ""
            },
            "colorscale": [
             [
              0,
              "#0d0887"
             ],
             [
              0.1111111111111111,
              "#46039f"
             ],
             [
              0.2222222222222222,
              "#7201a8"
             ],
             [
              0.3333333333333333,
              "#9c179e"
             ],
             [
              0.4444444444444444,
              "#bd3786"
             ],
             [
              0.5555555555555556,
              "#d8576b"
             ],
             [
              0.6666666666666666,
              "#ed7953"
             ],
             [
              0.7777777777777778,
              "#fb9f3a"
             ],
             [
              0.8888888888888888,
              "#fdca26"
             ],
             [
              1,
              "#f0f921"
             ]
            ],
            "type": "surface"
           }
          ],
          "table": [
           {
            "cells": {
             "fill": {
              "color": "#EBF0F8"
             },
             "line": {
              "color": "white"
             }
            },
            "header": {
             "fill": {
              "color": "#C8D4E3"
             },
             "line": {
              "color": "white"
             }
            },
            "type": "table"
           }
          ]
         },
         "layout": {
          "annotationdefaults": {
           "arrowcolor": "#2a3f5f",
           "arrowhead": 0,
           "arrowwidth": 1
          },
          "autotypenumbers": "strict",
          "coloraxis": {
           "colorbar": {
            "outlinewidth": 0,
            "ticks": ""
           }
          },
          "colorscale": {
           "diverging": [
            [
             0,
             "#8e0152"
            ],
            [
             0.1,
             "#c51b7d"
            ],
            [
             0.2,
             "#de77ae"
            ],
            [
             0.3,
             "#f1b6da"
            ],
            [
             0.4,
             "#fde0ef"
            ],
            [
             0.5,
             "#f7f7f7"
            ],
            [
             0.6,
             "#e6f5d0"
            ],
            [
             0.7,
             "#b8e186"
            ],
            [
             0.8,
             "#7fbc41"
            ],
            [
             0.9,
             "#4d9221"
            ],
            [
             1,
             "#276419"
            ]
           ],
           "sequential": [
            [
             0,
             "#0d0887"
            ],
            [
             0.1111111111111111,
             "#46039f"
            ],
            [
             0.2222222222222222,
             "#7201a8"
            ],
            [
             0.3333333333333333,
             "#9c179e"
            ],
            [
             0.4444444444444444,
             "#bd3786"
            ],
            [
             0.5555555555555556,
             "#d8576b"
            ],
            [
             0.6666666666666666,
             "#ed7953"
            ],
            [
             0.7777777777777778,
             "#fb9f3a"
            ],
            [
             0.8888888888888888,
             "#fdca26"
            ],
            [
             1,
             "#f0f921"
            ]
           ],
           "sequentialminus": [
            [
             0,
             "#0d0887"
            ],
            [
             0.1111111111111111,
             "#46039f"
            ],
            [
             0.2222222222222222,
             "#7201a8"
            ],
            [
             0.3333333333333333,
             "#9c179e"
            ],
            [
             0.4444444444444444,
             "#bd3786"
            ],
            [
             0.5555555555555556,
             "#d8576b"
            ],
            [
             0.6666666666666666,
             "#ed7953"
            ],
            [
             0.7777777777777778,
             "#fb9f3a"
            ],
            [
             0.8888888888888888,
             "#fdca26"
            ],
            [
             1,
             "#f0f921"
            ]
           ]
          },
          "colorway": [
           "#636efa",
           "#EF553B",
           "#00cc96",
           "#ab63fa",
           "#FFA15A",
           "#19d3f3",
           "#FF6692",
           "#B6E880",
           "#FF97FF",
           "#FECB52"
          ],
          "font": {
           "color": "#2a3f5f"
          },
          "geo": {
           "bgcolor": "white",
           "lakecolor": "white",
           "landcolor": "#E5ECF6",
           "showlakes": true,
           "showland": true,
           "subunitcolor": "white"
          },
          "hoverlabel": {
           "align": "left"
          },
          "hovermode": "closest",
          "mapbox": {
           "style": "light"
          },
          "paper_bgcolor": "white",
          "plot_bgcolor": "#E5ECF6",
          "polar": {
           "angularaxis": {
            "gridcolor": "white",
            "linecolor": "white",
            "ticks": ""
           },
           "bgcolor": "#E5ECF6",
           "radialaxis": {
            "gridcolor": "white",
            "linecolor": "white",
            "ticks": ""
           }
          },
          "scene": {
           "xaxis": {
            "backgroundcolor": "#E5ECF6",
            "gridcolor": "white",
            "gridwidth": 2,
            "linecolor": "white",
            "showbackground": true,
            "ticks": "",
            "zerolinecolor": "white"
           },
           "yaxis": {
            "backgroundcolor": "#E5ECF6",
            "gridcolor": "white",
            "gridwidth": 2,
            "linecolor": "white",
            "showbackground": true,
            "ticks": "",
            "zerolinecolor": "white"
           },
           "zaxis": {
            "backgroundcolor": "#E5ECF6",
            "gridcolor": "white",
            "gridwidth": 2,
            "linecolor": "white",
            "showbackground": true,
            "ticks": "",
            "zerolinecolor": "white"
           }
          },
          "shapedefaults": {
           "line": {
            "color": "#2a3f5f"
           }
          },
          "ternary": {
           "aaxis": {
            "gridcolor": "white",
            "linecolor": "white",
            "ticks": ""
           },
           "baxis": {
            "gridcolor": "white",
            "linecolor": "white",
            "ticks": ""
           },
           "bgcolor": "#E5ECF6",
           "caxis": {
            "gridcolor": "white",
            "linecolor": "white",
            "ticks": ""
           }
          },
          "title": {
           "x": 0.05
          },
          "xaxis": {
           "automargin": true,
           "gridcolor": "white",
           "linecolor": "white",
           "ticks": "",
           "title": {
            "standoff": 15
           },
           "zerolinecolor": "white",
           "zerolinewidth": 2
          },
          "yaxis": {
           "automargin": true,
           "gridcolor": "white",
           "linecolor": "white",
           "ticks": "",
           "title": {
            "standoff": 15
           },
           "zerolinecolor": "white",
           "zerolinewidth": 2
          }
         }
        },
        "title": {
         "text": "Price - With Outliers"
        },
        "xaxis": {
         "anchor": "y",
         "domain": [
          0,
          1
         ],
         "title": {
          "text": "value"
         }
        },
        "xaxis2": {
         "anchor": "y2",
         "domain": [
          0,
          1
         ],
         "matches": "x",
         "showgrid": true,
         "showticklabels": false
        },
        "yaxis": {
         "anchor": "x",
         "domain": [
          0,
          0.7326
         ],
         "title": {
          "text": "count"
         }
        },
        "yaxis2": {
         "anchor": "x2",
         "domain": [
          0.7426,
          1
         ],
         "matches": "y2",
         "showgrid": false,
         "showline": false,
         "showticklabels": false,
         "ticks": ""
        }
       }
      }
     },
     "metadata": {},
     "output_type": "display_data"
    },
    {
     "data": {
      "application/vnd.plotly.v1+json": {
       "config": {
        "plotlyServerURL": "https://plot.ly"
       },
       "data": [
        {
         "alignmentgroup": "True",
         "bingroup": "x",
         "hovertemplate": "variable=Price<br>value=%{x}<br>count=%{y}<extra></extra>",
         "legendgroup": "Price",
         "marker": {
          "color": "#636efa",
          "pattern": {
           "shape": ""
          }
         },
         "name": "Price",
         "offsetgroup": "Price",
         "orientation": "v",
         "showlegend": true,
         "type": "histogram",
         "x": [
          7.95,
          2.1,
          0.55,
          1.25,
          4.95,
          0.64,
          5.91,
          3.75,
          1.25,
          1.95,
          1.25,
          12.72,
          0.38,
          1.25,
          2.95,
          5.06,
          8.5,
          6.04,
          1.65,
          4.25,
          4.21,
          3.75,
          5.91,
          2.1,
          10.95,
          4.21,
          13.87,
          0.42,
          0.1,
          2.51,
          2.51,
          2.95,
          4.21,
          0.42,
          1.45,
          2.55,
          1.66,
          4.65,
          5.55,
          2.51,
          0.65,
          2.55,
          1.45,
          9.95,
          1.25,
          2.1,
          1.95,
          1.65,
          0.87,
          2.95,
          0.85,
          0.55,
          1.65,
          0.85,
          8.49,
          0.85,
          5.91,
          4.21,
          2.1,
          2.51,
          1.95,
          6.35,
          0.65,
          2.55,
          8.5,
          1.25,
          10.95,
          0.85,
          13.57,
          0.85,
          0.85,
          2.1,
          3.75,
          1.65,
          12.75,
          7.49,
          1.66,
          1.65,
          7.65,
          1.65,
          2.95,
          0.65,
          2.55,
          0.85,
          0.85,
          2.51,
          0.85,
          5.91,
          4.25,
          4.95,
          18,
          1.65,
          1.65,
          10.95,
          2.55,
          1.65,
          1.25,
          2.57,
          2.55,
          2.95,
          0.85,
          0.85,
          1.65,
          0.85,
          0.65,
          2.95,
          8.5,
          8.5,
          0.08,
          1.25,
          1.25,
          6.75,
          6.75,
          3.75,
          2.95,
          1.45,
          1.25,
          5.95,
          4.65,
          0.95,
          0.85,
          2.95,
          1.65,
          6.77,
          2.1,
          2.25,
          4.21,
          1.69,
          0.42,
          1.25,
          1.65,
          1.25,
          2.55,
          1.65,
          2.57,
          1.25,
          2.51,
          5.91,
          0.42,
          1.66,
          5.88,
          0.85,
          0.21,
          0.19,
          1.65,
          1.65,
          1.69,
          0.42,
          4.95,
          2.95,
          3.75,
          1.65,
          1.65,
          1.95,
          1.69,
          0.29,
          5.95,
          8.5,
          2.1,
          4.21,
          2.95,
          7.95,
          1.65,
          0.42,
          1.25,
          1.45,
          1.65,
          3.75,
          0.36,
          10.75,
          12.75,
          2.1,
          1.25,
          4.95,
          2.55,
          0.42,
          5.95,
          1.25,
          1.69,
          1.69,
          1.65,
          4.95,
          1.84,
          1.95,
          4.65,
          1.25,
          0.85,
          5.95,
          1.95,
          0.85,
          0.42,
          1.65,
          4.25,
          1.25,
          4.95,
          0.85,
          2.55,
          1.06,
          0,
          1.25,
          4.25,
          3.36,
          0.85,
          5.45,
          1.95,
          7.49,
          1.25,
          0.42,
          7.62,
          1.25,
          2.51,
          1.66,
          0.85,
          3.75,
          1.95,
          0.85,
          2.95,
          4.25,
          2.1,
          3.75,
          1.45,
          0.85,
          0.42,
          8.5,
          3.45,
          8.47,
          8.95,
          3.25,
          0.85,
          1.65,
          0.85,
          2.98,
          2.95,
          0.55,
          3.75,
          1.25,
          1.65,
          0.85,
          7.49,
          0.38,
          1.65,
          3.36,
          1.65,
          34,
          3.75,
          1.95,
          5.06,
          4.65,
          3.39,
          1.25,
          1.25,
          8.47,
          2.95,
          4.95,
          0.65,
          0.85,
          4.21,
          0.65,
          4.95,
          2.1,
          2.51,
          3.75,
          0.85,
          0.43,
          8.5,
          1.25,
          2.95,
          2.95,
          7.95,
          2.1,
          5.91,
          2.95,
          0.95,
          1.25,
          2.51,
          1.25,
          3.36,
          1.25,
          2.55,
          2.95,
          4.25,
          2.1,
          0.72,
          7.49,
          4.21,
          2.95,
          0.85,
          0.42,
          2.51,
          0.85,
          3.75,
          1.65,
          3.75,
          0.42,
          12.75,
          1.25,
          1.65,
          1.65,
          0.85,
          1.45,
          0.85,
          0.34,
          2.95,
          0.85,
          9.95,
          4.21,
          1.95,
          2.51,
          2.55,
          9.95,
          4.21,
          1.66,
          0.85,
          9.95,
          0,
          1.65,
          2.95,
          1.06,
          1.25,
          1.25,
          4.25,
          1.65,
          8.5,
          16.13,
          1.25,
          7.49,
          2.1,
          11.26,
          0.43,
          0.42,
          10.17,
          1.66,
          0.81,
          5.95,
          4.21,
          14.95,
          1.25,
          0.72,
          3.36,
          3.75,
          1.06,
          8.5,
          6.75,
          2.95,
          0.42,
          0.55,
          11.87,
          0.65,
          2.1,
          1.95,
          2.1,
          1.45,
          2.95,
          79.95,
          1.65,
          4.25,
          2.55,
          4.95,
          2.1,
          2.51,
          4.25,
          1.25,
          1.65,
          4.25,
          1.66,
          122.3,
          3.45,
          7.65,
          9.95,
          1.65,
          3.36,
          9.95,
          1.65,
          2.55,
          2.1,
          0.85,
          0.85,
          2.95,
          3.36,
          4.3,
          5.06,
          0.19,
          2.1,
          3.36,
          1.66,
          2.1,
          5.91,
          5.95,
          1.06,
          2.55,
          34,
          2.55,
          7.49,
          0.65,
          2.95,
          7.95,
          8.47,
          2.1,
          3.36,
          2.1,
          1.95,
          2.55,
          2.51,
          2.1,
          2.12,
          9.95,
          4.95,
          4.21,
          1.25,
          0.42,
          2.95,
          5.91,
          0.55,
          0.42,
          38.26,
          12.75,
          2.95,
          9.95,
          16.95,
          5.45,
          0.55,
          3.95,
          2.95,
          0.85,
          4.21,
          0.55,
          7.49,
          0.85,
          0.72,
          1.25,
          2.51,
          6.95,
          1.66,
          5.91,
          4.95,
          4.21,
          0.85,
          3.95,
          0.42,
          1.66,
          1.25,
          1.25,
          2.95,
          34.74,
          1.95,
          1.25,
          2.51,
          0.85,
          2.1,
          1.06,
          6.75,
          2.1,
          0.55,
          6.04,
          0.85,
          0.85,
          0.83,
          3.25,
          2.55,
          7.62,
          1.45,
          1.06,
          1.45,
          2.1,
          2.95,
          9.95,
          1.65,
          12.75,
          1.25,
          3.75,
          0.85,
          0.55,
          1.25,
          0.85,
          0.65,
          1.25,
          1.69,
          5.95,
          0,
          1.25,
          0.55,
          2.1,
          4.21,
          1.65,
          5.95,
          1.25,
          1.45,
          0.85,
          2.95,
          2.95,
          1.65,
          8.47,
          8.5,
          2.55,
          2.1,
          0.85,
          8.5,
          1.95,
          1.7,
          0.65,
          2.95,
          1.65,
          1.25,
          0.85,
          4.25,
          0.64,
          0.42,
          0.38,
          1.65,
          2.1,
          12.75,
          0.65,
          0.65,
          4.95,
          0.85,
          1.25,
          1.66,
          1.65,
          0.85,
          4.95,
          3.04,
          0.42,
          16.95,
          1.65,
          1.25,
          5.06,
          0.85,
          0.85,
          2.1,
          1.65,
          0.85,
          8.47,
          3.43,
          2.55,
          0.42,
          9.95,
          1.66,
          0.65,
          1.25,
          12.75,
          12.72,
          5.95,
          4.65,
          3.39,
          6.75,
          1.65,
          4.25,
          0.85,
          2.55,
          2.95,
          3.75,
          2.55,
          1.65,
          7.95,
          1.95,
          0.29,
          4.95,
          1.25,
          0.42,
          2.95,
          5.95,
          1.25,
          4.95,
          5.91,
          4.21,
          16.98,
          1.65,
          4.25,
          2.95,
          1.25,
          1.45,
          3.36,
          10.95,
          1.49,
          12.75,
          4.25,
          0.29,
          9.95,
          1.65,
          1.45,
          7.95,
          1.45,
          1.66,
          1.65,
          2.95,
          5.95,
          3.75,
          0.42,
          2.95,
          2.98,
          2.95,
          1.65,
          1.65,
          1.95,
          0.38,
          1.65,
          7.95,
          2.55,
          4.25,
          2.95,
          0.85,
          2.95,
          1.45,
          1.65,
          0.42,
          5.95,
          1.25,
          2.1,
          0.85,
          3.75,
          34,
          3.75,
          1.45,
          4.25,
          1.25,
          1.65,
          3.75,
          7.62,
          0.55,
          1.95,
          1.45,
          1.7,
          0.36,
          4.5,
          4.95,
          1.95,
          4.21,
          1.25,
          5.17,
          2.55,
          0.42,
          4.95,
          1.95,
          2.55,
          1.28,
          1.65,
          0.42,
          1.95,
          1.65,
          2.1,
          0.85,
          5.95,
          0.65,
          1.45,
          7.65,
          2.1,
          2.95,
          4.95,
          8.47,
          0.95,
          1.25,
          2.95,
          9.95,
          1.65,
          2.55,
          1.65,
          1.25,
          1.25,
          1.25,
          1.25,
          2.51,
          0.85,
          7.49,
          1.65,
          1.45,
          1.95,
          0.65,
          1.25,
          0.42,
          2.1,
          12.75,
          0.85,
          1.7,
          2.1,
          2.95,
          1.25,
          3.36,
          1.65,
          1.95,
          2.55,
          5.45,
          0.55,
          16.95,
          6.04,
          4.21,
          5.95,
          4.95,
          1.06,
          2.55,
          7.49,
          1.25,
          0.55,
          1.95,
          5.95,
          5.95,
          2.51,
          5.91,
          4.3,
          1.65,
          2.51,
          1.25,
          1.25,
          16.98,
          1.25,
          10.95,
          3.35,
          1.45,
          1.65,
          1.25,
          1.65,
          4.21,
          2.95,
          0.42,
          2.55,
          4.95,
          4.95,
          1.25,
          3.36,
          1.25,
          1.95,
          3.36,
          2.51,
          0.85,
          2.55,
          2.55,
          1.65,
          5.91,
          1.7,
          2.1,
          3.36,
          0.42,
          2.1,
          1.65,
          0.36,
          2.95,
          8.5,
          0.42,
          0.42,
          1.25,
          1.66,
          1.06,
          5.2,
          1.28,
          12.75,
          1.25,
          2.95,
          3.75,
          1.66,
          5.95,
          8.5,
          0.55,
          0.85,
          2.95,
          1.25,
          0.85,
          1.25,
          1.25,
          4.21,
          0.85,
          0.42,
          7.95,
          3.36,
          1.25,
          0.38,
          0.85,
          2.95,
          8.95,
          1.65,
          0.85,
          11.02,
          7.95,
          0.85,
          2.25,
          4.95,
          0.85,
          11.02,
          2.1,
          0.85,
          12.75,
          2.55,
          0.42,
          2.95,
          12.75,
          1.69,
          0.85,
          1.25,
          5.06,
          5.91,
          4.65,
          0.95,
          1.25,
          1.65,
          0.85,
          0.65,
          2.95,
          8.47,
          1.66,
          5.91,
          0.42,
          5.95,
          7.95,
          4.21,
          2.95,
          1.25,
          0.85,
          6.35,
          0.65,
          0.42,
          6.75,
          0.42,
          2.55,
          12.75,
          2.95,
          0.85,
          4.95,
          2.55,
          1.25,
          2.95,
          1.28,
          6.75,
          1.95,
          1.66,
          4.3,
          0.53,
          1.65,
          3.75,
          2.1,
          2.1,
          3.36,
          3.75,
          5.95,
          1.25,
          0.95,
          2.95,
          4.21,
          1.66,
          5.91,
          1.69,
          5.49,
          2.55,
          1.65,
          0.65,
          1.66,
          0.85,
          7.95,
          2.95,
          4.25,
          0.55,
          0.65,
          1.45,
          3.75,
          1.85,
          5.95,
          4.95,
          1.25,
          2.55,
          12.75,
          9.95,
          0.85,
          1.25,
          1.25,
          0.42,
          1.69,
          0.42,
          1.69,
          2.95,
          1.25,
          1.65,
          5.91,
          3.36,
          0.55,
          1.25,
          0.85,
          1.25,
          5.95,
          6.45,
          2.95,
          1.28,
          1.95,
          1.25,
          0.85,
          0.42,
          1.25,
          1.65,
          4.95,
          2.95,
          3.95,
          3.36,
          0.55,
          1.95,
          2.1,
          1.66,
          2.1,
          1.25,
          9.95,
          1.95,
          3.75,
          3.75,
          12.72,
          3.75,
          0.43,
          0.85,
          0.85,
          2.95,
          0.81,
          0.85,
          1.25,
          2.1,
          5.95,
          0.85,
          2.95,
          8.95,
          2.1,
          2.55,
          3.75,
          0.42,
          0.85,
          1.65,
          2.55,
          9.95,
          4.21,
          29.79,
          4.95,
          1.65,
          3.75,
          0.21,
          2.55,
          2.1,
          4.21,
          0.85,
          0.55,
          0.85,
          0.85,
          2.95,
          0.65,
          1.06,
          7.95,
          4.25,
          0.55,
          2.95,
          2.1,
          2.51,
          0.65,
          1.25,
          4.25,
          3.75,
          1.25,
          3.36,
          0.55,
          3.75,
          2.55,
          1.95,
          0.42,
          0.42,
          0.42,
          4.21,
          0.85,
          3.75,
          0.43,
          0.42,
          1.65,
          2.95,
          2.51,
          0.85,
          3.25,
          4.95,
          14.43,
          5.45,
          7.95,
          2.1,
          0.42,
          12.75,
          1.45,
          0.85,
          1.66,
          0.85,
          8.47,
          2.1,
          1.85,
          6.75,
          3.75,
          1.25,
          2.95,
          1.66,
          2.95,
          4.25,
          4.95,
          1.25,
          4.21,
          4.95,
          1.25,
          12.75,
          3.75,
          2.95,
          1.65,
          1.95,
          1.95,
          2.98
         ],
         "xaxis": "x",
         "yaxis": "y"
        },
        {
         "alignmentgroup": "True",
         "hovertemplate": "variable=Price<br>value=%{x}<extra></extra>",
         "legendgroup": "Price",
         "marker": {
          "color": "#636efa"
         },
         "name": "Price",
         "notched": true,
         "offsetgroup": "Price",
         "showlegend": false,
         "type": "box",
         "x": [
          7.95,
          2.1,
          0.55,
          1.25,
          4.95,
          0.64,
          5.91,
          3.75,
          1.25,
          1.95,
          1.25,
          12.72,
          0.38,
          1.25,
          2.95,
          5.06,
          8.5,
          6.04,
          1.65,
          4.25,
          4.21,
          3.75,
          5.91,
          2.1,
          10.95,
          4.21,
          13.87,
          0.42,
          0.1,
          2.51,
          2.51,
          2.95,
          4.21,
          0.42,
          1.45,
          2.55,
          1.66,
          4.65,
          5.55,
          2.51,
          0.65,
          2.55,
          1.45,
          9.95,
          1.25,
          2.1,
          1.95,
          1.65,
          0.87,
          2.95,
          0.85,
          0.55,
          1.65,
          0.85,
          8.49,
          0.85,
          5.91,
          4.21,
          2.1,
          2.51,
          1.95,
          6.35,
          0.65,
          2.55,
          8.5,
          1.25,
          10.95,
          0.85,
          13.57,
          0.85,
          0.85,
          2.1,
          3.75,
          1.65,
          12.75,
          7.49,
          1.66,
          1.65,
          7.65,
          1.65,
          2.95,
          0.65,
          2.55,
          0.85,
          0.85,
          2.51,
          0.85,
          5.91,
          4.25,
          4.95,
          18,
          1.65,
          1.65,
          10.95,
          2.55,
          1.65,
          1.25,
          2.57,
          2.55,
          2.95,
          0.85,
          0.85,
          1.65,
          0.85,
          0.65,
          2.95,
          8.5,
          8.5,
          0.08,
          1.25,
          1.25,
          6.75,
          6.75,
          3.75,
          2.95,
          1.45,
          1.25,
          5.95,
          4.65,
          0.95,
          0.85,
          2.95,
          1.65,
          6.77,
          2.1,
          2.25,
          4.21,
          1.69,
          0.42,
          1.25,
          1.65,
          1.25,
          2.55,
          1.65,
          2.57,
          1.25,
          2.51,
          5.91,
          0.42,
          1.66,
          5.88,
          0.85,
          0.21,
          0.19,
          1.65,
          1.65,
          1.69,
          0.42,
          4.95,
          2.95,
          3.75,
          1.65,
          1.65,
          1.95,
          1.69,
          0.29,
          5.95,
          8.5,
          2.1,
          4.21,
          2.95,
          7.95,
          1.65,
          0.42,
          1.25,
          1.45,
          1.65,
          3.75,
          0.36,
          10.75,
          12.75,
          2.1,
          1.25,
          4.95,
          2.55,
          0.42,
          5.95,
          1.25,
          1.69,
          1.69,
          1.65,
          4.95,
          1.84,
          1.95,
          4.65,
          1.25,
          0.85,
          5.95,
          1.95,
          0.85,
          0.42,
          1.65,
          4.25,
          1.25,
          4.95,
          0.85,
          2.55,
          1.06,
          0,
          1.25,
          4.25,
          3.36,
          0.85,
          5.45,
          1.95,
          7.49,
          1.25,
          0.42,
          7.62,
          1.25,
          2.51,
          1.66,
          0.85,
          3.75,
          1.95,
          0.85,
          2.95,
          4.25,
          2.1,
          3.75,
          1.45,
          0.85,
          0.42,
          8.5,
          3.45,
          8.47,
          8.95,
          3.25,
          0.85,
          1.65,
          0.85,
          2.98,
          2.95,
          0.55,
          3.75,
          1.25,
          1.65,
          0.85,
          7.49,
          0.38,
          1.65,
          3.36,
          1.65,
          34,
          3.75,
          1.95,
          5.06,
          4.65,
          3.39,
          1.25,
          1.25,
          8.47,
          2.95,
          4.95,
          0.65,
          0.85,
          4.21,
          0.65,
          4.95,
          2.1,
          2.51,
          3.75,
          0.85,
          0.43,
          8.5,
          1.25,
          2.95,
          2.95,
          7.95,
          2.1,
          5.91,
          2.95,
          0.95,
          1.25,
          2.51,
          1.25,
          3.36,
          1.25,
          2.55,
          2.95,
          4.25,
          2.1,
          0.72,
          7.49,
          4.21,
          2.95,
          0.85,
          0.42,
          2.51,
          0.85,
          3.75,
          1.65,
          3.75,
          0.42,
          12.75,
          1.25,
          1.65,
          1.65,
          0.85,
          1.45,
          0.85,
          0.34,
          2.95,
          0.85,
          9.95,
          4.21,
          1.95,
          2.51,
          2.55,
          9.95,
          4.21,
          1.66,
          0.85,
          9.95,
          0,
          1.65,
          2.95,
          1.06,
          1.25,
          1.25,
          4.25,
          1.65,
          8.5,
          16.13,
          1.25,
          7.49,
          2.1,
          11.26,
          0.43,
          0.42,
          10.17,
          1.66,
          0.81,
          5.95,
          4.21,
          14.95,
          1.25,
          0.72,
          3.36,
          3.75,
          1.06,
          8.5,
          6.75,
          2.95,
          0.42,
          0.55,
          11.87,
          0.65,
          2.1,
          1.95,
          2.1,
          1.45,
          2.95,
          79.95,
          1.65,
          4.25,
          2.55,
          4.95,
          2.1,
          2.51,
          4.25,
          1.25,
          1.65,
          4.25,
          1.66,
          122.3,
          3.45,
          7.65,
          9.95,
          1.65,
          3.36,
          9.95,
          1.65,
          2.55,
          2.1,
          0.85,
          0.85,
          2.95,
          3.36,
          4.3,
          5.06,
          0.19,
          2.1,
          3.36,
          1.66,
          2.1,
          5.91,
          5.95,
          1.06,
          2.55,
          34,
          2.55,
          7.49,
          0.65,
          2.95,
          7.95,
          8.47,
          2.1,
          3.36,
          2.1,
          1.95,
          2.55,
          2.51,
          2.1,
          2.12,
          9.95,
          4.95,
          4.21,
          1.25,
          0.42,
          2.95,
          5.91,
          0.55,
          0.42,
          38.26,
          12.75,
          2.95,
          9.95,
          16.95,
          5.45,
          0.55,
          3.95,
          2.95,
          0.85,
          4.21,
          0.55,
          7.49,
          0.85,
          0.72,
          1.25,
          2.51,
          6.95,
          1.66,
          5.91,
          4.95,
          4.21,
          0.85,
          3.95,
          0.42,
          1.66,
          1.25,
          1.25,
          2.95,
          34.74,
          1.95,
          1.25,
          2.51,
          0.85,
          2.1,
          1.06,
          6.75,
          2.1,
          0.55,
          6.04,
          0.85,
          0.85,
          0.83,
          3.25,
          2.55,
          7.62,
          1.45,
          1.06,
          1.45,
          2.1,
          2.95,
          9.95,
          1.65,
          12.75,
          1.25,
          3.75,
          0.85,
          0.55,
          1.25,
          0.85,
          0.65,
          1.25,
          1.69,
          5.95,
          0,
          1.25,
          0.55,
          2.1,
          4.21,
          1.65,
          5.95,
          1.25,
          1.45,
          0.85,
          2.95,
          2.95,
          1.65,
          8.47,
          8.5,
          2.55,
          2.1,
          0.85,
          8.5,
          1.95,
          1.7,
          0.65,
          2.95,
          1.65,
          1.25,
          0.85,
          4.25,
          0.64,
          0.42,
          0.38,
          1.65,
          2.1,
          12.75,
          0.65,
          0.65,
          4.95,
          0.85,
          1.25,
          1.66,
          1.65,
          0.85,
          4.95,
          3.04,
          0.42,
          16.95,
          1.65,
          1.25,
          5.06,
          0.85,
          0.85,
          2.1,
          1.65,
          0.85,
          8.47,
          3.43,
          2.55,
          0.42,
          9.95,
          1.66,
          0.65,
          1.25,
          12.75,
          12.72,
          5.95,
          4.65,
          3.39,
          6.75,
          1.65,
          4.25,
          0.85,
          2.55,
          2.95,
          3.75,
          2.55,
          1.65,
          7.95,
          1.95,
          0.29,
          4.95,
          1.25,
          0.42,
          2.95,
          5.95,
          1.25,
          4.95,
          5.91,
          4.21,
          16.98,
          1.65,
          4.25,
          2.95,
          1.25,
          1.45,
          3.36,
          10.95,
          1.49,
          12.75,
          4.25,
          0.29,
          9.95,
          1.65,
          1.45,
          7.95,
          1.45,
          1.66,
          1.65,
          2.95,
          5.95,
          3.75,
          0.42,
          2.95,
          2.98,
          2.95,
          1.65,
          1.65,
          1.95,
          0.38,
          1.65,
          7.95,
          2.55,
          4.25,
          2.95,
          0.85,
          2.95,
          1.45,
          1.65,
          0.42,
          5.95,
          1.25,
          2.1,
          0.85,
          3.75,
          34,
          3.75,
          1.45,
          4.25,
          1.25,
          1.65,
          3.75,
          7.62,
          0.55,
          1.95,
          1.45,
          1.7,
          0.36,
          4.5,
          4.95,
          1.95,
          4.21,
          1.25,
          5.17,
          2.55,
          0.42,
          4.95,
          1.95,
          2.55,
          1.28,
          1.65,
          0.42,
          1.95,
          1.65,
          2.1,
          0.85,
          5.95,
          0.65,
          1.45,
          7.65,
          2.1,
          2.95,
          4.95,
          8.47,
          0.95,
          1.25,
          2.95,
          9.95,
          1.65,
          2.55,
          1.65,
          1.25,
          1.25,
          1.25,
          1.25,
          2.51,
          0.85,
          7.49,
          1.65,
          1.45,
          1.95,
          0.65,
          1.25,
          0.42,
          2.1,
          12.75,
          0.85,
          1.7,
          2.1,
          2.95,
          1.25,
          3.36,
          1.65,
          1.95,
          2.55,
          5.45,
          0.55,
          16.95,
          6.04,
          4.21,
          5.95,
          4.95,
          1.06,
          2.55,
          7.49,
          1.25,
          0.55,
          1.95,
          5.95,
          5.95,
          2.51,
          5.91,
          4.3,
          1.65,
          2.51,
          1.25,
          1.25,
          16.98,
          1.25,
          10.95,
          3.35,
          1.45,
          1.65,
          1.25,
          1.65,
          4.21,
          2.95,
          0.42,
          2.55,
          4.95,
          4.95,
          1.25,
          3.36,
          1.25,
          1.95,
          3.36,
          2.51,
          0.85,
          2.55,
          2.55,
          1.65,
          5.91,
          1.7,
          2.1,
          3.36,
          0.42,
          2.1,
          1.65,
          0.36,
          2.95,
          8.5,
          0.42,
          0.42,
          1.25,
          1.66,
          1.06,
          5.2,
          1.28,
          12.75,
          1.25,
          2.95,
          3.75,
          1.66,
          5.95,
          8.5,
          0.55,
          0.85,
          2.95,
          1.25,
          0.85,
          1.25,
          1.25,
          4.21,
          0.85,
          0.42,
          7.95,
          3.36,
          1.25,
          0.38,
          0.85,
          2.95,
          8.95,
          1.65,
          0.85,
          11.02,
          7.95,
          0.85,
          2.25,
          4.95,
          0.85,
          11.02,
          2.1,
          0.85,
          12.75,
          2.55,
          0.42,
          2.95,
          12.75,
          1.69,
          0.85,
          1.25,
          5.06,
          5.91,
          4.65,
          0.95,
          1.25,
          1.65,
          0.85,
          0.65,
          2.95,
          8.47,
          1.66,
          5.91,
          0.42,
          5.95,
          7.95,
          4.21,
          2.95,
          1.25,
          0.85,
          6.35,
          0.65,
          0.42,
          6.75,
          0.42,
          2.55,
          12.75,
          2.95,
          0.85,
          4.95,
          2.55,
          1.25,
          2.95,
          1.28,
          6.75,
          1.95,
          1.66,
          4.3,
          0.53,
          1.65,
          3.75,
          2.1,
          2.1,
          3.36,
          3.75,
          5.95,
          1.25,
          0.95,
          2.95,
          4.21,
          1.66,
          5.91,
          1.69,
          5.49,
          2.55,
          1.65,
          0.65,
          1.66,
          0.85,
          7.95,
          2.95,
          4.25,
          0.55,
          0.65,
          1.45,
          3.75,
          1.85,
          5.95,
          4.95,
          1.25,
          2.55,
          12.75,
          9.95,
          0.85,
          1.25,
          1.25,
          0.42,
          1.69,
          0.42,
          1.69,
          2.95,
          1.25,
          1.65,
          5.91,
          3.36,
          0.55,
          1.25,
          0.85,
          1.25,
          5.95,
          6.45,
          2.95,
          1.28,
          1.95,
          1.25,
          0.85,
          0.42,
          1.25,
          1.65,
          4.95,
          2.95,
          3.95,
          3.36,
          0.55,
          1.95,
          2.1,
          1.66,
          2.1,
          1.25,
          9.95,
          1.95,
          3.75,
          3.75,
          12.72,
          3.75,
          0.43,
          0.85,
          0.85,
          2.95,
          0.81,
          0.85,
          1.25,
          2.1,
          5.95,
          0.85,
          2.95,
          8.95,
          2.1,
          2.55,
          3.75,
          0.42,
          0.85,
          1.65,
          2.55,
          9.95,
          4.21,
          29.79,
          4.95,
          1.65,
          3.75,
          0.21,
          2.55,
          2.1,
          4.21,
          0.85,
          0.55,
          0.85,
          0.85,
          2.95,
          0.65,
          1.06,
          7.95,
          4.25,
          0.55,
          2.95,
          2.1,
          2.51,
          0.65,
          1.25,
          4.25,
          3.75,
          1.25,
          3.36,
          0.55,
          3.75,
          2.55,
          1.95,
          0.42,
          0.42,
          0.42,
          4.21,
          0.85,
          3.75,
          0.43,
          0.42,
          1.65,
          2.95,
          2.51,
          0.85,
          3.25,
          4.95,
          14.43,
          5.45,
          7.95,
          2.1,
          0.42,
          12.75,
          1.45,
          0.85,
          1.66,
          0.85,
          8.47,
          2.1,
          1.85,
          6.75,
          3.75,
          1.25,
          2.95,
          1.66,
          2.95,
          4.25,
          4.95,
          1.25,
          4.21,
          4.95,
          1.25,
          12.75,
          3.75,
          2.95,
          1.65,
          1.95,
          1.95,
          2.98
         ],
         "xaxis": "x2",
         "yaxis": "y2"
        }
       ],
       "layout": {
        "barmode": "relative",
        "legend": {
         "title": {
          "text": "variable"
         },
         "tracegroupgap": 0
        },
        "template": {
         "data": {
          "bar": [
           {
            "error_x": {
             "color": "#2a3f5f"
            },
            "error_y": {
             "color": "#2a3f5f"
            },
            "marker": {
             "line": {
              "color": "#E5ECF6",
              "width": 0.5
             },
             "pattern": {
              "fillmode": "overlay",
              "size": 10,
              "solidity": 0.2
             }
            },
            "type": "bar"
           }
          ],
          "barpolar": [
           {
            "marker": {
             "line": {
              "color": "#E5ECF6",
              "width": 0.5
             },
             "pattern": {
              "fillmode": "overlay",
              "size": 10,
              "solidity": 0.2
             }
            },
            "type": "barpolar"
           }
          ],
          "carpet": [
           {
            "aaxis": {
             "endlinecolor": "#2a3f5f",
             "gridcolor": "white",
             "linecolor": "white",
             "minorgridcolor": "white",
             "startlinecolor": "#2a3f5f"
            },
            "baxis": {
             "endlinecolor": "#2a3f5f",
             "gridcolor": "white",
             "linecolor": "white",
             "minorgridcolor": "white",
             "startlinecolor": "#2a3f5f"
            },
            "type": "carpet"
           }
          ],
          "choropleth": [
           {
            "colorbar": {
             "outlinewidth": 0,
             "ticks": ""
            },
            "type": "choropleth"
           }
          ],
          "contour": [
           {
            "colorbar": {
             "outlinewidth": 0,
             "ticks": ""
            },
            "colorscale": [
             [
              0,
              "#0d0887"
             ],
             [
              0.1111111111111111,
              "#46039f"
             ],
             [
              0.2222222222222222,
              "#7201a8"
             ],
             [
              0.3333333333333333,
              "#9c179e"
             ],
             [
              0.4444444444444444,
              "#bd3786"
             ],
             [
              0.5555555555555556,
              "#d8576b"
             ],
             [
              0.6666666666666666,
              "#ed7953"
             ],
             [
              0.7777777777777778,
              "#fb9f3a"
             ],
             [
              0.8888888888888888,
              "#fdca26"
             ],
             [
              1,
              "#f0f921"
             ]
            ],
            "type": "contour"
           }
          ],
          "contourcarpet": [
           {
            "colorbar": {
             "outlinewidth": 0,
             "ticks": ""
            },
            "type": "contourcarpet"
           }
          ],
          "heatmap": [
           {
            "colorbar": {
             "outlinewidth": 0,
             "ticks": ""
            },
            "colorscale": [
             [
              0,
              "#0d0887"
             ],
             [
              0.1111111111111111,
              "#46039f"
             ],
             [
              0.2222222222222222,
              "#7201a8"
             ],
             [
              0.3333333333333333,
              "#9c179e"
             ],
             [
              0.4444444444444444,
              "#bd3786"
             ],
             [
              0.5555555555555556,
              "#d8576b"
             ],
             [
              0.6666666666666666,
              "#ed7953"
             ],
             [
              0.7777777777777778,
              "#fb9f3a"
             ],
             [
              0.8888888888888888,
              "#fdca26"
             ],
             [
              1,
              "#f0f921"
             ]
            ],
            "type": "heatmap"
           }
          ],
          "heatmapgl": [
           {
            "colorbar": {
             "outlinewidth": 0,
             "ticks": ""
            },
            "colorscale": [
             [
              0,
              "#0d0887"
             ],
             [
              0.1111111111111111,
              "#46039f"
             ],
             [
              0.2222222222222222,
              "#7201a8"
             ],
             [
              0.3333333333333333,
              "#9c179e"
             ],
             [
              0.4444444444444444,
              "#bd3786"
             ],
             [
              0.5555555555555556,
              "#d8576b"
             ],
             [
              0.6666666666666666,
              "#ed7953"
             ],
             [
              0.7777777777777778,
              "#fb9f3a"
             ],
             [
              0.8888888888888888,
              "#fdca26"
             ],
             [
              1,
              "#f0f921"
             ]
            ],
            "type": "heatmapgl"
           }
          ],
          "histogram": [
           {
            "marker": {
             "pattern": {
              "fillmode": "overlay",
              "size": 10,
              "solidity": 0.2
             }
            },
            "type": "histogram"
           }
          ],
          "histogram2d": [
           {
            "colorbar": {
             "outlinewidth": 0,
             "ticks": ""
            },
            "colorscale": [
             [
              0,
              "#0d0887"
             ],
             [
              0.1111111111111111,
              "#46039f"
             ],
             [
              0.2222222222222222,
              "#7201a8"
             ],
             [
              0.3333333333333333,
              "#9c179e"
             ],
             [
              0.4444444444444444,
              "#bd3786"
             ],
             [
              0.5555555555555556,
              "#d8576b"
             ],
             [
              0.6666666666666666,
              "#ed7953"
             ],
             [
              0.7777777777777778,
              "#fb9f3a"
             ],
             [
              0.8888888888888888,
              "#fdca26"
             ],
             [
              1,
              "#f0f921"
             ]
            ],
            "type": "histogram2d"
           }
          ],
          "histogram2dcontour": [
           {
            "colorbar": {
             "outlinewidth": 0,
             "ticks": ""
            },
            "colorscale": [
             [
              0,
              "#0d0887"
             ],
             [
              0.1111111111111111,
              "#46039f"
             ],
             [
              0.2222222222222222,
              "#7201a8"
             ],
             [
              0.3333333333333333,
              "#9c179e"
             ],
             [
              0.4444444444444444,
              "#bd3786"
             ],
             [
              0.5555555555555556,
              "#d8576b"
             ],
             [
              0.6666666666666666,
              "#ed7953"
             ],
             [
              0.7777777777777778,
              "#fb9f3a"
             ],
             [
              0.8888888888888888,
              "#fdca26"
             ],
             [
              1,
              "#f0f921"
             ]
            ],
            "type": "histogram2dcontour"
           }
          ],
          "mesh3d": [
           {
            "colorbar": {
             "outlinewidth": 0,
             "ticks": ""
            },
            "type": "mesh3d"
           }
          ],
          "parcoords": [
           {
            "line": {
             "colorbar": {
              "outlinewidth": 0,
              "ticks": ""
             }
            },
            "type": "parcoords"
           }
          ],
          "pie": [
           {
            "automargin": true,
            "type": "pie"
           }
          ],
          "scatter": [
           {
            "fillpattern": {
             "fillmode": "overlay",
             "size": 10,
             "solidity": 0.2
            },
            "type": "scatter"
           }
          ],
          "scatter3d": [
           {
            "line": {
             "colorbar": {
              "outlinewidth": 0,
              "ticks": ""
             }
            },
            "marker": {
             "colorbar": {
              "outlinewidth": 0,
              "ticks": ""
             }
            },
            "type": "scatter3d"
           }
          ],
          "scattercarpet": [
           {
            "marker": {
             "colorbar": {
              "outlinewidth": 0,
              "ticks": ""
             }
            },
            "type": "scattercarpet"
           }
          ],
          "scattergeo": [
           {
            "marker": {
             "colorbar": {
              "outlinewidth": 0,
              "ticks": ""
             }
            },
            "type": "scattergeo"
           }
          ],
          "scattergl": [
           {
            "marker": {
             "colorbar": {
              "outlinewidth": 0,
              "ticks": ""
             }
            },
            "type": "scattergl"
           }
          ],
          "scattermapbox": [
           {
            "marker": {
             "colorbar": {
              "outlinewidth": 0,
              "ticks": ""
             }
            },
            "type": "scattermapbox"
           }
          ],
          "scatterpolar": [
           {
            "marker": {
             "colorbar": {
              "outlinewidth": 0,
              "ticks": ""
             }
            },
            "type": "scatterpolar"
           }
          ],
          "scatterpolargl": [
           {
            "marker": {
             "colorbar": {
              "outlinewidth": 0,
              "ticks": ""
             }
            },
            "type": "scatterpolargl"
           }
          ],
          "scatterternary": [
           {
            "marker": {
             "colorbar": {
              "outlinewidth": 0,
              "ticks": ""
             }
            },
            "type": "scatterternary"
           }
          ],
          "surface": [
           {
            "colorbar": {
             "outlinewidth": 0,
             "ticks": ""
            },
            "colorscale": [
             [
              0,
              "#0d0887"
             ],
             [
              0.1111111111111111,
              "#46039f"
             ],
             [
              0.2222222222222222,
              "#7201a8"
             ],
             [
              0.3333333333333333,
              "#9c179e"
             ],
             [
              0.4444444444444444,
              "#bd3786"
             ],
             [
              0.5555555555555556,
              "#d8576b"
             ],
             [
              0.6666666666666666,
              "#ed7953"
             ],
             [
              0.7777777777777778,
              "#fb9f3a"
             ],
             [
              0.8888888888888888,
              "#fdca26"
             ],
             [
              1,
              "#f0f921"
             ]
            ],
            "type": "surface"
           }
          ],
          "table": [
           {
            "cells": {
             "fill": {
              "color": "#EBF0F8"
             },
             "line": {
              "color": "white"
             }
            },
            "header": {
             "fill": {
              "color": "#C8D4E3"
             },
             "line": {
              "color": "white"
             }
            },
            "type": "table"
           }
          ]
         },
         "layout": {
          "annotationdefaults": {
           "arrowcolor": "#2a3f5f",
           "arrowhead": 0,
           "arrowwidth": 1
          },
          "autotypenumbers": "strict",
          "coloraxis": {
           "colorbar": {
            "outlinewidth": 0,
            "ticks": ""
           }
          },
          "colorscale": {
           "diverging": [
            [
             0,
             "#8e0152"
            ],
            [
             0.1,
             "#c51b7d"
            ],
            [
             0.2,
             "#de77ae"
            ],
            [
             0.3,
             "#f1b6da"
            ],
            [
             0.4,
             "#fde0ef"
            ],
            [
             0.5,
             "#f7f7f7"
            ],
            [
             0.6,
             "#e6f5d0"
            ],
            [
             0.7,
             "#b8e186"
            ],
            [
             0.8,
             "#7fbc41"
            ],
            [
             0.9,
             "#4d9221"
            ],
            [
             1,
             "#276419"
            ]
           ],
           "sequential": [
            [
             0,
             "#0d0887"
            ],
            [
             0.1111111111111111,
             "#46039f"
            ],
            [
             0.2222222222222222,
             "#7201a8"
            ],
            [
             0.3333333333333333,
             "#9c179e"
            ],
            [
             0.4444444444444444,
             "#bd3786"
            ],
            [
             0.5555555555555556,
             "#d8576b"
            ],
            [
             0.6666666666666666,
             "#ed7953"
            ],
            [
             0.7777777777777778,
             "#fb9f3a"
            ],
            [
             0.8888888888888888,
             "#fdca26"
            ],
            [
             1,
             "#f0f921"
            ]
           ],
           "sequentialminus": [
            [
             0,
             "#0d0887"
            ],
            [
             0.1111111111111111,
             "#46039f"
            ],
            [
             0.2222222222222222,
             "#7201a8"
            ],
            [
             0.3333333333333333,
             "#9c179e"
            ],
            [
             0.4444444444444444,
             "#bd3786"
            ],
            [
             0.5555555555555556,
             "#d8576b"
            ],
            [
             0.6666666666666666,
             "#ed7953"
            ],
            [
             0.7777777777777778,
             "#fb9f3a"
            ],
            [
             0.8888888888888888,
             "#fdca26"
            ],
            [
             1,
             "#f0f921"
            ]
           ]
          },
          "colorway": [
           "#636efa",
           "#EF553B",
           "#00cc96",
           "#ab63fa",
           "#FFA15A",
           "#19d3f3",
           "#FF6692",
           "#B6E880",
           "#FF97FF",
           "#FECB52"
          ],
          "font": {
           "color": "#2a3f5f"
          },
          "geo": {
           "bgcolor": "white",
           "lakecolor": "white",
           "landcolor": "#E5ECF6",
           "showlakes": true,
           "showland": true,
           "subunitcolor": "white"
          },
          "hoverlabel": {
           "align": "left"
          },
          "hovermode": "closest",
          "mapbox": {
           "style": "light"
          },
          "paper_bgcolor": "white",
          "plot_bgcolor": "#E5ECF6",
          "polar": {
           "angularaxis": {
            "gridcolor": "white",
            "linecolor": "white",
            "ticks": ""
           },
           "bgcolor": "#E5ECF6",
           "radialaxis": {
            "gridcolor": "white",
            "linecolor": "white",
            "ticks": ""
           }
          },
          "scene": {
           "xaxis": {
            "backgroundcolor": "#E5ECF6",
            "gridcolor": "white",
            "gridwidth": 2,
            "linecolor": "white",
            "showbackground": true,
            "ticks": "",
            "zerolinecolor": "white"
           },
           "yaxis": {
            "backgroundcolor": "#E5ECF6",
            "gridcolor": "white",
            "gridwidth": 2,
            "linecolor": "white",
            "showbackground": true,
            "ticks": "",
            "zerolinecolor": "white"
           },
           "zaxis": {
            "backgroundcolor": "#E5ECF6",
            "gridcolor": "white",
            "gridwidth": 2,
            "linecolor": "white",
            "showbackground": true,
            "ticks": "",
            "zerolinecolor": "white"
           }
          },
          "shapedefaults": {
           "line": {
            "color": "#2a3f5f"
           }
          },
          "ternary": {
           "aaxis": {
            "gridcolor": "white",
            "linecolor": "white",
            "ticks": ""
           },
           "baxis": {
            "gridcolor": "white",
            "linecolor": "white",
            "ticks": ""
           },
           "bgcolor": "#E5ECF6",
           "caxis": {
            "gridcolor": "white",
            "linecolor": "white",
            "ticks": ""
           }
          },
          "title": {
           "x": 0.05
          },
          "xaxis": {
           "automargin": true,
           "gridcolor": "white",
           "linecolor": "white",
           "ticks": "",
           "title": {
            "standoff": 15
           },
           "zerolinecolor": "white",
           "zerolinewidth": 2
          },
          "yaxis": {
           "automargin": true,
           "gridcolor": "white",
           "linecolor": "white",
           "ticks": "",
           "title": {
            "standoff": 15
           },
           "zerolinecolor": "white",
           "zerolinewidth": 2
          }
         }
        },
        "title": {
         "text": "Price - Without Outliers"
        },
        "xaxis": {
         "anchor": "y",
         "domain": [
          0,
          1
         ],
         "title": {
          "text": "value"
         }
        },
        "xaxis2": {
         "anchor": "y2",
         "domain": [
          0,
          1
         ],
         "matches": "x",
         "showgrid": true,
         "showticklabels": false
        },
        "yaxis": {
         "anchor": "x",
         "domain": [
          0,
          0.7326
         ],
         "title": {
          "text": "count"
         }
        },
        "yaxis2": {
         "anchor": "x2",
         "domain": [
          0.7426,
          1
         ],
         "matches": "y2",
         "showgrid": false,
         "showline": false,
         "showticklabels": false,
         "ticks": ""
        }
       }
      }
     },
     "metadata": {},
     "output_type": "display_data"
    }
   ],
   "source": [
    "profile_serie(df_retail['Price']) "
   ]
  },
  {
   "cell_type": "markdown",
   "metadata": {
    "cell_id": "00021-d9508a4a-ab9e-470f-b20e-2f3b1a095d99",
    "deepnote_cell_height": 69.83332824707031,
    "deepnote_cell_type": "markdown",
    "tags": []
   },
   "source": [
    "Con respecto a la primera serie, tras observar los resultados obtenidos en la tabla *Price Profile* se obtuvo un valor mínimo de -53594.36, lo cual carece de sentido para esta variable debido a que no existen precios de venta negativos. Producto de esto, muchos de los estadísticos presentes en la tabla presentarán datos distorsionados y poco precisos con respecto al comportamiento real de la variable. Adicionalmente, se aprecia un valor absoluto del skew bastante alto, debido a la presencia de outliers. Esto última se nota particularmente al observar que el valor máximo corresponde a 25111.09, pero el 75% de los datos es menor o igual a 4.21.\n",
    "\n",
    "Por otro lado, al analizar los gráficos se puede observar que al remover los outliers, los datos restantes se vuelven más representativos y el rango de datos se vuelve más acotado, por lo que se puede observar una mejor visualización de la distribución de los datos en el histograma.\n"
   ]
  },
  {
   "cell_type": "code",
   "execution_count": 8,
   "metadata": {
    "cell_id": "00022-d0bb6e4c-430f-42e3-9f3f-bd372817d286",
    "deepnote_cell_height": 65.03334045410156,
    "deepnote_cell_type": "code",
    "tags": []
   },
   "outputs": [
    {
     "data": {
      "text/markdown": [
       "## Quantity Profile"
      ],
      "text/plain": [
       "<IPython.core.display.Markdown object>"
      ]
     },
     "metadata": {},
     "output_type": "display_data"
    },
    {
     "data": {
      "text/plain": [
       "Type                              int64\n",
       "Number of observations         525461.0\n",
       "Mean                          10.337667\n",
       "Std                           107.42411\n",
       "Min                             -9600.0\n",
       "25%                                 1.0\n",
       "50%                                 3.0\n",
       "75%                                10.0\n",
       "Max                             19152.0\n",
       "Negative                          12326\n",
       "Negative (%)                     2.35 %\n",
       "Zeros                                 0\n",
       "Zeros (%)                         0.0 %\n",
       "Kurt                        6277.666908\n",
       "Skew                          36.044617\n",
       "                                       \n",
       "Missing cells                         0\n",
       "Missing cells (%)                 0.0 %\n",
       "Duplicate rows                   525122\n",
       "Duplicate rows (%)              99.94 %\n",
       "Total size in memory      4203816 bytes\n",
       "dtype: object"
      ]
     },
     "metadata": {},
     "output_type": "display_data"
    },
    {
     "data": {
      "application/vnd.plotly.v1+json": {
       "config": {
        "plotlyServerURL": "https://plot.ly"
       },
       "data": [
        {
         "alignmentgroup": "True",
         "bingroup": "x",
         "hovertemplate": "variable=Quantity<br>value=%{x}<br>count=%{y}<extra></extra>",
         "legendgroup": "Quantity",
         "marker": {
          "color": "#636efa",
          "pattern": {
           "shape": ""
          }
         },
         "name": "Quantity",
         "offsetgroup": "Quantity",
         "orientation": "v",
         "showlegend": true,
         "type": "histogram",
         "x": [
          6,
          3,
          48,
          12,
          12,
          -96,
          1,
          6,
          12,
          16,
          1,
          1,
          96,
          12,
          6,
          1,
          16,
          1,
          12,
          6,
          8,
          1,
          3,
          3,
          2,
          1,
          2,
          25,
          100,
          1,
          7,
          12,
          1,
          25,
          100,
          6,
          1,
          5,
          30,
          1,
          12,
          1,
          -13,
          1,
          24,
          3,
          6,
          10,
          1,
          12,
          2,
          2,
          12,
          2,
          1,
          4,
          1,
          1,
          3,
          1,
          1,
          3,
          2,
          2,
          2,
          3,
          1,
          10,
          1,
          24,
          24,
          4,
          1,
          10,
          3,
          3,
          1,
          3,
          12,
          1,
          1,
          24,
          2,
          24,
          12,
          2,
          36,
          1,
          24,
          1,
          2,
          8,
          200,
          32,
          36,
          2,
          12,
          3,
          9,
          6,
          1,
          10,
          10,
          25,
          12,
          8,
          -2,
          1,
          567,
          6,
          2,
          2,
          1,
          18,
          6,
          1,
          -12,
          6,
          1,
          1,
          12,
          6,
          3,
          2,
          2,
          1,
          1,
          16,
          25,
          12,
          20,
          20,
          6,
          2,
          26,
          10,
          5,
          1,
          12,
          3,
          160,
          3,
          1,
          12,
          2,
          2,
          2,
          75,
          2,
          6,
          3,
          40,
          2,
          1,
          8,
          1,
          2,
          2,
          2,
          1,
          3,
          2,
          12,
          3,
          12,
          12,
          -1,
          2,
          384,
          1,
          1,
          1,
          3,
          9,
          6,
          120,
          3,
          12,
          48,
          8,
          5,
          3,
          6,
          1,
          1,
          12,
          2,
          3,
          10,
          1,
          12,
          10,
          4,
          12,
          1,
          12,
          1,
          300,
          -26,
          48,
          2,
          1,
          2,
          1,
          24,
          2,
          24,
          50,
          1,
          12,
          1,
          7,
          36,
          6,
          10,
          10,
          2,
          1,
          6,
          1,
          12,
          2,
          24,
          8,
          6,
          1,
          1,
          2,
          2,
          12,
          6,
          12,
          6,
          2,
          16,
          2,
          1,
          1,
          2,
          2,
          1,
          2,
          10,
          1,
          2,
          6,
          1,
          20,
          4,
          3,
          6,
          1,
          -6,
          6,
          8,
          12,
          3,
          1,
          1,
          8,
          1,
          2,
          12,
          3,
          2,
          1,
          6,
          6,
          2,
          1,
          1,
          1,
          4,
          12,
          3,
          2,
          1,
          2,
          6,
          4,
          1,
          5,
          -1,
          2,
          1,
          2,
          12,
          36,
          1,
          24,
          2,
          6,
          4,
          4,
          1,
          6,
          4,
          12,
          12,
          28,
          12,
          200,
          6,
          48,
          2,
          1,
          -2,
          1,
          6,
          2,
          1,
          1,
          1,
          2,
          -160,
          -1,
          2,
          24,
          12,
          1,
          2,
          1,
          4,
          1,
          10,
          1,
          3,
          1,
          14,
          12,
          1,
          1,
          1,
          2,
          1,
          1,
          24,
          192,
          1,
          3,
          72,
          3,
          2,
          1,
          25,
          1,
          2,
          2,
          12,
          4,
          6,
          9,
          6,
          1,
          1,
          8,
          6,
          2,
          4,
          3,
          4,
          1,
          2,
          1,
          8,
          1,
          5,
          12,
          2,
          2,
          1,
          12,
          10,
          48,
          10,
          12,
          6,
          6,
          2,
          1,
          4,
          12,
          1,
          1,
          1,
          6,
          1,
          3,
          72,
          90,
          7,
          6,
          2,
          4,
          18,
          2,
          1,
          1,
          4,
          1,
          10,
          6,
          1,
          2,
          6,
          1,
          16,
          2,
          10,
          25,
          1,
          1,
          4,
          25,
          1,
          1,
          6,
          2,
          1,
          2,
          12,
          1,
          2,
          12,
          6,
          2,
          2,
          -3,
          192,
          10,
          4,
          3,
          2,
          1,
          1,
          2,
          12,
          -4,
          24,
          1,
          1,
          4,
          3,
          1,
          10,
          2,
          1,
          12,
          6,
          72,
          2,
          6,
          24,
          1,
          1,
          10,
          1,
          4,
          6,
          1,
          3,
          96,
          96,
          4,
          1,
          -1,
          12,
          1,
          2,
          1,
          2,
          24,
          12,
          12,
          144,
          12,
          12,
          12,
          -12,
          14,
          2,
          1,
          2,
          3,
          2,
          1,
          24,
          1,
          1,
          5,
          12,
          1,
          2,
          1,
          12,
          12,
          1,
          4,
          1,
          1,
          2,
          12,
          1,
          1,
          2,
          96,
          1,
          36,
          10,
          12,
          2,
          36,
          48,
          3,
          1,
          36,
          1,
          5,
          24,
          3,
          1,
          12,
          1,
          1,
          12,
          1,
          4,
          1,
          1,
          12,
          12,
          1,
          1,
          1,
          72,
          2,
          1,
          24,
          6,
          1,
          3,
          12,
          2,
          6,
          4,
          2,
          2,
          24,
          6,
          2,
          24,
          1,
          3,
          -2,
          2,
          48,
          3,
          4,
          12,
          6,
          4,
          8,
          12,
          3,
          2,
          1,
          2,
          12,
          2,
          1,
          12,
          1,
          2,
          2,
          4,
          2,
          12,
          1,
          5,
          24,
          2,
          12,
          1,
          100,
          1,
          24,
          6,
          7,
          6,
          1,
          1,
          5,
          8,
          1,
          96,
          12,
          4,
          40,
          1,
          8,
          24,
          8,
          2,
          16,
          12,
          2,
          16,
          1,
          12,
          1,
          1,
          1,
          1,
          24,
          12,
          6,
          3,
          1,
          48,
          12,
          60,
          1,
          72,
          5,
          6,
          2,
          2,
          12,
          3,
          6,
          2,
          3,
          4,
          1,
          1,
          24,
          48,
          24,
          12,
          1,
          1,
          3,
          24,
          12,
          12,
          2,
          1,
          4,
          10,
          12,
          6,
          2,
          -1,
          10,
          8,
          3,
          12,
          16,
          1,
          4,
          1,
          1,
          4,
          1,
          2,
          12,
          12,
          7,
          25,
          6,
          2,
          10,
          1,
          6,
          6,
          12,
          1,
          96,
          4,
          3,
          4,
          16,
          2,
          1,
          1,
          2,
          1,
          48,
          42,
          2,
          12,
          24,
          3,
          1,
          3,
          -1,
          2,
          2,
          1,
          10,
          1,
          1,
          1,
          1,
          1,
          6,
          1,
          4,
          12,
          2,
          20,
          1,
          6,
          25,
          80,
          3,
          1,
          1,
          3,
          1,
          8,
          1,
          1,
          12,
          64,
          1,
          10,
          1,
          2,
          12,
          1,
          5,
          24,
          12,
          2,
          4,
          2,
          12,
          12,
          24,
          3,
          144,
          1,
          7,
          -1,
          72,
          1,
          6,
          1,
          3,
          4,
          12,
          18,
          2,
          24,
          6,
          1,
          6,
          1,
          8,
          48,
          3,
          2,
          6,
          48,
          6,
          1,
          6,
          12,
          12,
          1,
          2,
          12,
          6,
          1,
          12,
          1,
          2,
          12,
          1,
          2,
          6,
          6,
          20,
          144,
          20,
          1,
          1,
          1,
          3,
          1,
          4,
          2,
          12,
          24,
          6,
          1,
          1,
          3,
          12,
          6,
          2,
          1,
          4,
          12,
          4,
          10,
          12,
          24,
          4,
          25,
          1,
          2,
          8,
          1,
          3,
          1,
          1,
          1,
          3,
          4,
          3,
          1,
          1,
          120,
          10,
          4,
          5,
          12,
          1,
          1,
          3,
          2,
          1,
          30,
          1,
          1,
          1,
          8,
          1,
          32,
          1,
          1,
          1,
          12,
          1,
          12,
          3,
          2,
          1,
          2,
          1,
          96,
          -10,
          6,
          8,
          6,
          2,
          2,
          24,
          1,
          2,
          6,
          48,
          25,
          8,
          2,
          10,
          7,
          5,
          1,
          24,
          4,
          12,
          5,
          3,
          3,
          4,
          16,
          12,
          8,
          10,
          12,
          1,
          3,
          3,
          6,
          1,
          1,
          25,
          5,
          2,
          2,
          5,
          6,
          1,
          20,
          4,
          1,
          2,
          2,
          1,
          8,
          1,
          3,
          1,
          24,
          6,
          6,
          2,
          2,
          1,
          4,
          2,
          3,
          12,
          12,
          4,
          12,
          2,
          2,
          1,
          1,
          4,
          100,
          2,
          72,
          12,
          6,
          2,
          24,
          1,
          5,
          1,
          6,
          16,
          288,
          1,
          2,
          24,
          6,
          2,
          -1,
          1,
          6,
          20,
          2,
          4,
          3,
          1,
          24,
          2,
          3,
          6,
          12,
          6,
          100,
          1,
          10,
          1,
          2,
          6,
          1,
          1,
          3,
          10,
          6,
          4,
          2,
          2,
          2,
          12,
          30,
          1,
          12,
          10,
          2,
          12,
          1,
          8,
          48,
          2,
          4,
          1,
          6,
          1,
          6,
          1,
          4,
          12,
          2,
          3,
          1,
          1,
          4,
          5,
          1,
          1,
          8,
          1
         ],
         "xaxis": "x",
         "yaxis": "y"
        },
        {
         "alignmentgroup": "True",
         "hovertemplate": "variable=Quantity<br>value=%{x}<extra></extra>",
         "legendgroup": "Quantity",
         "marker": {
          "color": "#636efa"
         },
         "name": "Quantity",
         "notched": true,
         "offsetgroup": "Quantity",
         "showlegend": false,
         "type": "box",
         "x": [
          6,
          3,
          48,
          12,
          12,
          -96,
          1,
          6,
          12,
          16,
          1,
          1,
          96,
          12,
          6,
          1,
          16,
          1,
          12,
          6,
          8,
          1,
          3,
          3,
          2,
          1,
          2,
          25,
          100,
          1,
          7,
          12,
          1,
          25,
          100,
          6,
          1,
          5,
          30,
          1,
          12,
          1,
          -13,
          1,
          24,
          3,
          6,
          10,
          1,
          12,
          2,
          2,
          12,
          2,
          1,
          4,
          1,
          1,
          3,
          1,
          1,
          3,
          2,
          2,
          2,
          3,
          1,
          10,
          1,
          24,
          24,
          4,
          1,
          10,
          3,
          3,
          1,
          3,
          12,
          1,
          1,
          24,
          2,
          24,
          12,
          2,
          36,
          1,
          24,
          1,
          2,
          8,
          200,
          32,
          36,
          2,
          12,
          3,
          9,
          6,
          1,
          10,
          10,
          25,
          12,
          8,
          -2,
          1,
          567,
          6,
          2,
          2,
          1,
          18,
          6,
          1,
          -12,
          6,
          1,
          1,
          12,
          6,
          3,
          2,
          2,
          1,
          1,
          16,
          25,
          12,
          20,
          20,
          6,
          2,
          26,
          10,
          5,
          1,
          12,
          3,
          160,
          3,
          1,
          12,
          2,
          2,
          2,
          75,
          2,
          6,
          3,
          40,
          2,
          1,
          8,
          1,
          2,
          2,
          2,
          1,
          3,
          2,
          12,
          3,
          12,
          12,
          -1,
          2,
          384,
          1,
          1,
          1,
          3,
          9,
          6,
          120,
          3,
          12,
          48,
          8,
          5,
          3,
          6,
          1,
          1,
          12,
          2,
          3,
          10,
          1,
          12,
          10,
          4,
          12,
          1,
          12,
          1,
          300,
          -26,
          48,
          2,
          1,
          2,
          1,
          24,
          2,
          24,
          50,
          1,
          12,
          1,
          7,
          36,
          6,
          10,
          10,
          2,
          1,
          6,
          1,
          12,
          2,
          24,
          8,
          6,
          1,
          1,
          2,
          2,
          12,
          6,
          12,
          6,
          2,
          16,
          2,
          1,
          1,
          2,
          2,
          1,
          2,
          10,
          1,
          2,
          6,
          1,
          20,
          4,
          3,
          6,
          1,
          -6,
          6,
          8,
          12,
          3,
          1,
          1,
          8,
          1,
          2,
          12,
          3,
          2,
          1,
          6,
          6,
          2,
          1,
          1,
          1,
          4,
          12,
          3,
          2,
          1,
          2,
          6,
          4,
          1,
          5,
          -1,
          2,
          1,
          2,
          12,
          36,
          1,
          24,
          2,
          6,
          4,
          4,
          1,
          6,
          4,
          12,
          12,
          28,
          12,
          200,
          6,
          48,
          2,
          1,
          -2,
          1,
          6,
          2,
          1,
          1,
          1,
          2,
          -160,
          -1,
          2,
          24,
          12,
          1,
          2,
          1,
          4,
          1,
          10,
          1,
          3,
          1,
          14,
          12,
          1,
          1,
          1,
          2,
          1,
          1,
          24,
          192,
          1,
          3,
          72,
          3,
          2,
          1,
          25,
          1,
          2,
          2,
          12,
          4,
          6,
          9,
          6,
          1,
          1,
          8,
          6,
          2,
          4,
          3,
          4,
          1,
          2,
          1,
          8,
          1,
          5,
          12,
          2,
          2,
          1,
          12,
          10,
          48,
          10,
          12,
          6,
          6,
          2,
          1,
          4,
          12,
          1,
          1,
          1,
          6,
          1,
          3,
          72,
          90,
          7,
          6,
          2,
          4,
          18,
          2,
          1,
          1,
          4,
          1,
          10,
          6,
          1,
          2,
          6,
          1,
          16,
          2,
          10,
          25,
          1,
          1,
          4,
          25,
          1,
          1,
          6,
          2,
          1,
          2,
          12,
          1,
          2,
          12,
          6,
          2,
          2,
          -3,
          192,
          10,
          4,
          3,
          2,
          1,
          1,
          2,
          12,
          -4,
          24,
          1,
          1,
          4,
          3,
          1,
          10,
          2,
          1,
          12,
          6,
          72,
          2,
          6,
          24,
          1,
          1,
          10,
          1,
          4,
          6,
          1,
          3,
          96,
          96,
          4,
          1,
          -1,
          12,
          1,
          2,
          1,
          2,
          24,
          12,
          12,
          144,
          12,
          12,
          12,
          -12,
          14,
          2,
          1,
          2,
          3,
          2,
          1,
          24,
          1,
          1,
          5,
          12,
          1,
          2,
          1,
          12,
          12,
          1,
          4,
          1,
          1,
          2,
          12,
          1,
          1,
          2,
          96,
          1,
          36,
          10,
          12,
          2,
          36,
          48,
          3,
          1,
          36,
          1,
          5,
          24,
          3,
          1,
          12,
          1,
          1,
          12,
          1,
          4,
          1,
          1,
          12,
          12,
          1,
          1,
          1,
          72,
          2,
          1,
          24,
          6,
          1,
          3,
          12,
          2,
          6,
          4,
          2,
          2,
          24,
          6,
          2,
          24,
          1,
          3,
          -2,
          2,
          48,
          3,
          4,
          12,
          6,
          4,
          8,
          12,
          3,
          2,
          1,
          2,
          12,
          2,
          1,
          12,
          1,
          2,
          2,
          4,
          2,
          12,
          1,
          5,
          24,
          2,
          12,
          1,
          100,
          1,
          24,
          6,
          7,
          6,
          1,
          1,
          5,
          8,
          1,
          96,
          12,
          4,
          40,
          1,
          8,
          24,
          8,
          2,
          16,
          12,
          2,
          16,
          1,
          12,
          1,
          1,
          1,
          1,
          24,
          12,
          6,
          3,
          1,
          48,
          12,
          60,
          1,
          72,
          5,
          6,
          2,
          2,
          12,
          3,
          6,
          2,
          3,
          4,
          1,
          1,
          24,
          48,
          24,
          12,
          1,
          1,
          3,
          24,
          12,
          12,
          2,
          1,
          4,
          10,
          12,
          6,
          2,
          -1,
          10,
          8,
          3,
          12,
          16,
          1,
          4,
          1,
          1,
          4,
          1,
          2,
          12,
          12,
          7,
          25,
          6,
          2,
          10,
          1,
          6,
          6,
          12,
          1,
          96,
          4,
          3,
          4,
          16,
          2,
          1,
          1,
          2,
          1,
          48,
          42,
          2,
          12,
          24,
          3,
          1,
          3,
          -1,
          2,
          2,
          1,
          10,
          1,
          1,
          1,
          1,
          1,
          6,
          1,
          4,
          12,
          2,
          20,
          1,
          6,
          25,
          80,
          3,
          1,
          1,
          3,
          1,
          8,
          1,
          1,
          12,
          64,
          1,
          10,
          1,
          2,
          12,
          1,
          5,
          24,
          12,
          2,
          4,
          2,
          12,
          12,
          24,
          3,
          144,
          1,
          7,
          -1,
          72,
          1,
          6,
          1,
          3,
          4,
          12,
          18,
          2,
          24,
          6,
          1,
          6,
          1,
          8,
          48,
          3,
          2,
          6,
          48,
          6,
          1,
          6,
          12,
          12,
          1,
          2,
          12,
          6,
          1,
          12,
          1,
          2,
          12,
          1,
          2,
          6,
          6,
          20,
          144,
          20,
          1,
          1,
          1,
          3,
          1,
          4,
          2,
          12,
          24,
          6,
          1,
          1,
          3,
          12,
          6,
          2,
          1,
          4,
          12,
          4,
          10,
          12,
          24,
          4,
          25,
          1,
          2,
          8,
          1,
          3,
          1,
          1,
          1,
          3,
          4,
          3,
          1,
          1,
          120,
          10,
          4,
          5,
          12,
          1,
          1,
          3,
          2,
          1,
          30,
          1,
          1,
          1,
          8,
          1,
          32,
          1,
          1,
          1,
          12,
          1,
          12,
          3,
          2,
          1,
          2,
          1,
          96,
          -10,
          6,
          8,
          6,
          2,
          2,
          24,
          1,
          2,
          6,
          48,
          25,
          8,
          2,
          10,
          7,
          5,
          1,
          24,
          4,
          12,
          5,
          3,
          3,
          4,
          16,
          12,
          8,
          10,
          12,
          1,
          3,
          3,
          6,
          1,
          1,
          25,
          5,
          2,
          2,
          5,
          6,
          1,
          20,
          4,
          1,
          2,
          2,
          1,
          8,
          1,
          3,
          1,
          24,
          6,
          6,
          2,
          2,
          1,
          4,
          2,
          3,
          12,
          12,
          4,
          12,
          2,
          2,
          1,
          1,
          4,
          100,
          2,
          72,
          12,
          6,
          2,
          24,
          1,
          5,
          1,
          6,
          16,
          288,
          1,
          2,
          24,
          6,
          2,
          -1,
          1,
          6,
          20,
          2,
          4,
          3,
          1,
          24,
          2,
          3,
          6,
          12,
          6,
          100,
          1,
          10,
          1,
          2,
          6,
          1,
          1,
          3,
          10,
          6,
          4,
          2,
          2,
          2,
          12,
          30,
          1,
          12,
          10,
          2,
          12,
          1,
          8,
          48,
          2,
          4,
          1,
          6,
          1,
          6,
          1,
          4,
          12,
          2,
          3,
          1,
          1,
          4,
          5,
          1,
          1,
          8,
          1
         ],
         "xaxis": "x2",
         "yaxis": "y2"
        }
       ],
       "layout": {
        "barmode": "relative",
        "legend": {
         "title": {
          "text": "variable"
         },
         "tracegroupgap": 0
        },
        "template": {
         "data": {
          "bar": [
           {
            "error_x": {
             "color": "#2a3f5f"
            },
            "error_y": {
             "color": "#2a3f5f"
            },
            "marker": {
             "line": {
              "color": "#E5ECF6",
              "width": 0.5
             },
             "pattern": {
              "fillmode": "overlay",
              "size": 10,
              "solidity": 0.2
             }
            },
            "type": "bar"
           }
          ],
          "barpolar": [
           {
            "marker": {
             "line": {
              "color": "#E5ECF6",
              "width": 0.5
             },
             "pattern": {
              "fillmode": "overlay",
              "size": 10,
              "solidity": 0.2
             }
            },
            "type": "barpolar"
           }
          ],
          "carpet": [
           {
            "aaxis": {
             "endlinecolor": "#2a3f5f",
             "gridcolor": "white",
             "linecolor": "white",
             "minorgridcolor": "white",
             "startlinecolor": "#2a3f5f"
            },
            "baxis": {
             "endlinecolor": "#2a3f5f",
             "gridcolor": "white",
             "linecolor": "white",
             "minorgridcolor": "white",
             "startlinecolor": "#2a3f5f"
            },
            "type": "carpet"
           }
          ],
          "choropleth": [
           {
            "colorbar": {
             "outlinewidth": 0,
             "ticks": ""
            },
            "type": "choropleth"
           }
          ],
          "contour": [
           {
            "colorbar": {
             "outlinewidth": 0,
             "ticks": ""
            },
            "colorscale": [
             [
              0,
              "#0d0887"
             ],
             [
              0.1111111111111111,
              "#46039f"
             ],
             [
              0.2222222222222222,
              "#7201a8"
             ],
             [
              0.3333333333333333,
              "#9c179e"
             ],
             [
              0.4444444444444444,
              "#bd3786"
             ],
             [
              0.5555555555555556,
              "#d8576b"
             ],
             [
              0.6666666666666666,
              "#ed7953"
             ],
             [
              0.7777777777777778,
              "#fb9f3a"
             ],
             [
              0.8888888888888888,
              "#fdca26"
             ],
             [
              1,
              "#f0f921"
             ]
            ],
            "type": "contour"
           }
          ],
          "contourcarpet": [
           {
            "colorbar": {
             "outlinewidth": 0,
             "ticks": ""
            },
            "type": "contourcarpet"
           }
          ],
          "heatmap": [
           {
            "colorbar": {
             "outlinewidth": 0,
             "ticks": ""
            },
            "colorscale": [
             [
              0,
              "#0d0887"
             ],
             [
              0.1111111111111111,
              "#46039f"
             ],
             [
              0.2222222222222222,
              "#7201a8"
             ],
             [
              0.3333333333333333,
              "#9c179e"
             ],
             [
              0.4444444444444444,
              "#bd3786"
             ],
             [
              0.5555555555555556,
              "#d8576b"
             ],
             [
              0.6666666666666666,
              "#ed7953"
             ],
             [
              0.7777777777777778,
              "#fb9f3a"
             ],
             [
              0.8888888888888888,
              "#fdca26"
             ],
             [
              1,
              "#f0f921"
             ]
            ],
            "type": "heatmap"
           }
          ],
          "heatmapgl": [
           {
            "colorbar": {
             "outlinewidth": 0,
             "ticks": ""
            },
            "colorscale": [
             [
              0,
              "#0d0887"
             ],
             [
              0.1111111111111111,
              "#46039f"
             ],
             [
              0.2222222222222222,
              "#7201a8"
             ],
             [
              0.3333333333333333,
              "#9c179e"
             ],
             [
              0.4444444444444444,
              "#bd3786"
             ],
             [
              0.5555555555555556,
              "#d8576b"
             ],
             [
              0.6666666666666666,
              "#ed7953"
             ],
             [
              0.7777777777777778,
              "#fb9f3a"
             ],
             [
              0.8888888888888888,
              "#fdca26"
             ],
             [
              1,
              "#f0f921"
             ]
            ],
            "type": "heatmapgl"
           }
          ],
          "histogram": [
           {
            "marker": {
             "pattern": {
              "fillmode": "overlay",
              "size": 10,
              "solidity": 0.2
             }
            },
            "type": "histogram"
           }
          ],
          "histogram2d": [
           {
            "colorbar": {
             "outlinewidth": 0,
             "ticks": ""
            },
            "colorscale": [
             [
              0,
              "#0d0887"
             ],
             [
              0.1111111111111111,
              "#46039f"
             ],
             [
              0.2222222222222222,
              "#7201a8"
             ],
             [
              0.3333333333333333,
              "#9c179e"
             ],
             [
              0.4444444444444444,
              "#bd3786"
             ],
             [
              0.5555555555555556,
              "#d8576b"
             ],
             [
              0.6666666666666666,
              "#ed7953"
             ],
             [
              0.7777777777777778,
              "#fb9f3a"
             ],
             [
              0.8888888888888888,
              "#fdca26"
             ],
             [
              1,
              "#f0f921"
             ]
            ],
            "type": "histogram2d"
           }
          ],
          "histogram2dcontour": [
           {
            "colorbar": {
             "outlinewidth": 0,
             "ticks": ""
            },
            "colorscale": [
             [
              0,
              "#0d0887"
             ],
             [
              0.1111111111111111,
              "#46039f"
             ],
             [
              0.2222222222222222,
              "#7201a8"
             ],
             [
              0.3333333333333333,
              "#9c179e"
             ],
             [
              0.4444444444444444,
              "#bd3786"
             ],
             [
              0.5555555555555556,
              "#d8576b"
             ],
             [
              0.6666666666666666,
              "#ed7953"
             ],
             [
              0.7777777777777778,
              "#fb9f3a"
             ],
             [
              0.8888888888888888,
              "#fdca26"
             ],
             [
              1,
              "#f0f921"
             ]
            ],
            "type": "histogram2dcontour"
           }
          ],
          "mesh3d": [
           {
            "colorbar": {
             "outlinewidth": 0,
             "ticks": ""
            },
            "type": "mesh3d"
           }
          ],
          "parcoords": [
           {
            "line": {
             "colorbar": {
              "outlinewidth": 0,
              "ticks": ""
             }
            },
            "type": "parcoords"
           }
          ],
          "pie": [
           {
            "automargin": true,
            "type": "pie"
           }
          ],
          "scatter": [
           {
            "fillpattern": {
             "fillmode": "overlay",
             "size": 10,
             "solidity": 0.2
            },
            "type": "scatter"
           }
          ],
          "scatter3d": [
           {
            "line": {
             "colorbar": {
              "outlinewidth": 0,
              "ticks": ""
             }
            },
            "marker": {
             "colorbar": {
              "outlinewidth": 0,
              "ticks": ""
             }
            },
            "type": "scatter3d"
           }
          ],
          "scattercarpet": [
           {
            "marker": {
             "colorbar": {
              "outlinewidth": 0,
              "ticks": ""
             }
            },
            "type": "scattercarpet"
           }
          ],
          "scattergeo": [
           {
            "marker": {
             "colorbar": {
              "outlinewidth": 0,
              "ticks": ""
             }
            },
            "type": "scattergeo"
           }
          ],
          "scattergl": [
           {
            "marker": {
             "colorbar": {
              "outlinewidth": 0,
              "ticks": ""
             }
            },
            "type": "scattergl"
           }
          ],
          "scattermapbox": [
           {
            "marker": {
             "colorbar": {
              "outlinewidth": 0,
              "ticks": ""
             }
            },
            "type": "scattermapbox"
           }
          ],
          "scatterpolar": [
           {
            "marker": {
             "colorbar": {
              "outlinewidth": 0,
              "ticks": ""
             }
            },
            "type": "scatterpolar"
           }
          ],
          "scatterpolargl": [
           {
            "marker": {
             "colorbar": {
              "outlinewidth": 0,
              "ticks": ""
             }
            },
            "type": "scatterpolargl"
           }
          ],
          "scatterternary": [
           {
            "marker": {
             "colorbar": {
              "outlinewidth": 0,
              "ticks": ""
             }
            },
            "type": "scatterternary"
           }
          ],
          "surface": [
           {
            "colorbar": {
             "outlinewidth": 0,
             "ticks": ""
            },
            "colorscale": [
             [
              0,
              "#0d0887"
             ],
             [
              0.1111111111111111,
              "#46039f"
             ],
             [
              0.2222222222222222,
              "#7201a8"
             ],
             [
              0.3333333333333333,
              "#9c179e"
             ],
             [
              0.4444444444444444,
              "#bd3786"
             ],
             [
              0.5555555555555556,
              "#d8576b"
             ],
             [
              0.6666666666666666,
              "#ed7953"
             ],
             [
              0.7777777777777778,
              "#fb9f3a"
             ],
             [
              0.8888888888888888,
              "#fdca26"
             ],
             [
              1,
              "#f0f921"
             ]
            ],
            "type": "surface"
           }
          ],
          "table": [
           {
            "cells": {
             "fill": {
              "color": "#EBF0F8"
             },
             "line": {
              "color": "white"
             }
            },
            "header": {
             "fill": {
              "color": "#C8D4E3"
             },
             "line": {
              "color": "white"
             }
            },
            "type": "table"
           }
          ]
         },
         "layout": {
          "annotationdefaults": {
           "arrowcolor": "#2a3f5f",
           "arrowhead": 0,
           "arrowwidth": 1
          },
          "autotypenumbers": "strict",
          "coloraxis": {
           "colorbar": {
            "outlinewidth": 0,
            "ticks": ""
           }
          },
          "colorscale": {
           "diverging": [
            [
             0,
             "#8e0152"
            ],
            [
             0.1,
             "#c51b7d"
            ],
            [
             0.2,
             "#de77ae"
            ],
            [
             0.3,
             "#f1b6da"
            ],
            [
             0.4,
             "#fde0ef"
            ],
            [
             0.5,
             "#f7f7f7"
            ],
            [
             0.6,
             "#e6f5d0"
            ],
            [
             0.7,
             "#b8e186"
            ],
            [
             0.8,
             "#7fbc41"
            ],
            [
             0.9,
             "#4d9221"
            ],
            [
             1,
             "#276419"
            ]
           ],
           "sequential": [
            [
             0,
             "#0d0887"
            ],
            [
             0.1111111111111111,
             "#46039f"
            ],
            [
             0.2222222222222222,
             "#7201a8"
            ],
            [
             0.3333333333333333,
             "#9c179e"
            ],
            [
             0.4444444444444444,
             "#bd3786"
            ],
            [
             0.5555555555555556,
             "#d8576b"
            ],
            [
             0.6666666666666666,
             "#ed7953"
            ],
            [
             0.7777777777777778,
             "#fb9f3a"
            ],
            [
             0.8888888888888888,
             "#fdca26"
            ],
            [
             1,
             "#f0f921"
            ]
           ],
           "sequentialminus": [
            [
             0,
             "#0d0887"
            ],
            [
             0.1111111111111111,
             "#46039f"
            ],
            [
             0.2222222222222222,
             "#7201a8"
            ],
            [
             0.3333333333333333,
             "#9c179e"
            ],
            [
             0.4444444444444444,
             "#bd3786"
            ],
            [
             0.5555555555555556,
             "#d8576b"
            ],
            [
             0.6666666666666666,
             "#ed7953"
            ],
            [
             0.7777777777777778,
             "#fb9f3a"
            ],
            [
             0.8888888888888888,
             "#fdca26"
            ],
            [
             1,
             "#f0f921"
            ]
           ]
          },
          "colorway": [
           "#636efa",
           "#EF553B",
           "#00cc96",
           "#ab63fa",
           "#FFA15A",
           "#19d3f3",
           "#FF6692",
           "#B6E880",
           "#FF97FF",
           "#FECB52"
          ],
          "font": {
           "color": "#2a3f5f"
          },
          "geo": {
           "bgcolor": "white",
           "lakecolor": "white",
           "landcolor": "#E5ECF6",
           "showlakes": true,
           "showland": true,
           "subunitcolor": "white"
          },
          "hoverlabel": {
           "align": "left"
          },
          "hovermode": "closest",
          "mapbox": {
           "style": "light"
          },
          "paper_bgcolor": "white",
          "plot_bgcolor": "#E5ECF6",
          "polar": {
           "angularaxis": {
            "gridcolor": "white",
            "linecolor": "white",
            "ticks": ""
           },
           "bgcolor": "#E5ECF6",
           "radialaxis": {
            "gridcolor": "white",
            "linecolor": "white",
            "ticks": ""
           }
          },
          "scene": {
           "xaxis": {
            "backgroundcolor": "#E5ECF6",
            "gridcolor": "white",
            "gridwidth": 2,
            "linecolor": "white",
            "showbackground": true,
            "ticks": "",
            "zerolinecolor": "white"
           },
           "yaxis": {
            "backgroundcolor": "#E5ECF6",
            "gridcolor": "white",
            "gridwidth": 2,
            "linecolor": "white",
            "showbackground": true,
            "ticks": "",
            "zerolinecolor": "white"
           },
           "zaxis": {
            "backgroundcolor": "#E5ECF6",
            "gridcolor": "white",
            "gridwidth": 2,
            "linecolor": "white",
            "showbackground": true,
            "ticks": "",
            "zerolinecolor": "white"
           }
          },
          "shapedefaults": {
           "line": {
            "color": "#2a3f5f"
           }
          },
          "ternary": {
           "aaxis": {
            "gridcolor": "white",
            "linecolor": "white",
            "ticks": ""
           },
           "baxis": {
            "gridcolor": "white",
            "linecolor": "white",
            "ticks": ""
           },
           "bgcolor": "#E5ECF6",
           "caxis": {
            "gridcolor": "white",
            "linecolor": "white",
            "ticks": ""
           }
          },
          "title": {
           "x": 0.05
          },
          "xaxis": {
           "automargin": true,
           "gridcolor": "white",
           "linecolor": "white",
           "ticks": "",
           "title": {
            "standoff": 15
           },
           "zerolinecolor": "white",
           "zerolinewidth": 2
          },
          "yaxis": {
           "automargin": true,
           "gridcolor": "white",
           "linecolor": "white",
           "ticks": "",
           "title": {
            "standoff": 15
           },
           "zerolinecolor": "white",
           "zerolinewidth": 2
          }
         }
        },
        "title": {
         "text": "Quantity - With Outliers"
        },
        "xaxis": {
         "anchor": "y",
         "domain": [
          0,
          1
         ],
         "title": {
          "text": "value"
         }
        },
        "xaxis2": {
         "anchor": "y2",
         "domain": [
          0,
          1
         ],
         "matches": "x",
         "showgrid": true,
         "showticklabels": false
        },
        "yaxis": {
         "anchor": "x",
         "domain": [
          0,
          0.7326
         ],
         "title": {
          "text": "count"
         }
        },
        "yaxis2": {
         "anchor": "x2",
         "domain": [
          0.7426,
          1
         ],
         "matches": "y2",
         "showgrid": false,
         "showline": false,
         "showticklabels": false,
         "ticks": ""
        }
       }
      }
     },
     "metadata": {},
     "output_type": "display_data"
    },
    {
     "data": {
      "application/vnd.plotly.v1+json": {
       "config": {
        "plotlyServerURL": "https://plot.ly"
       },
       "data": [
        {
         "alignmentgroup": "True",
         "bingroup": "x",
         "hovertemplate": "variable=Quantity<br>value=%{x}<br>count=%{y}<extra></extra>",
         "legendgroup": "Quantity",
         "marker": {
          "color": "#636efa",
          "pattern": {
           "shape": ""
          }
         },
         "name": "Quantity",
         "offsetgroup": "Quantity",
         "orientation": "v",
         "showlegend": true,
         "type": "histogram",
         "x": [
          6,
          3,
          48,
          12,
          12,
          1,
          6,
          12,
          16,
          1,
          1,
          96,
          12,
          6,
          1,
          16,
          1,
          12,
          6,
          8,
          1,
          3,
          3,
          2,
          1,
          2,
          25,
          100,
          1,
          7,
          12,
          1,
          25,
          100,
          6,
          1,
          5,
          30,
          1,
          12,
          1,
          -13,
          1,
          24,
          3,
          6,
          10,
          1,
          12,
          2,
          2,
          12,
          2,
          1,
          4,
          1,
          1,
          3,
          1,
          1,
          3,
          2,
          2,
          2,
          3,
          1,
          10,
          1,
          24,
          24,
          4,
          1,
          10,
          3,
          3,
          1,
          3,
          12,
          1,
          1,
          24,
          2,
          24,
          12,
          2,
          36,
          1,
          24,
          1,
          2,
          8,
          32,
          36,
          2,
          12,
          3,
          9,
          6,
          1,
          10,
          10,
          25,
          12,
          8,
          -2,
          1,
          6,
          2,
          2,
          1,
          18,
          6,
          1,
          -12,
          6,
          1,
          1,
          12,
          6,
          3,
          2,
          2,
          1,
          1,
          16,
          25,
          12,
          20,
          20,
          6,
          2,
          26,
          10,
          5,
          1,
          12,
          3,
          3,
          1,
          12,
          2,
          2,
          2,
          75,
          2,
          6,
          3,
          40,
          2,
          1,
          8,
          1,
          2,
          2,
          2,
          1,
          3,
          2,
          12,
          3,
          12,
          12,
          -1,
          2,
          1,
          1,
          1,
          3,
          9,
          6,
          3,
          12,
          48,
          8,
          5,
          3,
          6,
          1,
          1,
          12,
          2,
          3,
          10,
          1,
          12,
          10,
          4,
          12,
          1,
          12,
          1,
          -26,
          48,
          2,
          1,
          2,
          1,
          24,
          2,
          24,
          50,
          1,
          12,
          1,
          7,
          36,
          6,
          10,
          10,
          2,
          1,
          6,
          1,
          12,
          2,
          24,
          8,
          6,
          1,
          1,
          2,
          2,
          12,
          6,
          12,
          6,
          2,
          16,
          2,
          1,
          1,
          2,
          2,
          1,
          2,
          10,
          1,
          2,
          6,
          1,
          20,
          4,
          3,
          6,
          1,
          -6,
          6,
          8,
          12,
          3,
          1,
          1,
          8,
          1,
          2,
          12,
          3,
          2,
          1,
          6,
          6,
          2,
          1,
          1,
          1,
          4,
          12,
          3,
          2,
          1,
          2,
          6,
          4,
          1,
          5,
          -1,
          2,
          1,
          2,
          12,
          36,
          1,
          24,
          2,
          6,
          4,
          4,
          1,
          6,
          4,
          12,
          12,
          28,
          12,
          6,
          48,
          2,
          1,
          -2,
          1,
          6,
          2,
          1,
          1,
          1,
          2,
          -1,
          2,
          24,
          12,
          1,
          2,
          1,
          4,
          1,
          10,
          1,
          3,
          1,
          14,
          12,
          1,
          1,
          1,
          2,
          1,
          1,
          24,
          1,
          3,
          72,
          3,
          2,
          1,
          25,
          1,
          2,
          2,
          12,
          4,
          6,
          9,
          6,
          1,
          1,
          8,
          6,
          2,
          4,
          3,
          4,
          1,
          2,
          1,
          8,
          1,
          5,
          12,
          2,
          2,
          1,
          12,
          10,
          48,
          10,
          12,
          6,
          6,
          2,
          1,
          4,
          12,
          1,
          1,
          1,
          6,
          1,
          3,
          72,
          90,
          7,
          6,
          2,
          4,
          18,
          2,
          1,
          1,
          4,
          1,
          10,
          6,
          1,
          2,
          6,
          1,
          16,
          2,
          10,
          25,
          1,
          1,
          4,
          25,
          1,
          1,
          6,
          2,
          1,
          2,
          12,
          1,
          2,
          12,
          6,
          2,
          2,
          -3,
          10,
          4,
          3,
          2,
          1,
          1,
          2,
          12,
          -4,
          24,
          1,
          1,
          4,
          3,
          1,
          10,
          2,
          1,
          12,
          6,
          72,
          2,
          6,
          24,
          1,
          1,
          10,
          1,
          4,
          6,
          1,
          3,
          96,
          96,
          4,
          1,
          -1,
          12,
          1,
          2,
          1,
          2,
          24,
          12,
          12,
          12,
          12,
          12,
          -12,
          14,
          2,
          1,
          2,
          3,
          2,
          1,
          24,
          1,
          1,
          5,
          12,
          1,
          2,
          1,
          12,
          12,
          1,
          4,
          1,
          1,
          2,
          12,
          1,
          1,
          2,
          96,
          1,
          36,
          10,
          12,
          2,
          36,
          48,
          3,
          1,
          36,
          1,
          5,
          24,
          3,
          1,
          12,
          1,
          1,
          12,
          1,
          4,
          1,
          1,
          12,
          12,
          1,
          1,
          1,
          72,
          2,
          1,
          24,
          6,
          1,
          3,
          12,
          2,
          6,
          4,
          2,
          2,
          24,
          6,
          2,
          24,
          1,
          3,
          -2,
          2,
          48,
          3,
          4,
          12,
          6,
          4,
          8,
          12,
          3,
          2,
          1,
          2,
          12,
          2,
          1,
          12,
          1,
          2,
          2,
          4,
          2,
          12,
          1,
          5,
          24,
          2,
          12,
          1,
          100,
          1,
          24,
          6,
          7,
          6,
          1,
          1,
          5,
          8,
          1,
          96,
          12,
          4,
          40,
          1,
          8,
          24,
          8,
          2,
          16,
          12,
          2,
          16,
          1,
          12,
          1,
          1,
          1,
          1,
          24,
          12,
          6,
          3,
          1,
          48,
          12,
          60,
          1,
          72,
          5,
          6,
          2,
          2,
          12,
          3,
          6,
          2,
          3,
          4,
          1,
          1,
          24,
          48,
          24,
          12,
          1,
          1,
          3,
          24,
          12,
          12,
          2,
          1,
          4,
          10,
          12,
          6,
          2,
          -1,
          10,
          8,
          3,
          12,
          16,
          1,
          4,
          1,
          1,
          4,
          1,
          2,
          12,
          12,
          7,
          25,
          6,
          2,
          10,
          1,
          6,
          6,
          12,
          1,
          96,
          4,
          3,
          4,
          16,
          2,
          1,
          1,
          2,
          1,
          48,
          42,
          2,
          12,
          24,
          3,
          1,
          3,
          -1,
          2,
          2,
          1,
          10,
          1,
          1,
          1,
          1,
          1,
          6,
          1,
          4,
          12,
          2,
          20,
          1,
          6,
          25,
          80,
          3,
          1,
          1,
          3,
          1,
          8,
          1,
          1,
          12,
          64,
          1,
          10,
          1,
          2,
          12,
          1,
          5,
          24,
          12,
          2,
          4,
          2,
          12,
          12,
          24,
          3,
          1,
          7,
          -1,
          72,
          1,
          6,
          1,
          3,
          4,
          12,
          18,
          2,
          24,
          6,
          1,
          6,
          1,
          8,
          48,
          3,
          2,
          6,
          48,
          6,
          1,
          6,
          12,
          12,
          1,
          2,
          12,
          6,
          1,
          12,
          1,
          2,
          12,
          1,
          2,
          6,
          6,
          20,
          20,
          1,
          1,
          1,
          3,
          1,
          4,
          2,
          12,
          24,
          6,
          1,
          1,
          3,
          12,
          6,
          2,
          1,
          4,
          12,
          4,
          10,
          12,
          24,
          4,
          25,
          1,
          2,
          8,
          1,
          3,
          1,
          1,
          1,
          3,
          4,
          3,
          1,
          1,
          10,
          4,
          5,
          12,
          1,
          1,
          3,
          2,
          1,
          30,
          1,
          1,
          1,
          8,
          1,
          32,
          1,
          1,
          1,
          12,
          1,
          12,
          3,
          2,
          1,
          2,
          1,
          96,
          -10,
          6,
          8,
          6,
          2,
          2,
          24,
          1,
          2,
          6,
          48,
          25,
          8,
          2,
          10,
          7,
          5,
          1,
          24,
          4,
          12,
          5,
          3,
          3,
          4,
          16,
          12,
          8,
          10,
          12,
          1,
          3,
          3,
          6,
          1,
          1,
          25,
          5,
          2,
          2,
          5,
          6,
          1,
          20,
          4,
          1,
          2,
          2,
          1,
          8,
          1,
          3,
          1,
          24,
          6,
          6,
          2,
          2,
          1,
          4,
          2,
          3,
          12,
          12,
          4,
          12,
          2,
          2,
          1,
          1,
          4,
          100,
          2,
          72,
          12,
          6,
          2,
          24,
          1,
          5,
          1,
          6,
          16,
          1,
          2,
          24,
          6,
          2,
          -1,
          1,
          6,
          20,
          2,
          4,
          3,
          1,
          24,
          2,
          3,
          6,
          12,
          6,
          100,
          1,
          10,
          1,
          2,
          6,
          1,
          1,
          3,
          10,
          6,
          4,
          2,
          2,
          2,
          12,
          30,
          1,
          12,
          10,
          2,
          12,
          1,
          8,
          48,
          2,
          4,
          1,
          6,
          1,
          6,
          1,
          4,
          12,
          2,
          3,
          1,
          1,
          4,
          5,
          1,
          1,
          8,
          1
         ],
         "xaxis": "x",
         "yaxis": "y"
        },
        {
         "alignmentgroup": "True",
         "hovertemplate": "variable=Quantity<br>value=%{x}<extra></extra>",
         "legendgroup": "Quantity",
         "marker": {
          "color": "#636efa"
         },
         "name": "Quantity",
         "notched": true,
         "offsetgroup": "Quantity",
         "showlegend": false,
         "type": "box",
         "x": [
          6,
          3,
          48,
          12,
          12,
          1,
          6,
          12,
          16,
          1,
          1,
          96,
          12,
          6,
          1,
          16,
          1,
          12,
          6,
          8,
          1,
          3,
          3,
          2,
          1,
          2,
          25,
          100,
          1,
          7,
          12,
          1,
          25,
          100,
          6,
          1,
          5,
          30,
          1,
          12,
          1,
          -13,
          1,
          24,
          3,
          6,
          10,
          1,
          12,
          2,
          2,
          12,
          2,
          1,
          4,
          1,
          1,
          3,
          1,
          1,
          3,
          2,
          2,
          2,
          3,
          1,
          10,
          1,
          24,
          24,
          4,
          1,
          10,
          3,
          3,
          1,
          3,
          12,
          1,
          1,
          24,
          2,
          24,
          12,
          2,
          36,
          1,
          24,
          1,
          2,
          8,
          32,
          36,
          2,
          12,
          3,
          9,
          6,
          1,
          10,
          10,
          25,
          12,
          8,
          -2,
          1,
          6,
          2,
          2,
          1,
          18,
          6,
          1,
          -12,
          6,
          1,
          1,
          12,
          6,
          3,
          2,
          2,
          1,
          1,
          16,
          25,
          12,
          20,
          20,
          6,
          2,
          26,
          10,
          5,
          1,
          12,
          3,
          3,
          1,
          12,
          2,
          2,
          2,
          75,
          2,
          6,
          3,
          40,
          2,
          1,
          8,
          1,
          2,
          2,
          2,
          1,
          3,
          2,
          12,
          3,
          12,
          12,
          -1,
          2,
          1,
          1,
          1,
          3,
          9,
          6,
          3,
          12,
          48,
          8,
          5,
          3,
          6,
          1,
          1,
          12,
          2,
          3,
          10,
          1,
          12,
          10,
          4,
          12,
          1,
          12,
          1,
          -26,
          48,
          2,
          1,
          2,
          1,
          24,
          2,
          24,
          50,
          1,
          12,
          1,
          7,
          36,
          6,
          10,
          10,
          2,
          1,
          6,
          1,
          12,
          2,
          24,
          8,
          6,
          1,
          1,
          2,
          2,
          12,
          6,
          12,
          6,
          2,
          16,
          2,
          1,
          1,
          2,
          2,
          1,
          2,
          10,
          1,
          2,
          6,
          1,
          20,
          4,
          3,
          6,
          1,
          -6,
          6,
          8,
          12,
          3,
          1,
          1,
          8,
          1,
          2,
          12,
          3,
          2,
          1,
          6,
          6,
          2,
          1,
          1,
          1,
          4,
          12,
          3,
          2,
          1,
          2,
          6,
          4,
          1,
          5,
          -1,
          2,
          1,
          2,
          12,
          36,
          1,
          24,
          2,
          6,
          4,
          4,
          1,
          6,
          4,
          12,
          12,
          28,
          12,
          6,
          48,
          2,
          1,
          -2,
          1,
          6,
          2,
          1,
          1,
          1,
          2,
          -1,
          2,
          24,
          12,
          1,
          2,
          1,
          4,
          1,
          10,
          1,
          3,
          1,
          14,
          12,
          1,
          1,
          1,
          2,
          1,
          1,
          24,
          1,
          3,
          72,
          3,
          2,
          1,
          25,
          1,
          2,
          2,
          12,
          4,
          6,
          9,
          6,
          1,
          1,
          8,
          6,
          2,
          4,
          3,
          4,
          1,
          2,
          1,
          8,
          1,
          5,
          12,
          2,
          2,
          1,
          12,
          10,
          48,
          10,
          12,
          6,
          6,
          2,
          1,
          4,
          12,
          1,
          1,
          1,
          6,
          1,
          3,
          72,
          90,
          7,
          6,
          2,
          4,
          18,
          2,
          1,
          1,
          4,
          1,
          10,
          6,
          1,
          2,
          6,
          1,
          16,
          2,
          10,
          25,
          1,
          1,
          4,
          25,
          1,
          1,
          6,
          2,
          1,
          2,
          12,
          1,
          2,
          12,
          6,
          2,
          2,
          -3,
          10,
          4,
          3,
          2,
          1,
          1,
          2,
          12,
          -4,
          24,
          1,
          1,
          4,
          3,
          1,
          10,
          2,
          1,
          12,
          6,
          72,
          2,
          6,
          24,
          1,
          1,
          10,
          1,
          4,
          6,
          1,
          3,
          96,
          96,
          4,
          1,
          -1,
          12,
          1,
          2,
          1,
          2,
          24,
          12,
          12,
          12,
          12,
          12,
          -12,
          14,
          2,
          1,
          2,
          3,
          2,
          1,
          24,
          1,
          1,
          5,
          12,
          1,
          2,
          1,
          12,
          12,
          1,
          4,
          1,
          1,
          2,
          12,
          1,
          1,
          2,
          96,
          1,
          36,
          10,
          12,
          2,
          36,
          48,
          3,
          1,
          36,
          1,
          5,
          24,
          3,
          1,
          12,
          1,
          1,
          12,
          1,
          4,
          1,
          1,
          12,
          12,
          1,
          1,
          1,
          72,
          2,
          1,
          24,
          6,
          1,
          3,
          12,
          2,
          6,
          4,
          2,
          2,
          24,
          6,
          2,
          24,
          1,
          3,
          -2,
          2,
          48,
          3,
          4,
          12,
          6,
          4,
          8,
          12,
          3,
          2,
          1,
          2,
          12,
          2,
          1,
          12,
          1,
          2,
          2,
          4,
          2,
          12,
          1,
          5,
          24,
          2,
          12,
          1,
          100,
          1,
          24,
          6,
          7,
          6,
          1,
          1,
          5,
          8,
          1,
          96,
          12,
          4,
          40,
          1,
          8,
          24,
          8,
          2,
          16,
          12,
          2,
          16,
          1,
          12,
          1,
          1,
          1,
          1,
          24,
          12,
          6,
          3,
          1,
          48,
          12,
          60,
          1,
          72,
          5,
          6,
          2,
          2,
          12,
          3,
          6,
          2,
          3,
          4,
          1,
          1,
          24,
          48,
          24,
          12,
          1,
          1,
          3,
          24,
          12,
          12,
          2,
          1,
          4,
          10,
          12,
          6,
          2,
          -1,
          10,
          8,
          3,
          12,
          16,
          1,
          4,
          1,
          1,
          4,
          1,
          2,
          12,
          12,
          7,
          25,
          6,
          2,
          10,
          1,
          6,
          6,
          12,
          1,
          96,
          4,
          3,
          4,
          16,
          2,
          1,
          1,
          2,
          1,
          48,
          42,
          2,
          12,
          24,
          3,
          1,
          3,
          -1,
          2,
          2,
          1,
          10,
          1,
          1,
          1,
          1,
          1,
          6,
          1,
          4,
          12,
          2,
          20,
          1,
          6,
          25,
          80,
          3,
          1,
          1,
          3,
          1,
          8,
          1,
          1,
          12,
          64,
          1,
          10,
          1,
          2,
          12,
          1,
          5,
          24,
          12,
          2,
          4,
          2,
          12,
          12,
          24,
          3,
          1,
          7,
          -1,
          72,
          1,
          6,
          1,
          3,
          4,
          12,
          18,
          2,
          24,
          6,
          1,
          6,
          1,
          8,
          48,
          3,
          2,
          6,
          48,
          6,
          1,
          6,
          12,
          12,
          1,
          2,
          12,
          6,
          1,
          12,
          1,
          2,
          12,
          1,
          2,
          6,
          6,
          20,
          20,
          1,
          1,
          1,
          3,
          1,
          4,
          2,
          12,
          24,
          6,
          1,
          1,
          3,
          12,
          6,
          2,
          1,
          4,
          12,
          4,
          10,
          12,
          24,
          4,
          25,
          1,
          2,
          8,
          1,
          3,
          1,
          1,
          1,
          3,
          4,
          3,
          1,
          1,
          10,
          4,
          5,
          12,
          1,
          1,
          3,
          2,
          1,
          30,
          1,
          1,
          1,
          8,
          1,
          32,
          1,
          1,
          1,
          12,
          1,
          12,
          3,
          2,
          1,
          2,
          1,
          96,
          -10,
          6,
          8,
          6,
          2,
          2,
          24,
          1,
          2,
          6,
          48,
          25,
          8,
          2,
          10,
          7,
          5,
          1,
          24,
          4,
          12,
          5,
          3,
          3,
          4,
          16,
          12,
          8,
          10,
          12,
          1,
          3,
          3,
          6,
          1,
          1,
          25,
          5,
          2,
          2,
          5,
          6,
          1,
          20,
          4,
          1,
          2,
          2,
          1,
          8,
          1,
          3,
          1,
          24,
          6,
          6,
          2,
          2,
          1,
          4,
          2,
          3,
          12,
          12,
          4,
          12,
          2,
          2,
          1,
          1,
          4,
          100,
          2,
          72,
          12,
          6,
          2,
          24,
          1,
          5,
          1,
          6,
          16,
          1,
          2,
          24,
          6,
          2,
          -1,
          1,
          6,
          20,
          2,
          4,
          3,
          1,
          24,
          2,
          3,
          6,
          12,
          6,
          100,
          1,
          10,
          1,
          2,
          6,
          1,
          1,
          3,
          10,
          6,
          4,
          2,
          2,
          2,
          12,
          30,
          1,
          12,
          10,
          2,
          12,
          1,
          8,
          48,
          2,
          4,
          1,
          6,
          1,
          6,
          1,
          4,
          12,
          2,
          3,
          1,
          1,
          4,
          5,
          1,
          1,
          8,
          1
         ],
         "xaxis": "x2",
         "yaxis": "y2"
        }
       ],
       "layout": {
        "barmode": "relative",
        "legend": {
         "title": {
          "text": "variable"
         },
         "tracegroupgap": 0
        },
        "template": {
         "data": {
          "bar": [
           {
            "error_x": {
             "color": "#2a3f5f"
            },
            "error_y": {
             "color": "#2a3f5f"
            },
            "marker": {
             "line": {
              "color": "#E5ECF6",
              "width": 0.5
             },
             "pattern": {
              "fillmode": "overlay",
              "size": 10,
              "solidity": 0.2
             }
            },
            "type": "bar"
           }
          ],
          "barpolar": [
           {
            "marker": {
             "line": {
              "color": "#E5ECF6",
              "width": 0.5
             },
             "pattern": {
              "fillmode": "overlay",
              "size": 10,
              "solidity": 0.2
             }
            },
            "type": "barpolar"
           }
          ],
          "carpet": [
           {
            "aaxis": {
             "endlinecolor": "#2a3f5f",
             "gridcolor": "white",
             "linecolor": "white",
             "minorgridcolor": "white",
             "startlinecolor": "#2a3f5f"
            },
            "baxis": {
             "endlinecolor": "#2a3f5f",
             "gridcolor": "white",
             "linecolor": "white",
             "minorgridcolor": "white",
             "startlinecolor": "#2a3f5f"
            },
            "type": "carpet"
           }
          ],
          "choropleth": [
           {
            "colorbar": {
             "outlinewidth": 0,
             "ticks": ""
            },
            "type": "choropleth"
           }
          ],
          "contour": [
           {
            "colorbar": {
             "outlinewidth": 0,
             "ticks": ""
            },
            "colorscale": [
             [
              0,
              "#0d0887"
             ],
             [
              0.1111111111111111,
              "#46039f"
             ],
             [
              0.2222222222222222,
              "#7201a8"
             ],
             [
              0.3333333333333333,
              "#9c179e"
             ],
             [
              0.4444444444444444,
              "#bd3786"
             ],
             [
              0.5555555555555556,
              "#d8576b"
             ],
             [
              0.6666666666666666,
              "#ed7953"
             ],
             [
              0.7777777777777778,
              "#fb9f3a"
             ],
             [
              0.8888888888888888,
              "#fdca26"
             ],
             [
              1,
              "#f0f921"
             ]
            ],
            "type": "contour"
           }
          ],
          "contourcarpet": [
           {
            "colorbar": {
             "outlinewidth": 0,
             "ticks": ""
            },
            "type": "contourcarpet"
           }
          ],
          "heatmap": [
           {
            "colorbar": {
             "outlinewidth": 0,
             "ticks": ""
            },
            "colorscale": [
             [
              0,
              "#0d0887"
             ],
             [
              0.1111111111111111,
              "#46039f"
             ],
             [
              0.2222222222222222,
              "#7201a8"
             ],
             [
              0.3333333333333333,
              "#9c179e"
             ],
             [
              0.4444444444444444,
              "#bd3786"
             ],
             [
              0.5555555555555556,
              "#d8576b"
             ],
             [
              0.6666666666666666,
              "#ed7953"
             ],
             [
              0.7777777777777778,
              "#fb9f3a"
             ],
             [
              0.8888888888888888,
              "#fdca26"
             ],
             [
              1,
              "#f0f921"
             ]
            ],
            "type": "heatmap"
           }
          ],
          "heatmapgl": [
           {
            "colorbar": {
             "outlinewidth": 0,
             "ticks": ""
            },
            "colorscale": [
             [
              0,
              "#0d0887"
             ],
             [
              0.1111111111111111,
              "#46039f"
             ],
             [
              0.2222222222222222,
              "#7201a8"
             ],
             [
              0.3333333333333333,
              "#9c179e"
             ],
             [
              0.4444444444444444,
              "#bd3786"
             ],
             [
              0.5555555555555556,
              "#d8576b"
             ],
             [
              0.6666666666666666,
              "#ed7953"
             ],
             [
              0.7777777777777778,
              "#fb9f3a"
             ],
             [
              0.8888888888888888,
              "#fdca26"
             ],
             [
              1,
              "#f0f921"
             ]
            ],
            "type": "heatmapgl"
           }
          ],
          "histogram": [
           {
            "marker": {
             "pattern": {
              "fillmode": "overlay",
              "size": 10,
              "solidity": 0.2
             }
            },
            "type": "histogram"
           }
          ],
          "histogram2d": [
           {
            "colorbar": {
             "outlinewidth": 0,
             "ticks": ""
            },
            "colorscale": [
             [
              0,
              "#0d0887"
             ],
             [
              0.1111111111111111,
              "#46039f"
             ],
             [
              0.2222222222222222,
              "#7201a8"
             ],
             [
              0.3333333333333333,
              "#9c179e"
             ],
             [
              0.4444444444444444,
              "#bd3786"
             ],
             [
              0.5555555555555556,
              "#d8576b"
             ],
             [
              0.6666666666666666,
              "#ed7953"
             ],
             [
              0.7777777777777778,
              "#fb9f3a"
             ],
             [
              0.8888888888888888,
              "#fdca26"
             ],
             [
              1,
              "#f0f921"
             ]
            ],
            "type": "histogram2d"
           }
          ],
          "histogram2dcontour": [
           {
            "colorbar": {
             "outlinewidth": 0,
             "ticks": ""
            },
            "colorscale": [
             [
              0,
              "#0d0887"
             ],
             [
              0.1111111111111111,
              "#46039f"
             ],
             [
              0.2222222222222222,
              "#7201a8"
             ],
             [
              0.3333333333333333,
              "#9c179e"
             ],
             [
              0.4444444444444444,
              "#bd3786"
             ],
             [
              0.5555555555555556,
              "#d8576b"
             ],
             [
              0.6666666666666666,
              "#ed7953"
             ],
             [
              0.7777777777777778,
              "#fb9f3a"
             ],
             [
              0.8888888888888888,
              "#fdca26"
             ],
             [
              1,
              "#f0f921"
             ]
            ],
            "type": "histogram2dcontour"
           }
          ],
          "mesh3d": [
           {
            "colorbar": {
             "outlinewidth": 0,
             "ticks": ""
            },
            "type": "mesh3d"
           }
          ],
          "parcoords": [
           {
            "line": {
             "colorbar": {
              "outlinewidth": 0,
              "ticks": ""
             }
            },
            "type": "parcoords"
           }
          ],
          "pie": [
           {
            "automargin": true,
            "type": "pie"
           }
          ],
          "scatter": [
           {
            "fillpattern": {
             "fillmode": "overlay",
             "size": 10,
             "solidity": 0.2
            },
            "type": "scatter"
           }
          ],
          "scatter3d": [
           {
            "line": {
             "colorbar": {
              "outlinewidth": 0,
              "ticks": ""
             }
            },
            "marker": {
             "colorbar": {
              "outlinewidth": 0,
              "ticks": ""
             }
            },
            "type": "scatter3d"
           }
          ],
          "scattercarpet": [
           {
            "marker": {
             "colorbar": {
              "outlinewidth": 0,
              "ticks": ""
             }
            },
            "type": "scattercarpet"
           }
          ],
          "scattergeo": [
           {
            "marker": {
             "colorbar": {
              "outlinewidth": 0,
              "ticks": ""
             }
            },
            "type": "scattergeo"
           }
          ],
          "scattergl": [
           {
            "marker": {
             "colorbar": {
              "outlinewidth": 0,
              "ticks": ""
             }
            },
            "type": "scattergl"
           }
          ],
          "scattermapbox": [
           {
            "marker": {
             "colorbar": {
              "outlinewidth": 0,
              "ticks": ""
             }
            },
            "type": "scattermapbox"
           }
          ],
          "scatterpolar": [
           {
            "marker": {
             "colorbar": {
              "outlinewidth": 0,
              "ticks": ""
             }
            },
            "type": "scatterpolar"
           }
          ],
          "scatterpolargl": [
           {
            "marker": {
             "colorbar": {
              "outlinewidth": 0,
              "ticks": ""
             }
            },
            "type": "scatterpolargl"
           }
          ],
          "scatterternary": [
           {
            "marker": {
             "colorbar": {
              "outlinewidth": 0,
              "ticks": ""
             }
            },
            "type": "scatterternary"
           }
          ],
          "surface": [
           {
            "colorbar": {
             "outlinewidth": 0,
             "ticks": ""
            },
            "colorscale": [
             [
              0,
              "#0d0887"
             ],
             [
              0.1111111111111111,
              "#46039f"
             ],
             [
              0.2222222222222222,
              "#7201a8"
             ],
             [
              0.3333333333333333,
              "#9c179e"
             ],
             [
              0.4444444444444444,
              "#bd3786"
             ],
             [
              0.5555555555555556,
              "#d8576b"
             ],
             [
              0.6666666666666666,
              "#ed7953"
             ],
             [
              0.7777777777777778,
              "#fb9f3a"
             ],
             [
              0.8888888888888888,
              "#fdca26"
             ],
             [
              1,
              "#f0f921"
             ]
            ],
            "type": "surface"
           }
          ],
          "table": [
           {
            "cells": {
             "fill": {
              "color": "#EBF0F8"
             },
             "line": {
              "color": "white"
             }
            },
            "header": {
             "fill": {
              "color": "#C8D4E3"
             },
             "line": {
              "color": "white"
             }
            },
            "type": "table"
           }
          ]
         },
         "layout": {
          "annotationdefaults": {
           "arrowcolor": "#2a3f5f",
           "arrowhead": 0,
           "arrowwidth": 1
          },
          "autotypenumbers": "strict",
          "coloraxis": {
           "colorbar": {
            "outlinewidth": 0,
            "ticks": ""
           }
          },
          "colorscale": {
           "diverging": [
            [
             0,
             "#8e0152"
            ],
            [
             0.1,
             "#c51b7d"
            ],
            [
             0.2,
             "#de77ae"
            ],
            [
             0.3,
             "#f1b6da"
            ],
            [
             0.4,
             "#fde0ef"
            ],
            [
             0.5,
             "#f7f7f7"
            ],
            [
             0.6,
             "#e6f5d0"
            ],
            [
             0.7,
             "#b8e186"
            ],
            [
             0.8,
             "#7fbc41"
            ],
            [
             0.9,
             "#4d9221"
            ],
            [
             1,
             "#276419"
            ]
           ],
           "sequential": [
            [
             0,
             "#0d0887"
            ],
            [
             0.1111111111111111,
             "#46039f"
            ],
            [
             0.2222222222222222,
             "#7201a8"
            ],
            [
             0.3333333333333333,
             "#9c179e"
            ],
            [
             0.4444444444444444,
             "#bd3786"
            ],
            [
             0.5555555555555556,
             "#d8576b"
            ],
            [
             0.6666666666666666,
             "#ed7953"
            ],
            [
             0.7777777777777778,
             "#fb9f3a"
            ],
            [
             0.8888888888888888,
             "#fdca26"
            ],
            [
             1,
             "#f0f921"
            ]
           ],
           "sequentialminus": [
            [
             0,
             "#0d0887"
            ],
            [
             0.1111111111111111,
             "#46039f"
            ],
            [
             0.2222222222222222,
             "#7201a8"
            ],
            [
             0.3333333333333333,
             "#9c179e"
            ],
            [
             0.4444444444444444,
             "#bd3786"
            ],
            [
             0.5555555555555556,
             "#d8576b"
            ],
            [
             0.6666666666666666,
             "#ed7953"
            ],
            [
             0.7777777777777778,
             "#fb9f3a"
            ],
            [
             0.8888888888888888,
             "#fdca26"
            ],
            [
             1,
             "#f0f921"
            ]
           ]
          },
          "colorway": [
           "#636efa",
           "#EF553B",
           "#00cc96",
           "#ab63fa",
           "#FFA15A",
           "#19d3f3",
           "#FF6692",
           "#B6E880",
           "#FF97FF",
           "#FECB52"
          ],
          "font": {
           "color": "#2a3f5f"
          },
          "geo": {
           "bgcolor": "white",
           "lakecolor": "white",
           "landcolor": "#E5ECF6",
           "showlakes": true,
           "showland": true,
           "subunitcolor": "white"
          },
          "hoverlabel": {
           "align": "left"
          },
          "hovermode": "closest",
          "mapbox": {
           "style": "light"
          },
          "paper_bgcolor": "white",
          "plot_bgcolor": "#E5ECF6",
          "polar": {
           "angularaxis": {
            "gridcolor": "white",
            "linecolor": "white",
            "ticks": ""
           },
           "bgcolor": "#E5ECF6",
           "radialaxis": {
            "gridcolor": "white",
            "linecolor": "white",
            "ticks": ""
           }
          },
          "scene": {
           "xaxis": {
            "backgroundcolor": "#E5ECF6",
            "gridcolor": "white",
            "gridwidth": 2,
            "linecolor": "white",
            "showbackground": true,
            "ticks": "",
            "zerolinecolor": "white"
           },
           "yaxis": {
            "backgroundcolor": "#E5ECF6",
            "gridcolor": "white",
            "gridwidth": 2,
            "linecolor": "white",
            "showbackground": true,
            "ticks": "",
            "zerolinecolor": "white"
           },
           "zaxis": {
            "backgroundcolor": "#E5ECF6",
            "gridcolor": "white",
            "gridwidth": 2,
            "linecolor": "white",
            "showbackground": true,
            "ticks": "",
            "zerolinecolor": "white"
           }
          },
          "shapedefaults": {
           "line": {
            "color": "#2a3f5f"
           }
          },
          "ternary": {
           "aaxis": {
            "gridcolor": "white",
            "linecolor": "white",
            "ticks": ""
           },
           "baxis": {
            "gridcolor": "white",
            "linecolor": "white",
            "ticks": ""
           },
           "bgcolor": "#E5ECF6",
           "caxis": {
            "gridcolor": "white",
            "linecolor": "white",
            "ticks": ""
           }
          },
          "title": {
           "x": 0.05
          },
          "xaxis": {
           "automargin": true,
           "gridcolor": "white",
           "linecolor": "white",
           "ticks": "",
           "title": {
            "standoff": 15
           },
           "zerolinecolor": "white",
           "zerolinewidth": 2
          },
          "yaxis": {
           "automargin": true,
           "gridcolor": "white",
           "linecolor": "white",
           "ticks": "",
           "title": {
            "standoff": 15
           },
           "zerolinecolor": "white",
           "zerolinewidth": 2
          }
         }
        },
        "title": {
         "text": "Quantity - Without Outliers"
        },
        "xaxis": {
         "anchor": "y",
         "domain": [
          0,
          1
         ],
         "title": {
          "text": "value"
         }
        },
        "xaxis2": {
         "anchor": "y2",
         "domain": [
          0,
          1
         ],
         "matches": "x",
         "showgrid": true,
         "showticklabels": false
        },
        "yaxis": {
         "anchor": "x",
         "domain": [
          0,
          0.7326
         ],
         "title": {
          "text": "count"
         }
        },
        "yaxis2": {
         "anchor": "x2",
         "domain": [
          0.7426,
          1
         ],
         "matches": "y2",
         "showgrid": false,
         "showline": false,
         "showticklabels": false,
         "ticks": ""
        }
       }
      }
     },
     "metadata": {},
     "output_type": "display_data"
    }
   ],
   "source": [
    "profile_serie(df_retail[\"Quantity\"])"
   ]
  },
  {
   "cell_type": "markdown",
   "metadata": {
    "cell_id": "00023-ecb7fa4e-63ba-490c-8da7-211532bff49b",
    "deepnote_cell_height": 69.83332824707031,
    "deepnote_cell_type": "markdown",
    "tags": []
   },
   "source": [
    "En la tabla Quantity Profile se puede observar que hay datos incoherentes ya que el 2,35% de los datos corresponden a valores negativos, lo que no tiene sentido para este tipo de variable. Por otro lado, también se pueden un alto valor de skew debido a la presencia de outliers, lo que también se refleja en los valores de los cuartiles, en donde se ve que el 75% de los datos es menor o igual a 10, mientras que el valor máximo que toma la variable es 19152.\n",
    "\n",
    "En este sentido, al comparar los gráficos de la variable con y sin outliers, se observa una mejor visualización de los datos el este último ya que el rango de valores disminuye, permitiendo observar más detalladamente la distribución de los valores que la variable puede tomar con mayor certeza. \n"
   ]
  },
  {
   "cell_type": "markdown",
   "metadata": {
    "cell_id": "00023-70400e15-a0f7-41f7-98a5-4b81f1d3315a",
    "deepnote_cell_height": 144.23333740234375,
    "deepnote_cell_type": "markdown",
    "tags": []
   },
   "source": [
    "### 1.2.2 Análisis Multivariado y Datos Faltantes [1 ptos]\n",
    "\n",
    "En segundo lugar encontrará la función ``profile_df()`` que recibe un dataframe como entrada y realiza un análisis bivariado de todas las variables numéricas que conforman el dataframe, un analisis de la correlación de Pearson entre las variables numericas del dataframe y la matriz de datos faltantes."
   ]
  },
  {
   "cell_type": "code",
   "execution_count": 9,
   "metadata": {
    "cell_id": "00024-527d7ab1-22cb-461d-bb32-57ed65f2f2ab",
    "deepnote_cell_height": 530.0333251953125,
    "deepnote_cell_type": "code",
    "deepnote_to_be_reexecuted": false,
    "execution_millis": 2,
    "execution_start": 1634322697785,
    "owner_user_id": "badcc427-fd3d-4615-9296-faa43ec69cfb",
    "source_hash": "ac31b9bd",
    "tags": []
   },
   "outputs": [],
   "source": [
    "def profile_df(dataframe_in):\n",
    "    df = dataframe_in.copy()\n",
    "\n",
    "    list_type = []\n",
    "    for col in list(df.columns):\n",
    "        if is_numeric_dtype(df[col]) or \\\n",
    "        pd.core.dtypes.common.is_datetime_or_timedelta_dtype(df[col]):\n",
    "            list_type.append(col)\n",
    "\n",
    "    \n",
    "    display(Markdown('## Bivariant Analysis:'))\n",
    "    for i in range(len(list_type)):\n",
    "        for j in range(i+1, len(list_type)):\n",
    "            plt.scatter(df[list_type[i]], df[list_type[j]])\n",
    "            plt.xlabel(list_type[i]) \n",
    "            plt.ylabel(list_type[j]) \n",
    "            plt.title(f\"{list_type[i]} v/s {list_type[j]}\")\n",
    "            plt.show()\n",
    "\n",
    "    display(Markdown('## Correlation:'))\n",
    "    fig_corr = px.imshow(df.corr())\n",
    "    fig_corr.show()\n",
    "\n",
    "    display(Markdown('## Missing Matrix:'))\n",
    "    fig, ax = plt.subplots(figsize=[15, 10])\n",
    "    msno.matrix(df, ax=ax, sparkline=False)"
   ]
  },
  {
   "cell_type": "code",
   "execution_count": 10,
   "metadata": {},
   "outputs": [
    {
     "data": {
      "text/markdown": [
       "## Bivariant Analysis:"
      ],
      "text/plain": [
       "<IPython.core.display.Markdown object>"
      ]
     },
     "metadata": {},
     "output_type": "display_data"
    },
    {
     "data": {
      "image/png": "[encoded data removed]",
      "text/plain": [
       "<Figure size 432x288 with 1 Axes>"
      ]
     },
     "metadata": {
      "needs_background": "light"
     },
     "output_type": "display_data"
    },
    {
     "data": {
      "image/png": "[encoded data removed]",
      "text/plain": [
       "<Figure size 432x288 with 1 Axes>"
      ]
     },
     "metadata": {
      "needs_background": "light"
     },
     "output_type": "display_data"
    },
    {
     "data": {
      "image/png": "[encoded data removed]",
      "text/plain": [
       "<Figure size 432x288 with 1 Axes>"
      ]
     },
     "metadata": {
      "needs_background": "light"
     },
     "output_type": "display_data"
    },
    {
     "data": {
      "text/markdown": [
       "## Correlation:"
      ],
      "text/plain": [
       "<IPython.core.display.Markdown object>"
      ]
     },
     "metadata": {},
     "output_type": "display_data"
    },
    {
     "data": {
      "application/vnd.plotly.v1+json": {
       "config": {
        "plotlyServerURL": "https://plot.ly"
       },
       "data": [
        {
         "coloraxis": "coloraxis",
         "hovertemplate": "x: %{x}<br>y: %{y}<br>color: %{z}<extra></extra>",
         "name": "0",
         "type": "heatmap",
         "x": [
          "Quantity",
          "Price"
         ],
         "xaxis": "x",
         "y": [
          "Quantity",
          "Price"
         ],
         "yaxis": "y",
         "z": [
          [
           1,
           -0.0019313304222704135
          ],
          [
           -0.0019313304222704135,
           1
          ]
         ]
        }
       ],
       "layout": {
        "coloraxis": {
         "colorscale": [
          [
           0,
           "#0d0887"
          ],
          [
           0.1111111111111111,
           "#46039f"
          ],
          [
           0.2222222222222222,
           "#7201a8"
          ],
          [
           0.3333333333333333,
           "#9c179e"
          ],
          [
           0.4444444444444444,
           "#bd3786"
          ],
          [
           0.5555555555555556,
           "#d8576b"
          ],
          [
           0.6666666666666666,
           "#ed7953"
          ],
          [
           0.7777777777777778,
           "#fb9f3a"
          ],
          [
           0.8888888888888888,
           "#fdca26"
          ],
          [
           1,
           "#f0f921"
          ]
         ]
        },
        "margin": {
         "t": 60
        },
        "template": {
         "data": {
          "bar": [
           {
            "error_x": {
             "color": "#2a3f5f"
            },
            "error_y": {
             "color": "#2a3f5f"
            },
            "marker": {
             "line": {
              "color": "#E5ECF6",
              "width": 0.5
             },
             "pattern": {
              "fillmode": "overlay",
              "size": 10,
              "solidity": 0.2
             }
            },
            "type": "bar"
           }
          ],
          "barpolar": [
           {
            "marker": {
             "line": {
              "color": "#E5ECF6",
              "width": 0.5
             },
             "pattern": {
              "fillmode": "overlay",
              "size": 10,
              "solidity": 0.2
             }
            },
            "type": "barpolar"
           }
          ],
          "carpet": [
           {
            "aaxis": {
             "endlinecolor": "#2a3f5f",
             "gridcolor": "white",
             "linecolor": "white",
             "minorgridcolor": "white",
             "startlinecolor": "#2a3f5f"
            },
            "baxis": {
             "endlinecolor": "#2a3f5f",
             "gridcolor": "white",
             "linecolor": "white",
             "minorgridcolor": "white",
             "startlinecolor": "#2a3f5f"
            },
            "type": "carpet"
           }
          ],
          "choropleth": [
           {
            "colorbar": {
             "outlinewidth": 0,
             "ticks": ""
            },
            "type": "choropleth"
           }
          ],
          "contour": [
           {
            "colorbar": {
             "outlinewidth": 0,
             "ticks": ""
            },
            "colorscale": [
             [
              0,
              "#0d0887"
             ],
             [
              0.1111111111111111,
              "#46039f"
             ],
             [
              0.2222222222222222,
              "#7201a8"
             ],
             [
              0.3333333333333333,
              "#9c179e"
             ],
             [
              0.4444444444444444,
              "#bd3786"
             ],
             [
              0.5555555555555556,
              "#d8576b"
             ],
             [
              0.6666666666666666,
              "#ed7953"
             ],
             [
              0.7777777777777778,
              "#fb9f3a"
             ],
             [
              0.8888888888888888,
              "#fdca26"
             ],
             [
              1,
              "#f0f921"
             ]
            ],
            "type": "contour"
           }
          ],
          "contourcarpet": [
           {
            "colorbar": {
             "outlinewidth": 0,
             "ticks": ""
            },
            "type": "contourcarpet"
           }
          ],
          "heatmap": [
           {
            "colorbar": {
             "outlinewidth": 0,
             "ticks": ""
            },
            "colorscale": [
             [
              0,
              "#0d0887"
             ],
             [
              0.1111111111111111,
              "#46039f"
             ],
             [
              0.2222222222222222,
              "#7201a8"
             ],
             [
              0.3333333333333333,
              "#9c179e"
             ],
             [
              0.4444444444444444,
              "#bd3786"
             ],
             [
              0.5555555555555556,
              "#d8576b"
             ],
             [
              0.6666666666666666,
              "#ed7953"
             ],
             [
              0.7777777777777778,
              "#fb9f3a"
             ],
             [
              0.8888888888888888,
              "#fdca26"
             ],
             [
              1,
              "#f0f921"
             ]
            ],
            "type": "heatmap"
           }
          ],
          "heatmapgl": [
           {
            "colorbar": {
             "outlinewidth": 0,
             "ticks": ""
            },
            "colorscale": [
             [
              0,
              "#0d0887"
             ],
             [
              0.1111111111111111,
              "#46039f"
             ],
             [
              0.2222222222222222,
              "#7201a8"
             ],
             [
              0.3333333333333333,
              "#9c179e"
             ],
             [
              0.4444444444444444,
              "#bd3786"
             ],
             [
              0.5555555555555556,
              "#d8576b"
             ],
             [
              0.6666666666666666,
              "#ed7953"
             ],
             [
              0.7777777777777778,
              "#fb9f3a"
             ],
             [
              0.8888888888888888,
              "#fdca26"
             ],
             [
              1,
              "#f0f921"
             ]
            ],
            "type": "heatmapgl"
           }
          ],
          "histogram": [
           {
            "marker": {
             "pattern": {
              "fillmode": "overlay",
              "size": 10,
              "solidity": 0.2
             }
            },
            "type": "histogram"
           }
          ],
          "histogram2d": [
           {
            "colorbar": {
             "outlinewidth": 0,
             "ticks": ""
            },
            "colorscale": [
             [
              0,
              "#0d0887"
             ],
             [
              0.1111111111111111,
              "#46039f"
             ],
             [
              0.2222222222222222,
              "#7201a8"
             ],
             [
              0.3333333333333333,
              "#9c179e"
             ],
             [
              0.4444444444444444,
              "#bd3786"
             ],
             [
              0.5555555555555556,
              "#d8576b"
             ],
             [
              0.6666666666666666,
              "#ed7953"
             ],
             [
              0.7777777777777778,
              "#fb9f3a"
             ],
             [
              0.8888888888888888,
              "#fdca26"
             ],
             [
              1,
              "#f0f921"
             ]
            ],
            "type": "histogram2d"
           }
          ],
          "histogram2dcontour": [
           {
            "colorbar": {
             "outlinewidth": 0,
             "ticks": ""
            },
            "colorscale": [
             [
              0,
              "#0d0887"
             ],
             [
              0.1111111111111111,
              "#46039f"
             ],
             [
              0.2222222222222222,
              "#7201a8"
             ],
             [
              0.3333333333333333,
              "#9c179e"
             ],
             [
              0.4444444444444444,
              "#bd3786"
             ],
             [
              0.5555555555555556,
              "#d8576b"
             ],
             [
              0.6666666666666666,
              "#ed7953"
             ],
             [
              0.7777777777777778,
              "#fb9f3a"
             ],
             [
              0.8888888888888888,
              "#fdca26"
             ],
             [
              1,
              "#f0f921"
             ]
            ],
            "type": "histogram2dcontour"
           }
          ],
          "mesh3d": [
           {
            "colorbar": {
             "outlinewidth": 0,
             "ticks": ""
            },
            "type": "mesh3d"
           }
          ],
          "parcoords": [
           {
            "line": {
             "colorbar": {
              "outlinewidth": 0,
              "ticks": ""
             }
            },
            "type": "parcoords"
           }
          ],
          "pie": [
           {
            "automargin": true,
            "type": "pie"
           }
          ],
          "scatter": [
           {
            "fillpattern": {
             "fillmode": "overlay",
             "size": 10,
             "solidity": 0.2
            },
            "type": "scatter"
           }
          ],
          "scatter3d": [
           {
            "line": {
             "colorbar": {
              "outlinewidth": 0,
              "ticks": ""
             }
            },
            "marker": {
             "colorbar": {
              "outlinewidth": 0,
              "ticks": ""
             }
            },
            "type": "scatter3d"
           }
          ],
          "scattercarpet": [
           {
            "marker": {
             "colorbar": {
              "outlinewidth": 0,
              "ticks": ""
             }
            },
            "type": "scattercarpet"
           }
          ],
          "scattergeo": [
           {
            "marker": {
             "colorbar": {
              "outlinewidth": 0,
              "ticks": ""
             }
            },
            "type": "scattergeo"
           }
          ],
          "scattergl": [
           {
            "marker": {
             "colorbar": {
              "outlinewidth": 0,
              "ticks": ""
             }
            },
            "type": "scattergl"
           }
          ],
          "scattermapbox": [
           {
            "marker": {
             "colorbar": {
              "outlinewidth": 0,
              "ticks": ""
             }
            },
            "type": "scattermapbox"
           }
          ],
          "scatterpolar": [
           {
            "marker": {
             "colorbar": {
              "outlinewidth": 0,
              "ticks": ""
             }
            },
            "type": "scatterpolar"
           }
          ],
          "scatterpolargl": [
           {
            "marker": {
             "colorbar": {
              "outlinewidth": 0,
              "ticks": ""
             }
            },
            "type": "scatterpolargl"
           }
          ],
          "scatterternary": [
           {
            "marker": {
             "colorbar": {
              "outlinewidth": 0,
              "ticks": ""
             }
            },
            "type": "scatterternary"
           }
          ],
          "surface": [
           {
            "colorbar": {
             "outlinewidth": 0,
             "ticks": ""
            },
            "colorscale": [
             [
              0,
              "#0d0887"
             ],
             [
              0.1111111111111111,
              "#46039f"
             ],
             [
              0.2222222222222222,
              "#7201a8"
             ],
             [
              0.3333333333333333,
              "#9c179e"
             ],
             [
              0.4444444444444444,
              "#bd3786"
             ],
             [
              0.5555555555555556,
              "#d8576b"
             ],
             [
              0.6666666666666666,
              "#ed7953"
             ],
             [
              0.7777777777777778,
              "#fb9f3a"
             ],
             [
              0.8888888888888888,
              "#fdca26"
             ],
             [
              1,
              "#f0f921"
             ]
            ],
            "type": "surface"
           }
          ],
          "table": [
           {
            "cells": {
             "fill": {
              "color": "#EBF0F8"
             },
             "line": {
              "color": "white"
             }
            },
            "header": {
             "fill": {
              "color": "#C8D4E3"
             },
             "line": {
              "color": "white"
             }
            },
            "type": "table"
           }
          ]
         },
         "layout": {
          "annotationdefaults": {
           "arrowcolor": "#2a3f5f",
           "arrowhead": 0,
           "arrowwidth": 1
          },
          "autotypenumbers": "strict",
          "coloraxis": {
           "colorbar": {
            "outlinewidth": 0,
            "ticks": ""
           }
          },
          "colorscale": {
           "diverging": [
            [
             0,
             "#8e0152"
            ],
            [
             0.1,
             "#c51b7d"
            ],
            [
             0.2,
             "#de77ae"
            ],
            [
             0.3,
             "#f1b6da"
            ],
            [
             0.4,
             "#fde0ef"
            ],
            [
             0.5,
             "#f7f7f7"
            ],
            [
             0.6,
             "#e6f5d0"
            ],
            [
             0.7,
             "#b8e186"
            ],
            [
             0.8,
             "#7fbc41"
            ],
            [
             0.9,
             "#4d9221"
            ],
            [
             1,
             "#276419"
            ]
           ],
           "sequential": [
            [
             0,
             "#0d0887"
            ],
            [
             0.1111111111111111,
             "#46039f"
            ],
            [
             0.2222222222222222,
             "#7201a8"
            ],
            [
             0.3333333333333333,
             "#9c179e"
            ],
            [
             0.4444444444444444,
             "#bd3786"
            ],
            [
             0.5555555555555556,
             "#d8576b"
            ],
            [
             0.6666666666666666,
             "#ed7953"
            ],
            [
             0.7777777777777778,
             "#fb9f3a"
            ],
            [
             0.8888888888888888,
             "#fdca26"
            ],
            [
             1,
             "#f0f921"
            ]
           ],
           "sequentialminus": [
            [
             0,
             "#0d0887"
            ],
            [
             0.1111111111111111,
             "#46039f"
            ],
            [
             0.2222222222222222,
             "#7201a8"
            ],
            [
             0.3333333333333333,
             "#9c179e"
            ],
            [
             0.4444444444444444,
             "#bd3786"
            ],
            [
             0.5555555555555556,
             "#d8576b"
            ],
            [
             0.6666666666666666,
             "#ed7953"
            ],
            [
             0.7777777777777778,
             "#fb9f3a"
            ],
            [
             0.8888888888888888,
             "#fdca26"
            ],
            [
             1,
             "#f0f921"
            ]
           ]
          },
          "colorway": [
           "#636efa",
           "#EF553B",
           "#00cc96",
           "#ab63fa",
           "#FFA15A",
           "#19d3f3",
           "#FF6692",
           "#B6E880",
           "#FF97FF",
           "#FECB52"
          ],
          "font": {
           "color": "#2a3f5f"
          },
          "geo": {
           "bgcolor": "white",
           "lakecolor": "white",
           "landcolor": "#E5ECF6",
           "showlakes": true,
           "showland": true,
           "subunitcolor": "white"
          },
          "hoverlabel": {
           "align": "left"
          },
          "hovermode": "closest",
          "mapbox": {
           "style": "light"
          },
          "paper_bgcolor": "white",
          "plot_bgcolor": "#E5ECF6",
          "polar": {
           "angularaxis": {
            "gridcolor": "white",
            "linecolor": "white",
            "ticks": ""
           },
           "bgcolor": "#E5ECF6",
           "radialaxis": {
            "gridcolor": "white",
            "linecolor": "white",
            "ticks": ""
           }
          },
          "scene": {
           "xaxis": {
            "backgroundcolor": "#E5ECF6",
            "gridcolor": "white",
            "gridwidth": 2,
            "linecolor": "white",
            "showbackground": true,
            "ticks": "",
            "zerolinecolor": "white"
           },
           "yaxis": {
            "backgroundcolor": "#E5ECF6",
            "gridcolor": "white",
            "gridwidth": 2,
            "linecolor": "white",
            "showbackground": true,
            "ticks": "",
            "zerolinecolor": "white"
           },
           "zaxis": {
            "backgroundcolor": "#E5ECF6",
            "gridcolor": "white",
            "gridwidth": 2,
            "linecolor": "white",
            "showbackground": true,
            "ticks": "",
            "zerolinecolor": "white"
           }
          },
          "shapedefaults": {
           "line": {
            "color": "#2a3f5f"
           }
          },
          "ternary": {
           "aaxis": {
            "gridcolor": "white",
            "linecolor": "white",
            "ticks": ""
           },
           "baxis": {
            "gridcolor": "white",
            "linecolor": "white",
            "ticks": ""
           },
           "bgcolor": "#E5ECF6",
           "caxis": {
            "gridcolor": "white",
            "linecolor": "white",
            "ticks": ""
           }
          },
          "title": {
           "x": 0.05
          },
          "xaxis": {
           "automargin": true,
           "gridcolor": "white",
           "linecolor": "white",
           "ticks": "",
           "title": {
            "standoff": 15
           },
           "zerolinecolor": "white",
           "zerolinewidth": 2
          },
          "yaxis": {
           "automargin": true,
           "gridcolor": "white",
           "linecolor": "white",
           "ticks": "",
           "title": {
            "standoff": 15
           },
           "zerolinecolor": "white",
           "zerolinewidth": 2
          }
         }
        },
        "xaxis": {
         "anchor": "y",
         "constrain": "domain",
         "domain": [
          0,
          1
         ],
         "scaleanchor": "y"
        },
        "yaxis": {
         "anchor": "x",
         "autorange": "reversed",
         "constrain": "domain",
         "domain": [
          0,
          1
         ]
        }
       }
      }
     },
     "metadata": {},
     "output_type": "display_data"
    },
    {
     "data": {
      "text/markdown": [
       "## Missing Matrix:"
      ],
      "text/plain": [
       "<IPython.core.display.Markdown object>"
      ]
     },
     "metadata": {},
     "output_type": "display_data"
    },
    {
     "data": {
      "image/png": "[encoded data removed]",
      "text/plain": [
       "<Figure size 1080x720 with 1 Axes>"
      ]
     },
     "metadata": {
      "needs_background": "light"
     },
     "output_type": "display_data"
    }
   ],
   "source": [
    "profile_df(df_retail)"
   ]
  },
  {
   "cell_type": "markdown",
   "metadata": {
    "cell_id": "00026-df20962a-a04e-4edd-9d19-3acc252a7f29",
    "deepnote_cell_height": 239.43333435058594,
    "deepnote_cell_type": "markdown",
    "tags": []
   },
   "source": [
    "### 1.2.3 Limpieza de Datos [1 pto]\n",
    "\n",
    "Como pudo ver en las secciones anteriores, los datos presentan valores erroneos, es por esto que se le solicita que realice una función que permita limpiar el dataset. Realice esta función en base observaciones propias y considere como imposible tener cantidades negativas en las ventas.\n",
    "\n",
    "Una vez realizada la función, realice nuevamente el análisis exploratorio y comente las principales diferencias.\n",
    "\n",
    "**Respuesta:**"
   ]
  },
  {
   "cell_type": "code",
   "execution_count": 11,
   "metadata": {},
   "outputs": [],
   "source": [
    "def clean_df(dataframe_in):\n",
    "    df=dataframe_in.copy()\n",
    "    list_num = []\n",
    "    for col in list(df.columns):\n",
    "        if is_numeric_dtype(df[col]):\n",
    "            list_num.append(col)\n",
    "    df.dropna(axis=0,inplace=True)\n",
    "    for i in list_type:\n",
    "        df=df[df[i]>=0]\n",
    "\n",
    "    df.drop_duplicates(inplace=True)\n",
    "\n",
    "    return df            \n",
    "    "
   ]
  },
  {
   "cell_type": "code",
   "execution_count": 12,
   "metadata": {
    "cell_id": "00027-c103a1ac-7b8e-4ad8-af70-1385769b6c33",
    "deepnote_cell_height": 65.03334045410156,
    "deepnote_cell_type": "code",
    "tags": []
   },
   "outputs": [
    {
     "data": {
      "text/markdown": [
       "## Price Profile"
      ],
      "text/plain": [
       "<IPython.core.display.Markdown object>"
      ]
     },
     "metadata": {},
     "output_type": "display_data"
    },
    {
     "data": {
      "text/plain": [
       "Type                            float64\n",
       "Number of observations         400947.0\n",
       "Mean                           3.305571\n",
       "Std                           35.046376\n",
       "Min                                 0.0\n",
       "25%                                1.25\n",
       "50%                                1.95\n",
       "75%                                3.75\n",
       "Max                             10953.5\n",
       "Negative                              0\n",
       "Negative (%)                      0.0 %\n",
       "Zeros                                31\n",
       "Zeros (%)                        0.01 %\n",
       "Kurt                       62823.652566\n",
       "Skew                         233.151773\n",
       "                                       \n",
       "Missing cells                         0\n",
       "Missing cells (%)                 0.0 %\n",
       "Duplicate rows                   400761\n",
       "Duplicate rows (%)              99.95 %\n",
       "Total size in memory      6415152 bytes\n",
       "dtype: object"
      ]
     },
     "metadata": {},
     "output_type": "display_data"
    },
    {
     "data": {
      "application/vnd.plotly.v1+json": {
       "config": {
        "plotlyServerURL": "https://plot.ly"
       },
       "data": [
        {
         "alignmentgroup": "True",
         "bingroup": "x",
         "hovertemplate": "variable=Price<br>value=%{x}<br>count=%{y}<extra></extra>",
         "legendgroup": "Price",
         "marker": {
          "color": "#636efa",
          "pattern": {
           "shape": ""
          }
         },
         "name": "Price",
         "offsetgroup": "Price",
         "orientation": "v",
         "showlegend": true,
         "type": "histogram",
         "x": [
          1.95,
          0.21,
          1.45,
          1.95,
          2.95,
          9.95,
          10.95,
          0.85,
          2.1,
          2.95,
          1.45,
          11.95,
          3.75,
          1.25,
          0.65,
          0.36,
          15,
          1.25,
          2.1,
          2.55,
          12.75,
          2.95,
          1.25,
          2.95,
          2.55,
          7.95,
          0.55,
          0.85,
          1.25,
          0.85,
          0.55,
          0.85,
          1.25,
          1.25,
          1.25,
          7.95,
          2.95,
          1.95,
          1.25,
          0.85,
          2.95,
          12.75,
          1.65,
          1.25,
          1.45,
          1.45,
          1.25,
          12.75,
          2.55,
          3.75,
          1.06,
          1.25,
          2.1,
          2.55,
          0.85,
          1.95,
          0.85,
          0.85,
          2.55,
          1.95,
          12.75,
          4.65,
          1.25,
          4.95,
          0.85,
          0.65,
          3.75,
          0.85,
          1.45,
          0.55,
          1.65,
          6.75,
          0.29,
          3.75,
          1.25,
          1.25,
          1.06,
          18,
          1.25,
          2.95,
          0.85,
          2.95,
          4.95,
          1.65,
          1.95,
          5.95,
          6.75,
          4.25,
          2.95,
          1.25,
          2.55,
          3.95,
          0.21,
          1.69,
          1.25,
          2.1,
          3.75,
          6.35,
          2.55,
          0.36,
          3.75,
          1.95,
          0.42,
          2.1,
          5.95,
          5.95,
          3.25,
          1.25,
          1.25,
          2.1,
          1.65,
          2.95,
          2.95,
          1.65,
          0.14,
          6.35,
          0.42,
          1.25,
          5.95,
          0.29,
          6.75,
          2.95,
          1.25,
          1.25,
          3.75,
          4.95,
          2.95,
          0.85,
          1.25,
          2.1,
          2.55,
          0.85,
          0.85,
          1.25,
          4.25,
          0.95,
          5.95,
          2.95,
          1.69,
          0.42,
          1.25,
          1.25,
          5.95,
          9.95,
          1.65,
          1.45,
          1.65,
          1.25,
          1.65,
          2.1,
          0.72,
          4.95,
          4.25,
          1.65,
          1.25,
          1.65,
          0.95,
          2.1,
          1.65,
          3.75,
          0.85,
          0.85,
          1.25,
          0.65,
          2.1,
          4.95,
          1.95,
          3.75,
          1.95,
          5.95,
          2.55,
          2.55,
          0.65,
          1.95,
          0.42,
          4.95,
          12.75,
          1.65,
          0.55,
          12.75,
          0.42,
          1.45,
          4.95,
          0.85,
          1.65,
          1.45,
          1.95,
          1.45,
          0.3,
          1.95,
          1.65,
          2.1,
          8.95,
          1.45,
          0.42,
          2.1,
          1.65,
          1.65,
          7.49,
          0.85,
          2.1,
          1.69,
          2.95,
          0.85,
          3.75,
          2.1,
          0.65,
          0.65,
          0.42,
          1.25,
          2.55,
          2.95,
          2.1,
          2.25,
          0.42,
          1.25,
          1.65,
          2.55,
          1.45,
          1.69,
          3.75,
          1.65,
          3.75,
          4.25,
          1.25,
          0.85,
          3.95,
          2.1,
          2.95,
          1.65,
          0.55,
          3.75,
          5.95,
          0.42,
          0.85,
          1.25,
          3.75,
          0.85,
          0.29,
          7.49,
          2.95,
          1.65,
          2.1,
          4.95,
          1.25,
          1.65,
          0.65,
          1.65,
          1.95,
          1.25,
          0.85,
          1.95,
          1.65,
          0.85,
          4.95,
          0.85,
          2.1,
          0.65,
          0.85,
          1.25,
          1.65,
          0.42,
          0.42,
          1.95,
          1.45,
          0.65,
          3.75,
          0.85,
          4.25,
          1.69,
          1.25,
          9.95,
          8.5,
          1.25,
          2.55,
          1.25,
          1.25,
          1.65,
          2.55,
          3.75,
          1.25,
          0.19,
          0.55,
          2.1,
          0.42,
          8.5,
          1.95,
          0.85,
          12.75,
          2.1,
          2.95,
          0.42,
          4.95,
          0.42,
          5.95,
          3.75,
          0.42,
          0.85,
          2.55,
          3.45,
          1.65,
          0.42,
          2.95,
          2.95,
          1.95,
          9.95,
          5.95,
          3.75,
          0.85,
          2.55,
          1.95,
          0.85,
          3.75,
          0.42,
          12.75,
          4.25,
          0.85,
          0.85,
          2.1,
          2.95,
          3.75,
          1.65,
          1.45,
          4.95,
          0.42,
          0.85,
          5.95,
          3.75,
          3.75,
          1.25,
          1.95,
          1.95,
          1.25,
          1.25,
          1.95,
          0.42,
          5.45,
          0.85,
          2.55,
          9.95,
          0.72,
          1.25,
          2.1,
          2.55,
          1.65,
          1.65,
          0.42,
          2.95,
          2.1,
          5.95,
          10.95,
          2.55,
          3.75,
          0.85,
          0.85,
          1.65,
          3.75,
          0.55,
          7.95,
          1.25,
          0.29,
          2.55,
          9.95,
          1.25,
          2.95,
          7.95,
          1.95,
          4.95,
          1.69,
          0.55,
          1.95,
          2.1,
          3.75,
          2.95,
          0.42,
          0.42,
          10.95,
          1.65,
          1.25,
          1.95,
          2.25,
          0.42,
          2.1,
          0.85,
          2.1,
          3.75,
          1.95,
          1.25,
          4.25,
          0.42,
          1.95,
          0.38,
          2.55,
          2.55,
          0.85,
          1.25,
          0.21,
          0.85,
          2.95,
          4.25,
          1.65,
          4.25,
          3.75,
          0.25,
          1.65,
          1.25,
          4.95,
          1.65,
          4.25,
          2.95,
          0.55,
          2.1,
          12.75,
          1.95,
          2.95,
          2.95,
          0.95,
          2.95,
          1.95,
          4.25,
          16.95,
          1.25,
          3.75,
          1.06,
          5.95,
          7.49,
          1.25,
          1.25,
          1.45,
          1.95,
          0.85,
          0.65,
          8.5,
          1.59,
          1.69,
          1.95,
          1.95,
          0.85,
          1.69,
          1.25,
          2.95,
          4.95,
          0.85,
          1.49,
          1.25,
          1.65,
          1.95,
          0.42,
          1.95,
          7.49,
          0.42,
          3.75,
          8.95,
          10.75,
          1.25,
          0.85,
          0.85,
          1.95,
          4.95,
          2.95,
          5.45,
          0.85,
          0.85,
          1.45,
          0.65,
          0.85,
          0.95,
          4.65,
          0.42,
          1.25,
          1.65,
          4.95,
          3.75,
          14.95,
          2.95,
          2.95,
          1.55,
          1.65,
          0.65,
          2.1,
          0.65,
          1.65,
          1.65,
          9.95,
          2.95,
          6.75,
          2.55,
          1.45,
          1.25,
          3.75,
          1.25,
          1.95,
          0.85,
          2.95,
          4.25,
          1.65,
          1.95,
          1.25,
          1.65,
          1.95,
          0.85,
          0.42,
          1.25,
          9.95,
          0.42,
          0.95,
          0.85,
          1.45,
          0.85,
          0.65,
          4.95,
          3.75,
          0.72,
          4.95,
          1.49,
          12.75,
          3.45,
          0.85,
          2.55,
          7.95,
          1.45,
          4.65,
          2.1,
          0.85,
          4.25,
          1.95,
          5.95,
          0.42,
          4.95,
          3.75,
          2.55,
          6.75,
          3.75,
          1.69,
          1.45,
          2.55,
          0.29,
          0.85,
          1.65,
          2.95,
          0.85,
          1.69,
          7.49,
          1.25,
          4.65,
          6.75,
          1.45,
          1.45,
          3.75,
          3.75,
          0.65,
          0.42,
          0.85,
          1.65,
          8.5,
          1.25,
          2.1,
          0.85,
          1.65,
          5.95,
          0.85,
          2.55,
          2.95,
          4.95,
          1.25,
          0.85,
          18.95,
          0.85,
          2.25,
          0.55,
          0.55,
          1.65,
          4.95,
          1.25,
          1.25,
          0.85,
          0.42,
          4.65,
          2.95,
          1.25,
          1.65,
          1.65,
          1.95,
          4.95,
          2.95,
          9.95,
          0.42,
          1.06,
          2.55,
          2.1,
          1.25,
          2.95,
          0.42,
          5.45,
          1.95,
          1.25,
          6.95,
          1.45,
          0.64,
          1.65,
          0.85,
          1.25,
          3.75,
          2.95,
          4.25,
          0.42,
          0.55,
          2.55,
          7.95,
          3.95,
          8.5,
          1.25,
          3.75,
          1.25,
          2.95,
          0.85,
          5.95,
          4.95,
          2.55,
          1.45,
          2.1,
          2.95,
          1.25,
          1.65,
          0.85,
          8.5,
          1.65,
          1.25,
          1.65,
          9.95,
          0.55,
          2.95,
          7.49,
          3.75,
          3.25,
          1.25,
          1.25,
          1.25,
          1.95,
          0.72,
          8.5,
          1.65,
          3.75,
          3.75,
          0.85,
          0.42,
          0.85,
          0.65,
          1.95,
          1.25,
          3.35,
          1.25,
          1.25,
          7.49,
          8.95,
          1.45,
          7.95,
          1.25,
          0.42,
          2.55,
          0.85,
          0.21,
          5.95,
          2.55,
          2.95,
          5.95,
          1.69,
          2.95,
          12.75,
          8.5,
          1.69,
          2.1,
          3.81,
          2.55,
          0.21,
          3.45,
          0.85,
          2.55,
          3.95,
          0.85,
          1.49,
          5.45,
          1.95,
          0.12,
          0.85,
          4.95,
          1.65,
          2.95,
          1.25,
          2.1,
          0.42,
          9.95,
          1.69,
          1.49,
          5.95,
          3.75,
          0.42,
          0.42,
          4.95,
          2.95,
          8.5,
          7.95,
          1.65,
          1.65,
          2.95,
          1.25,
          4.95,
          0.85,
          1.65,
          1.25,
          1.25,
          1.65,
          0.42,
          3.75,
          4.95,
          1.25,
          8.95,
          5.95,
          1.25,
          1.25,
          0.65,
          1.25,
          2.95,
          0.85,
          0.85,
          1.45,
          0.85,
          1.25,
          2.95,
          1.25,
          1.25,
          4.25,
          3.75,
          2.95,
          1.25,
          5.95,
          6.45,
          0.85,
          1.65,
          0.65,
          2.95,
          1.65,
          0.42,
          1.65,
          0.85,
          8.5,
          2.55,
          2.1,
          6.75,
          10.75,
          0.42,
          2.1,
          2.95,
          1.25,
          0.65,
          0.85,
          9.95,
          4.65,
          1.95,
          1.25,
          0.42,
          2.1,
          2.95,
          0.85,
          0.65,
          1.69,
          5.95,
          4.95,
          1.95,
          2.1,
          4.25,
          5.95,
          2.1,
          1.45,
          1.65,
          7.95,
          0.42,
          1.65,
          1.65,
          1.65,
          5.95,
          0.38,
          1.65,
          1.25,
          0.42,
          4.25,
          12.75,
          3.75,
          1.95,
          4.95,
          0.65,
          2.95,
          1.25,
          0.72,
          2.95,
          1.65,
          5.95,
          1.25,
          4.95,
          7.95,
          0.42,
          12.75,
          1.65,
          1.65,
          0.42,
          0.85,
          1.95,
          1.95,
          1.25,
          0.85,
          8.5,
          1.25,
          1.65,
          4.95,
          4.95,
          1.65,
          1.95,
          9.95,
          2.1,
          1.45,
          2.1,
          4.25,
          0.85,
          0.19,
          1.06,
          0.19,
          1.25,
          0.85,
          1.25,
          0.85,
          3.75,
          4.95,
          2.1,
          0.85,
          1.65,
          3.75,
          2.55,
          1.25,
          0.42,
          1.65,
          1.25,
          8.5,
          3.95,
          1.65,
          0.85,
          16.95,
          0.85,
          1.25,
          5.95,
          0.85,
          4.95,
          1.95,
          3.25,
          6.35,
          2.95,
          2.55,
          1.25,
          4.95,
          2.55,
          3.75,
          1.45,
          1.25,
          0.85,
          3.75,
          1.25,
          4.95,
          0.55,
          0.42,
          2.95,
          1.95,
          0.85,
          2.95,
          2.1,
          4.65,
          4.65,
          1.65,
          0.42,
          1.25,
          2.1,
          2.1,
          2.95,
          3.75,
          4.65,
          0.85,
          2.1,
          1.25,
          1.45,
          6.75,
          4.65,
          1.25,
          9.95,
          1.65,
          6.35,
          2.95,
          1.25,
          1.25,
          14.95,
          0.55,
          1.25,
          2.95,
          4.95,
          2.95,
          7.95,
          1.65,
          1.25,
          0.85,
          1.95,
          3.45,
          2.95,
          6.75,
          2.95,
          8.5,
          1.25,
          1.65,
          1.25,
          1.69,
          0.85,
          3.75,
          3.25,
          7.65,
          2.95,
          0.21,
          0.55,
          1.25,
          0.85,
          0.85,
          2.95,
          1.25,
          2.95,
          1.95,
          0.85,
          4.25,
          0.38,
          0.65,
          6.95,
          0.42,
          2.55,
          1.25,
          2.55,
          2.1,
          4.95,
          0.85,
          0.55,
          2.1,
          1.45,
          2.1,
          0.55,
          7.95,
          3.75,
          2.1,
          0.65,
          0.42,
          0.85,
          5.95,
          2.55,
          0.42,
          1.69,
          1.25,
          4.25,
          3.75,
          12.75,
          1.25,
          2.1,
          1.25,
          0.85,
          3.95,
          1.25,
          0.85,
          6.75,
          1.25,
          1.65,
          1.45,
          9.95,
          2.95,
          1.69,
          1.65,
          2.1,
          16.95,
          2.95,
          2.1,
          1.25,
          4.95,
          3.75,
          1.25,
          7.95,
          1.25,
          2.1,
          1.25,
          2.55,
          1.65,
          1.65,
          2.25,
          2.25,
          1.25,
          7.49,
          2.55,
          1.25,
          9.95,
          0.42,
          0.95
         ],
         "xaxis": "x",
         "yaxis": "y"
        },
        {
         "alignmentgroup": "True",
         "hovertemplate": "variable=Price<br>value=%{x}<extra></extra>",
         "legendgroup": "Price",
         "marker": {
          "color": "#636efa"
         },
         "name": "Price",
         "notched": true,
         "offsetgroup": "Price",
         "showlegend": false,
         "type": "box",
         "x": [
          1.95,
          0.21,
          1.45,
          1.95,
          2.95,
          9.95,
          10.95,
          0.85,
          2.1,
          2.95,
          1.45,
          11.95,
          3.75,
          1.25,
          0.65,
          0.36,
          15,
          1.25,
          2.1,
          2.55,
          12.75,
          2.95,
          1.25,
          2.95,
          2.55,
          7.95,
          0.55,
          0.85,
          1.25,
          0.85,
          0.55,
          0.85,
          1.25,
          1.25,
          1.25,
          7.95,
          2.95,
          1.95,
          1.25,
          0.85,
          2.95,
          12.75,
          1.65,
          1.25,
          1.45,
          1.45,
          1.25,
          12.75,
          2.55,
          3.75,
          1.06,
          1.25,
          2.1,
          2.55,
          0.85,
          1.95,
          0.85,
          0.85,
          2.55,
          1.95,
          12.75,
          4.65,
          1.25,
          4.95,
          0.85,
          0.65,
          3.75,
          0.85,
          1.45,
          0.55,
          1.65,
          6.75,
          0.29,
          3.75,
          1.25,
          1.25,
          1.06,
          18,
          1.25,
          2.95,
          0.85,
          2.95,
          4.95,
          1.65,
          1.95,
          5.95,
          6.75,
          4.25,
          2.95,
          1.25,
          2.55,
          3.95,
          0.21,
          1.69,
          1.25,
          2.1,
          3.75,
          6.35,
          2.55,
          0.36,
          3.75,
          1.95,
          0.42,
          2.1,
          5.95,
          5.95,
          3.25,
          1.25,
          1.25,
          2.1,
          1.65,
          2.95,
          2.95,
          1.65,
          0.14,
          6.35,
          0.42,
          1.25,
          5.95,
          0.29,
          6.75,
          2.95,
          1.25,
          1.25,
          3.75,
          4.95,
          2.95,
          0.85,
          1.25,
          2.1,
          2.55,
          0.85,
          0.85,
          1.25,
          4.25,
          0.95,
          5.95,
          2.95,
          1.69,
          0.42,
          1.25,
          1.25,
          5.95,
          9.95,
          1.65,
          1.45,
          1.65,
          1.25,
          1.65,
          2.1,
          0.72,
          4.95,
          4.25,
          1.65,
          1.25,
          1.65,
          0.95,
          2.1,
          1.65,
          3.75,
          0.85,
          0.85,
          1.25,
          0.65,
          2.1,
          4.95,
          1.95,
          3.75,
          1.95,
          5.95,
          2.55,
          2.55,
          0.65,
          1.95,
          0.42,
          4.95,
          12.75,
          1.65,
          0.55,
          12.75,
          0.42,
          1.45,
          4.95,
          0.85,
          1.65,
          1.45,
          1.95,
          1.45,
          0.3,
          1.95,
          1.65,
          2.1,
          8.95,
          1.45,
          0.42,
          2.1,
          1.65,
          1.65,
          7.49,
          0.85,
          2.1,
          1.69,
          2.95,
          0.85,
          3.75,
          2.1,
          0.65,
          0.65,
          0.42,
          1.25,
          2.55,
          2.95,
          2.1,
          2.25,
          0.42,
          1.25,
          1.65,
          2.55,
          1.45,
          1.69,
          3.75,
          1.65,
          3.75,
          4.25,
          1.25,
          0.85,
          3.95,
          2.1,
          2.95,
          1.65,
          0.55,
          3.75,
          5.95,
          0.42,
          0.85,
          1.25,
          3.75,
          0.85,
          0.29,
          7.49,
          2.95,
          1.65,
          2.1,
          4.95,
          1.25,
          1.65,
          0.65,
          1.65,
          1.95,
          1.25,
          0.85,
          1.95,
          1.65,
          0.85,
          4.95,
          0.85,
          2.1,
          0.65,
          0.85,
          1.25,
          1.65,
          0.42,
          0.42,
          1.95,
          1.45,
          0.65,
          3.75,
          0.85,
          4.25,
          1.69,
          1.25,
          9.95,
          8.5,
          1.25,
          2.55,
          1.25,
          1.25,
          1.65,
          2.55,
          3.75,
          1.25,
          0.19,
          0.55,
          2.1,
          0.42,
          8.5,
          1.95,
          0.85,
          12.75,
          2.1,
          2.95,
          0.42,
          4.95,
          0.42,
          5.95,
          3.75,
          0.42,
          0.85,
          2.55,
          3.45,
          1.65,
          0.42,
          2.95,
          2.95,
          1.95,
          9.95,
          5.95,
          3.75,
          0.85,
          2.55,
          1.95,
          0.85,
          3.75,
          0.42,
          12.75,
          4.25,
          0.85,
          0.85,
          2.1,
          2.95,
          3.75,
          1.65,
          1.45,
          4.95,
          0.42,
          0.85,
          5.95,
          3.75,
          3.75,
          1.25,
          1.95,
          1.95,
          1.25,
          1.25,
          1.95,
          0.42,
          5.45,
          0.85,
          2.55,
          9.95,
          0.72,
          1.25,
          2.1,
          2.55,
          1.65,
          1.65,
          0.42,
          2.95,
          2.1,
          5.95,
          10.95,
          2.55,
          3.75,
          0.85,
          0.85,
          1.65,
          3.75,
          0.55,
          7.95,
          1.25,
          0.29,
          2.55,
          9.95,
          1.25,
          2.95,
          7.95,
          1.95,
          4.95,
          1.69,
          0.55,
          1.95,
          2.1,
          3.75,
          2.95,
          0.42,
          0.42,
          10.95,
          1.65,
          1.25,
          1.95,
          2.25,
          0.42,
          2.1,
          0.85,
          2.1,
          3.75,
          1.95,
          1.25,
          4.25,
          0.42,
          1.95,
          0.38,
          2.55,
          2.55,
          0.85,
          1.25,
          0.21,
          0.85,
          2.95,
          4.25,
          1.65,
          4.25,
          3.75,
          0.25,
          1.65,
          1.25,
          4.95,
          1.65,
          4.25,
          2.95,
          0.55,
          2.1,
          12.75,
          1.95,
          2.95,
          2.95,
          0.95,
          2.95,
          1.95,
          4.25,
          16.95,
          1.25,
          3.75,
          1.06,
          5.95,
          7.49,
          1.25,
          1.25,
          1.45,
          1.95,
          0.85,
          0.65,
          8.5,
          1.59,
          1.69,
          1.95,
          1.95,
          0.85,
          1.69,
          1.25,
          2.95,
          4.95,
          0.85,
          1.49,
          1.25,
          1.65,
          1.95,
          0.42,
          1.95,
          7.49,
          0.42,
          3.75,
          8.95,
          10.75,
          1.25,
          0.85,
          0.85,
          1.95,
          4.95,
          2.95,
          5.45,
          0.85,
          0.85,
          1.45,
          0.65,
          0.85,
          0.95,
          4.65,
          0.42,
          1.25,
          1.65,
          4.95,
          3.75,
          14.95,
          2.95,
          2.95,
          1.55,
          1.65,
          0.65,
          2.1,
          0.65,
          1.65,
          1.65,
          9.95,
          2.95,
          6.75,
          2.55,
          1.45,
          1.25,
          3.75,
          1.25,
          1.95,
          0.85,
          2.95,
          4.25,
          1.65,
          1.95,
          1.25,
          1.65,
          1.95,
          0.85,
          0.42,
          1.25,
          9.95,
          0.42,
          0.95,
          0.85,
          1.45,
          0.85,
          0.65,
          4.95,
          3.75,
          0.72,
          4.95,
          1.49,
          12.75,
          3.45,
          0.85,
          2.55,
          7.95,
          1.45,
          4.65,
          2.1,
          0.85,
          4.25,
          1.95,
          5.95,
          0.42,
          4.95,
          3.75,
          2.55,
          6.75,
          3.75,
          1.69,
          1.45,
          2.55,
          0.29,
          0.85,
          1.65,
          2.95,
          0.85,
          1.69,
          7.49,
          1.25,
          4.65,
          6.75,
          1.45,
          1.45,
          3.75,
          3.75,
          0.65,
          0.42,
          0.85,
          1.65,
          8.5,
          1.25,
          2.1,
          0.85,
          1.65,
          5.95,
          0.85,
          2.55,
          2.95,
          4.95,
          1.25,
          0.85,
          18.95,
          0.85,
          2.25,
          0.55,
          0.55,
          1.65,
          4.95,
          1.25,
          1.25,
          0.85,
          0.42,
          4.65,
          2.95,
          1.25,
          1.65,
          1.65,
          1.95,
          4.95,
          2.95,
          9.95,
          0.42,
          1.06,
          2.55,
          2.1,
          1.25,
          2.95,
          0.42,
          5.45,
          1.95,
          1.25,
          6.95,
          1.45,
          0.64,
          1.65,
          0.85,
          1.25,
          3.75,
          2.95,
          4.25,
          0.42,
          0.55,
          2.55,
          7.95,
          3.95,
          8.5,
          1.25,
          3.75,
          1.25,
          2.95,
          0.85,
          5.95,
          4.95,
          2.55,
          1.45,
          2.1,
          2.95,
          1.25,
          1.65,
          0.85,
          8.5,
          1.65,
          1.25,
          1.65,
          9.95,
          0.55,
          2.95,
          7.49,
          3.75,
          3.25,
          1.25,
          1.25,
          1.25,
          1.95,
          0.72,
          8.5,
          1.65,
          3.75,
          3.75,
          0.85,
          0.42,
          0.85,
          0.65,
          1.95,
          1.25,
          3.35,
          1.25,
          1.25,
          7.49,
          8.95,
          1.45,
          7.95,
          1.25,
          0.42,
          2.55,
          0.85,
          0.21,
          5.95,
          2.55,
          2.95,
          5.95,
          1.69,
          2.95,
          12.75,
          8.5,
          1.69,
          2.1,
          3.81,
          2.55,
          0.21,
          3.45,
          0.85,
          2.55,
          3.95,
          0.85,
          1.49,
          5.45,
          1.95,
          0.12,
          0.85,
          4.95,
          1.65,
          2.95,
          1.25,
          2.1,
          0.42,
          9.95,
          1.69,
          1.49,
          5.95,
          3.75,
          0.42,
          0.42,
          4.95,
          2.95,
          8.5,
          7.95,
          1.65,
          1.65,
          2.95,
          1.25,
          4.95,
          0.85,
          1.65,
          1.25,
          1.25,
          1.65,
          0.42,
          3.75,
          4.95,
          1.25,
          8.95,
          5.95,
          1.25,
          1.25,
          0.65,
          1.25,
          2.95,
          0.85,
          0.85,
          1.45,
          0.85,
          1.25,
          2.95,
          1.25,
          1.25,
          4.25,
          3.75,
          2.95,
          1.25,
          5.95,
          6.45,
          0.85,
          1.65,
          0.65,
          2.95,
          1.65,
          0.42,
          1.65,
          0.85,
          8.5,
          2.55,
          2.1,
          6.75,
          10.75,
          0.42,
          2.1,
          2.95,
          1.25,
          0.65,
          0.85,
          9.95,
          4.65,
          1.95,
          1.25,
          0.42,
          2.1,
          2.95,
          0.85,
          0.65,
          1.69,
          5.95,
          4.95,
          1.95,
          2.1,
          4.25,
          5.95,
          2.1,
          1.45,
          1.65,
          7.95,
          0.42,
          1.65,
          1.65,
          1.65,
          5.95,
          0.38,
          1.65,
          1.25,
          0.42,
          4.25,
          12.75,
          3.75,
          1.95,
          4.95,
          0.65,
          2.95,
          1.25,
          0.72,
          2.95,
          1.65,
          5.95,
          1.25,
          4.95,
          7.95,
          0.42,
          12.75,
          1.65,
          1.65,
          0.42,
          0.85,
          1.95,
          1.95,
          1.25,
          0.85,
          8.5,
          1.25,
          1.65,
          4.95,
          4.95,
          1.65,
          1.95,
          9.95,
          2.1,
          1.45,
          2.1,
          4.25,
          0.85,
          0.19,
          1.06,
          0.19,
          1.25,
          0.85,
          1.25,
          0.85,
          3.75,
          4.95,
          2.1,
          0.85,
          1.65,
          3.75,
          2.55,
          1.25,
          0.42,
          1.65,
          1.25,
          8.5,
          3.95,
          1.65,
          0.85,
          16.95,
          0.85,
          1.25,
          5.95,
          0.85,
          4.95,
          1.95,
          3.25,
          6.35,
          2.95,
          2.55,
          1.25,
          4.95,
          2.55,
          3.75,
          1.45,
          1.25,
          0.85,
          3.75,
          1.25,
          4.95,
          0.55,
          0.42,
          2.95,
          1.95,
          0.85,
          2.95,
          2.1,
          4.65,
          4.65,
          1.65,
          0.42,
          1.25,
          2.1,
          2.1,
          2.95,
          3.75,
          4.65,
          0.85,
          2.1,
          1.25,
          1.45,
          6.75,
          4.65,
          1.25,
          9.95,
          1.65,
          6.35,
          2.95,
          1.25,
          1.25,
          14.95,
          0.55,
          1.25,
          2.95,
          4.95,
          2.95,
          7.95,
          1.65,
          1.25,
          0.85,
          1.95,
          3.45,
          2.95,
          6.75,
          2.95,
          8.5,
          1.25,
          1.65,
          1.25,
          1.69,
          0.85,
          3.75,
          3.25,
          7.65,
          2.95,
          0.21,
          0.55,
          1.25,
          0.85,
          0.85,
          2.95,
          1.25,
          2.95,
          1.95,
          0.85,
          4.25,
          0.38,
          0.65,
          6.95,
          0.42,
          2.55,
          1.25,
          2.55,
          2.1,
          4.95,
          0.85,
          0.55,
          2.1,
          1.45,
          2.1,
          0.55,
          7.95,
          3.75,
          2.1,
          0.65,
          0.42,
          0.85,
          5.95,
          2.55,
          0.42,
          1.69,
          1.25,
          4.25,
          3.75,
          12.75,
          1.25,
          2.1,
          1.25,
          0.85,
          3.95,
          1.25,
          0.85,
          6.75,
          1.25,
          1.65,
          1.45,
          9.95,
          2.95,
          1.69,
          1.65,
          2.1,
          16.95,
          2.95,
          2.1,
          1.25,
          4.95,
          3.75,
          1.25,
          7.95,
          1.25,
          2.1,
          1.25,
          2.55,
          1.65,
          1.65,
          2.25,
          2.25,
          1.25,
          7.49,
          2.55,
          1.25,
          9.95,
          0.42,
          0.95
         ],
         "xaxis": "x2",
         "yaxis": "y2"
        }
       ],
       "layout": {
        "barmode": "relative",
        "legend": {
         "title": {
          "text": "variable"
         },
         "tracegroupgap": 0
        },
        "template": {
         "data": {
          "bar": [
           {
            "error_x": {
             "color": "#2a3f5f"
            },
            "error_y": {
             "color": "#2a3f5f"
            },
            "marker": {
             "line": {
              "color": "#E5ECF6",
              "width": 0.5
             },
             "pattern": {
              "fillmode": "overlay",
              "size": 10,
              "solidity": 0.2
             }
            },
            "type": "bar"
           }
          ],
          "barpolar": [
           {
            "marker": {
             "line": {
              "color": "#E5ECF6",
              "width": 0.5
             },
             "pattern": {
              "fillmode": "overlay",
              "size": 10,
              "solidity": 0.2
             }
            },
            "type": "barpolar"
           }
          ],
          "carpet": [
           {
            "aaxis": {
             "endlinecolor": "#2a3f5f",
             "gridcolor": "white",
             "linecolor": "white",
             "minorgridcolor": "white",
             "startlinecolor": "#2a3f5f"
            },
            "baxis": {
             "endlinecolor": "#2a3f5f",
             "gridcolor": "white",
             "linecolor": "white",
             "minorgridcolor": "white",
             "startlinecolor": "#2a3f5f"
            },
            "type": "carpet"
           }
          ],
          "choropleth": [
           {
            "colorbar": {
             "outlinewidth": 0,
             "ticks": ""
            },
            "type": "choropleth"
           }
          ],
          "contour": [
           {
            "colorbar": {
             "outlinewidth": 0,
             "ticks": ""
            },
            "colorscale": [
             [
              0,
              "#0d0887"
             ],
             [
              0.1111111111111111,
              "#46039f"
             ],
             [
              0.2222222222222222,
              "#7201a8"
             ],
             [
              0.3333333333333333,
              "#9c179e"
             ],
             [
              0.4444444444444444,
              "#bd3786"
             ],
             [
              0.5555555555555556,
              "#d8576b"
             ],
             [
              0.6666666666666666,
              "#ed7953"
             ],
             [
              0.7777777777777778,
              "#fb9f3a"
             ],
             [
              0.8888888888888888,
              "#fdca26"
             ],
             [
              1,
              "#f0f921"
             ]
            ],
            "type": "contour"
           }
          ],
          "contourcarpet": [
           {
            "colorbar": {
             "outlinewidth": 0,
             "ticks": ""
            },
            "type": "contourcarpet"
           }
          ],
          "heatmap": [
           {
            "colorbar": {
             "outlinewidth": 0,
             "ticks": ""
            },
            "colorscale": [
             [
              0,
              "#0d0887"
             ],
             [
              0.1111111111111111,
              "#46039f"
             ],
             [
              0.2222222222222222,
              "#7201a8"
             ],
             [
              0.3333333333333333,
              "#9c179e"
             ],
             [
              0.4444444444444444,
              "#bd3786"
             ],
             [
              0.5555555555555556,
              "#d8576b"
             ],
             [
              0.6666666666666666,
              "#ed7953"
             ],
             [
              0.7777777777777778,
              "#fb9f3a"
             ],
             [
              0.8888888888888888,
              "#fdca26"
             ],
             [
              1,
              "#f0f921"
             ]
            ],
            "type": "heatmap"
           }
          ],
          "heatmapgl": [
           {
            "colorbar": {
             "outlinewidth": 0,
             "ticks": ""
            },
            "colorscale": [
             [
              0,
              "#0d0887"
             ],
             [
              0.1111111111111111,
              "#46039f"
             ],
             [
              0.2222222222222222,
              "#7201a8"
             ],
             [
              0.3333333333333333,
              "#9c179e"
             ],
             [
              0.4444444444444444,
              "#bd3786"
             ],
             [
              0.5555555555555556,
              "#d8576b"
             ],
             [
              0.6666666666666666,
              "#ed7953"
             ],
             [
              0.7777777777777778,
              "#fb9f3a"
             ],
             [
              0.8888888888888888,
              "#fdca26"
             ],
             [
              1,
              "#f0f921"
             ]
            ],
            "type": "heatmapgl"
           }
          ],
          "histogram": [
           {
            "marker": {
             "pattern": {
              "fillmode": "overlay",
              "size": 10,
              "solidity": 0.2
             }
            },
            "type": "histogram"
           }
          ],
          "histogram2d": [
           {
            "colorbar": {
             "outlinewidth": 0,
             "ticks": ""
            },
            "colorscale": [
             [
              0,
              "#0d0887"
             ],
             [
              0.1111111111111111,
              "#46039f"
             ],
             [
              0.2222222222222222,
              "#7201a8"
             ],
             [
              0.3333333333333333,
              "#9c179e"
             ],
             [
              0.4444444444444444,
              "#bd3786"
             ],
             [
              0.5555555555555556,
              "#d8576b"
             ],
             [
              0.6666666666666666,
              "#ed7953"
             ],
             [
              0.7777777777777778,
              "#fb9f3a"
             ],
             [
              0.8888888888888888,
              "#fdca26"
             ],
             [
              1,
              "#f0f921"
             ]
            ],
            "type": "histogram2d"
           }
          ],
          "histogram2dcontour": [
           {
            "colorbar": {
             "outlinewidth": 0,
             "ticks": ""
            },
            "colorscale": [
             [
              0,
              "#0d0887"
             ],
             [
              0.1111111111111111,
              "#46039f"
             ],
             [
              0.2222222222222222,
              "#7201a8"
             ],
             [
              0.3333333333333333,
              "#9c179e"
             ],
             [
              0.4444444444444444,
              "#bd3786"
             ],
             [
              0.5555555555555556,
              "#d8576b"
             ],
             [
              0.6666666666666666,
              "#ed7953"
             ],
             [
              0.7777777777777778,
              "#fb9f3a"
             ],
             [
              0.8888888888888888,
              "#fdca26"
             ],
             [
              1,
              "#f0f921"
             ]
            ],
            "type": "histogram2dcontour"
           }
          ],
          "mesh3d": [
           {
            "colorbar": {
             "outlinewidth": 0,
             "ticks": ""
            },
            "type": "mesh3d"
           }
          ],
          "parcoords": [
           {
            "line": {
             "colorbar": {
              "outlinewidth": 0,
              "ticks": ""
             }
            },
            "type": "parcoords"
           }
          ],
          "pie": [
           {
            "automargin": true,
            "type": "pie"
           }
          ],
          "scatter": [
           {
            "fillpattern": {
             "fillmode": "overlay",
             "size": 10,
             "solidity": 0.2
            },
            "type": "scatter"
           }
          ],
          "scatter3d": [
           {
            "line": {
             "colorbar": {
              "outlinewidth": 0,
              "ticks": ""
             }
            },
            "marker": {
             "colorbar": {
              "outlinewidth": 0,
              "ticks": ""
             }
            },
            "type": "scatter3d"
           }
          ],
          "scattercarpet": [
           {
            "marker": {
             "colorbar": {
              "outlinewidth": 0,
              "ticks": ""
             }
            },
            "type": "scattercarpet"
           }
          ],
          "scattergeo": [
           {
            "marker": {
             "colorbar": {
              "outlinewidth": 0,
              "ticks": ""
             }
            },
            "type": "scattergeo"
           }
          ],
          "scattergl": [
           {
            "marker": {
             "colorbar": {
              "outlinewidth": 0,
              "ticks": ""
             }
            },
            "type": "scattergl"
           }
          ],
          "scattermapbox": [
           {
            "marker": {
             "colorbar": {
              "outlinewidth": 0,
              "ticks": ""
             }
            },
            "type": "scattermapbox"
           }
          ],
          "scatterpolar": [
           {
            "marker": {
             "colorbar": {
              "outlinewidth": 0,
              "ticks": ""
             }
            },
            "type": "scatterpolar"
           }
          ],
          "scatterpolargl": [
           {
            "marker": {
             "colorbar": {
              "outlinewidth": 0,
              "ticks": ""
             }
            },
            "type": "scatterpolargl"
           }
          ],
          "scatterternary": [
           {
            "marker": {
             "colorbar": {
              "outlinewidth": 0,
              "ticks": ""
             }
            },
            "type": "scatterternary"
           }
          ],
          "surface": [
           {
            "colorbar": {
             "outlinewidth": 0,
             "ticks": ""
            },
            "colorscale": [
             [
              0,
              "#0d0887"
             ],
             [
              0.1111111111111111,
              "#46039f"
             ],
             [
              0.2222222222222222,
              "#7201a8"
             ],
             [
              0.3333333333333333,
              "#9c179e"
             ],
             [
              0.4444444444444444,
              "#bd3786"
             ],
             [
              0.5555555555555556,
              "#d8576b"
             ],
             [
              0.6666666666666666,
              "#ed7953"
             ],
             [
              0.7777777777777778,
              "#fb9f3a"
             ],
             [
              0.8888888888888888,
              "#fdca26"
             ],
             [
              1,
              "#f0f921"
             ]
            ],
            "type": "surface"
           }
          ],
          "table": [
           {
            "cells": {
             "fill": {
              "color": "#EBF0F8"
             },
             "line": {
              "color": "white"
             }
            },
            "header": {
             "fill": {
              "color": "#C8D4E3"
             },
             "line": {
              "color": "white"
             }
            },
            "type": "table"
           }
          ]
         },
         "layout": {
          "annotationdefaults": {
           "arrowcolor": "#2a3f5f",
           "arrowhead": 0,
           "arrowwidth": 1
          },
          "autotypenumbers": "strict",
          "coloraxis": {
           "colorbar": {
            "outlinewidth": 0,
            "ticks": ""
           }
          },
          "colorscale": {
           "diverging": [
            [
             0,
             "#8e0152"
            ],
            [
             0.1,
             "#c51b7d"
            ],
            [
             0.2,
             "#de77ae"
            ],
            [
             0.3,
             "#f1b6da"
            ],
            [
             0.4,
             "#fde0ef"
            ],
            [
             0.5,
             "#f7f7f7"
            ],
            [
             0.6,
             "#e6f5d0"
            ],
            [
             0.7,
             "#b8e186"
            ],
            [
             0.8,
             "#7fbc41"
            ],
            [
             0.9,
             "#4d9221"
            ],
            [
             1,
             "#276419"
            ]
           ],
           "sequential": [
            [
             0,
             "#0d0887"
            ],
            [
             0.1111111111111111,
             "#46039f"
            ],
            [
             0.2222222222222222,
             "#7201a8"
            ],
            [
             0.3333333333333333,
             "#9c179e"
            ],
            [
             0.4444444444444444,
             "#bd3786"
            ],
            [
             0.5555555555555556,
             "#d8576b"
            ],
            [
             0.6666666666666666,
             "#ed7953"
            ],
            [
             0.7777777777777778,
             "#fb9f3a"
            ],
            [
             0.8888888888888888,
             "#fdca26"
            ],
            [
             1,
             "#f0f921"
            ]
           ],
           "sequentialminus": [
            [
             0,
             "#0d0887"
            ],
            [
             0.1111111111111111,
             "#46039f"
            ],
            [
             0.2222222222222222,
             "#7201a8"
            ],
            [
             0.3333333333333333,
             "#9c179e"
            ],
            [
             0.4444444444444444,
             "#bd3786"
            ],
            [
             0.5555555555555556,
             "#d8576b"
            ],
            [
             0.6666666666666666,
             "#ed7953"
            ],
            [
             0.7777777777777778,
             "#fb9f3a"
            ],
            [
             0.8888888888888888,
             "#fdca26"
            ],
            [
             1,
             "#f0f921"
            ]
           ]
          },
          "colorway": [
           "#636efa",
           "#EF553B",
           "#00cc96",
           "#ab63fa",
           "#FFA15A",
           "#19d3f3",
           "#FF6692",
           "#B6E880",
           "#FF97FF",
           "#FECB52"
          ],
          "font": {
           "color": "#2a3f5f"
          },
          "geo": {
           "bgcolor": "white",
           "lakecolor": "white",
           "landcolor": "#E5ECF6",
           "showlakes": true,
           "showland": true,
           "subunitcolor": "white"
          },
          "hoverlabel": {
           "align": "left"
          },
          "hovermode": "closest",
          "mapbox": {
           "style": "light"
          },
          "paper_bgcolor": "white",
          "plot_bgcolor": "#E5ECF6",
          "polar": {
           "angularaxis": {
            "gridcolor": "white",
            "linecolor": "white",
            "ticks": ""
           },
           "bgcolor": "#E5ECF6",
           "radialaxis": {
            "gridcolor": "white",
            "linecolor": "white",
            "ticks": ""
           }
          },
          "scene": {
           "xaxis": {
            "backgroundcolor": "#E5ECF6",
            "gridcolor": "white",
            "gridwidth": 2,
            "linecolor": "white",
            "showbackground": true,
            "ticks": "",
            "zerolinecolor": "white"
           },
           "yaxis": {
            "backgroundcolor": "#E5ECF6",
            "gridcolor": "white",
            "gridwidth": 2,
            "linecolor": "white",
            "showbackground": true,
            "ticks": "",
            "zerolinecolor": "white"
           },
           "zaxis": {
            "backgroundcolor": "#E5ECF6",
            "gridcolor": "white",
            "gridwidth": 2,
            "linecolor": "white",
            "showbackground": true,
            "ticks": "",
            "zerolinecolor": "white"
           }
          },
          "shapedefaults": {
           "line": {
            "color": "#2a3f5f"
           }
          },
          "ternary": {
           "aaxis": {
            "gridcolor": "white",
            "linecolor": "white",
            "ticks": ""
           },
           "baxis": {
            "gridcolor": "white",
            "linecolor": "white",
            "ticks": ""
           },
           "bgcolor": "#E5ECF6",
           "caxis": {
            "gridcolor": "white",
            "linecolor": "white",
            "ticks": ""
           }
          },
          "title": {
           "x": 0.05
          },
          "xaxis": {
           "automargin": true,
           "gridcolor": "white",
           "linecolor": "white",
           "ticks": "",
           "title": {
            "standoff": 15
           },
           "zerolinecolor": "white",
           "zerolinewidth": 2
          },
          "yaxis": {
           "automargin": true,
           "gridcolor": "white",
           "linecolor": "white",
           "ticks": "",
           "title": {
            "standoff": 15
           },
           "zerolinecolor": "white",
           "zerolinewidth": 2
          }
         }
        },
        "title": {
         "text": "Price - With Outliers"
        },
        "xaxis": {
         "anchor": "y",
         "domain": [
          0,
          1
         ],
         "title": {
          "text": "value"
         }
        },
        "xaxis2": {
         "anchor": "y2",
         "domain": [
          0,
          1
         ],
         "matches": "x",
         "showgrid": true,
         "showticklabels": false
        },
        "yaxis": {
         "anchor": "x",
         "domain": [
          0,
          0.7326
         ],
         "title": {
          "text": "count"
         }
        },
        "yaxis2": {
         "anchor": "x2",
         "domain": [
          0.7426,
          1
         ],
         "matches": "y2",
         "showgrid": false,
         "showline": false,
         "showticklabels": false,
         "ticks": ""
        }
       }
      }
     },
     "metadata": {},
     "output_type": "display_data"
    },
    {
     "data": {
      "application/vnd.plotly.v1+json": {
       "config": {
        "plotlyServerURL": "https://plot.ly"
       },
       "data": [
        {
         "alignmentgroup": "True",
         "bingroup": "x",
         "hovertemplate": "variable=Price<br>value=%{x}<br>count=%{y}<extra></extra>",
         "legendgroup": "Price",
         "marker": {
          "color": "#636efa",
          "pattern": {
           "shape": ""
          }
         },
         "name": "Price",
         "offsetgroup": "Price",
         "orientation": "v",
         "showlegend": true,
         "type": "histogram",
         "x": [
          1.95,
          0.21,
          1.45,
          1.95,
          2.95,
          9.95,
          10.95,
          0.85,
          2.1,
          2.95,
          1.45,
          3.75,
          1.25,
          0.65,
          0.36,
          1.25,
          2.1,
          2.55,
          2.95,
          1.25,
          2.95,
          2.55,
          7.95,
          0.55,
          0.85,
          1.25,
          0.85,
          0.55,
          0.85,
          1.25,
          1.25,
          1.25,
          7.95,
          2.95,
          1.95,
          1.25,
          0.85,
          2.95,
          1.65,
          1.25,
          1.45,
          1.45,
          1.25,
          2.55,
          3.75,
          1.06,
          1.25,
          2.1,
          2.55,
          0.85,
          1.95,
          0.85,
          0.85,
          2.55,
          1.95,
          4.65,
          1.25,
          4.95,
          0.85,
          0.65,
          3.75,
          0.85,
          1.45,
          0.55,
          1.65,
          6.75,
          0.29,
          3.75,
          1.25,
          1.25,
          1.06,
          1.25,
          2.95,
          0.85,
          2.95,
          4.95,
          1.65,
          1.95,
          5.95,
          6.75,
          4.25,
          2.95,
          1.25,
          2.55,
          3.95,
          0.21,
          1.69,
          1.25,
          2.1,
          3.75,
          6.35,
          2.55,
          0.36,
          3.75,
          1.95,
          0.42,
          2.1,
          5.95,
          5.95,
          3.25,
          1.25,
          1.25,
          2.1,
          1.65,
          2.95,
          2.95,
          1.65,
          0.14,
          6.35,
          0.42,
          1.25,
          5.95,
          0.29,
          6.75,
          2.95,
          1.25,
          1.25,
          3.75,
          4.95,
          2.95,
          0.85,
          1.25,
          2.1,
          2.55,
          0.85,
          0.85,
          1.25,
          4.25,
          0.95,
          5.95,
          2.95,
          1.69,
          0.42,
          1.25,
          1.25,
          5.95,
          9.95,
          1.65,
          1.45,
          1.65,
          1.25,
          1.65,
          2.1,
          0.72,
          4.95,
          4.25,
          1.65,
          1.25,
          1.65,
          0.95,
          2.1,
          1.65,
          3.75,
          0.85,
          0.85,
          1.25,
          0.65,
          2.1,
          4.95,
          1.95,
          3.75,
          1.95,
          5.95,
          2.55,
          2.55,
          0.65,
          1.95,
          0.42,
          4.95,
          1.65,
          0.55,
          0.42,
          1.45,
          4.95,
          0.85,
          1.65,
          1.45,
          1.95,
          1.45,
          0.3,
          1.95,
          1.65,
          2.1,
          8.95,
          1.45,
          0.42,
          2.1,
          1.65,
          1.65,
          7.49,
          0.85,
          2.1,
          1.69,
          2.95,
          0.85,
          3.75,
          2.1,
          0.65,
          0.65,
          0.42,
          1.25,
          2.55,
          2.95,
          2.1,
          2.25,
          0.42,
          1.25,
          1.65,
          2.55,
          1.45,
          1.69,
          3.75,
          1.65,
          3.75,
          4.25,
          1.25,
          0.85,
          3.95,
          2.1,
          2.95,
          1.65,
          0.55,
          3.75,
          5.95,
          0.42,
          0.85,
          1.25,
          3.75,
          0.85,
          0.29,
          7.49,
          2.95,
          1.65,
          2.1,
          4.95,
          1.25,
          1.65,
          0.65,
          1.65,
          1.95,
          1.25,
          0.85,
          1.95,
          1.65,
          0.85,
          4.95,
          0.85,
          2.1,
          0.65,
          0.85,
          1.25,
          1.65,
          0.42,
          0.42,
          1.95,
          1.45,
          0.65,
          3.75,
          0.85,
          4.25,
          1.69,
          1.25,
          9.95,
          8.5,
          1.25,
          2.55,
          1.25,
          1.25,
          1.65,
          2.55,
          3.75,
          1.25,
          0.19,
          0.55,
          2.1,
          0.42,
          8.5,
          1.95,
          0.85,
          2.1,
          2.95,
          0.42,
          4.95,
          0.42,
          5.95,
          3.75,
          0.42,
          0.85,
          2.55,
          3.45,
          1.65,
          0.42,
          2.95,
          2.95,
          1.95,
          9.95,
          5.95,
          3.75,
          0.85,
          2.55,
          1.95,
          0.85,
          3.75,
          0.42,
          4.25,
          0.85,
          0.85,
          2.1,
          2.95,
          3.75,
          1.65,
          1.45,
          4.95,
          0.42,
          0.85,
          5.95,
          3.75,
          3.75,
          1.25,
          1.95,
          1.95,
          1.25,
          1.25,
          1.95,
          0.42,
          5.45,
          0.85,
          2.55,
          9.95,
          0.72,
          1.25,
          2.1,
          2.55,
          1.65,
          1.65,
          0.42,
          2.95,
          2.1,
          5.95,
          10.95,
          2.55,
          3.75,
          0.85,
          0.85,
          1.65,
          3.75,
          0.55,
          7.95,
          1.25,
          0.29,
          2.55,
          9.95,
          1.25,
          2.95,
          7.95,
          1.95,
          4.95,
          1.69,
          0.55,
          1.95,
          2.1,
          3.75,
          2.95,
          0.42,
          0.42,
          10.95,
          1.65,
          1.25,
          1.95,
          2.25,
          0.42,
          2.1,
          0.85,
          2.1,
          3.75,
          1.95,
          1.25,
          4.25,
          0.42,
          1.95,
          0.38,
          2.55,
          2.55,
          0.85,
          1.25,
          0.21,
          0.85,
          2.95,
          4.25,
          1.65,
          4.25,
          3.75,
          0.25,
          1.65,
          1.25,
          4.95,
          1.65,
          4.25,
          2.95,
          0.55,
          2.1,
          1.95,
          2.95,
          2.95,
          0.95,
          2.95,
          1.95,
          4.25,
          1.25,
          3.75,
          1.06,
          5.95,
          7.49,
          1.25,
          1.25,
          1.45,
          1.95,
          0.85,
          0.65,
          8.5,
          1.59,
          1.69,
          1.95,
          1.95,
          0.85,
          1.69,
          1.25,
          2.95,
          4.95,
          0.85,
          1.49,
          1.25,
          1.65,
          1.95,
          0.42,
          1.95,
          7.49,
          0.42,
          3.75,
          8.95,
          10.75,
          1.25,
          0.85,
          0.85,
          1.95,
          4.95,
          2.95,
          5.45,
          0.85,
          0.85,
          1.45,
          0.65,
          0.85,
          0.95,
          4.65,
          0.42,
          1.25,
          1.65,
          4.95,
          3.75,
          2.95,
          2.95,
          1.55,
          1.65,
          0.65,
          2.1,
          0.65,
          1.65,
          1.65,
          9.95,
          2.95,
          6.75,
          2.55,
          1.45,
          1.25,
          3.75,
          1.25,
          1.95,
          0.85,
          2.95,
          4.25,
          1.65,
          1.95,
          1.25,
          1.65,
          1.95,
          0.85,
          0.42,
          1.25,
          9.95,
          0.42,
          0.95,
          0.85,
          1.45,
          0.85,
          0.65,
          4.95,
          3.75,
          0.72,
          4.95,
          1.49,
          3.45,
          0.85,
          2.55,
          7.95,
          1.45,
          4.65,
          2.1,
          0.85,
          4.25,
          1.95,
          5.95,
          0.42,
          4.95,
          3.75,
          2.55,
          6.75,
          3.75,
          1.69,
          1.45,
          2.55,
          0.29,
          0.85,
          1.65,
          2.95,
          0.85,
          1.69,
          7.49,
          1.25,
          4.65,
          6.75,
          1.45,
          1.45,
          3.75,
          3.75,
          0.65,
          0.42,
          0.85,
          1.65,
          8.5,
          1.25,
          2.1,
          0.85,
          1.65,
          5.95,
          0.85,
          2.55,
          2.95,
          4.95,
          1.25,
          0.85,
          0.85,
          2.25,
          0.55,
          0.55,
          1.65,
          4.95,
          1.25,
          1.25,
          0.85,
          0.42,
          4.65,
          2.95,
          1.25,
          1.65,
          1.65,
          1.95,
          4.95,
          2.95,
          9.95,
          0.42,
          1.06,
          2.55,
          2.1,
          1.25,
          2.95,
          0.42,
          5.45,
          1.95,
          1.25,
          6.95,
          1.45,
          0.64,
          1.65,
          0.85,
          1.25,
          3.75,
          2.95,
          4.25,
          0.42,
          0.55,
          2.55,
          7.95,
          3.95,
          8.5,
          1.25,
          3.75,
          1.25,
          2.95,
          0.85,
          5.95,
          4.95,
          2.55,
          1.45,
          2.1,
          2.95,
          1.25,
          1.65,
          0.85,
          8.5,
          1.65,
          1.25,
          1.65,
          9.95,
          0.55,
          2.95,
          7.49,
          3.75,
          3.25,
          1.25,
          1.25,
          1.25,
          1.95,
          0.72,
          8.5,
          1.65,
          3.75,
          3.75,
          0.85,
          0.42,
          0.85,
          0.65,
          1.95,
          1.25,
          3.35,
          1.25,
          1.25,
          7.49,
          8.95,
          1.45,
          7.95,
          1.25,
          0.42,
          2.55,
          0.85,
          0.21,
          5.95,
          2.55,
          2.95,
          5.95,
          1.69,
          2.95,
          8.5,
          1.69,
          2.1,
          3.81,
          2.55,
          0.21,
          3.45,
          0.85,
          2.55,
          3.95,
          0.85,
          1.49,
          5.45,
          1.95,
          0.12,
          0.85,
          4.95,
          1.65,
          2.95,
          1.25,
          2.1,
          0.42,
          9.95,
          1.69,
          1.49,
          5.95,
          3.75,
          0.42,
          0.42,
          4.95,
          2.95,
          8.5,
          7.95,
          1.65,
          1.65,
          2.95,
          1.25,
          4.95,
          0.85,
          1.65,
          1.25,
          1.25,
          1.65,
          0.42,
          3.75,
          4.95,
          1.25,
          8.95,
          5.95,
          1.25,
          1.25,
          0.65,
          1.25,
          2.95,
          0.85,
          0.85,
          1.45,
          0.85,
          1.25,
          2.95,
          1.25,
          1.25,
          4.25,
          3.75,
          2.95,
          1.25,
          5.95,
          6.45,
          0.85,
          1.65,
          0.65,
          2.95,
          1.65,
          0.42,
          1.65,
          0.85,
          8.5,
          2.55,
          2.1,
          6.75,
          10.75,
          0.42,
          2.1,
          2.95,
          1.25,
          0.65,
          0.85,
          9.95,
          4.65,
          1.95,
          1.25,
          0.42,
          2.1,
          2.95,
          0.85,
          0.65,
          1.69,
          5.95,
          4.95,
          1.95,
          2.1,
          4.25,
          5.95,
          2.1,
          1.45,
          1.65,
          7.95,
          0.42,
          1.65,
          1.65,
          1.65,
          5.95,
          0.38,
          1.65,
          1.25,
          0.42,
          4.25,
          3.75,
          1.95,
          4.95,
          0.65,
          2.95,
          1.25,
          0.72,
          2.95,
          1.65,
          5.95,
          1.25,
          4.95,
          7.95,
          0.42,
          1.65,
          1.65,
          0.42,
          0.85,
          1.95,
          1.95,
          1.25,
          0.85,
          8.5,
          1.25,
          1.65,
          4.95,
          4.95,
          1.65,
          1.95,
          9.95,
          2.1,
          1.45,
          2.1,
          4.25,
          0.85,
          0.19,
          1.06,
          0.19,
          1.25,
          0.85,
          1.25,
          0.85,
          3.75,
          4.95,
          2.1,
          0.85,
          1.65,
          3.75,
          2.55,
          1.25,
          0.42,
          1.65,
          1.25,
          8.5,
          3.95,
          1.65,
          0.85,
          0.85,
          1.25,
          5.95,
          0.85,
          4.95,
          1.95,
          3.25,
          6.35,
          2.95,
          2.55,
          1.25,
          4.95,
          2.55,
          3.75,
          1.45,
          1.25,
          0.85,
          3.75,
          1.25,
          4.95,
          0.55,
          0.42,
          2.95,
          1.95,
          0.85,
          2.95,
          2.1,
          4.65,
          4.65,
          1.65,
          0.42,
          1.25,
          2.1,
          2.1,
          2.95,
          3.75,
          4.65,
          0.85,
          2.1,
          1.25,
          1.45,
          6.75,
          4.65,
          1.25,
          9.95,
          1.65,
          6.35,
          2.95,
          1.25,
          1.25,
          0.55,
          1.25,
          2.95,
          4.95,
          2.95,
          7.95,
          1.65,
          1.25,
          0.85,
          1.95,
          3.45,
          2.95,
          6.75,
          2.95,
          8.5,
          1.25,
          1.65,
          1.25,
          1.69,
          0.85,
          3.75,
          3.25,
          7.65,
          2.95,
          0.21,
          0.55,
          1.25,
          0.85,
          0.85,
          2.95,
          1.25,
          2.95,
          1.95,
          0.85,
          4.25,
          0.38,
          0.65,
          6.95,
          0.42,
          2.55,
          1.25,
          2.55,
          2.1,
          4.95,
          0.85,
          0.55,
          2.1,
          1.45,
          2.1,
          0.55,
          7.95,
          3.75,
          2.1,
          0.65,
          0.42,
          0.85,
          5.95,
          2.55,
          0.42,
          1.69,
          1.25,
          4.25,
          3.75,
          1.25,
          2.1,
          1.25,
          0.85,
          3.95,
          1.25,
          0.85,
          6.75,
          1.25,
          1.65,
          1.45,
          9.95,
          2.95,
          1.69,
          1.65,
          2.1,
          2.95,
          2.1,
          1.25,
          4.95,
          3.75,
          1.25,
          7.95,
          1.25,
          2.1,
          1.25,
          2.55,
          1.65,
          1.65,
          2.25,
          2.25,
          1.25,
          7.49,
          2.55,
          1.25,
          9.95,
          0.42,
          0.95
         ],
         "xaxis": "x",
         "yaxis": "y"
        },
        {
         "alignmentgroup": "True",
         "hovertemplate": "variable=Price<br>value=%{x}<extra></extra>",
         "legendgroup": "Price",
         "marker": {
          "color": "#636efa"
         },
         "name": "Price",
         "notched": true,
         "offsetgroup": "Price",
         "showlegend": false,
         "type": "box",
         "x": [
          1.95,
          0.21,
          1.45,
          1.95,
          2.95,
          9.95,
          10.95,
          0.85,
          2.1,
          2.95,
          1.45,
          3.75,
          1.25,
          0.65,
          0.36,
          1.25,
          2.1,
          2.55,
          2.95,
          1.25,
          2.95,
          2.55,
          7.95,
          0.55,
          0.85,
          1.25,
          0.85,
          0.55,
          0.85,
          1.25,
          1.25,
          1.25,
          7.95,
          2.95,
          1.95,
          1.25,
          0.85,
          2.95,
          1.65,
          1.25,
          1.45,
          1.45,
          1.25,
          2.55,
          3.75,
          1.06,
          1.25,
          2.1,
          2.55,
          0.85,
          1.95,
          0.85,
          0.85,
          2.55,
          1.95,
          4.65,
          1.25,
          4.95,
          0.85,
          0.65,
          3.75,
          0.85,
          1.45,
          0.55,
          1.65,
          6.75,
          0.29,
          3.75,
          1.25,
          1.25,
          1.06,
          1.25,
          2.95,
          0.85,
          2.95,
          4.95,
          1.65,
          1.95,
          5.95,
          6.75,
          4.25,
          2.95,
          1.25,
          2.55,
          3.95,
          0.21,
          1.69,
          1.25,
          2.1,
          3.75,
          6.35,
          2.55,
          0.36,
          3.75,
          1.95,
          0.42,
          2.1,
          5.95,
          5.95,
          3.25,
          1.25,
          1.25,
          2.1,
          1.65,
          2.95,
          2.95,
          1.65,
          0.14,
          6.35,
          0.42,
          1.25,
          5.95,
          0.29,
          6.75,
          2.95,
          1.25,
          1.25,
          3.75,
          4.95,
          2.95,
          0.85,
          1.25,
          2.1,
          2.55,
          0.85,
          0.85,
          1.25,
          4.25,
          0.95,
          5.95,
          2.95,
          1.69,
          0.42,
          1.25,
          1.25,
          5.95,
          9.95,
          1.65,
          1.45,
          1.65,
          1.25,
          1.65,
          2.1,
          0.72,
          4.95,
          4.25,
          1.65,
          1.25,
          1.65,
          0.95,
          2.1,
          1.65,
          3.75,
          0.85,
          0.85,
          1.25,
          0.65,
          2.1,
          4.95,
          1.95,
          3.75,
          1.95,
          5.95,
          2.55,
          2.55,
          0.65,
          1.95,
          0.42,
          4.95,
          1.65,
          0.55,
          0.42,
          1.45,
          4.95,
          0.85,
          1.65,
          1.45,
          1.95,
          1.45,
          0.3,
          1.95,
          1.65,
          2.1,
          8.95,
          1.45,
          0.42,
          2.1,
          1.65,
          1.65,
          7.49,
          0.85,
          2.1,
          1.69,
          2.95,
          0.85,
          3.75,
          2.1,
          0.65,
          0.65,
          0.42,
          1.25,
          2.55,
          2.95,
          2.1,
          2.25,
          0.42,
          1.25,
          1.65,
          2.55,
          1.45,
          1.69,
          3.75,
          1.65,
          3.75,
          4.25,
          1.25,
          0.85,
          3.95,
          2.1,
          2.95,
          1.65,
          0.55,
          3.75,
          5.95,
          0.42,
          0.85,
          1.25,
          3.75,
          0.85,
          0.29,
          7.49,
          2.95,
          1.65,
          2.1,
          4.95,
          1.25,
          1.65,
          0.65,
          1.65,
          1.95,
          1.25,
          0.85,
          1.95,
          1.65,
          0.85,
          4.95,
          0.85,
          2.1,
          0.65,
          0.85,
          1.25,
          1.65,
          0.42,
          0.42,
          1.95,
          1.45,
          0.65,
          3.75,
          0.85,
          4.25,
          1.69,
          1.25,
          9.95,
          8.5,
          1.25,
          2.55,
          1.25,
          1.25,
          1.65,
          2.55,
          3.75,
          1.25,
          0.19,
          0.55,
          2.1,
          0.42,
          8.5,
          1.95,
          0.85,
          2.1,
          2.95,
          0.42,
          4.95,
          0.42,
          5.95,
          3.75,
          0.42,
          0.85,
          2.55,
          3.45,
          1.65,
          0.42,
          2.95,
          2.95,
          1.95,
          9.95,
          5.95,
          3.75,
          0.85,
          2.55,
          1.95,
          0.85,
          3.75,
          0.42,
          4.25,
          0.85,
          0.85,
          2.1,
          2.95,
          3.75,
          1.65,
          1.45,
          4.95,
          0.42,
          0.85,
          5.95,
          3.75,
          3.75,
          1.25,
          1.95,
          1.95,
          1.25,
          1.25,
          1.95,
          0.42,
          5.45,
          0.85,
          2.55,
          9.95,
          0.72,
          1.25,
          2.1,
          2.55,
          1.65,
          1.65,
          0.42,
          2.95,
          2.1,
          5.95,
          10.95,
          2.55,
          3.75,
          0.85,
          0.85,
          1.65,
          3.75,
          0.55,
          7.95,
          1.25,
          0.29,
          2.55,
          9.95,
          1.25,
          2.95,
          7.95,
          1.95,
          4.95,
          1.69,
          0.55,
          1.95,
          2.1,
          3.75,
          2.95,
          0.42,
          0.42,
          10.95,
          1.65,
          1.25,
          1.95,
          2.25,
          0.42,
          2.1,
          0.85,
          2.1,
          3.75,
          1.95,
          1.25,
          4.25,
          0.42,
          1.95,
          0.38,
          2.55,
          2.55,
          0.85,
          1.25,
          0.21,
          0.85,
          2.95,
          4.25,
          1.65,
          4.25,
          3.75,
          0.25,
          1.65,
          1.25,
          4.95,
          1.65,
          4.25,
          2.95,
          0.55,
          2.1,
          1.95,
          2.95,
          2.95,
          0.95,
          2.95,
          1.95,
          4.25,
          1.25,
          3.75,
          1.06,
          5.95,
          7.49,
          1.25,
          1.25,
          1.45,
          1.95,
          0.85,
          0.65,
          8.5,
          1.59,
          1.69,
          1.95,
          1.95,
          0.85,
          1.69,
          1.25,
          2.95,
          4.95,
          0.85,
          1.49,
          1.25,
          1.65,
          1.95,
          0.42,
          1.95,
          7.49,
          0.42,
          3.75,
          8.95,
          10.75,
          1.25,
          0.85,
          0.85,
          1.95,
          4.95,
          2.95,
          5.45,
          0.85,
          0.85,
          1.45,
          0.65,
          0.85,
          0.95,
          4.65,
          0.42,
          1.25,
          1.65,
          4.95,
          3.75,
          2.95,
          2.95,
          1.55,
          1.65,
          0.65,
          2.1,
          0.65,
          1.65,
          1.65,
          9.95,
          2.95,
          6.75,
          2.55,
          1.45,
          1.25,
          3.75,
          1.25,
          1.95,
          0.85,
          2.95,
          4.25,
          1.65,
          1.95,
          1.25,
          1.65,
          1.95,
          0.85,
          0.42,
          1.25,
          9.95,
          0.42,
          0.95,
          0.85,
          1.45,
          0.85,
          0.65,
          4.95,
          3.75,
          0.72,
          4.95,
          1.49,
          3.45,
          0.85,
          2.55,
          7.95,
          1.45,
          4.65,
          2.1,
          0.85,
          4.25,
          1.95,
          5.95,
          0.42,
          4.95,
          3.75,
          2.55,
          6.75,
          3.75,
          1.69,
          1.45,
          2.55,
          0.29,
          0.85,
          1.65,
          2.95,
          0.85,
          1.69,
          7.49,
          1.25,
          4.65,
          6.75,
          1.45,
          1.45,
          3.75,
          3.75,
          0.65,
          0.42,
          0.85,
          1.65,
          8.5,
          1.25,
          2.1,
          0.85,
          1.65,
          5.95,
          0.85,
          2.55,
          2.95,
          4.95,
          1.25,
          0.85,
          0.85,
          2.25,
          0.55,
          0.55,
          1.65,
          4.95,
          1.25,
          1.25,
          0.85,
          0.42,
          4.65,
          2.95,
          1.25,
          1.65,
          1.65,
          1.95,
          4.95,
          2.95,
          9.95,
          0.42,
          1.06,
          2.55,
          2.1,
          1.25,
          2.95,
          0.42,
          5.45,
          1.95,
          1.25,
          6.95,
          1.45,
          0.64,
          1.65,
          0.85,
          1.25,
          3.75,
          2.95,
          4.25,
          0.42,
          0.55,
          2.55,
          7.95,
          3.95,
          8.5,
          1.25,
          3.75,
          1.25,
          2.95,
          0.85,
          5.95,
          4.95,
          2.55,
          1.45,
          2.1,
          2.95,
          1.25,
          1.65,
          0.85,
          8.5,
          1.65,
          1.25,
          1.65,
          9.95,
          0.55,
          2.95,
          7.49,
          3.75,
          3.25,
          1.25,
          1.25,
          1.25,
          1.95,
          0.72,
          8.5,
          1.65,
          3.75,
          3.75,
          0.85,
          0.42,
          0.85,
          0.65,
          1.95,
          1.25,
          3.35,
          1.25,
          1.25,
          7.49,
          8.95,
          1.45,
          7.95,
          1.25,
          0.42,
          2.55,
          0.85,
          0.21,
          5.95,
          2.55,
          2.95,
          5.95,
          1.69,
          2.95,
          8.5,
          1.69,
          2.1,
          3.81,
          2.55,
          0.21,
          3.45,
          0.85,
          2.55,
          3.95,
          0.85,
          1.49,
          5.45,
          1.95,
          0.12,
          0.85,
          4.95,
          1.65,
          2.95,
          1.25,
          2.1,
          0.42,
          9.95,
          1.69,
          1.49,
          5.95,
          3.75,
          0.42,
          0.42,
          4.95,
          2.95,
          8.5,
          7.95,
          1.65,
          1.65,
          2.95,
          1.25,
          4.95,
          0.85,
          1.65,
          1.25,
          1.25,
          1.65,
          0.42,
          3.75,
          4.95,
          1.25,
          8.95,
          5.95,
          1.25,
          1.25,
          0.65,
          1.25,
          2.95,
          0.85,
          0.85,
          1.45,
          0.85,
          1.25,
          2.95,
          1.25,
          1.25,
          4.25,
          3.75,
          2.95,
          1.25,
          5.95,
          6.45,
          0.85,
          1.65,
          0.65,
          2.95,
          1.65,
          0.42,
          1.65,
          0.85,
          8.5,
          2.55,
          2.1,
          6.75,
          10.75,
          0.42,
          2.1,
          2.95,
          1.25,
          0.65,
          0.85,
          9.95,
          4.65,
          1.95,
          1.25,
          0.42,
          2.1,
          2.95,
          0.85,
          0.65,
          1.69,
          5.95,
          4.95,
          1.95,
          2.1,
          4.25,
          5.95,
          2.1,
          1.45,
          1.65,
          7.95,
          0.42,
          1.65,
          1.65,
          1.65,
          5.95,
          0.38,
          1.65,
          1.25,
          0.42,
          4.25,
          3.75,
          1.95,
          4.95,
          0.65,
          2.95,
          1.25,
          0.72,
          2.95,
          1.65,
          5.95,
          1.25,
          4.95,
          7.95,
          0.42,
          1.65,
          1.65,
          0.42,
          0.85,
          1.95,
          1.95,
          1.25,
          0.85,
          8.5,
          1.25,
          1.65,
          4.95,
          4.95,
          1.65,
          1.95,
          9.95,
          2.1,
          1.45,
          2.1,
          4.25,
          0.85,
          0.19,
          1.06,
          0.19,
          1.25,
          0.85,
          1.25,
          0.85,
          3.75,
          4.95,
          2.1,
          0.85,
          1.65,
          3.75,
          2.55,
          1.25,
          0.42,
          1.65,
          1.25,
          8.5,
          3.95,
          1.65,
          0.85,
          0.85,
          1.25,
          5.95,
          0.85,
          4.95,
          1.95,
          3.25,
          6.35,
          2.95,
          2.55,
          1.25,
          4.95,
          2.55,
          3.75,
          1.45,
          1.25,
          0.85,
          3.75,
          1.25,
          4.95,
          0.55,
          0.42,
          2.95,
          1.95,
          0.85,
          2.95,
          2.1,
          4.65,
          4.65,
          1.65,
          0.42,
          1.25,
          2.1,
          2.1,
          2.95,
          3.75,
          4.65,
          0.85,
          2.1,
          1.25,
          1.45,
          6.75,
          4.65,
          1.25,
          9.95,
          1.65,
          6.35,
          2.95,
          1.25,
          1.25,
          0.55,
          1.25,
          2.95,
          4.95,
          2.95,
          7.95,
          1.65,
          1.25,
          0.85,
          1.95,
          3.45,
          2.95,
          6.75,
          2.95,
          8.5,
          1.25,
          1.65,
          1.25,
          1.69,
          0.85,
          3.75,
          3.25,
          7.65,
          2.95,
          0.21,
          0.55,
          1.25,
          0.85,
          0.85,
          2.95,
          1.25,
          2.95,
          1.95,
          0.85,
          4.25,
          0.38,
          0.65,
          6.95,
          0.42,
          2.55,
          1.25,
          2.55,
          2.1,
          4.95,
          0.85,
          0.55,
          2.1,
          1.45,
          2.1,
          0.55,
          7.95,
          3.75,
          2.1,
          0.65,
          0.42,
          0.85,
          5.95,
          2.55,
          0.42,
          1.69,
          1.25,
          4.25,
          3.75,
          1.25,
          2.1,
          1.25,
          0.85,
          3.95,
          1.25,
          0.85,
          6.75,
          1.25,
          1.65,
          1.45,
          9.95,
          2.95,
          1.69,
          1.65,
          2.1,
          2.95,
          2.1,
          1.25,
          4.95,
          3.75,
          1.25,
          7.95,
          1.25,
          2.1,
          1.25,
          2.55,
          1.65,
          1.65,
          2.25,
          2.25,
          1.25,
          7.49,
          2.55,
          1.25,
          9.95,
          0.42,
          0.95
         ],
         "xaxis": "x2",
         "yaxis": "y2"
        }
       ],
       "layout": {
        "barmode": "relative",
        "legend": {
         "title": {
          "text": "variable"
         },
         "tracegroupgap": 0
        },
        "template": {
         "data": {
          "bar": [
           {
            "error_x": {
             "color": "#2a3f5f"
            },
            "error_y": {
             "color": "#2a3f5f"
            },
            "marker": {
             "line": {
              "color": "#E5ECF6",
              "width": 0.5
             },
             "pattern": {
              "fillmode": "overlay",
              "size": 10,
              "solidity": 0.2
             }
            },
            "type": "bar"
           }
          ],
          "barpolar": [
           {
            "marker": {
             "line": {
              "color": "#E5ECF6",
              "width": 0.5
             },
             "pattern": {
              "fillmode": "overlay",
              "size": 10,
              "solidity": 0.2
             }
            },
            "type": "barpolar"
           }
          ],
          "carpet": [
           {
            "aaxis": {
             "endlinecolor": "#2a3f5f",
             "gridcolor": "white",
             "linecolor": "white",
             "minorgridcolor": "white",
             "startlinecolor": "#2a3f5f"
            },
            "baxis": {
             "endlinecolor": "#2a3f5f",
             "gridcolor": "white",
             "linecolor": "white",
             "minorgridcolor": "white",
             "startlinecolor": "#2a3f5f"
            },
            "type": "carpet"
           }
          ],
          "choropleth": [
           {
            "colorbar": {
             "outlinewidth": 0,
             "ticks": ""
            },
            "type": "choropleth"
           }
          ],
          "contour": [
           {
            "colorbar": {
             "outlinewidth": 0,
             "ticks": ""
            },
            "colorscale": [
             [
              0,
              "#0d0887"
             ],
             [
              0.1111111111111111,
              "#46039f"
             ],
             [
              0.2222222222222222,
              "#7201a8"
             ],
             [
              0.3333333333333333,
              "#9c179e"
             ],
             [
              0.4444444444444444,
              "#bd3786"
             ],
             [
              0.5555555555555556,
              "#d8576b"
             ],
             [
              0.6666666666666666,
              "#ed7953"
             ],
             [
              0.7777777777777778,
              "#fb9f3a"
             ],
             [
              0.8888888888888888,
              "#fdca26"
             ],
             [
              1,
              "#f0f921"
             ]
            ],
            "type": "contour"
           }
          ],
          "contourcarpet": [
           {
            "colorbar": {
             "outlinewidth": 0,
             "ticks": ""
            },
            "type": "contourcarpet"
           }
          ],
          "heatmap": [
           {
            "colorbar": {
             "outlinewidth": 0,
             "ticks": ""
            },
            "colorscale": [
             [
              0,
              "#0d0887"
             ],
             [
              0.1111111111111111,
              "#46039f"
             ],
             [
              0.2222222222222222,
              "#7201a8"
             ],
             [
              0.3333333333333333,
              "#9c179e"
             ],
             [
              0.4444444444444444,
              "#bd3786"
             ],
             [
              0.5555555555555556,
              "#d8576b"
             ],
             [
              0.6666666666666666,
              "#ed7953"
             ],
             [
              0.7777777777777778,
              "#fb9f3a"
             ],
             [
              0.8888888888888888,
              "#fdca26"
             ],
             [
              1,
              "#f0f921"
             ]
            ],
            "type": "heatmap"
           }
          ],
          "heatmapgl": [
           {
            "colorbar": {
             "outlinewidth": 0,
             "ticks": ""
            },
            "colorscale": [
             [
              0,
              "#0d0887"
             ],
             [
              0.1111111111111111,
              "#46039f"
             ],
             [
              0.2222222222222222,
              "#7201a8"
             ],
             [
              0.3333333333333333,
              "#9c179e"
             ],
             [
              0.4444444444444444,
              "#bd3786"
             ],
             [
              0.5555555555555556,
              "#d8576b"
             ],
             [
              0.6666666666666666,
              "#ed7953"
             ],
             [
              0.7777777777777778,
              "#fb9f3a"
             ],
             [
              0.8888888888888888,
              "#fdca26"
             ],
             [
              1,
              "#f0f921"
             ]
            ],
            "type": "heatmapgl"
           }
          ],
          "histogram": [
           {
            "marker": {
             "pattern": {
              "fillmode": "overlay",
              "size": 10,
              "solidity": 0.2
             }
            },
            "type": "histogram"
           }
          ],
          "histogram2d": [
           {
            "colorbar": {
             "outlinewidth": 0,
             "ticks": ""
            },
            "colorscale": [
             [
              0,
              "#0d0887"
             ],
             [
              0.1111111111111111,
              "#46039f"
             ],
             [
              0.2222222222222222,
              "#7201a8"
             ],
             [
              0.3333333333333333,
              "#9c179e"
             ],
             [
              0.4444444444444444,
              "#bd3786"
             ],
             [
              0.5555555555555556,
              "#d8576b"
             ],
             [
              0.6666666666666666,
              "#ed7953"
             ],
             [
              0.7777777777777778,
              "#fb9f3a"
             ],
             [
              0.8888888888888888,
              "#fdca26"
             ],
             [
              1,
              "#f0f921"
             ]
            ],
            "type": "histogram2d"
           }
          ],
          "histogram2dcontour": [
           {
            "colorbar": {
             "outlinewidth": 0,
             "ticks": ""
            },
            "colorscale": [
             [
              0,
              "#0d0887"
             ],
             [
              0.1111111111111111,
              "#46039f"
             ],
             [
              0.2222222222222222,
              "#7201a8"
             ],
             [
              0.3333333333333333,
              "#9c179e"
             ],
             [
              0.4444444444444444,
              "#bd3786"
             ],
             [
              0.5555555555555556,
              "#d8576b"
             ],
             [
              0.6666666666666666,
              "#ed7953"
             ],
             [
              0.7777777777777778,
              "#fb9f3a"
             ],
             [
              0.8888888888888888,
              "#fdca26"
             ],
             [
              1,
              "#f0f921"
             ]
            ],
            "type": "histogram2dcontour"
           }
          ],
          "mesh3d": [
           {
            "colorbar": {
             "outlinewidth": 0,
             "ticks": ""
            },
            "type": "mesh3d"
           }
          ],
          "parcoords": [
           {
            "line": {
             "colorbar": {
              "outlinewidth": 0,
              "ticks": ""
             }
            },
            "type": "parcoords"
           }
          ],
          "pie": [
           {
            "automargin": true,
            "type": "pie"
           }
          ],
          "scatter": [
           {
            "fillpattern": {
             "fillmode": "overlay",
             "size": 10,
             "solidity": 0.2
            },
            "type": "scatter"
           }
          ],
          "scatter3d": [
           {
            "line": {
             "colorbar": {
              "outlinewidth": 0,
              "ticks": ""
             }
            },
            "marker": {
             "colorbar": {
              "outlinewidth": 0,
              "ticks": ""
             }
            },
            "type": "scatter3d"
           }
          ],
          "scattercarpet": [
           {
            "marker": {
             "colorbar": {
              "outlinewidth": 0,
              "ticks": ""
             }
            },
            "type": "scattercarpet"
           }
          ],
          "scattergeo": [
           {
            "marker": {
             "colorbar": {
              "outlinewidth": 0,
              "ticks": ""
             }
            },
            "type": "scattergeo"
           }
          ],
          "scattergl": [
           {
            "marker": {
             "colorbar": {
              "outlinewidth": 0,
              "ticks": ""
             }
            },
            "type": "scattergl"
           }
          ],
          "scattermapbox": [
           {
            "marker": {
             "colorbar": {
              "outlinewidth": 0,
              "ticks": ""
             }
            },
            "type": "scattermapbox"
           }
          ],
          "scatterpolar": [
           {
            "marker": {
             "colorbar": {
              "outlinewidth": 0,
              "ticks": ""
             }
            },
            "type": "scatterpolar"
           }
          ],
          "scatterpolargl": [
           {
            "marker": {
             "colorbar": {
              "outlinewidth": 0,
              "ticks": ""
             }
            },
            "type": "scatterpolargl"
           }
          ],
          "scatterternary": [
           {
            "marker": {
             "colorbar": {
              "outlinewidth": 0,
              "ticks": ""
             }
            },
            "type": "scatterternary"
           }
          ],
          "surface": [
           {
            "colorbar": {
             "outlinewidth": 0,
             "ticks": ""
            },
            "colorscale": [
             [
              0,
              "#0d0887"
             ],
             [
              0.1111111111111111,
              "#46039f"
             ],
             [
              0.2222222222222222,
              "#7201a8"
             ],
             [
              0.3333333333333333,
              "#9c179e"
             ],
             [
              0.4444444444444444,
              "#bd3786"
             ],
             [
              0.5555555555555556,
              "#d8576b"
             ],
             [
              0.6666666666666666,
              "#ed7953"
             ],
             [
              0.7777777777777778,
              "#fb9f3a"
             ],
             [
              0.8888888888888888,
              "#fdca26"
             ],
             [
              1,
              "#f0f921"
             ]
            ],
            "type": "surface"
           }
          ],
          "table": [
           {
            "cells": {
             "fill": {
              "color": "#EBF0F8"
             },
             "line": {
              "color": "white"
             }
            },
            "header": {
             "fill": {
              "color": "#C8D4E3"
             },
             "line": {
              "color": "white"
             }
            },
            "type": "table"
           }
          ]
         },
         "layout": {
          "annotationdefaults": {
           "arrowcolor": "#2a3f5f",
           "arrowhead": 0,
           "arrowwidth": 1
          },
          "autotypenumbers": "strict",
          "coloraxis": {
           "colorbar": {
            "outlinewidth": 0,
            "ticks": ""
           }
          },
          "colorscale": {
           "diverging": [
            [
             0,
             "#8e0152"
            ],
            [
             0.1,
             "#c51b7d"
            ],
            [
             0.2,
             "#de77ae"
            ],
            [
             0.3,
             "#f1b6da"
            ],
            [
             0.4,
             "#fde0ef"
            ],
            [
             0.5,
             "#f7f7f7"
            ],
            [
             0.6,
             "#e6f5d0"
            ],
            [
             0.7,
             "#b8e186"
            ],
            [
             0.8,
             "#7fbc41"
            ],
            [
             0.9,
             "#4d9221"
            ],
            [
             1,
             "#276419"
            ]
           ],
           "sequential": [
            [
             0,
             "#0d0887"
            ],
            [
             0.1111111111111111,
             "#46039f"
            ],
            [
             0.2222222222222222,
             "#7201a8"
            ],
            [
             0.3333333333333333,
             "#9c179e"
            ],
            [
             0.4444444444444444,
             "#bd3786"
            ],
            [
             0.5555555555555556,
             "#d8576b"
            ],
            [
             0.6666666666666666,
             "#ed7953"
            ],
            [
             0.7777777777777778,
             "#fb9f3a"
            ],
            [
             0.8888888888888888,
             "#fdca26"
            ],
            [
             1,
             "#f0f921"
            ]
           ],
           "sequentialminus": [
            [
             0,
             "#0d0887"
            ],
            [
             0.1111111111111111,
             "#46039f"
            ],
            [
             0.2222222222222222,
             "#7201a8"
            ],
            [
             0.3333333333333333,
             "#9c179e"
            ],
            [
             0.4444444444444444,
             "#bd3786"
            ],
            [
             0.5555555555555556,
             "#d8576b"
            ],
            [
             0.6666666666666666,
             "#ed7953"
            ],
            [
             0.7777777777777778,
             "#fb9f3a"
            ],
            [
             0.8888888888888888,
             "#fdca26"
            ],
            [
             1,
             "#f0f921"
            ]
           ]
          },
          "colorway": [
           "#636efa",
           "#EF553B",
           "#00cc96",
           "#ab63fa",
           "#FFA15A",
           "#19d3f3",
           "#FF6692",
           "#B6E880",
           "#FF97FF",
           "#FECB52"
          ],
          "font": {
           "color": "#2a3f5f"
          },
          "geo": {
           "bgcolor": "white",
           "lakecolor": "white",
           "landcolor": "#E5ECF6",
           "showlakes": true,
           "showland": true,
           "subunitcolor": "white"
          },
          "hoverlabel": {
           "align": "left"
          },
          "hovermode": "closest",
          "mapbox": {
           "style": "light"
          },
          "paper_bgcolor": "white",
          "plot_bgcolor": "#E5ECF6",
          "polar": {
           "angularaxis": {
            "gridcolor": "white",
            "linecolor": "white",
            "ticks": ""
           },
           "bgcolor": "#E5ECF6",
           "radialaxis": {
            "gridcolor": "white",
            "linecolor": "white",
            "ticks": ""
           }
          },
          "scene": {
           "xaxis": {
            "backgroundcolor": "#E5ECF6",
            "gridcolor": "white",
            "gridwidth": 2,
            "linecolor": "white",
            "showbackground": true,
            "ticks": "",
            "zerolinecolor": "white"
           },
           "yaxis": {
            "backgroundcolor": "#E5ECF6",
            "gridcolor": "white",
            "gridwidth": 2,
            "linecolor": "white",
            "showbackground": true,
            "ticks": "",
            "zerolinecolor": "white"
           },
           "zaxis": {
            "backgroundcolor": "#E5ECF6",
            "gridcolor": "white",
            "gridwidth": 2,
            "linecolor": "white",
            "showbackground": true,
            "ticks": "",
            "zerolinecolor": "white"
           }
          },
          "shapedefaults": {
           "line": {
            "color": "#2a3f5f"
           }
          },
          "ternary": {
           "aaxis": {
            "gridcolor": "white",
            "linecolor": "white",
            "ticks": ""
           },
           "baxis": {
            "gridcolor": "white",
            "linecolor": "white",
            "ticks": ""
           },
           "bgcolor": "#E5ECF6",
           "caxis": {
            "gridcolor": "white",
            "linecolor": "white",
            "ticks": ""
           }
          },
          "title": {
           "x": 0.05
          },
          "xaxis": {
           "automargin": true,
           "gridcolor": "white",
           "linecolor": "white",
           "ticks": "",
           "title": {
            "standoff": 15
           },
           "zerolinecolor": "white",
           "zerolinewidth": 2
          },
          "yaxis": {
           "automargin": true,
           "gridcolor": "white",
           "linecolor": "white",
           "ticks": "",
           "title": {
            "standoff": 15
           },
           "zerolinecolor": "white",
           "zerolinewidth": 2
          }
         }
        },
        "title": {
         "text": "Price - Without Outliers"
        },
        "xaxis": {
         "anchor": "y",
         "domain": [
          0,
          1
         ],
         "title": {
          "text": "value"
         }
        },
        "xaxis2": {
         "anchor": "y2",
         "domain": [
          0,
          1
         ],
         "matches": "x",
         "showgrid": true,
         "showticklabels": false
        },
        "yaxis": {
         "anchor": "x",
         "domain": [
          0,
          0.7326
         ],
         "title": {
          "text": "count"
         }
        },
        "yaxis2": {
         "anchor": "x2",
         "domain": [
          0.7426,
          1
         ],
         "matches": "y2",
         "showgrid": false,
         "showline": false,
         "showticklabels": false,
         "ticks": ""
        }
       }
      }
     },
     "metadata": {},
     "output_type": "display_data"
    }
   ],
   "source": [
    "df_retail_clean=clean_df(df_retail)\n",
    "profile_serie(df_retail_clean[\"Price\"])"
   ]
  },
  {
   "cell_type": "code",
   "execution_count": 13,
   "metadata": {},
   "outputs": [
    {
     "data": {
      "text/markdown": [
       "## Quantity Profile"
      ],
      "text/plain": [
       "<IPython.core.display.Markdown object>"
      ]
     },
     "metadata": {},
     "output_type": "display_data"
    },
    {
     "data": {
      "text/plain": [
       "Type                              int64\n",
       "Number of observations         400947.0\n",
       "Mean                          13.768523\n",
       "Std                           97.639816\n",
       "Min                                 1.0\n",
       "25%                                 2.0\n",
       "50%                                 5.0\n",
       "75%                                12.0\n",
       "Max                             19152.0\n",
       "Negative                              0\n",
       "Negative (%)                      0.0 %\n",
       "Zeros                                 0\n",
       "Zeros (%)                         0.0 %\n",
       "Kurt                        9417.083923\n",
       "Skew                          79.272908\n",
       "                                       \n",
       "Missing cells                         0\n",
       "Missing cells (%)                 0.0 %\n",
       "Duplicate rows                   400833\n",
       "Duplicate rows (%)              99.97 %\n",
       "Total size in memory      6415152 bytes\n",
       "dtype: object"
      ]
     },
     "metadata": {},
     "output_type": "display_data"
    },
    {
     "data": {
      "application/vnd.plotly.v1+json": {
       "config": {
        "plotlyServerURL": "https://plot.ly"
       },
       "data": [
        {
         "alignmentgroup": "True",
         "bingroup": "x",
         "hovertemplate": "variable=Quantity<br>value=%{x}<br>count=%{y}<extra></extra>",
         "legendgroup": "Quantity",
         "marker": {
          "color": "#636efa",
          "pattern": {
           "shape": ""
          }
         },
         "name": "Quantity",
         "offsetgroup": "Quantity",
         "orientation": "v",
         "showlegend": true,
         "type": "histogram",
         "x": [
          2,
          48,
          2,
          1,
          6,
          1,
          3,
          12,
          6,
          12,
          6,
          1,
          2,
          24,
          2,
          288,
          1,
          12,
          12,
          2,
          3,
          1,
          12,
          6,
          6,
          2,
          24,
          10,
          12,
          24,
          48,
          1,
          1,
          12,
          1,
          4,
          3,
          4,
          2,
          4,
          4,
          1,
          20,
          1,
          100,
          12,
          12,
          1,
          6,
          4,
          300,
          12,
          6,
          32,
          3,
          12,
          12,
          12,
          6,
          12,
          16,
          20,
          10,
          2,
          10,
          2,
          1,
          24,
          96,
          24,
          1,
          1,
          12,
          4,
          24,
          6,
          108,
          6,
          1,
          1,
          1,
          1,
          8,
          12,
          6,
          1,
          4,
          1,
          6,
          1,
          64,
          4,
          28,
          1,
          12,
          2,
          1,
          1,
          1,
          72,
          3,
          12,
          24,
          12,
          1,
          4,
          1,
          12,
          12,
          24,
          4,
          6,
          5,
          10,
          36,
          1,
          4,
          2,
          6,
          6,
          2,
          6,
          12,
          6,
          1,
          1,
          2,
          12,
          1,
          1,
          2,
          12,
          4,
          2,
          2,
          2,
          2,
          6,
          144,
          25,
          20,
          12,
          24,
          4,
          1,
          48,
          12,
          12,
          6,
          5,
          72,
          1,
          1,
          10,
          10,
          12,
          12,
          2,
          1,
          2,
          24,
          6,
          12,
          1,
          1,
          4,
          20,
          8,
          10,
          2,
          1,
          12,
          2,
          1,
          6,
          1,
          1,
          10,
          48,
          1,
          25,
          24,
          3,
          12,
          12,
          4,
          5,
          9,
          36,
          2,
          12,
          12,
          2,
          12,
          2,
          12,
          1,
          1,
          1,
          2,
          2,
          12,
          6,
          1,
          1,
          1,
          24,
          3,
          50,
          16,
          5,
          5,
          2,
          6,
          24,
          48,
          12,
          1,
          12,
          8,
          2,
          12,
          4,
          2,
          24,
          2,
          4,
          6,
          8,
          1,
          12,
          4,
          6,
          25,
          12,
          12,
          2,
          1,
          12,
          1,
          12,
          1,
          12,
          3,
          24,
          1,
          4,
          2,
          12,
          1,
          12,
          8,
          2,
          72,
          5,
          10,
          6,
          1,
          12,
          6,
          6,
          48,
          50,
          2,
          48,
          1,
          1,
          1,
          4,
          2,
          72,
          1,
          4,
          12,
          2,
          8,
          12,
          2,
          2,
          4,
          5,
          12,
          4,
          12,
          24,
          2,
          10,
          2,
          3,
          2,
          6,
          12,
          6,
          5,
          3,
          8,
          25,
          12,
          12,
          1,
          24,
          24,
          2,
          6,
          6,
          1,
          2,
          1,
          10,
          6,
          10,
          24,
          4,
          12,
          1,
          4,
          20,
          2,
          5,
          6,
          13,
          1,
          12,
          1,
          12,
          10,
          2,
          3,
          4,
          12,
          12,
          20,
          8,
          12,
          10,
          12,
          4,
          6,
          8,
          6,
          100,
          1,
          12,
          1,
          24,
          1,
          12,
          6,
          4,
          6,
          1,
          50,
          18,
          18,
          12,
          6,
          6,
          24,
          2,
          24,
          12,
          6,
          2,
          1,
          6,
          2,
          2,
          6,
          6,
          1,
          10,
          1,
          4,
          3,
          12,
          48,
          64,
          1,
          24,
          1,
          1,
          12,
          1,
          40,
          5,
          4,
          6,
          10,
          1,
          25,
          10,
          12,
          5,
          2,
          2,
          16,
          36,
          7,
          6,
          4,
          6,
          1,
          2,
          1,
          12,
          24,
          1,
          6,
          1,
          1,
          5,
          12,
          1,
          1,
          6,
          1,
          24,
          6,
          10,
          1,
          1,
          12,
          16,
          24,
          3,
          2,
          24,
          12,
          1,
          2,
          24,
          12,
          2,
          64,
          16,
          10,
          10,
          16,
          2,
          12,
          3,
          3,
          2,
          12,
          3,
          2,
          2,
          12,
          6,
          2,
          2,
          4,
          2,
          1,
          12,
          24,
          12,
          10,
          4,
          2,
          24,
          10,
          24,
          50,
          24,
          12,
          2,
          6,
          25,
          1,
          3,
          4,
          2,
          1,
          12,
          1,
          4,
          10,
          24,
          3,
          12,
          24,
          3,
          2,
          6,
          4,
          1,
          7,
          1,
          1,
          12,
          3,
          1,
          6,
          3,
          1,
          1,
          3,
          10,
          10,
          12,
          5,
          2,
          2,
          24,
          24,
          5,
          288,
          4,
          6,
          1,
          8,
          96,
          3,
          1,
          2,
          1,
          6,
          25,
          1,
          1,
          2,
          6,
          12,
          8,
          1,
          1,
          24,
          3,
          4,
          1,
          2,
          2,
          8,
          1,
          2,
          12,
          24,
          2,
          1,
          10,
          48,
          1,
          24,
          8,
          10,
          2,
          2,
          10,
          1,
          6,
          24,
          1,
          2,
          2,
          24,
          6,
          1,
          2,
          2,
          2,
          6,
          3,
          6,
          8,
          9,
          1,
          12,
          6,
          6,
          3,
          6,
          3,
          3,
          6,
          48,
          24,
          8,
          3,
          6,
          20,
          2,
          10,
          2,
          24,
          8,
          48,
          200,
          1,
          1,
          2,
          4,
          24,
          1,
          12,
          2,
          4,
          18,
          192,
          5,
          24,
          12,
          12,
          6,
          2,
          25,
          24,
          6,
          2,
          12,
          4,
          5,
          8,
          1,
          12,
          24,
          3,
          2,
          6,
          12,
          3,
          6,
          1,
          2,
          2,
          1,
          10,
          12,
          2,
          1,
          13,
          20,
          2,
          2,
          12,
          24,
          12,
          2,
          12,
          12,
          2,
          24,
          4,
          6,
          12,
          12,
          12,
          12,
          12,
          60,
          1,
          12,
          8,
          1,
          1,
          176,
          1,
          3,
          3,
          1,
          6,
          30,
          2,
          2,
          6,
          1,
          12,
          6,
          2,
          2,
          12,
          12,
          24,
          1,
          36,
          2,
          9,
          4,
          4,
          24,
          12,
          48,
          4,
          24,
          24,
          3,
          1,
          6,
          24,
          12,
          12,
          4,
          16,
          12,
          4,
          4,
          32,
          25,
          6,
          6,
          1,
          3,
          144,
          2,
          6,
          2,
          2,
          58,
          10,
          1,
          12,
          12,
          12,
          1,
          3,
          2,
          1,
          8,
          1,
          6,
          2,
          10,
          4,
          1,
          12,
          1,
          24,
          12,
          3,
          12,
          1,
          4,
          4,
          6,
          12,
          6,
          3,
          12,
          2,
          10,
          6,
          1,
          1,
          2,
          8,
          5,
          12,
          120,
          1,
          2,
          120,
          14,
          6,
          3,
          3,
          5,
          4,
          10,
          10,
          10,
          12,
          6,
          2,
          2,
          12,
          3,
          1,
          3,
          1,
          2,
          1,
          3,
          12,
          3,
          10,
          2,
          50,
          24,
          10,
          3,
          3,
          100,
          100,
          2,
          12,
          4,
          1,
          6,
          20,
          4,
          24,
          4,
          3,
          100,
          1,
          10,
          4,
          1,
          6,
          2,
          24,
          2,
          10,
          12,
          25,
          12,
          2,
          8,
          12,
          4,
          2,
          2,
          2,
          1,
          1,
          2,
          16,
          2,
          24,
          1,
          5,
          1,
          24,
          3,
          96,
          25,
          12,
          12,
          10,
          4,
          1,
          2,
          480,
          14,
          4,
          1,
          1,
          1,
          24,
          4,
          6,
          4,
          4,
          1,
          10,
          1,
          6,
          12,
          2,
          1,
          3,
          2,
          6,
          2,
          6,
          6,
          12,
          3,
          2,
          4,
          12,
          3,
          3,
          4,
          10,
          3,
          24,
          24,
          6,
          10,
          12,
          3,
          4,
          5,
          4,
          24,
          25,
          1,
          3,
          4,
          12,
          6,
          2,
          6,
          12,
          16,
          20,
          30,
          5,
          1,
          1,
          100,
          3,
          2,
          12,
          2,
          1,
          384,
          3,
          1,
          3,
          6,
          2,
          1,
          10,
          2,
          16,
          12,
          6,
          6,
          6,
          2,
          4,
          2,
          12,
          12,
          12,
          8,
          6,
          12,
          4,
          10,
          1,
          1,
          12,
          9,
          6,
          12,
          2,
          10,
          10,
          2,
          12,
          3,
          4,
          2,
          6,
          3,
          6,
          2,
          8,
          1,
          24,
          7,
          24,
          10,
          24,
          2,
          2,
          4,
          24,
          2,
          12,
          1,
          2,
          12,
          8,
          24,
          1,
          1,
          4,
          12,
          1,
          2,
          8,
          8,
          2,
          2,
          4,
          24,
          1,
          5,
          2,
          6,
          2,
          10,
          48,
          2,
          8,
          3,
          2,
          5,
          1,
          6,
          2,
          1,
          1,
          12,
          6,
          10,
          1,
          6,
          1,
          1,
          2,
          2,
          4,
          2,
          25,
          1
         ],
         "xaxis": "x",
         "yaxis": "y"
        },
        {
         "alignmentgroup": "True",
         "hovertemplate": "variable=Quantity<br>value=%{x}<extra></extra>",
         "legendgroup": "Quantity",
         "marker": {
          "color": "#636efa"
         },
         "name": "Quantity",
         "notched": true,
         "offsetgroup": "Quantity",
         "showlegend": false,
         "type": "box",
         "x": [
          2,
          48,
          2,
          1,
          6,
          1,
          3,
          12,
          6,
          12,
          6,
          1,
          2,
          24,
          2,
          288,
          1,
          12,
          12,
          2,
          3,
          1,
          12,
          6,
          6,
          2,
          24,
          10,
          12,
          24,
          48,
          1,
          1,
          12,
          1,
          4,
          3,
          4,
          2,
          4,
          4,
          1,
          20,
          1,
          100,
          12,
          12,
          1,
          6,
          4,
          300,
          12,
          6,
          32,
          3,
          12,
          12,
          12,
          6,
          12,
          16,
          20,
          10,
          2,
          10,
          2,
          1,
          24,
          96,
          24,
          1,
          1,
          12,
          4,
          24,
          6,
          108,
          6,
          1,
          1,
          1,
          1,
          8,
          12,
          6,
          1,
          4,
          1,
          6,
          1,
          64,
          4,
          28,
          1,
          12,
          2,
          1,
          1,
          1,
          72,
          3,
          12,
          24,
          12,
          1,
          4,
          1,
          12,
          12,
          24,
          4,
          6,
          5,
          10,
          36,
          1,
          4,
          2,
          6,
          6,
          2,
          6,
          12,
          6,
          1,
          1,
          2,
          12,
          1,
          1,
          2,
          12,
          4,
          2,
          2,
          2,
          2,
          6,
          144,
          25,
          20,
          12,
          24,
          4,
          1,
          48,
          12,
          12,
          6,
          5,
          72,
          1,
          1,
          10,
          10,
          12,
          12,
          2,
          1,
          2,
          24,
          6,
          12,
          1,
          1,
          4,
          20,
          8,
          10,
          2,
          1,
          12,
          2,
          1,
          6,
          1,
          1,
          10,
          48,
          1,
          25,
          24,
          3,
          12,
          12,
          4,
          5,
          9,
          36,
          2,
          12,
          12,
          2,
          12,
          2,
          12,
          1,
          1,
          1,
          2,
          2,
          12,
          6,
          1,
          1,
          1,
          24,
          3,
          50,
          16,
          5,
          5,
          2,
          6,
          24,
          48,
          12,
          1,
          12,
          8,
          2,
          12,
          4,
          2,
          24,
          2,
          4,
          6,
          8,
          1,
          12,
          4,
          6,
          25,
          12,
          12,
          2,
          1,
          12,
          1,
          12,
          1,
          12,
          3,
          24,
          1,
          4,
          2,
          12,
          1,
          12,
          8,
          2,
          72,
          5,
          10,
          6,
          1,
          12,
          6,
          6,
          48,
          50,
          2,
          48,
          1,
          1,
          1,
          4,
          2,
          72,
          1,
          4,
          12,
          2,
          8,
          12,
          2,
          2,
          4,
          5,
          12,
          4,
          12,
          24,
          2,
          10,
          2,
          3,
          2,
          6,
          12,
          6,
          5,
          3,
          8,
          25,
          12,
          12,
          1,
          24,
          24,
          2,
          6,
          6,
          1,
          2,
          1,
          10,
          6,
          10,
          24,
          4,
          12,
          1,
          4,
          20,
          2,
          5,
          6,
          13,
          1,
          12,
          1,
          12,
          10,
          2,
          3,
          4,
          12,
          12,
          20,
          8,
          12,
          10,
          12,
          4,
          6,
          8,
          6,
          100,
          1,
          12,
          1,
          24,
          1,
          12,
          6,
          4,
          6,
          1,
          50,
          18,
          18,
          12,
          6,
          6,
          24,
          2,
          24,
          12,
          6,
          2,
          1,
          6,
          2,
          2,
          6,
          6,
          1,
          10,
          1,
          4,
          3,
          12,
          48,
          64,
          1,
          24,
          1,
          1,
          12,
          1,
          40,
          5,
          4,
          6,
          10,
          1,
          25,
          10,
          12,
          5,
          2,
          2,
          16,
          36,
          7,
          6,
          4,
          6,
          1,
          2,
          1,
          12,
          24,
          1,
          6,
          1,
          1,
          5,
          12,
          1,
          1,
          6,
          1,
          24,
          6,
          10,
          1,
          1,
          12,
          16,
          24,
          3,
          2,
          24,
          12,
          1,
          2,
          24,
          12,
          2,
          64,
          16,
          10,
          10,
          16,
          2,
          12,
          3,
          3,
          2,
          12,
          3,
          2,
          2,
          12,
          6,
          2,
          2,
          4,
          2,
          1,
          12,
          24,
          12,
          10,
          4,
          2,
          24,
          10,
          24,
          50,
          24,
          12,
          2,
          6,
          25,
          1,
          3,
          4,
          2,
          1,
          12,
          1,
          4,
          10,
          24,
          3,
          12,
          24,
          3,
          2,
          6,
          4,
          1,
          7,
          1,
          1,
          12,
          3,
          1,
          6,
          3,
          1,
          1,
          3,
          10,
          10,
          12,
          5,
          2,
          2,
          24,
          24,
          5,
          288,
          4,
          6,
          1,
          8,
          96,
          3,
          1,
          2,
          1,
          6,
          25,
          1,
          1,
          2,
          6,
          12,
          8,
          1,
          1,
          24,
          3,
          4,
          1,
          2,
          2,
          8,
          1,
          2,
          12,
          24,
          2,
          1,
          10,
          48,
          1,
          24,
          8,
          10,
          2,
          2,
          10,
          1,
          6,
          24,
          1,
          2,
          2,
          24,
          6,
          1,
          2,
          2,
          2,
          6,
          3,
          6,
          8,
          9,
          1,
          12,
          6,
          6,
          3,
          6,
          3,
          3,
          6,
          48,
          24,
          8,
          3,
          6,
          20,
          2,
          10,
          2,
          24,
          8,
          48,
          200,
          1,
          1,
          2,
          4,
          24,
          1,
          12,
          2,
          4,
          18,
          192,
          5,
          24,
          12,
          12,
          6,
          2,
          25,
          24,
          6,
          2,
          12,
          4,
          5,
          8,
          1,
          12,
          24,
          3,
          2,
          6,
          12,
          3,
          6,
          1,
          2,
          2,
          1,
          10,
          12,
          2,
          1,
          13,
          20,
          2,
          2,
          12,
          24,
          12,
          2,
          12,
          12,
          2,
          24,
          4,
          6,
          12,
          12,
          12,
          12,
          12,
          60,
          1,
          12,
          8,
          1,
          1,
          176,
          1,
          3,
          3,
          1,
          6,
          30,
          2,
          2,
          6,
          1,
          12,
          6,
          2,
          2,
          12,
          12,
          24,
          1,
          36,
          2,
          9,
          4,
          4,
          24,
          12,
          48,
          4,
          24,
          24,
          3,
          1,
          6,
          24,
          12,
          12,
          4,
          16,
          12,
          4,
          4,
          32,
          25,
          6,
          6,
          1,
          3,
          144,
          2,
          6,
          2,
          2,
          58,
          10,
          1,
          12,
          12,
          12,
          1,
          3,
          2,
          1,
          8,
          1,
          6,
          2,
          10,
          4,
          1,
          12,
          1,
          24,
          12,
          3,
          12,
          1,
          4,
          4,
          6,
          12,
          6,
          3,
          12,
          2,
          10,
          6,
          1,
          1,
          2,
          8,
          5,
          12,
          120,
          1,
          2,
          120,
          14,
          6,
          3,
          3,
          5,
          4,
          10,
          10,
          10,
          12,
          6,
          2,
          2,
          12,
          3,
          1,
          3,
          1,
          2,
          1,
          3,
          12,
          3,
          10,
          2,
          50,
          24,
          10,
          3,
          3,
          100,
          100,
          2,
          12,
          4,
          1,
          6,
          20,
          4,
          24,
          4,
          3,
          100,
          1,
          10,
          4,
          1,
          6,
          2,
          24,
          2,
          10,
          12,
          25,
          12,
          2,
          8,
          12,
          4,
          2,
          2,
          2,
          1,
          1,
          2,
          16,
          2,
          24,
          1,
          5,
          1,
          24,
          3,
          96,
          25,
          12,
          12,
          10,
          4,
          1,
          2,
          480,
          14,
          4,
          1,
          1,
          1,
          24,
          4,
          6,
          4,
          4,
          1,
          10,
          1,
          6,
          12,
          2,
          1,
          3,
          2,
          6,
          2,
          6,
          6,
          12,
          3,
          2,
          4,
          12,
          3,
          3,
          4,
          10,
          3,
          24,
          24,
          6,
          10,
          12,
          3,
          4,
          5,
          4,
          24,
          25,
          1,
          3,
          4,
          12,
          6,
          2,
          6,
          12,
          16,
          20,
          30,
          5,
          1,
          1,
          100,
          3,
          2,
          12,
          2,
          1,
          384,
          3,
          1,
          3,
          6,
          2,
          1,
          10,
          2,
          16,
          12,
          6,
          6,
          6,
          2,
          4,
          2,
          12,
          12,
          12,
          8,
          6,
          12,
          4,
          10,
          1,
          1,
          12,
          9,
          6,
          12,
          2,
          10,
          10,
          2,
          12,
          3,
          4,
          2,
          6,
          3,
          6,
          2,
          8,
          1,
          24,
          7,
          24,
          10,
          24,
          2,
          2,
          4,
          24,
          2,
          12,
          1,
          2,
          12,
          8,
          24,
          1,
          1,
          4,
          12,
          1,
          2,
          8,
          8,
          2,
          2,
          4,
          24,
          1,
          5,
          2,
          6,
          2,
          10,
          48,
          2,
          8,
          3,
          2,
          5,
          1,
          6,
          2,
          1,
          1,
          12,
          6,
          10,
          1,
          6,
          1,
          1,
          2,
          2,
          4,
          2,
          25,
          1
         ],
         "xaxis": "x2",
         "yaxis": "y2"
        }
       ],
       "layout": {
        "barmode": "relative",
        "legend": {
         "title": {
          "text": "variable"
         },
         "tracegroupgap": 0
        },
        "template": {
         "data": {
          "bar": [
           {
            "error_x": {
             "color": "#2a3f5f"
            },
            "error_y": {
             "color": "#2a3f5f"
            },
            "marker": {
             "line": {
              "color": "#E5ECF6",
              "width": 0.5
             },
             "pattern": {
              "fillmode": "overlay",
              "size": 10,
              "solidity": 0.2
             }
            },
            "type": "bar"
           }
          ],
          "barpolar": [
           {
            "marker": {
             "line": {
              "color": "#E5ECF6",
              "width": 0.5
             },
             "pattern": {
              "fillmode": "overlay",
              "size": 10,
              "solidity": 0.2
             }
            },
            "type": "barpolar"
           }
          ],
          "carpet": [
           {
            "aaxis": {
             "endlinecolor": "#2a3f5f",
             "gridcolor": "white",
             "linecolor": "white",
             "minorgridcolor": "white",
             "startlinecolor": "#2a3f5f"
            },
            "baxis": {
             "endlinecolor": "#2a3f5f",
             "gridcolor": "white",
             "linecolor": "white",
             "minorgridcolor": "white",
             "startlinecolor": "#2a3f5f"
            },
            "type": "carpet"
           }
          ],
          "choropleth": [
           {
            "colorbar": {
             "outlinewidth": 0,
             "ticks": ""
            },
            "type": "choropleth"
           }
          ],
          "contour": [
           {
            "colorbar": {
             "outlinewidth": 0,
             "ticks": ""
            },
            "colorscale": [
             [
              0,
              "#0d0887"
             ],
             [
              0.1111111111111111,
              "#46039f"
             ],
             [
              0.2222222222222222,
              "#7201a8"
             ],
             [
              0.3333333333333333,
              "#9c179e"
             ],
             [
              0.4444444444444444,
              "#bd3786"
             ],
             [
              0.5555555555555556,
              "#d8576b"
             ],
             [
              0.6666666666666666,
              "#ed7953"
             ],
             [
              0.7777777777777778,
              "#fb9f3a"
             ],
             [
              0.8888888888888888,
              "#fdca26"
             ],
             [
              1,
              "#f0f921"
             ]
            ],
            "type": "contour"
           }
          ],
          "contourcarpet": [
           {
            "colorbar": {
             "outlinewidth": 0,
             "ticks": ""
            },
            "type": "contourcarpet"
           }
          ],
          "heatmap": [
           {
            "colorbar": {
             "outlinewidth": 0,
             "ticks": ""
            },
            "colorscale": [
             [
              0,
              "#0d0887"
             ],
             [
              0.1111111111111111,
              "#46039f"
             ],
             [
              0.2222222222222222,
              "#7201a8"
             ],
             [
              0.3333333333333333,
              "#9c179e"
             ],
             [
              0.4444444444444444,
              "#bd3786"
             ],
             [
              0.5555555555555556,
              "#d8576b"
             ],
             [
              0.6666666666666666,
              "#ed7953"
             ],
             [
              0.7777777777777778,
              "#fb9f3a"
             ],
             [
              0.8888888888888888,
              "#fdca26"
             ],
             [
              1,
              "#f0f921"
             ]
            ],
            "type": "heatmap"
           }
          ],
          "heatmapgl": [
           {
            "colorbar": {
             "outlinewidth": 0,
             "ticks": ""
            },
            "colorscale": [
             [
              0,
              "#0d0887"
             ],
             [
              0.1111111111111111,
              "#46039f"
             ],
             [
              0.2222222222222222,
              "#7201a8"
             ],
             [
              0.3333333333333333,
              "#9c179e"
             ],
             [
              0.4444444444444444,
              "#bd3786"
             ],
             [
              0.5555555555555556,
              "#d8576b"
             ],
             [
              0.6666666666666666,
              "#ed7953"
             ],
             [
              0.7777777777777778,
              "#fb9f3a"
             ],
             [
              0.8888888888888888,
              "#fdca26"
             ],
             [
              1,
              "#f0f921"
             ]
            ],
            "type": "heatmapgl"
           }
          ],
          "histogram": [
           {
            "marker": {
             "pattern": {
              "fillmode": "overlay",
              "size": 10,
              "solidity": 0.2
             }
            },
            "type": "histogram"
           }
          ],
          "histogram2d": [
           {
            "colorbar": {
             "outlinewidth": 0,
             "ticks": ""
            },
            "colorscale": [
             [
              0,
              "#0d0887"
             ],
             [
              0.1111111111111111,
              "#46039f"
             ],
             [
              0.2222222222222222,
              "#7201a8"
             ],
             [
              0.3333333333333333,
              "#9c179e"
             ],
             [
              0.4444444444444444,
              "#bd3786"
             ],
             [
              0.5555555555555556,
              "#d8576b"
             ],
             [
              0.6666666666666666,
              "#ed7953"
             ],
             [
              0.7777777777777778,
              "#fb9f3a"
             ],
             [
              0.8888888888888888,
              "#fdca26"
             ],
             [
              1,
              "#f0f921"
             ]
            ],
            "type": "histogram2d"
           }
          ],
          "histogram2dcontour": [
           {
            "colorbar": {
             "outlinewidth": 0,
             "ticks": ""
            },
            "colorscale": [
             [
              0,
              "#0d0887"
             ],
             [
              0.1111111111111111,
              "#46039f"
             ],
             [
              0.2222222222222222,
              "#7201a8"
             ],
             [
              0.3333333333333333,
              "#9c179e"
             ],
             [
              0.4444444444444444,
              "#bd3786"
             ],
             [
              0.5555555555555556,
              "#d8576b"
             ],
             [
              0.6666666666666666,
              "#ed7953"
             ],
             [
              0.7777777777777778,
              "#fb9f3a"
             ],
             [
              0.8888888888888888,
              "#fdca26"
             ],
             [
              1,
              "#f0f921"
             ]
            ],
            "type": "histogram2dcontour"
           }
          ],
          "mesh3d": [
           {
            "colorbar": {
             "outlinewidth": 0,
             "ticks": ""
            },
            "type": "mesh3d"
           }
          ],
          "parcoords": [
           {
            "line": {
             "colorbar": {
              "outlinewidth": 0,
              "ticks": ""
             }
            },
            "type": "parcoords"
           }
          ],
          "pie": [
           {
            "automargin": true,
            "type": "pie"
           }
          ],
          "scatter": [
           {
            "fillpattern": {
             "fillmode": "overlay",
             "size": 10,
             "solidity": 0.2
            },
            "type": "scatter"
           }
          ],
          "scatter3d": [
           {
            "line": {
             "colorbar": {
              "outlinewidth": 0,
              "ticks": ""
             }
            },
            "marker": {
             "colorbar": {
              "outlinewidth": 0,
              "ticks": ""
             }
            },
            "type": "scatter3d"
           }
          ],
          "scattercarpet": [
           {
            "marker": {
             "colorbar": {
              "outlinewidth": 0,
              "ticks": ""
             }
            },
            "type": "scattercarpet"
           }
          ],
          "scattergeo": [
           {
            "marker": {
             "colorbar": {
              "outlinewidth": 0,
              "ticks": ""
             }
            },
            "type": "scattergeo"
           }
          ],
          "scattergl": [
           {
            "marker": {
             "colorbar": {
              "outlinewidth": 0,
              "ticks": ""
             }
            },
            "type": "scattergl"
           }
          ],
          "scattermapbox": [
           {
            "marker": {
             "colorbar": {
              "outlinewidth": 0,
              "ticks": ""
             }
            },
            "type": "scattermapbox"
           }
          ],
          "scatterpolar": [
           {
            "marker": {
             "colorbar": {
              "outlinewidth": 0,
              "ticks": ""
             }
            },
            "type": "scatterpolar"
           }
          ],
          "scatterpolargl": [
           {
            "marker": {
             "colorbar": {
              "outlinewidth": 0,
              "ticks": ""
             }
            },
            "type": "scatterpolargl"
           }
          ],
          "scatterternary": [
           {
            "marker": {
             "colorbar": {
              "outlinewidth": 0,
              "ticks": ""
             }
            },
            "type": "scatterternary"
           }
          ],
          "surface": [
           {
            "colorbar": {
             "outlinewidth": 0,
             "ticks": ""
            },
            "colorscale": [
             [
              0,
              "#0d0887"
             ],
             [
              0.1111111111111111,
              "#46039f"
             ],
             [
              0.2222222222222222,
              "#7201a8"
             ],
             [
              0.3333333333333333,
              "#9c179e"
             ],
             [
              0.4444444444444444,
              "#bd3786"
             ],
             [
              0.5555555555555556,
              "#d8576b"
             ],
             [
              0.6666666666666666,
              "#ed7953"
             ],
             [
              0.7777777777777778,
              "#fb9f3a"
             ],
             [
              0.8888888888888888,
              "#fdca26"
             ],
             [
              1,
              "#f0f921"
             ]
            ],
            "type": "surface"
           }
          ],
          "table": [
           {
            "cells": {
             "fill": {
              "color": "#EBF0F8"
             },
             "line": {
              "color": "white"
             }
            },
            "header": {
             "fill": {
              "color": "#C8D4E3"
             },
             "line": {
              "color": "white"
             }
            },
            "type": "table"
           }
          ]
         },
         "layout": {
          "annotationdefaults": {
           "arrowcolor": "#2a3f5f",
           "arrowhead": 0,
           "arrowwidth": 1
          },
          "autotypenumbers": "strict",
          "coloraxis": {
           "colorbar": {
            "outlinewidth": 0,
            "ticks": ""
           }
          },
          "colorscale": {
           "diverging": [
            [
             0,
             "#8e0152"
            ],
            [
             0.1,
             "#c51b7d"
            ],
            [
             0.2,
             "#de77ae"
            ],
            [
             0.3,
             "#f1b6da"
            ],
            [
             0.4,
             "#fde0ef"
            ],
            [
             0.5,
             "#f7f7f7"
            ],
            [
             0.6,
             "#e6f5d0"
            ],
            [
             0.7,
             "#b8e186"
            ],
            [
             0.8,
             "#7fbc41"
            ],
            [
             0.9,
             "#4d9221"
            ],
            [
             1,
             "#276419"
            ]
           ],
           "sequential": [
            [
             0,
             "#0d0887"
            ],
            [
             0.1111111111111111,
             "#46039f"
            ],
            [
             0.2222222222222222,
             "#7201a8"
            ],
            [
             0.3333333333333333,
             "#9c179e"
            ],
            [
             0.4444444444444444,
             "#bd3786"
            ],
            [
             0.5555555555555556,
             "#d8576b"
            ],
            [
             0.6666666666666666,
             "#ed7953"
            ],
            [
             0.7777777777777778,
             "#fb9f3a"
            ],
            [
             0.8888888888888888,
             "#fdca26"
            ],
            [
             1,
             "#f0f921"
            ]
           ],
           "sequentialminus": [
            [
             0,
             "#0d0887"
            ],
            [
             0.1111111111111111,
             "#46039f"
            ],
            [
             0.2222222222222222,
             "#7201a8"
            ],
            [
             0.3333333333333333,
             "#9c179e"
            ],
            [
             0.4444444444444444,
             "#bd3786"
            ],
            [
             0.5555555555555556,
             "#d8576b"
            ],
            [
             0.6666666666666666,
             "#ed7953"
            ],
            [
             0.7777777777777778,
             "#fb9f3a"
            ],
            [
             0.8888888888888888,
             "#fdca26"
            ],
            [
             1,
             "#f0f921"
            ]
           ]
          },
          "colorway": [
           "#636efa",
           "#EF553B",
           "#00cc96",
           "#ab63fa",
           "#FFA15A",
           "#19d3f3",
           "#FF6692",
           "#B6E880",
           "#FF97FF",
           "#FECB52"
          ],
          "font": {
           "color": "#2a3f5f"
          },
          "geo": {
           "bgcolor": "white",
           "lakecolor": "white",
           "landcolor": "#E5ECF6",
           "showlakes": true,
           "showland": true,
           "subunitcolor": "white"
          },
          "hoverlabel": {
           "align": "left"
          },
          "hovermode": "closest",
          "mapbox": {
           "style": "light"
          },
          "paper_bgcolor": "white",
          "plot_bgcolor": "#E5ECF6",
          "polar": {
           "angularaxis": {
            "gridcolor": "white",
            "linecolor": "white",
            "ticks": ""
           },
           "bgcolor": "#E5ECF6",
           "radialaxis": {
            "gridcolor": "white",
            "linecolor": "white",
            "ticks": ""
           }
          },
          "scene": {
           "xaxis": {
            "backgroundcolor": "#E5ECF6",
            "gridcolor": "white",
            "gridwidth": 2,
            "linecolor": "white",
            "showbackground": true,
            "ticks": "",
            "zerolinecolor": "white"
           },
           "yaxis": {
            "backgroundcolor": "#E5ECF6",
            "gridcolor": "white",
            "gridwidth": 2,
            "linecolor": "white",
            "showbackground": true,
            "ticks": "",
            "zerolinecolor": "white"
           },
           "zaxis": {
            "backgroundcolor": "#E5ECF6",
            "gridcolor": "white",
            "gridwidth": 2,
            "linecolor": "white",
            "showbackground": true,
            "ticks": "",
            "zerolinecolor": "white"
           }
          },
          "shapedefaults": {
           "line": {
            "color": "#2a3f5f"
           }
          },
          "ternary": {
           "aaxis": {
            "gridcolor": "white",
            "linecolor": "white",
            "ticks": ""
           },
           "baxis": {
            "gridcolor": "white",
            "linecolor": "white",
            "ticks": ""
           },
           "bgcolor": "#E5ECF6",
           "caxis": {
            "gridcolor": "white",
            "linecolor": "white",
            "ticks": ""
           }
          },
          "title": {
           "x": 0.05
          },
          "xaxis": {
           "automargin": true,
           "gridcolor": "white",
           "linecolor": "white",
           "ticks": "",
           "title": {
            "standoff": 15
           },
           "zerolinecolor": "white",
           "zerolinewidth": 2
          },
          "yaxis": {
           "automargin": true,
           "gridcolor": "white",
           "linecolor": "white",
           "ticks": "",
           "title": {
            "standoff": 15
           },
           "zerolinecolor": "white",
           "zerolinewidth": 2
          }
         }
        },
        "title": {
         "text": "Quantity - With Outliers"
        },
        "xaxis": {
         "anchor": "y",
         "domain": [
          0,
          1
         ],
         "title": {
          "text": "value"
         }
        },
        "xaxis2": {
         "anchor": "y2",
         "domain": [
          0,
          1
         ],
         "matches": "x",
         "showgrid": true,
         "showticklabels": false
        },
        "yaxis": {
         "anchor": "x",
         "domain": [
          0,
          0.7326
         ],
         "title": {
          "text": "count"
         }
        },
        "yaxis2": {
         "anchor": "x2",
         "domain": [
          0.7426,
          1
         ],
         "matches": "y2",
         "showgrid": false,
         "showline": false,
         "showticklabels": false,
         "ticks": ""
        }
       }
      }
     },
     "metadata": {},
     "output_type": "display_data"
    },
    {
     "data": {
      "application/vnd.plotly.v1+json": {
       "config": {
        "plotlyServerURL": "https://plot.ly"
       },
       "data": [
        {
         "alignmentgroup": "True",
         "bingroup": "x",
         "hovertemplate": "variable=Quantity<br>value=%{x}<br>count=%{y}<extra></extra>",
         "legendgroup": "Quantity",
         "marker": {
          "color": "#636efa",
          "pattern": {
           "shape": ""
          }
         },
         "name": "Quantity",
         "offsetgroup": "Quantity",
         "orientation": "v",
         "showlegend": true,
         "type": "histogram",
         "x": [
          2,
          48,
          2,
          1,
          6,
          1,
          3,
          12,
          6,
          12,
          6,
          1,
          2,
          24,
          2,
          1,
          12,
          12,
          2,
          3,
          1,
          12,
          6,
          6,
          2,
          24,
          10,
          12,
          24,
          48,
          1,
          1,
          12,
          1,
          4,
          3,
          4,
          2,
          4,
          4,
          1,
          20,
          1,
          100,
          12,
          12,
          1,
          6,
          4,
          12,
          6,
          32,
          3,
          12,
          12,
          12,
          6,
          12,
          16,
          20,
          10,
          2,
          10,
          2,
          1,
          24,
          96,
          24,
          1,
          1,
          12,
          4,
          24,
          6,
          6,
          1,
          1,
          1,
          1,
          8,
          12,
          6,
          1,
          4,
          1,
          6,
          1,
          64,
          4,
          28,
          1,
          12,
          2,
          1,
          1,
          1,
          72,
          3,
          12,
          24,
          12,
          1,
          4,
          1,
          12,
          12,
          24,
          4,
          6,
          5,
          10,
          36,
          1,
          4,
          2,
          6,
          6,
          2,
          6,
          12,
          6,
          1,
          1,
          2,
          12,
          1,
          1,
          2,
          12,
          4,
          2,
          2,
          2,
          2,
          6,
          25,
          20,
          12,
          24,
          4,
          1,
          48,
          12,
          12,
          6,
          5,
          72,
          1,
          1,
          10,
          10,
          12,
          12,
          2,
          1,
          2,
          24,
          6,
          12,
          1,
          1,
          4,
          20,
          8,
          10,
          2,
          1,
          12,
          2,
          1,
          6,
          1,
          1,
          10,
          48,
          1,
          25,
          24,
          3,
          12,
          12,
          4,
          5,
          9,
          36,
          2,
          12,
          12,
          2,
          12,
          2,
          12,
          1,
          1,
          1,
          2,
          2,
          12,
          6,
          1,
          1,
          1,
          24,
          3,
          50,
          16,
          5,
          5,
          2,
          6,
          24,
          48,
          12,
          1,
          12,
          8,
          2,
          12,
          4,
          2,
          24,
          2,
          4,
          6,
          8,
          1,
          12,
          4,
          6,
          25,
          12,
          12,
          2,
          1,
          12,
          1,
          12,
          1,
          12,
          3,
          24,
          1,
          4,
          2,
          12,
          1,
          12,
          8,
          2,
          72,
          5,
          10,
          6,
          1,
          12,
          6,
          6,
          48,
          50,
          2,
          48,
          1,
          1,
          1,
          4,
          2,
          72,
          1,
          4,
          12,
          2,
          8,
          12,
          2,
          2,
          4,
          5,
          12,
          4,
          12,
          24,
          2,
          10,
          2,
          3,
          2,
          6,
          12,
          6,
          5,
          3,
          8,
          25,
          12,
          12,
          1,
          24,
          24,
          2,
          6,
          6,
          1,
          2,
          1,
          10,
          6,
          10,
          24,
          4,
          12,
          1,
          4,
          20,
          2,
          5,
          6,
          13,
          1,
          12,
          1,
          12,
          10,
          2,
          3,
          4,
          12,
          12,
          20,
          8,
          12,
          10,
          12,
          4,
          6,
          8,
          6,
          100,
          1,
          12,
          1,
          24,
          1,
          12,
          6,
          4,
          6,
          1,
          50,
          18,
          18,
          12,
          6,
          6,
          24,
          2,
          24,
          12,
          6,
          2,
          1,
          6,
          2,
          2,
          6,
          6,
          1,
          10,
          1,
          4,
          3,
          12,
          48,
          64,
          1,
          24,
          1,
          1,
          12,
          1,
          40,
          5,
          4,
          6,
          10,
          1,
          25,
          10,
          12,
          5,
          2,
          2,
          16,
          36,
          7,
          6,
          4,
          6,
          1,
          2,
          1,
          12,
          24,
          1,
          6,
          1,
          1,
          5,
          12,
          1,
          1,
          6,
          1,
          24,
          6,
          10,
          1,
          1,
          12,
          16,
          24,
          3,
          2,
          24,
          12,
          1,
          2,
          24,
          12,
          2,
          64,
          16,
          10,
          10,
          16,
          2,
          12,
          3,
          3,
          2,
          12,
          3,
          2,
          2,
          12,
          6,
          2,
          2,
          4,
          2,
          1,
          12,
          24,
          12,
          10,
          4,
          2,
          24,
          10,
          24,
          50,
          24,
          12,
          2,
          6,
          25,
          1,
          3,
          4,
          2,
          1,
          12,
          1,
          4,
          10,
          24,
          3,
          12,
          24,
          3,
          2,
          6,
          4,
          1,
          7,
          1,
          1,
          12,
          3,
          1,
          6,
          3,
          1,
          1,
          3,
          10,
          10,
          12,
          5,
          2,
          2,
          24,
          24,
          5,
          4,
          6,
          1,
          8,
          96,
          3,
          1,
          2,
          1,
          6,
          25,
          1,
          1,
          2,
          6,
          12,
          8,
          1,
          1,
          24,
          3,
          4,
          1,
          2,
          2,
          8,
          1,
          2,
          12,
          24,
          2,
          1,
          10,
          48,
          1,
          24,
          8,
          10,
          2,
          2,
          10,
          1,
          6,
          24,
          1,
          2,
          2,
          24,
          6,
          1,
          2,
          2,
          2,
          6,
          3,
          6,
          8,
          9,
          1,
          12,
          6,
          6,
          3,
          6,
          3,
          3,
          6,
          48,
          24,
          8,
          3,
          6,
          20,
          2,
          10,
          2,
          24,
          8,
          48,
          1,
          1,
          2,
          4,
          24,
          1,
          12,
          2,
          4,
          18,
          5,
          24,
          12,
          12,
          6,
          2,
          25,
          24,
          6,
          2,
          12,
          4,
          5,
          8,
          1,
          12,
          24,
          3,
          2,
          6,
          12,
          3,
          6,
          1,
          2,
          2,
          1,
          10,
          12,
          2,
          1,
          13,
          20,
          2,
          2,
          12,
          24,
          12,
          2,
          12,
          12,
          2,
          24,
          4,
          6,
          12,
          12,
          12,
          12,
          12,
          60,
          1,
          12,
          8,
          1,
          1,
          1,
          3,
          3,
          1,
          6,
          30,
          2,
          2,
          6,
          1,
          12,
          6,
          2,
          2,
          12,
          12,
          24,
          1,
          36,
          2,
          9,
          4,
          4,
          24,
          12,
          48,
          4,
          24,
          24,
          3,
          1,
          6,
          24,
          12,
          12,
          4,
          16,
          12,
          4,
          4,
          32,
          25,
          6,
          6,
          1,
          3,
          2,
          6,
          2,
          2,
          58,
          10,
          1,
          12,
          12,
          12,
          1,
          3,
          2,
          1,
          8,
          1,
          6,
          2,
          10,
          4,
          1,
          12,
          1,
          24,
          12,
          3,
          12,
          1,
          4,
          4,
          6,
          12,
          6,
          3,
          12,
          2,
          10,
          6,
          1,
          1,
          2,
          8,
          5,
          12,
          1,
          2,
          14,
          6,
          3,
          3,
          5,
          4,
          10,
          10,
          10,
          12,
          6,
          2,
          2,
          12,
          3,
          1,
          3,
          1,
          2,
          1,
          3,
          12,
          3,
          10,
          2,
          50,
          24,
          10,
          3,
          3,
          100,
          100,
          2,
          12,
          4,
          1,
          6,
          20,
          4,
          24,
          4,
          3,
          100,
          1,
          10,
          4,
          1,
          6,
          2,
          24,
          2,
          10,
          12,
          25,
          12,
          2,
          8,
          12,
          4,
          2,
          2,
          2,
          1,
          1,
          2,
          16,
          2,
          24,
          1,
          5,
          1,
          24,
          3,
          96,
          25,
          12,
          12,
          10,
          4,
          1,
          2,
          14,
          4,
          1,
          1,
          1,
          24,
          4,
          6,
          4,
          4,
          1,
          10,
          1,
          6,
          12,
          2,
          1,
          3,
          2,
          6,
          2,
          6,
          6,
          12,
          3,
          2,
          4,
          12,
          3,
          3,
          4,
          10,
          3,
          24,
          24,
          6,
          10,
          12,
          3,
          4,
          5,
          4,
          24,
          25,
          1,
          3,
          4,
          12,
          6,
          2,
          6,
          12,
          16,
          20,
          30,
          5,
          1,
          1,
          100,
          3,
          2,
          12,
          2,
          1,
          3,
          1,
          3,
          6,
          2,
          1,
          10,
          2,
          16,
          12,
          6,
          6,
          6,
          2,
          4,
          2,
          12,
          12,
          12,
          8,
          6,
          12,
          4,
          10,
          1,
          1,
          12,
          9,
          6,
          12,
          2,
          10,
          10,
          2,
          12,
          3,
          4,
          2,
          6,
          3,
          6,
          2,
          8,
          1,
          24,
          7,
          24,
          10,
          24,
          2,
          2,
          4,
          24,
          2,
          12,
          1,
          2,
          12,
          8,
          24,
          1,
          1,
          4,
          12,
          1,
          2,
          8,
          8,
          2,
          2,
          4,
          24,
          1,
          5,
          2,
          6,
          2,
          10,
          48,
          2,
          8,
          3,
          2,
          5,
          1,
          6,
          2,
          1,
          1,
          12,
          6,
          10,
          1,
          6,
          1,
          1,
          2,
          2,
          4,
          2,
          25,
          1
         ],
         "xaxis": "x",
         "yaxis": "y"
        },
        {
         "alignmentgroup": "True",
         "hovertemplate": "variable=Quantity<br>value=%{x}<extra></extra>",
         "legendgroup": "Quantity",
         "marker": {
          "color": "#636efa"
         },
         "name": "Quantity",
         "notched": true,
         "offsetgroup": "Quantity",
         "showlegend": false,
         "type": "box",
         "x": [
          2,
          48,
          2,
          1,
          6,
          1,
          3,
          12,
          6,
          12,
          6,
          1,
          2,
          24,
          2,
          1,
          12,
          12,
          2,
          3,
          1,
          12,
          6,
          6,
          2,
          24,
          10,
          12,
          24,
          48,
          1,
          1,
          12,
          1,
          4,
          3,
          4,
          2,
          4,
          4,
          1,
          20,
          1,
          100,
          12,
          12,
          1,
          6,
          4,
          12,
          6,
          32,
          3,
          12,
          12,
          12,
          6,
          12,
          16,
          20,
          10,
          2,
          10,
          2,
          1,
          24,
          96,
          24,
          1,
          1,
          12,
          4,
          24,
          6,
          6,
          1,
          1,
          1,
          1,
          8,
          12,
          6,
          1,
          4,
          1,
          6,
          1,
          64,
          4,
          28,
          1,
          12,
          2,
          1,
          1,
          1,
          72,
          3,
          12,
          24,
          12,
          1,
          4,
          1,
          12,
          12,
          24,
          4,
          6,
          5,
          10,
          36,
          1,
          4,
          2,
          6,
          6,
          2,
          6,
          12,
          6,
          1,
          1,
          2,
          12,
          1,
          1,
          2,
          12,
          4,
          2,
          2,
          2,
          2,
          6,
          25,
          20,
          12,
          24,
          4,
          1,
          48,
          12,
          12,
          6,
          5,
          72,
          1,
          1,
          10,
          10,
          12,
          12,
          2,
          1,
          2,
          24,
          6,
          12,
          1,
          1,
          4,
          20,
          8,
          10,
          2,
          1,
          12,
          2,
          1,
          6,
          1,
          1,
          10,
          48,
          1,
          25,
          24,
          3,
          12,
          12,
          4,
          5,
          9,
          36,
          2,
          12,
          12,
          2,
          12,
          2,
          12,
          1,
          1,
          1,
          2,
          2,
          12,
          6,
          1,
          1,
          1,
          24,
          3,
          50,
          16,
          5,
          5,
          2,
          6,
          24,
          48,
          12,
          1,
          12,
          8,
          2,
          12,
          4,
          2,
          24,
          2,
          4,
          6,
          8,
          1,
          12,
          4,
          6,
          25,
          12,
          12,
          2,
          1,
          12,
          1,
          12,
          1,
          12,
          3,
          24,
          1,
          4,
          2,
          12,
          1,
          12,
          8,
          2,
          72,
          5,
          10,
          6,
          1,
          12,
          6,
          6,
          48,
          50,
          2,
          48,
          1,
          1,
          1,
          4,
          2,
          72,
          1,
          4,
          12,
          2,
          8,
          12,
          2,
          2,
          4,
          5,
          12,
          4,
          12,
          24,
          2,
          10,
          2,
          3,
          2,
          6,
          12,
          6,
          5,
          3,
          8,
          25,
          12,
          12,
          1,
          24,
          24,
          2,
          6,
          6,
          1,
          2,
          1,
          10,
          6,
          10,
          24,
          4,
          12,
          1,
          4,
          20,
          2,
          5,
          6,
          13,
          1,
          12,
          1,
          12,
          10,
          2,
          3,
          4,
          12,
          12,
          20,
          8,
          12,
          10,
          12,
          4,
          6,
          8,
          6,
          100,
          1,
          12,
          1,
          24,
          1,
          12,
          6,
          4,
          6,
          1,
          50,
          18,
          18,
          12,
          6,
          6,
          24,
          2,
          24,
          12,
          6,
          2,
          1,
          6,
          2,
          2,
          6,
          6,
          1,
          10,
          1,
          4,
          3,
          12,
          48,
          64,
          1,
          24,
          1,
          1,
          12,
          1,
          40,
          5,
          4,
          6,
          10,
          1,
          25,
          10,
          12,
          5,
          2,
          2,
          16,
          36,
          7,
          6,
          4,
          6,
          1,
          2,
          1,
          12,
          24,
          1,
          6,
          1,
          1,
          5,
          12,
          1,
          1,
          6,
          1,
          24,
          6,
          10,
          1,
          1,
          12,
          16,
          24,
          3,
          2,
          24,
          12,
          1,
          2,
          24,
          12,
          2,
          64,
          16,
          10,
          10,
          16,
          2,
          12,
          3,
          3,
          2,
          12,
          3,
          2,
          2,
          12,
          6,
          2,
          2,
          4,
          2,
          1,
          12,
          24,
          12,
          10,
          4,
          2,
          24,
          10,
          24,
          50,
          24,
          12,
          2,
          6,
          25,
          1,
          3,
          4,
          2,
          1,
          12,
          1,
          4,
          10,
          24,
          3,
          12,
          24,
          3,
          2,
          6,
          4,
          1,
          7,
          1,
          1,
          12,
          3,
          1,
          6,
          3,
          1,
          1,
          3,
          10,
          10,
          12,
          5,
          2,
          2,
          24,
          24,
          5,
          4,
          6,
          1,
          8,
          96,
          3,
          1,
          2,
          1,
          6,
          25,
          1,
          1,
          2,
          6,
          12,
          8,
          1,
          1,
          24,
          3,
          4,
          1,
          2,
          2,
          8,
          1,
          2,
          12,
          24,
          2,
          1,
          10,
          48,
          1,
          24,
          8,
          10,
          2,
          2,
          10,
          1,
          6,
          24,
          1,
          2,
          2,
          24,
          6,
          1,
          2,
          2,
          2,
          6,
          3,
          6,
          8,
          9,
          1,
          12,
          6,
          6,
          3,
          6,
          3,
          3,
          6,
          48,
          24,
          8,
          3,
          6,
          20,
          2,
          10,
          2,
          24,
          8,
          48,
          1,
          1,
          2,
          4,
          24,
          1,
          12,
          2,
          4,
          18,
          5,
          24,
          12,
          12,
          6,
          2,
          25,
          24,
          6,
          2,
          12,
          4,
          5,
          8,
          1,
          12,
          24,
          3,
          2,
          6,
          12,
          3,
          6,
          1,
          2,
          2,
          1,
          10,
          12,
          2,
          1,
          13,
          20,
          2,
          2,
          12,
          24,
          12,
          2,
          12,
          12,
          2,
          24,
          4,
          6,
          12,
          12,
          12,
          12,
          12,
          60,
          1,
          12,
          8,
          1,
          1,
          1,
          3,
          3,
          1,
          6,
          30,
          2,
          2,
          6,
          1,
          12,
          6,
          2,
          2,
          12,
          12,
          24,
          1,
          36,
          2,
          9,
          4,
          4,
          24,
          12,
          48,
          4,
          24,
          24,
          3,
          1,
          6,
          24,
          12,
          12,
          4,
          16,
          12,
          4,
          4,
          32,
          25,
          6,
          6,
          1,
          3,
          2,
          6,
          2,
          2,
          58,
          10,
          1,
          12,
          12,
          12,
          1,
          3,
          2,
          1,
          8,
          1,
          6,
          2,
          10,
          4,
          1,
          12,
          1,
          24,
          12,
          3,
          12,
          1,
          4,
          4,
          6,
          12,
          6,
          3,
          12,
          2,
          10,
          6,
          1,
          1,
          2,
          8,
          5,
          12,
          1,
          2,
          14,
          6,
          3,
          3,
          5,
          4,
          10,
          10,
          10,
          12,
          6,
          2,
          2,
          12,
          3,
          1,
          3,
          1,
          2,
          1,
          3,
          12,
          3,
          10,
          2,
          50,
          24,
          10,
          3,
          3,
          100,
          100,
          2,
          12,
          4,
          1,
          6,
          20,
          4,
          24,
          4,
          3,
          100,
          1,
          10,
          4,
          1,
          6,
          2,
          24,
          2,
          10,
          12,
          25,
          12,
          2,
          8,
          12,
          4,
          2,
          2,
          2,
          1,
          1,
          2,
          16,
          2,
          24,
          1,
          5,
          1,
          24,
          3,
          96,
          25,
          12,
          12,
          10,
          4,
          1,
          2,
          14,
          4,
          1,
          1,
          1,
          24,
          4,
          6,
          4,
          4,
          1,
          10,
          1,
          6,
          12,
          2,
          1,
          3,
          2,
          6,
          2,
          6,
          6,
          12,
          3,
          2,
          4,
          12,
          3,
          3,
          4,
          10,
          3,
          24,
          24,
          6,
          10,
          12,
          3,
          4,
          5,
          4,
          24,
          25,
          1,
          3,
          4,
          12,
          6,
          2,
          6,
          12,
          16,
          20,
          30,
          5,
          1,
          1,
          100,
          3,
          2,
          12,
          2,
          1,
          3,
          1,
          3,
          6,
          2,
          1,
          10,
          2,
          16,
          12,
          6,
          6,
          6,
          2,
          4,
          2,
          12,
          12,
          12,
          8,
          6,
          12,
          4,
          10,
          1,
          1,
          12,
          9,
          6,
          12,
          2,
          10,
          10,
          2,
          12,
          3,
          4,
          2,
          6,
          3,
          6,
          2,
          8,
          1,
          24,
          7,
          24,
          10,
          24,
          2,
          2,
          4,
          24,
          2,
          12,
          1,
          2,
          12,
          8,
          24,
          1,
          1,
          4,
          12,
          1,
          2,
          8,
          8,
          2,
          2,
          4,
          24,
          1,
          5,
          2,
          6,
          2,
          10,
          48,
          2,
          8,
          3,
          2,
          5,
          1,
          6,
          2,
          1,
          1,
          12,
          6,
          10,
          1,
          6,
          1,
          1,
          2,
          2,
          4,
          2,
          25,
          1
         ],
         "xaxis": "x2",
         "yaxis": "y2"
        }
       ],
       "layout": {
        "barmode": "relative",
        "legend": {
         "title": {
          "text": "variable"
         },
         "tracegroupgap": 0
        },
        "template": {
         "data": {
          "bar": [
           {
            "error_x": {
             "color": "#2a3f5f"
            },
            "error_y": {
             "color": "#2a3f5f"
            },
            "marker": {
             "line": {
              "color": "#E5ECF6",
              "width": 0.5
             },
             "pattern": {
              "fillmode": "overlay",
              "size": 10,
              "solidity": 0.2
             }
            },
            "type": "bar"
           }
          ],
          "barpolar": [
           {
            "marker": {
             "line": {
              "color": "#E5ECF6",
              "width": 0.5
             },
             "pattern": {
              "fillmode": "overlay",
              "size": 10,
              "solidity": 0.2
             }
            },
            "type": "barpolar"
           }
          ],
          "carpet": [
           {
            "aaxis": {
             "endlinecolor": "#2a3f5f",
             "gridcolor": "white",
             "linecolor": "white",
             "minorgridcolor": "white",
             "startlinecolor": "#2a3f5f"
            },
            "baxis": {
             "endlinecolor": "#2a3f5f",
             "gridcolor": "white",
             "linecolor": "white",
             "minorgridcolor": "white",
             "startlinecolor": "#2a3f5f"
            },
            "type": "carpet"
           }
          ],
          "choropleth": [
           {
            "colorbar": {
             "outlinewidth": 0,
             "ticks": ""
            },
            "type": "choropleth"
           }
          ],
          "contour": [
           {
            "colorbar": {
             "outlinewidth": 0,
             "ticks": ""
            },
            "colorscale": [
             [
              0,
              "#0d0887"
             ],
             [
              0.1111111111111111,
              "#46039f"
             ],
             [
              0.2222222222222222,
              "#7201a8"
             ],
             [
              0.3333333333333333,
              "#9c179e"
             ],
             [
              0.4444444444444444,
              "#bd3786"
             ],
             [
              0.5555555555555556,
              "#d8576b"
             ],
             [
              0.6666666666666666,
              "#ed7953"
             ],
             [
              0.7777777777777778,
              "#fb9f3a"
             ],
             [
              0.8888888888888888,
              "#fdca26"
             ],
             [
              1,
              "#f0f921"
             ]
            ],
            "type": "contour"
           }
          ],
          "contourcarpet": [
           {
            "colorbar": {
             "outlinewidth": 0,
             "ticks": ""
            },
            "type": "contourcarpet"
           }
          ],
          "heatmap": [
           {
            "colorbar": {
             "outlinewidth": 0,
             "ticks": ""
            },
            "colorscale": [
             [
              0,
              "#0d0887"
             ],
             [
              0.1111111111111111,
              "#46039f"
             ],
             [
              0.2222222222222222,
              "#7201a8"
             ],
             [
              0.3333333333333333,
              "#9c179e"
             ],
             [
              0.4444444444444444,
              "#bd3786"
             ],
             [
              0.5555555555555556,
              "#d8576b"
             ],
             [
              0.6666666666666666,
              "#ed7953"
             ],
             [
              0.7777777777777778,
              "#fb9f3a"
             ],
             [
              0.8888888888888888,
              "#fdca26"
             ],
             [
              1,
              "#f0f921"
             ]
            ],
            "type": "heatmap"
           }
          ],
          "heatmapgl": [
           {
            "colorbar": {
             "outlinewidth": 0,
             "ticks": ""
            },
            "colorscale": [
             [
              0,
              "#0d0887"
             ],
             [
              0.1111111111111111,
              "#46039f"
             ],
             [
              0.2222222222222222,
              "#7201a8"
             ],
             [
              0.3333333333333333,
              "#9c179e"
             ],
             [
              0.4444444444444444,
              "#bd3786"
             ],
             [
              0.5555555555555556,
              "#d8576b"
             ],
             [
              0.6666666666666666,
              "#ed7953"
             ],
             [
              0.7777777777777778,
              "#fb9f3a"
             ],
             [
              0.8888888888888888,
              "#fdca26"
             ],
             [
              1,
              "#f0f921"
             ]
            ],
            "type": "heatmapgl"
           }
          ],
          "histogram": [
           {
            "marker": {
             "pattern": {
              "fillmode": "overlay",
              "size": 10,
              "solidity": 0.2
             }
            },
            "type": "histogram"
           }
          ],
          "histogram2d": [
           {
            "colorbar": {
             "outlinewidth": 0,
             "ticks": ""
            },
            "colorscale": [
             [
              0,
              "#0d0887"
             ],
             [
              0.1111111111111111,
              "#46039f"
             ],
             [
              0.2222222222222222,
              "#7201a8"
             ],
             [
              0.3333333333333333,
              "#9c179e"
             ],
             [
              0.4444444444444444,
              "#bd3786"
             ],
             [
              0.5555555555555556,
              "#d8576b"
             ],
             [
              0.6666666666666666,
              "#ed7953"
             ],
             [
              0.7777777777777778,
              "#fb9f3a"
             ],
             [
              0.8888888888888888,
              "#fdca26"
             ],
             [
              1,
              "#f0f921"
             ]
            ],
            "type": "histogram2d"
           }
          ],
          "histogram2dcontour": [
           {
            "colorbar": {
             "outlinewidth": 0,
             "ticks": ""
            },
            "colorscale": [
             [
              0,
              "#0d0887"
             ],
             [
              0.1111111111111111,
              "#46039f"
             ],
             [
              0.2222222222222222,
              "#7201a8"
             ],
             [
              0.3333333333333333,
              "#9c179e"
             ],
             [
              0.4444444444444444,
              "#bd3786"
             ],
             [
              0.5555555555555556,
              "#d8576b"
             ],
             [
              0.6666666666666666,
              "#ed7953"
             ],
             [
              0.7777777777777778,
              "#fb9f3a"
             ],
             [
              0.8888888888888888,
              "#fdca26"
             ],
             [
              1,
              "#f0f921"
             ]
            ],
            "type": "histogram2dcontour"
           }
          ],
          "mesh3d": [
           {
            "colorbar": {
             "outlinewidth": 0,
             "ticks": ""
            },
            "type": "mesh3d"
           }
          ],
          "parcoords": [
           {
            "line": {
             "colorbar": {
              "outlinewidth": 0,
              "ticks": ""
             }
            },
            "type": "parcoords"
           }
          ],
          "pie": [
           {
            "automargin": true,
            "type": "pie"
           }
          ],
          "scatter": [
           {
            "fillpattern": {
             "fillmode": "overlay",
             "size": 10,
             "solidity": 0.2
            },
            "type": "scatter"
           }
          ],
          "scatter3d": [
           {
            "line": {
             "colorbar": {
              "outlinewidth": 0,
              "ticks": ""
             }
            },
            "marker": {
             "colorbar": {
              "outlinewidth": 0,
              "ticks": ""
             }
            },
            "type": "scatter3d"
           }
          ],
          "scattercarpet": [
           {
            "marker": {
             "colorbar": {
              "outlinewidth": 0,
              "ticks": ""
             }
            },
            "type": "scattercarpet"
           }
          ],
          "scattergeo": [
           {
            "marker": {
             "colorbar": {
              "outlinewidth": 0,
              "ticks": ""
             }
            },
            "type": "scattergeo"
           }
          ],
          "scattergl": [
           {
            "marker": {
             "colorbar": {
              "outlinewidth": 0,
              "ticks": ""
             }
            },
            "type": "scattergl"
           }
          ],
          "scattermapbox": [
           {
            "marker": {
             "colorbar": {
              "outlinewidth": 0,
              "ticks": ""
             }
            },
            "type": "scattermapbox"
           }
          ],
          "scatterpolar": [
           {
            "marker": {
             "colorbar": {
              "outlinewidth": 0,
              "ticks": ""
             }
            },
            "type": "scatterpolar"
           }
          ],
          "scatterpolargl": [
           {
            "marker": {
             "colorbar": {
              "outlinewidth": 0,
              "ticks": ""
             }
            },
            "type": "scatterpolargl"
           }
          ],
          "scatterternary": [
           {
            "marker": {
             "colorbar": {
              "outlinewidth": 0,
              "ticks": ""
             }
            },
            "type": "scatterternary"
           }
          ],
          "surface": [
           {
            "colorbar": {
             "outlinewidth": 0,
             "ticks": ""
            },
            "colorscale": [
             [
              0,
              "#0d0887"
             ],
             [
              0.1111111111111111,
              "#46039f"
             ],
             [
              0.2222222222222222,
              "#7201a8"
             ],
             [
              0.3333333333333333,
              "#9c179e"
             ],
             [
              0.4444444444444444,
              "#bd3786"
             ],
             [
              0.5555555555555556,
              "#d8576b"
             ],
             [
              0.6666666666666666,
              "#ed7953"
             ],
             [
              0.7777777777777778,
              "#fb9f3a"
             ],
             [
              0.8888888888888888,
              "#fdca26"
             ],
             [
              1,
              "#f0f921"
             ]
            ],
            "type": "surface"
           }
          ],
          "table": [
           {
            "cells": {
             "fill": {
              "color": "#EBF0F8"
             },
             "line": {
              "color": "white"
             }
            },
            "header": {
             "fill": {
              "color": "#C8D4E3"
             },
             "line": {
              "color": "white"
             }
            },
            "type": "table"
           }
          ]
         },
         "layout": {
          "annotationdefaults": {
           "arrowcolor": "#2a3f5f",
           "arrowhead": 0,
           "arrowwidth": 1
          },
          "autotypenumbers": "strict",
          "coloraxis": {
           "colorbar": {
            "outlinewidth": 0,
            "ticks": ""
           }
          },
          "colorscale": {
           "diverging": [
            [
             0,
             "#8e0152"
            ],
            [
             0.1,
             "#c51b7d"
            ],
            [
             0.2,
             "#de77ae"
            ],
            [
             0.3,
             "#f1b6da"
            ],
            [
             0.4,
             "#fde0ef"
            ],
            [
             0.5,
             "#f7f7f7"
            ],
            [
             0.6,
             "#e6f5d0"
            ],
            [
             0.7,
             "#b8e186"
            ],
            [
             0.8,
             "#7fbc41"
            ],
            [
             0.9,
             "#4d9221"
            ],
            [
             1,
             "#276419"
            ]
           ],
           "sequential": [
            [
             0,
             "#0d0887"
            ],
            [
             0.1111111111111111,
             "#46039f"
            ],
            [
             0.2222222222222222,
             "#7201a8"
            ],
            [
             0.3333333333333333,
             "#9c179e"
            ],
            [
             0.4444444444444444,
             "#bd3786"
            ],
            [
             0.5555555555555556,
             "#d8576b"
            ],
            [
             0.6666666666666666,
             "#ed7953"
            ],
            [
             0.7777777777777778,
             "#fb9f3a"
            ],
            [
             0.8888888888888888,
             "#fdca26"
            ],
            [
             1,
             "#f0f921"
            ]
           ],
           "sequentialminus": [
            [
             0,
             "#0d0887"
            ],
            [
             0.1111111111111111,
             "#46039f"
            ],
            [
             0.2222222222222222,
             "#7201a8"
            ],
            [
             0.3333333333333333,
             "#9c179e"
            ],
            [
             0.4444444444444444,
             "#bd3786"
            ],
            [
             0.5555555555555556,
             "#d8576b"
            ],
            [
             0.6666666666666666,
             "#ed7953"
            ],
            [
             0.7777777777777778,
             "#fb9f3a"
            ],
            [
             0.8888888888888888,
             "#fdca26"
            ],
            [
             1,
             "#f0f921"
            ]
           ]
          },
          "colorway": [
           "#636efa",
           "#EF553B",
           "#00cc96",
           "#ab63fa",
           "#FFA15A",
           "#19d3f3",
           "#FF6692",
           "#B6E880",
           "#FF97FF",
           "#FECB52"
          ],
          "font": {
           "color": "#2a3f5f"
          },
          "geo": {
           "bgcolor": "white",
           "lakecolor": "white",
           "landcolor": "#E5ECF6",
           "showlakes": true,
           "showland": true,
           "subunitcolor": "white"
          },
          "hoverlabel": {
           "align": "left"
          },
          "hovermode": "closest",
          "mapbox": {
           "style": "light"
          },
          "paper_bgcolor": "white",
          "plot_bgcolor": "#E5ECF6",
          "polar": {
           "angularaxis": {
            "gridcolor": "white",
            "linecolor": "white",
            "ticks": ""
           },
           "bgcolor": "#E5ECF6",
           "radialaxis": {
            "gridcolor": "white",
            "linecolor": "white",
            "ticks": ""
           }
          },
          "scene": {
           "xaxis": {
            "backgroundcolor": "#E5ECF6",
            "gridcolor": "white",
            "gridwidth": 2,
            "linecolor": "white",
            "showbackground": true,
            "ticks": "",
            "zerolinecolor": "white"
           },
           "yaxis": {
            "backgroundcolor": "#E5ECF6",
            "gridcolor": "white",
            "gridwidth": 2,
            "linecolor": "white",
            "showbackground": true,
            "ticks": "",
            "zerolinecolor": "white"
           },
           "zaxis": {
            "backgroundcolor": "#E5ECF6",
            "gridcolor": "white",
            "gridwidth": 2,
            "linecolor": "white",
            "showbackground": true,
            "ticks": "",
            "zerolinecolor": "white"
           }
          },
          "shapedefaults": {
           "line": {
            "color": "#2a3f5f"
           }
          },
          "ternary": {
           "aaxis": {
            "gridcolor": "white",
            "linecolor": "white",
            "ticks": ""
           },
           "baxis": {
            "gridcolor": "white",
            "linecolor": "white",
            "ticks": ""
           },
           "bgcolor": "#E5ECF6",
           "caxis": {
            "gridcolor": "white",
            "linecolor": "white",
            "ticks": ""
           }
          },
          "title": {
           "x": 0.05
          },
          "xaxis": {
           "automargin": true,
           "gridcolor": "white",
           "linecolor": "white",
           "ticks": "",
           "title": {
            "standoff": 15
           },
           "zerolinecolor": "white",
           "zerolinewidth": 2
          },
          "yaxis": {
           "automargin": true,
           "gridcolor": "white",
           "linecolor": "white",
           "ticks": "",
           "title": {
            "standoff": 15
           },
           "zerolinecolor": "white",
           "zerolinewidth": 2
          }
         }
        },
        "title": {
         "text": "Quantity - Without Outliers"
        },
        "xaxis": {
         "anchor": "y",
         "domain": [
          0,
          1
         ],
         "title": {
          "text": "value"
         }
        },
        "xaxis2": {
         "anchor": "y2",
         "domain": [
          0,
          1
         ],
         "matches": "x",
         "showgrid": true,
         "showticklabels": false
        },
        "yaxis": {
         "anchor": "x",
         "domain": [
          0,
          0.7326
         ],
         "title": {
          "text": "count"
         }
        },
        "yaxis2": {
         "anchor": "x2",
         "domain": [
          0.7426,
          1
         ],
         "matches": "y2",
         "showgrid": false,
         "showline": false,
         "showticklabels": false,
         "ticks": ""
        }
       }
      }
     },
     "metadata": {},
     "output_type": "display_data"
    }
   ],
   "source": [
    "profile_serie(df_retail_clean[\"Quantity\"])"
   ]
  },
  {
   "cell_type": "code",
   "execution_count": 14,
   "metadata": {},
   "outputs": [
    {
     "data": {
      "text/markdown": [
       "## Bivariant Analysis:"
      ],
      "text/plain": [
       "<IPython.core.display.Markdown object>"
      ]
     },
     "metadata": {},
     "output_type": "display_data"
    },
    {
     "data": {
      "image/png": "[encoded data removed]",
      "text/plain": [
       "<Figure size 432x288 with 1 Axes>"
      ]
     },
     "metadata": {
      "needs_background": "light"
     },
     "output_type": "display_data"
    },
    {
     "data": {
      "image/png": "[encoded data removed]",
      "text/plain": [
       "<Figure size 432x288 with 1 Axes>"
      ]
     },
     "metadata": {
      "needs_background": "light"
     },
     "output_type": "display_data"
    },
    {
     "data": {
      "image/png": "[encoded data removed]",
      "text/plain": [
       "<Figure size 432x288 with 1 Axes>"
      ]
     },
     "metadata": {
      "needs_background": "light"
     },
     "output_type": "display_data"
    },
    {
     "data": {
      "text/markdown": [
       "## Correlation:"
      ],
      "text/plain": [
       "<IPython.core.display.Markdown object>"
      ]
     },
     "metadata": {},
     "output_type": "display_data"
    },
    {
     "data": {
      "application/vnd.plotly.v1+json": {
       "config": {
        "plotlyServerURL": "https://plot.ly"
       },
       "data": [
        {
         "coloraxis": "coloraxis",
         "hovertemplate": "x: %{x}<br>y: %{y}<br>color: %{z}<extra></extra>",
         "name": "0",
         "type": "heatmap",
         "x": [
          "Quantity",
          "Price"
         ],
         "xaxis": "x",
         "y": [
          "Quantity",
          "Price"
         ],
         "yaxis": "y",
         "z": [
          [
           1,
           -0.006887723359587311
          ],
          [
           -0.006887723359587311,
           1
          ]
         ]
        }
       ],
       "layout": {
        "coloraxis": {
         "colorscale": [
          [
           0,
           "#0d0887"
          ],
          [
           0.1111111111111111,
           "#46039f"
          ],
          [
           0.2222222222222222,
           "#7201a8"
          ],
          [
           0.3333333333333333,
           "#9c179e"
          ],
          [
           0.4444444444444444,
           "#bd3786"
          ],
          [
           0.5555555555555556,
           "#d8576b"
          ],
          [
           0.6666666666666666,
           "#ed7953"
          ],
          [
           0.7777777777777778,
           "#fb9f3a"
          ],
          [
           0.8888888888888888,
           "#fdca26"
          ],
          [
           1,
           "#f0f921"
          ]
         ]
        },
        "margin": {
         "t": 60
        },
        "template": {
         "data": {
          "bar": [
           {
            "error_x": {
             "color": "#2a3f5f"
            },
            "error_y": {
             "color": "#2a3f5f"
            },
            "marker": {
             "line": {
              "color": "#E5ECF6",
              "width": 0.5
             },
             "pattern": {
              "fillmode": "overlay",
              "size": 10,
              "solidity": 0.2
             }
            },
            "type": "bar"
           }
          ],
          "barpolar": [
           {
            "marker": {
             "line": {
              "color": "#E5ECF6",
              "width": 0.5
             },
             "pattern": {
              "fillmode": "overlay",
              "size": 10,
              "solidity": 0.2
             }
            },
            "type": "barpolar"
           }
          ],
          "carpet": [
           {
            "aaxis": {
             "endlinecolor": "#2a3f5f",
             "gridcolor": "white",
             "linecolor": "white",
             "minorgridcolor": "white",
             "startlinecolor": "#2a3f5f"
            },
            "baxis": {
             "endlinecolor": "#2a3f5f",
             "gridcolor": "white",
             "linecolor": "white",
             "minorgridcolor": "white",
             "startlinecolor": "#2a3f5f"
            },
            "type": "carpet"
           }
          ],
          "choropleth": [
           {
            "colorbar": {
             "outlinewidth": 0,
             "ticks": ""
            },
            "type": "choropleth"
           }
          ],
          "contour": [
           {
            "colorbar": {
             "outlinewidth": 0,
             "ticks": ""
            },
            "colorscale": [
             [
              0,
              "#0d0887"
             ],
             [
              0.1111111111111111,
              "#46039f"
             ],
             [
              0.2222222222222222,
              "#7201a8"
             ],
             [
              0.3333333333333333,
              "#9c179e"
             ],
             [
              0.4444444444444444,
              "#bd3786"
             ],
             [
              0.5555555555555556,
              "#d8576b"
             ],
             [
              0.6666666666666666,
              "#ed7953"
             ],
             [
              0.7777777777777778,
              "#fb9f3a"
             ],
             [
              0.8888888888888888,
              "#fdca26"
             ],
             [
              1,
              "#f0f921"
             ]
            ],
            "type": "contour"
           }
          ],
          "contourcarpet": [
           {
            "colorbar": {
             "outlinewidth": 0,
             "ticks": ""
            },
            "type": "contourcarpet"
           }
          ],
          "heatmap": [
           {
            "colorbar": {
             "outlinewidth": 0,
             "ticks": ""
            },
            "colorscale": [
             [
              0,
              "#0d0887"
             ],
             [
              0.1111111111111111,
              "#46039f"
             ],
             [
              0.2222222222222222,
              "#7201a8"
             ],
             [
              0.3333333333333333,
              "#9c179e"
             ],
             [
              0.4444444444444444,
              "#bd3786"
             ],
             [
              0.5555555555555556,
              "#d8576b"
             ],
             [
              0.6666666666666666,
              "#ed7953"
             ],
             [
              0.7777777777777778,
              "#fb9f3a"
             ],
             [
              0.8888888888888888,
              "#fdca26"
             ],
             [
              1,
              "#f0f921"
             ]
            ],
            "type": "heatmap"
           }
          ],
          "heatmapgl": [
           {
            "colorbar": {
             "outlinewidth": 0,
             "ticks": ""
            },
            "colorscale": [
             [
              0,
              "#0d0887"
             ],
             [
              0.1111111111111111,
              "#46039f"
             ],
             [
              0.2222222222222222,
              "#7201a8"
             ],
             [
              0.3333333333333333,
              "#9c179e"
             ],
             [
              0.4444444444444444,
              "#bd3786"
             ],
             [
              0.5555555555555556,
              "#d8576b"
             ],
             [
              0.6666666666666666,
              "#ed7953"
             ],
             [
              0.7777777777777778,
              "#fb9f3a"
             ],
             [
              0.8888888888888888,
              "#fdca26"
             ],
             [
              1,
              "#f0f921"
             ]
            ],
            "type": "heatmapgl"
           }
          ],
          "histogram": [
           {
            "marker": {
             "pattern": {
              "fillmode": "overlay",
              "size": 10,
              "solidity": 0.2
             }
            },
            "type": "histogram"
           }
          ],
          "histogram2d": [
           {
            "colorbar": {
             "outlinewidth": 0,
             "ticks": ""
            },
            "colorscale": [
             [
              0,
              "#0d0887"
             ],
             [
              0.1111111111111111,
              "#46039f"
             ],
             [
              0.2222222222222222,
              "#7201a8"
             ],
             [
              0.3333333333333333,
              "#9c179e"
             ],
             [
              0.4444444444444444,
              "#bd3786"
             ],
             [
              0.5555555555555556,
              "#d8576b"
             ],
             [
              0.6666666666666666,
              "#ed7953"
             ],
             [
              0.7777777777777778,
              "#fb9f3a"
             ],
             [
              0.8888888888888888,
              "#fdca26"
             ],
             [
              1,
              "#f0f921"
             ]
            ],
            "type": "histogram2d"
           }
          ],
          "histogram2dcontour": [
           {
            "colorbar": {
             "outlinewidth": 0,
             "ticks": ""
            },
            "colorscale": [
             [
              0,
              "#0d0887"
             ],
             [
              0.1111111111111111,
              "#46039f"
             ],
             [
              0.2222222222222222,
              "#7201a8"
             ],
             [
              0.3333333333333333,
              "#9c179e"
             ],
             [
              0.4444444444444444,
              "#bd3786"
             ],
             [
              0.5555555555555556,
              "#d8576b"
             ],
             [
              0.6666666666666666,
              "#ed7953"
             ],
             [
              0.7777777777777778,
              "#fb9f3a"
             ],
             [
              0.8888888888888888,
              "#fdca26"
             ],
             [
              1,
              "#f0f921"
             ]
            ],
            "type": "histogram2dcontour"
           }
          ],
          "mesh3d": [
           {
            "colorbar": {
             "outlinewidth": 0,
             "ticks": ""
            },
            "type": "mesh3d"
           }
          ],
          "parcoords": [
           {
            "line": {
             "colorbar": {
              "outlinewidth": 0,
              "ticks": ""
             }
            },
            "type": "parcoords"
           }
          ],
          "pie": [
           {
            "automargin": true,
            "type": "pie"
           }
          ],
          "scatter": [
           {
            "fillpattern": {
             "fillmode": "overlay",
             "size": 10,
             "solidity": 0.2
            },
            "type": "scatter"
           }
          ],
          "scatter3d": [
           {
            "line": {
             "colorbar": {
              "outlinewidth": 0,
              "ticks": ""
             }
            },
            "marker": {
             "colorbar": {
              "outlinewidth": 0,
              "ticks": ""
             }
            },
            "type": "scatter3d"
           }
          ],
          "scattercarpet": [
           {
            "marker": {
             "colorbar": {
              "outlinewidth": 0,
              "ticks": ""
             }
            },
            "type": "scattercarpet"
           }
          ],
          "scattergeo": [
           {
            "marker": {
             "colorbar": {
              "outlinewidth": 0,
              "ticks": ""
             }
            },
            "type": "scattergeo"
           }
          ],
          "scattergl": [
           {
            "marker": {
             "colorbar": {
              "outlinewidth": 0,
              "ticks": ""
             }
            },
            "type": "scattergl"
           }
          ],
          "scattermapbox": [
           {
            "marker": {
             "colorbar": {
              "outlinewidth": 0,
              "ticks": ""
             }
            },
            "type": "scattermapbox"
           }
          ],
          "scatterpolar": [
           {
            "marker": {
             "colorbar": {
              "outlinewidth": 0,
              "ticks": ""
             }
            },
            "type": "scatterpolar"
           }
          ],
          "scatterpolargl": [
           {
            "marker": {
             "colorbar": {
              "outlinewidth": 0,
              "ticks": ""
             }
            },
            "type": "scatterpolargl"
           }
          ],
          "scatterternary": [
           {
            "marker": {
             "colorbar": {
              "outlinewidth": 0,
              "ticks": ""
             }
            },
            "type": "scatterternary"
           }
          ],
          "surface": [
           {
            "colorbar": {
             "outlinewidth": 0,
             "ticks": ""
            },
            "colorscale": [
             [
              0,
              "#0d0887"
             ],
             [
              0.1111111111111111,
              "#46039f"
             ],
             [
              0.2222222222222222,
              "#7201a8"
             ],
             [
              0.3333333333333333,
              "#9c179e"
             ],
             [
              0.4444444444444444,
              "#bd3786"
             ],
             [
              0.5555555555555556,
              "#d8576b"
             ],
             [
              0.6666666666666666,
              "#ed7953"
             ],
             [
              0.7777777777777778,
              "#fb9f3a"
             ],
             [
              0.8888888888888888,
              "#fdca26"
             ],
             [
              1,
              "#f0f921"
             ]
            ],
            "type": "surface"
           }
          ],
          "table": [
           {
            "cells": {
             "fill": {
              "color": "#EBF0F8"
             },
             "line": {
              "color": "white"
             }
            },
            "header": {
             "fill": {
              "color": "#C8D4E3"
             },
             "line": {
              "color": "white"
             }
            },
            "type": "table"
           }
          ]
         },
         "layout": {
          "annotationdefaults": {
           "arrowcolor": "#2a3f5f",
           "arrowhead": 0,
           "arrowwidth": 1
          },
          "autotypenumbers": "strict",
          "coloraxis": {
           "colorbar": {
            "outlinewidth": 0,
            "ticks": ""
           }
          },
          "colorscale": {
           "diverging": [
            [
             0,
             "#8e0152"
            ],
            [
             0.1,
             "#c51b7d"
            ],
            [
             0.2,
             "#de77ae"
            ],
            [
             0.3,
             "#f1b6da"
            ],
            [
             0.4,
             "#fde0ef"
            ],
            [
             0.5,
             "#f7f7f7"
            ],
            [
             0.6,
             "#e6f5d0"
            ],
            [
             0.7,
             "#b8e186"
            ],
            [
             0.8,
             "#7fbc41"
            ],
            [
             0.9,
             "#4d9221"
            ],
            [
             1,
             "#276419"
            ]
           ],
           "sequential": [
            [
             0,
             "#0d0887"
            ],
            [
             0.1111111111111111,
             "#46039f"
            ],
            [
             0.2222222222222222,
             "#7201a8"
            ],
            [
             0.3333333333333333,
             "#9c179e"
            ],
            [
             0.4444444444444444,
             "#bd3786"
            ],
            [
             0.5555555555555556,
             "#d8576b"
            ],
            [
             0.6666666666666666,
             "#ed7953"
            ],
            [
             0.7777777777777778,
             "#fb9f3a"
            ],
            [
             0.8888888888888888,
             "#fdca26"
            ],
            [
             1,
             "#f0f921"
            ]
           ],
           "sequentialminus": [
            [
             0,
             "#0d0887"
            ],
            [
             0.1111111111111111,
             "#46039f"
            ],
            [
             0.2222222222222222,
             "#7201a8"
            ],
            [
             0.3333333333333333,
             "#9c179e"
            ],
            [
             0.4444444444444444,
             "#bd3786"
            ],
            [
             0.5555555555555556,
             "#d8576b"
            ],
            [
             0.6666666666666666,
             "#ed7953"
            ],
            [
             0.7777777777777778,
             "#fb9f3a"
            ],
            [
             0.8888888888888888,
             "#fdca26"
            ],
            [
             1,
             "#f0f921"
            ]
           ]
          },
          "colorway": [
           "#636efa",
           "#EF553B",
           "#00cc96",
           "#ab63fa",
           "#FFA15A",
           "#19d3f3",
           "#FF6692",
           "#B6E880",
           "#FF97FF",
           "#FECB52"
          ],
          "font": {
           "color": "#2a3f5f"
          },
          "geo": {
           "bgcolor": "white",
           "lakecolor": "white",
           "landcolor": "#E5ECF6",
           "showlakes": true,
           "showland": true,
           "subunitcolor": "white"
          },
          "hoverlabel": {
           "align": "left"
          },
          "hovermode": "closest",
          "mapbox": {
           "style": "light"
          },
          "paper_bgcolor": "white",
          "plot_bgcolor": "#E5ECF6",
          "polar": {
           "angularaxis": {
            "gridcolor": "white",
            "linecolor": "white",
            "ticks": ""
           },
           "bgcolor": "#E5ECF6",
           "radialaxis": {
            "gridcolor": "white",
            "linecolor": "white",
            "ticks": ""
           }
          },
          "scene": {
           "xaxis": {
            "backgroundcolor": "#E5ECF6",
            "gridcolor": "white",
            "gridwidth": 2,
            "linecolor": "white",
            "showbackground": true,
            "ticks": "",
            "zerolinecolor": "white"
           },
           "yaxis": {
            "backgroundcolor": "#E5ECF6",
            "gridcolor": "white",
            "gridwidth": 2,
            "linecolor": "white",
            "showbackground": true,
            "ticks": "",
            "zerolinecolor": "white"
           },
           "zaxis": {
            "backgroundcolor": "#E5ECF6",
            "gridcolor": "white",
            "gridwidth": 2,
            "linecolor": "white",
            "showbackground": true,
            "ticks": "",
            "zerolinecolor": "white"
           }
          },
          "shapedefaults": {
           "line": {
            "color": "#2a3f5f"
           }
          },
          "ternary": {
           "aaxis": {
            "gridcolor": "white",
            "linecolor": "white",
            "ticks": ""
           },
           "baxis": {
            "gridcolor": "white",
            "linecolor": "white",
            "ticks": ""
           },
           "bgcolor": "#E5ECF6",
           "caxis": {
            "gridcolor": "white",
            "linecolor": "white",
            "ticks": ""
           }
          },
          "title": {
           "x": 0.05
          },
          "xaxis": {
           "automargin": true,
           "gridcolor": "white",
           "linecolor": "white",
           "ticks": "",
           "title": {
            "standoff": 15
           },
           "zerolinecolor": "white",
           "zerolinewidth": 2
          },
          "yaxis": {
           "automargin": true,
           "gridcolor": "white",
           "linecolor": "white",
           "ticks": "",
           "title": {
            "standoff": 15
           },
           "zerolinecolor": "white",
           "zerolinewidth": 2
          }
         }
        },
        "xaxis": {
         "anchor": "y",
         "constrain": "domain",
         "domain": [
          0,
          1
         ],
         "scaleanchor": "y"
        },
        "yaxis": {
         "anchor": "x",
         "autorange": "reversed",
         "constrain": "domain",
         "domain": [
          0,
          1
         ]
        }
       }
      }
     },
     "metadata": {},
     "output_type": "display_data"
    },
    {
     "data": {
      "text/markdown": [
       "## Missing Matrix:"
      ],
      "text/plain": [
       "<IPython.core.display.Markdown object>"
      ]
     },
     "metadata": {},
     "output_type": "display_data"
    },
    {
     "data": {
      "image/png": "[encoded data removed]",
      "text/plain": [
       "<Figure size 1080x720 with 1 Axes>"
      ]
     },
     "metadata": {
      "needs_background": "light"
     },
     "output_type": "display_data"
    }
   ],
   "source": [
    "profile_df(df_retail_clean)"
   ]
  },
  {
   "cell_type": "markdown",
   "metadata": {
    "cell_id": "00028-b5630b67-565d-42f3-a387-f67a80dda8ea",
    "deepnote_cell_height": 61.03334045410156,
    "deepnote_cell_type": "markdown",
    "id": "dkyp81nkBghF"
   },
   "source": [
    "### 1.2.4 Obtención de TOPs [0.75 ptos]"
   ]
  },
  {
   "cell_type": "markdown",
   "metadata": {
    "cell_id": "00029-71382778-46fe-4d49-9481-afec1667525a",
    "deepnote_cell_height": 177.43333435058594,
    "deepnote_cell_type": "markdown",
    "id": "FqWpKnmn6W0y"
   },
   "source": [
    "Sin considerar los comentarios realizados en la sección 1.2 , *Don Mora* les pide obtener el **Top de 30 productos que generan más ganancias** para la tienda de retail. Deben considerar todo el registro temporal presente en el dataset y entregar la información en un gráfico de barras de los ingresos/cantidades v/s el nombre de los productos (Utilice `plotly`). ¿Los artículos más vendidos son los mismos que generan más ganancias?, Comente los resultados obtenidos.\n",
    "\n",
    "**Resultados:**"
   ]
  },
  {
   "cell_type": "code",
   "execution_count": 15,
   "metadata": {
    "cell_id": "00029-6e40375f-f1de-4643-8460-b3b2f74ec335",
    "deepnote_cell_height": 65.03334045410156,
    "deepnote_cell_type": "code",
    "tags": []
   },
   "outputs": [
    {
     "data": {
      "text/html": [
       "<div>\n",
       "<style scoped>\n",
       "    .dataframe tbody tr th:only-of-type {\n",
       "        vertical-align: middle;\n",
       "    }\n",
       "\n",
       "    .dataframe tbody tr th {\n",
       "        vertical-align: top;\n",
       "    }\n",
       "\n",
       "    .dataframe thead th {\n",
       "        text-align: right;\n",
       "    }\n",
       "</style>\n",
       "<table border=\"1\" class=\"dataframe\">\n",
       "  <thead>\n",
       "    <tr style=\"text-align: right;\">\n",
       "      <th></th>\n",
       "      <th>Description</th>\n",
       "      <th>Quantity</th>\n",
       "      <th>Price</th>\n",
       "      <th>beneficios</th>\n",
       "    </tr>\n",
       "  </thead>\n",
       "  <tbody>\n",
       "    <tr>\n",
       "      <th>0</th>\n",
       "      <td>WHITE HANGING HEART T-LIGHT HOLDER</td>\n",
       "      <td>56814</td>\n",
       "      <td>8868.69</td>\n",
       "      <td>151339.16</td>\n",
       "    </tr>\n",
       "    <tr>\n",
       "      <th>1</th>\n",
       "      <td>REGENCY CAKESTAND 3 TIER</td>\n",
       "      <td>12489</td>\n",
       "      <td>21080.15</td>\n",
       "      <td>143727.60</td>\n",
       "    </tr>\n",
       "    <tr>\n",
       "      <th>2</th>\n",
       "      <td>Manual</td>\n",
       "      <td>2569</td>\n",
       "      <td>96580.69</td>\n",
       "      <td>98531.99</td>\n",
       "    </tr>\n",
       "    <tr>\n",
       "      <th>3</th>\n",
       "      <td>ASSORTED COLOUR BIRD ORNAMENT</td>\n",
       "      <td>44431</td>\n",
       "      <td>2265.15</td>\n",
       "      <td>70291.03</td>\n",
       "    </tr>\n",
       "    <tr>\n",
       "      <th>4</th>\n",
       "      <td>JUMBO BAG RED RETROSPOT</td>\n",
       "      <td>29519</td>\n",
       "      <td>2050.35</td>\n",
       "      <td>51644.25</td>\n",
       "    </tr>\n",
       "    <tr>\n",
       "      <th>5</th>\n",
       "      <td>POSTAGE</td>\n",
       "      <td>2212</td>\n",
       "      <td>19964.83</td>\n",
       "      <td>48741.08</td>\n",
       "    </tr>\n",
       "    <tr>\n",
       "      <th>6</th>\n",
       "      <td>ROTATING SILVER ANGELS T-LIGHT HLDR</td>\n",
       "      <td>21579</td>\n",
       "      <td>638.86</td>\n",
       "      <td>40156.05</td>\n",
       "    </tr>\n",
       "    <tr>\n",
       "      <th>7</th>\n",
       "      <td>PAPER CHAIN KIT 50'S CHRISTMAS</td>\n",
       "      <td>13839</td>\n",
       "      <td>2372.30</td>\n",
       "      <td>36871.55</td>\n",
       "    </tr>\n",
       "    <tr>\n",
       "      <th>8</th>\n",
       "      <td>PARTY BUNTING</td>\n",
       "      <td>8312</td>\n",
       "      <td>3294.50</td>\n",
       "      <td>35017.30</td>\n",
       "    </tr>\n",
       "    <tr>\n",
       "      <th>9</th>\n",
       "      <td>EDWARDIAN PARASOL NATURAL</td>\n",
       "      <td>7201</td>\n",
       "      <td>2847.40</td>\n",
       "      <td>34044.75</td>\n",
       "    </tr>\n",
       "    <tr>\n",
       "      <th>10</th>\n",
       "      <td>JUMBO BAG STRAWBERRY</td>\n",
       "      <td>19275</td>\n",
       "      <td>1699.05</td>\n",
       "      <td>33926.25</td>\n",
       "    </tr>\n",
       "    <tr>\n",
       "      <th>11</th>\n",
       "      <td>VINTAGE UNION JACK BUNTING</td>\n",
       "      <td>3990</td>\n",
       "      <td>6346.72</td>\n",
       "      <td>33750.96</td>\n",
       "    </tr>\n",
       "    <tr>\n",
       "      <th>12</th>\n",
       "      <td>EDWARDIAN PARASOL BLACK</td>\n",
       "      <td>6663</td>\n",
       "      <td>2999.65</td>\n",
       "      <td>31183.85</td>\n",
       "    </tr>\n",
       "    <tr>\n",
       "      <th>13</th>\n",
       "      <td>CREAM HEART CARD HOLDER</td>\n",
       "      <td>9912</td>\n",
       "      <td>2695.83</td>\n",
       "      <td>29888.02</td>\n",
       "    </tr>\n",
       "    <tr>\n",
       "      <th>14</th>\n",
       "      <td>STRAWBERRY CERAMIC TRINKET BOX</td>\n",
       "      <td>25330</td>\n",
       "      <td>1691.06</td>\n",
       "      <td>29694.86</td>\n",
       "    </tr>\n",
       "    <tr>\n",
       "      <th>15</th>\n",
       "      <td>JUMBO  BAG BAROQUE BLACK WHITE</td>\n",
       "      <td>16580</td>\n",
       "      <td>1580.40</td>\n",
       "      <td>29349.00</td>\n",
       "    </tr>\n",
       "    <tr>\n",
       "      <th>16</th>\n",
       "      <td>VINTAGE UNION JACK MEMOBOARD</td>\n",
       "      <td>3902</td>\n",
       "      <td>3027.83</td>\n",
       "      <td>28746.54</td>\n",
       "    </tr>\n",
       "    <tr>\n",
       "      <th>17</th>\n",
       "      <td>BLACK RECORD COVER FRAME</td>\n",
       "      <td>8219</td>\n",
       "      <td>853.62</td>\n",
       "      <td>28129.89</td>\n",
       "    </tr>\n",
       "    <tr>\n",
       "      <th>18</th>\n",
       "      <td>HOME BUILDING BLOCK WORD</td>\n",
       "      <td>4784</td>\n",
       "      <td>7069.40</td>\n",
       "      <td>28028.30</td>\n",
       "    </tr>\n",
       "    <tr>\n",
       "      <th>19</th>\n",
       "      <td>SET/5 RED SPOTTY LID GLASS BOWLS</td>\n",
       "      <td>10240</td>\n",
       "      <td>2316.50</td>\n",
       "      <td>27778.90</td>\n",
       "    </tr>\n",
       "    <tr>\n",
       "      <th>20</th>\n",
       "      <td>RED HANGING HEART T-LIGHT HOLDER</td>\n",
       "      <td>9855</td>\n",
       "      <td>2931.04</td>\n",
       "      <td>27300.61</td>\n",
       "    </tr>\n",
       "    <tr>\n",
       "      <th>21</th>\n",
       "      <td>LUNCH BAG RED SPOTTY</td>\n",
       "      <td>17256</td>\n",
       "      <td>1744.19</td>\n",
       "      <td>26947.60</td>\n",
       "    </tr>\n",
       "    <tr>\n",
       "      <th>22</th>\n",
       "      <td>JUMBO STORAGE BAG SUKI</td>\n",
       "      <td>14712</td>\n",
       "      <td>1877.00</td>\n",
       "      <td>26443.40</td>\n",
       "    </tr>\n",
       "    <tr>\n",
       "      <th>23</th>\n",
       "      <td>RED RETROSPOT CAKE STAND</td>\n",
       "      <td>2627</td>\n",
       "      <td>6525.53</td>\n",
       "      <td>26374.19</td>\n",
       "    </tr>\n",
       "    <tr>\n",
       "      <th>24</th>\n",
       "      <td>CHILLI LIGHTS</td>\n",
       "      <td>6012</td>\n",
       "      <td>2069.94</td>\n",
       "      <td>26262.68</td>\n",
       "    </tr>\n",
       "    <tr>\n",
       "      <th>25</th>\n",
       "      <td>WOOD BLACK BOARD ANT WHITE FINISH</td>\n",
       "      <td>4972</td>\n",
       "      <td>2939.18</td>\n",
       "      <td>26035.08</td>\n",
       "    </tr>\n",
       "    <tr>\n",
       "      <th>26</th>\n",
       "      <td>JUMBO SHOPPER VINTAGE RED PAISLEY</td>\n",
       "      <td>14137</td>\n",
       "      <td>1792.80</td>\n",
       "      <td>25542.15</td>\n",
       "    </tr>\n",
       "    <tr>\n",
       "      <th>27</th>\n",
       "      <td>JUMBO BAG PINK VINTAGE PAISLEY</td>\n",
       "      <td>14526</td>\n",
       "      <td>1233.13</td>\n",
       "      <td>25422.70</td>\n",
       "    </tr>\n",
       "    <tr>\n",
       "      <th>28</th>\n",
       "      <td>COLOUR GLASS. STAR T-LIGHT HOLDER</td>\n",
       "      <td>8831</td>\n",
       "      <td>1401.50</td>\n",
       "      <td>24965.75</td>\n",
       "    </tr>\n",
       "    <tr>\n",
       "      <th>29</th>\n",
       "      <td>JUMBO BAG PINK WITH WHITE SPOTS</td>\n",
       "      <td>13766</td>\n",
       "      <td>1380.96</td>\n",
       "      <td>24450.60</td>\n",
       "    </tr>\n",
       "  </tbody>\n",
       "</table>\n",
       "</div>"
      ],
      "text/plain": [
       "                            Description  Quantity     Price  beneficios\n",
       "0    WHITE HANGING HEART T-LIGHT HOLDER     56814   8868.69   151339.16\n",
       "1              REGENCY CAKESTAND 3 TIER     12489  21080.15   143727.60\n",
       "2                                Manual      2569  96580.69    98531.99\n",
       "3         ASSORTED COLOUR BIRD ORNAMENT     44431   2265.15    70291.03\n",
       "4               JUMBO BAG RED RETROSPOT     29519   2050.35    51644.25\n",
       "5                               POSTAGE      2212  19964.83    48741.08\n",
       "6   ROTATING SILVER ANGELS T-LIGHT HLDR     21579    638.86    40156.05\n",
       "7       PAPER CHAIN KIT 50'S CHRISTMAS      13839   2372.30    36871.55\n",
       "8                         PARTY BUNTING      8312   3294.50    35017.30\n",
       "9             EDWARDIAN PARASOL NATURAL      7201   2847.40    34044.75\n",
       "10                 JUMBO BAG STRAWBERRY     19275   1699.05    33926.25\n",
       "11           VINTAGE UNION JACK BUNTING      3990   6346.72    33750.96\n",
       "12              EDWARDIAN PARASOL BLACK      6663   2999.65    31183.85\n",
       "13              CREAM HEART CARD HOLDER      9912   2695.83    29888.02\n",
       "14       STRAWBERRY CERAMIC TRINKET BOX     25330   1691.06    29694.86\n",
       "15       JUMBO  BAG BAROQUE BLACK WHITE     16580   1580.40    29349.00\n",
       "16         VINTAGE UNION JACK MEMOBOARD      3902   3027.83    28746.54\n",
       "17             BLACK RECORD COVER FRAME      8219    853.62    28129.89\n",
       "18             HOME BUILDING BLOCK WORD      4784   7069.40    28028.30\n",
       "19     SET/5 RED SPOTTY LID GLASS BOWLS     10240   2316.50    27778.90\n",
       "20     RED HANGING HEART T-LIGHT HOLDER      9855   2931.04    27300.61\n",
       "21                 LUNCH BAG RED SPOTTY     17256   1744.19    26947.60\n",
       "22               JUMBO STORAGE BAG SUKI     14712   1877.00    26443.40\n",
       "23             RED RETROSPOT CAKE STAND      2627   6525.53    26374.19\n",
       "24                        CHILLI LIGHTS      6012   2069.94    26262.68\n",
       "25    WOOD BLACK BOARD ANT WHITE FINISH      4972   2939.18    26035.08\n",
       "26    JUMBO SHOPPER VINTAGE RED PAISLEY     14137   1792.80    25542.15\n",
       "27       JUMBO BAG PINK VINTAGE PAISLEY     14526   1233.13    25422.70\n",
       "28    COLOUR GLASS. STAR T-LIGHT HOLDER      8831   1401.50    24965.75\n",
       "29      JUMBO BAG PINK WITH WHITE SPOTS     13766   1380.96    24450.60"
      ]
     },
     "metadata": {},
     "output_type": "display_data"
    }
   ],
   "source": [
    "df_retail_clean[\"beneficios\"]=df_retail_clean[\"Price\"]*df_retail_clean[\"Quantity\"]\n",
    "df_groupby=df_retail_clean.groupby(\"Description\").sum()\n",
    "df_groupby.sort_values(\"beneficios\",ascending=False,inplace=True)\n",
    "df_groupby.reset_index(inplace=True)\n",
    "display(df_groupby.head(30))"
   ]
  },
  {
   "cell_type": "code",
   "execution_count": 21,
   "metadata": {},
   "outputs": [
    {
     "data": {
      "application/vnd.plotly.v1+json": {
       "config": {
        "plotlyServerURL": "https://plot.ly"
       },
       "data": [
        {
         "alignmentgroup": "True",
         "hovertemplate": "Description=%{x}<br>beneficios=%{y}<extra></extra>",
         "legendgroup": "",
         "marker": {
          "color": "#636efa",
          "pattern": {
           "shape": ""
          }
         },
         "name": "",
         "offsetgroup": "",
         "orientation": "v",
         "showlegend": false,
         "textposition": "auto",
         "type": "bar",
         "x": [
          "WHITE HANGING HEART T-LIGHT HOLDER",
          "REGENCY CAKESTAND 3 TIER",
          "Manual",
          "ASSORTED COLOUR BIRD ORNAMENT",
          "JUMBO BAG RED RETROSPOT",
          "POSTAGE",
          "ROTATING SILVER ANGELS T-LIGHT HLDR",
          "PAPER CHAIN KIT 50'S CHRISTMAS ",
          "PARTY BUNTING",
          "EDWARDIAN PARASOL NATURAL",
          "JUMBO BAG STRAWBERRY",
          "VINTAGE UNION JACK BUNTING",
          "EDWARDIAN PARASOL BLACK",
          "CREAM HEART CARD HOLDER",
          "STRAWBERRY CERAMIC TRINKET BOX",
          "JUMBO  BAG BAROQUE BLACK WHITE",
          "VINTAGE UNION JACK MEMOBOARD",
          "BLACK RECORD COVER FRAME",
          "HOME BUILDING BLOCK WORD",
          "SET/5 RED SPOTTY LID GLASS BOWLS",
          "RED HANGING HEART T-LIGHT HOLDER",
          "LUNCH BAG RED SPOTTY",
          "JUMBO STORAGE BAG SUKI",
          "RED RETROSPOT CAKE STAND",
          "CHILLI LIGHTS",
          "WOOD BLACK BOARD ANT WHITE FINISH",
          "JUMBO SHOPPER VINTAGE RED PAISLEY",
          "JUMBO BAG PINK VINTAGE PAISLEY",
          "COLOUR GLASS. STAR T-LIGHT HOLDER",
          "JUMBO BAG PINK WITH WHITE SPOTS"
         ],
         "xaxis": "x",
         "y": [
          151339.16,
          143727.6,
          98531.99,
          70291.03,
          51644.25,
          48741.08,
          40156.049999999996,
          36871.55,
          35017.3,
          34044.75,
          33926.25,
          33750.96,
          31183.850000000002,
          29888.02,
          29694.86,
          29349,
          28746.539999999997,
          28129.89,
          28028.300000000003,
          27778.9,
          27300.61,
          26947.6,
          26443.4,
          26374.19,
          26262.68,
          26035.079999999998,
          25542.15,
          25422.7,
          24965.75,
          24450.6
         ],
         "yaxis": "y"
        }
       ],
       "layout": {
        "barmode": "relative",
        "legend": {
         "tracegroupgap": 0
        },
        "margin": {
         "t": 60
        },
        "template": {
         "data": {
          "bar": [
           {
            "error_x": {
             "color": "#2a3f5f"
            },
            "error_y": {
             "color": "#2a3f5f"
            },
            "marker": {
             "line": {
              "color": "#E5ECF6",
              "width": 0.5
             },
             "pattern": {
              "fillmode": "overlay",
              "size": 10,
              "solidity": 0.2
             }
            },
            "type": "bar"
           }
          ],
          "barpolar": [
           {
            "marker": {
             "line": {
              "color": "#E5ECF6",
              "width": 0.5
             },
             "pattern": {
              "fillmode": "overlay",
              "size": 10,
              "solidity": 0.2
             }
            },
            "type": "barpolar"
           }
          ],
          "carpet": [
           {
            "aaxis": {
             "endlinecolor": "#2a3f5f",
             "gridcolor": "white",
             "linecolor": "white",
             "minorgridcolor": "white",
             "startlinecolor": "#2a3f5f"
            },
            "baxis": {
             "endlinecolor": "#2a3f5f",
             "gridcolor": "white",
             "linecolor": "white",
             "minorgridcolor": "white",
             "startlinecolor": "#2a3f5f"
            },
            "type": "carpet"
           }
          ],
          "choropleth": [
           {
            "colorbar": {
             "outlinewidth": 0,
             "ticks": ""
            },
            "type": "choropleth"
           }
          ],
          "contour": [
           {
            "colorbar": {
             "outlinewidth": 0,
             "ticks": ""
            },
            "colorscale": [
             [
              0,
              "#0d0887"
             ],
             [
              0.1111111111111111,
              "#46039f"
             ],
             [
              0.2222222222222222,
              "#7201a8"
             ],
             [
              0.3333333333333333,
              "#9c179e"
             ],
             [
              0.4444444444444444,
              "#bd3786"
             ],
             [
              0.5555555555555556,
              "#d8576b"
             ],
             [
              0.6666666666666666,
              "#ed7953"
             ],
             [
              0.7777777777777778,
              "#fb9f3a"
             ],
             [
              0.8888888888888888,
              "#fdca26"
             ],
             [
              1,
              "#f0f921"
             ]
            ],
            "type": "contour"
           }
          ],
          "contourcarpet": [
           {
            "colorbar": {
             "outlinewidth": 0,
             "ticks": ""
            },
            "type": "contourcarpet"
           }
          ],
          "heatmap": [
           {
            "colorbar": {
             "outlinewidth": 0,
             "ticks": ""
            },
            "colorscale": [
             [
              0,
              "#0d0887"
             ],
             [
              0.1111111111111111,
              "#46039f"
             ],
             [
              0.2222222222222222,
              "#7201a8"
             ],
             [
              0.3333333333333333,
              "#9c179e"
             ],
             [
              0.4444444444444444,
              "#bd3786"
             ],
             [
              0.5555555555555556,
              "#d8576b"
             ],
             [
              0.6666666666666666,
              "#ed7953"
             ],
             [
              0.7777777777777778,
              "#fb9f3a"
             ],
             [
              0.8888888888888888,
              "#fdca26"
             ],
             [
              1,
              "#f0f921"
             ]
            ],
            "type": "heatmap"
           }
          ],
          "heatmapgl": [
           {
            "colorbar": {
             "outlinewidth": 0,
             "ticks": ""
            },
            "colorscale": [
             [
              0,
              "#0d0887"
             ],
             [
              0.1111111111111111,
              "#46039f"
             ],
             [
              0.2222222222222222,
              "#7201a8"
             ],
             [
              0.3333333333333333,
              "#9c179e"
             ],
             [
              0.4444444444444444,
              "#bd3786"
             ],
             [
              0.5555555555555556,
              "#d8576b"
             ],
             [
              0.6666666666666666,
              "#ed7953"
             ],
             [
              0.7777777777777778,
              "#fb9f3a"
             ],
             [
              0.8888888888888888,
              "#fdca26"
             ],
             [
              1,
              "#f0f921"
             ]
            ],
            "type": "heatmapgl"
           }
          ],
          "histogram": [
           {
            "marker": {
             "pattern": {
              "fillmode": "overlay",
              "size": 10,
              "solidity": 0.2
             }
            },
            "type": "histogram"
           }
          ],
          "histogram2d": [
           {
            "colorbar": {
             "outlinewidth": 0,
             "ticks": ""
            },
            "colorscale": [
             [
              0,
              "#0d0887"
             ],
             [
              0.1111111111111111,
              "#46039f"
             ],
             [
              0.2222222222222222,
              "#7201a8"
             ],
             [
              0.3333333333333333,
              "#9c179e"
             ],
             [
              0.4444444444444444,
              "#bd3786"
             ],
             [
              0.5555555555555556,
              "#d8576b"
             ],
             [
              0.6666666666666666,
              "#ed7953"
             ],
             [
              0.7777777777777778,
              "#fb9f3a"
             ],
             [
              0.8888888888888888,
              "#fdca26"
             ],
             [
              1,
              "#f0f921"
             ]
            ],
            "type": "histogram2d"
           }
          ],
          "histogram2dcontour": [
           {
            "colorbar": {
             "outlinewidth": 0,
             "ticks": ""
            },
            "colorscale": [
             [
              0,
              "#0d0887"
             ],
             [
              0.1111111111111111,
              "#46039f"
             ],
             [
              0.2222222222222222,
              "#7201a8"
             ],
             [
              0.3333333333333333,
              "#9c179e"
             ],
             [
              0.4444444444444444,
              "#bd3786"
             ],
             [
              0.5555555555555556,
              "#d8576b"
             ],
             [
              0.6666666666666666,
              "#ed7953"
             ],
             [
              0.7777777777777778,
              "#fb9f3a"
             ],
             [
              0.8888888888888888,
              "#fdca26"
             ],
             [
              1,
              "#f0f921"
             ]
            ],
            "type": "histogram2dcontour"
           }
          ],
          "mesh3d": [
           {
            "colorbar": {
             "outlinewidth": 0,
             "ticks": ""
            },
            "type": "mesh3d"
           }
          ],
          "parcoords": [
           {
            "line": {
             "colorbar": {
              "outlinewidth": 0,
              "ticks": ""
             }
            },
            "type": "parcoords"
           }
          ],
          "pie": [
           {
            "automargin": true,
            "type": "pie"
           }
          ],
          "scatter": [
           {
            "fillpattern": {
             "fillmode": "overlay",
             "size": 10,
             "solidity": 0.2
            },
            "type": "scatter"
           }
          ],
          "scatter3d": [
           {
            "line": {
             "colorbar": {
              "outlinewidth": 0,
              "ticks": ""
             }
            },
            "marker": {
             "colorbar": {
              "outlinewidth": 0,
              "ticks": ""
             }
            },
            "type": "scatter3d"
           }
          ],
          "scattercarpet": [
           {
            "marker": {
             "colorbar": {
              "outlinewidth": 0,
              "ticks": ""
             }
            },
            "type": "scattercarpet"
           }
          ],
          "scattergeo": [
           {
            "marker": {
             "colorbar": {
              "outlinewidth": 0,
              "ticks": ""
             }
            },
            "type": "scattergeo"
           }
          ],
          "scattergl": [
           {
            "marker": {
             "colorbar": {
              "outlinewidth": 0,
              "ticks": ""
             }
            },
            "type": "scattergl"
           }
          ],
          "scattermapbox": [
           {
            "marker": {
             "colorbar": {
              "outlinewidth": 0,
              "ticks": ""
             }
            },
            "type": "scattermapbox"
           }
          ],
          "scatterpolar": [
           {
            "marker": {
             "colorbar": {
              "outlinewidth": 0,
              "ticks": ""
             }
            },
            "type": "scatterpolar"
           }
          ],
          "scatterpolargl": [
           {
            "marker": {
             "colorbar": {
              "outlinewidth": 0,
              "ticks": ""
             }
            },
            "type": "scatterpolargl"
           }
          ],
          "scatterternary": [
           {
            "marker": {
             "colorbar": {
              "outlinewidth": 0,
              "ticks": ""
             }
            },
            "type": "scatterternary"
           }
          ],
          "surface": [
           {
            "colorbar": {
             "outlinewidth": 0,
             "ticks": ""
            },
            "colorscale": [
             [
              0,
              "#0d0887"
             ],
             [
              0.1111111111111111,
              "#46039f"
             ],
             [
              0.2222222222222222,
              "#7201a8"
             ],
             [
              0.3333333333333333,
              "#9c179e"
             ],
             [
              0.4444444444444444,
              "#bd3786"
             ],
             [
              0.5555555555555556,
              "#d8576b"
             ],
             [
              0.6666666666666666,
              "#ed7953"
             ],
             [
              0.7777777777777778,
              "#fb9f3a"
             ],
             [
              0.8888888888888888,
              "#fdca26"
             ],
             [
              1,
              "#f0f921"
             ]
            ],
            "type": "surface"
           }
          ],
          "table": [
           {
            "cells": {
             "fill": {
              "color": "#EBF0F8"
             },
             "line": {
              "color": "white"
             }
            },
            "header": {
             "fill": {
              "color": "#C8D4E3"
             },
             "line": {
              "color": "white"
             }
            },
            "type": "table"
           }
          ]
         },
         "layout": {
          "annotationdefaults": {
           "arrowcolor": "#2a3f5f",
           "arrowhead": 0,
           "arrowwidth": 1
          },
          "autotypenumbers": "strict",
          "coloraxis": {
           "colorbar": {
            "outlinewidth": 0,
            "ticks": ""
           }
          },
          "colorscale": {
           "diverging": [
            [
             0,
             "#8e0152"
            ],
            [
             0.1,
             "#c51b7d"
            ],
            [
             0.2,
             "#de77ae"
            ],
            [
             0.3,
             "#f1b6da"
            ],
            [
             0.4,
             "#fde0ef"
            ],
            [
             0.5,
             "#f7f7f7"
            ],
            [
             0.6,
             "#e6f5d0"
            ],
            [
             0.7,
             "#b8e186"
            ],
            [
             0.8,
             "#7fbc41"
            ],
            [
             0.9,
             "#4d9221"
            ],
            [
             1,
             "#276419"
            ]
           ],
           "sequential": [
            [
             0,
             "#0d0887"
            ],
            [
             0.1111111111111111,
             "#46039f"
            ],
            [
             0.2222222222222222,
             "#7201a8"
            ],
            [
             0.3333333333333333,
             "#9c179e"
            ],
            [
             0.4444444444444444,
             "#bd3786"
            ],
            [
             0.5555555555555556,
             "#d8576b"
            ],
            [
             0.6666666666666666,
             "#ed7953"
            ],
            [
             0.7777777777777778,
             "#fb9f3a"
            ],
            [
             0.8888888888888888,
             "#fdca26"
            ],
            [
             1,
             "#f0f921"
            ]
           ],
           "sequentialminus": [
            [
             0,
             "#0d0887"
            ],
            [
             0.1111111111111111,
             "#46039f"
            ],
            [
             0.2222222222222222,
             "#7201a8"
            ],
            [
             0.3333333333333333,
             "#9c179e"
            ],
            [
             0.4444444444444444,
             "#bd3786"
            ],
            [
             0.5555555555555556,
             "#d8576b"
            ],
            [
             0.6666666666666666,
             "#ed7953"
            ],
            [
             0.7777777777777778,
             "#fb9f3a"
            ],
            [
             0.8888888888888888,
             "#fdca26"
            ],
            [
             1,
             "#f0f921"
            ]
           ]
          },
          "colorway": [
           "#636efa",
           "#EF553B",
           "#00cc96",
           "#ab63fa",
           "#FFA15A",
           "#19d3f3",
           "#FF6692",
           "#B6E880",
           "#FF97FF",
           "#FECB52"
          ],
          "font": {
           "color": "#2a3f5f"
          },
          "geo": {
           "bgcolor": "white",
           "lakecolor": "white",
           "landcolor": "#E5ECF6",
           "showlakes": true,
           "showland": true,
           "subunitcolor": "white"
          },
          "hoverlabel": {
           "align": "left"
          },
          "hovermode": "closest",
          "mapbox": {
           "style": "light"
          },
          "paper_bgcolor": "white",
          "plot_bgcolor": "#E5ECF6",
          "polar": {
           "angularaxis": {
            "gridcolor": "white",
            "linecolor": "white",
            "ticks": ""
           },
           "bgcolor": "#E5ECF6",
           "radialaxis": {
            "gridcolor": "white",
            "linecolor": "white",
            "ticks": ""
           }
          },
          "scene": {
           "xaxis": {
            "backgroundcolor": "#E5ECF6",
            "gridcolor": "white",
            "gridwidth": 2,
            "linecolor": "white",
            "showbackground": true,
            "ticks": "",
            "zerolinecolor": "white"
           },
           "yaxis": {
            "backgroundcolor": "#E5ECF6",
            "gridcolor": "white",
            "gridwidth": 2,
            "linecolor": "white",
            "showbackground": true,
            "ticks": "",
            "zerolinecolor": "white"
           },
           "zaxis": {
            "backgroundcolor": "#E5ECF6",
            "gridcolor": "white",
            "gridwidth": 2,
            "linecolor": "white",
            "showbackground": true,
            "ticks": "",
            "zerolinecolor": "white"
           }
          },
          "shapedefaults": {
           "line": {
            "color": "#2a3f5f"
           }
          },
          "ternary": {
           "aaxis": {
            "gridcolor": "white",
            "linecolor": "white",
            "ticks": ""
           },
           "baxis": {
            "gridcolor": "white",
            "linecolor": "white",
            "ticks": ""
           },
           "bgcolor": "#E5ECF6",
           "caxis": {
            "gridcolor": "white",
            "linecolor": "white",
            "ticks": ""
           }
          },
          "title": {
           "x": 0.05
          },
          "xaxis": {
           "automargin": true,
           "gridcolor": "white",
           "linecolor": "white",
           "ticks": "",
           "title": {
            "standoff": 15
           },
           "zerolinecolor": "white",
           "zerolinewidth": 2
          },
          "yaxis": {
           "automargin": true,
           "gridcolor": "white",
           "linecolor": "white",
           "ticks": "",
           "title": {
            "standoff": 15
           },
           "zerolinecolor": "white",
           "zerolinewidth": 2
          }
         }
        },
        "xaxis": {
         "anchor": "y",
         "domain": [
          0,
          1
         ],
         "title": {
          "text": "Description"
         }
        },
        "yaxis": {
         "anchor": "x",
         "domain": [
          0,
          1
         ],
         "title": {
          "text": "beneficios"
         }
        }
       }
      }
     },
     "metadata": {},
     "output_type": "display_data"
    }
   ],
   "source": [
    "import plotly.express as px\n",
    "fig = px.bar(df_groupby.head(30), x='Description', y='beneficios')\n",
    "fig.show()"
   ]
  },
  {
   "cell_type": "code",
   "execution_count": 23,
   "metadata": {},
   "outputs": [
    {
     "data": {
      "application/vnd.plotly.v1+json": {
       "config": {
        "plotlyServerURL": "https://plot.ly"
       },
       "data": [
        {
         "alignmentgroup": "True",
         "hovertemplate": "Description=%{x}<br>Quantity=%{y}<extra></extra>",
         "legendgroup": "",
         "marker": {
          "color": "#636efa",
          "pattern": {
           "shape": ""
          }
         },
         "name": "",
         "offsetgroup": "",
         "orientation": "v",
         "showlegend": false,
         "textposition": "auto",
         "type": "bar",
         "x": [
          "WHITE HANGING HEART T-LIGHT HOLDER",
          "REGENCY CAKESTAND 3 TIER",
          "Manual",
          "ASSORTED COLOUR BIRD ORNAMENT",
          "JUMBO BAG RED RETROSPOT",
          "POSTAGE",
          "ROTATING SILVER ANGELS T-LIGHT HLDR",
          "PAPER CHAIN KIT 50'S CHRISTMAS ",
          "PARTY BUNTING",
          "EDWARDIAN PARASOL NATURAL",
          "JUMBO BAG STRAWBERRY",
          "VINTAGE UNION JACK BUNTING",
          "EDWARDIAN PARASOL BLACK",
          "CREAM HEART CARD HOLDER",
          "STRAWBERRY CERAMIC TRINKET BOX",
          "JUMBO  BAG BAROQUE BLACK WHITE",
          "VINTAGE UNION JACK MEMOBOARD",
          "BLACK RECORD COVER FRAME",
          "HOME BUILDING BLOCK WORD",
          "SET/5 RED SPOTTY LID GLASS BOWLS",
          "RED HANGING HEART T-LIGHT HOLDER",
          "LUNCH BAG RED SPOTTY",
          "JUMBO STORAGE BAG SUKI",
          "RED RETROSPOT CAKE STAND",
          "CHILLI LIGHTS",
          "WOOD BLACK BOARD ANT WHITE FINISH",
          "JUMBO SHOPPER VINTAGE RED PAISLEY",
          "JUMBO BAG PINK VINTAGE PAISLEY",
          "COLOUR GLASS. STAR T-LIGHT HOLDER",
          "JUMBO BAG PINK WITH WHITE SPOTS"
         ],
         "xaxis": "x",
         "y": [
          56814,
          12489,
          2569,
          44431,
          29519,
          2212,
          21579,
          13839,
          8312,
          7201,
          19275,
          3990,
          6663,
          9912,
          25330,
          16580,
          3902,
          8219,
          4784,
          10240,
          9855,
          17256,
          14712,
          2627,
          6012,
          4972,
          14137,
          14526,
          8831,
          13766
         ],
         "yaxis": "y"
        }
       ],
       "layout": {
        "barmode": "relative",
        "legend": {
         "tracegroupgap": 0
        },
        "margin": {
         "t": 60
        },
        "template": {
         "data": {
          "bar": [
           {
            "error_x": {
             "color": "#2a3f5f"
            },
            "error_y": {
             "color": "#2a3f5f"
            },
            "marker": {
             "line": {
              "color": "#E5ECF6",
              "width": 0.5
             },
             "pattern": {
              "fillmode": "overlay",
              "size": 10,
              "solidity": 0.2
             }
            },
            "type": "bar"
           }
          ],
          "barpolar": [
           {
            "marker": {
             "line": {
              "color": "#E5ECF6",
              "width": 0.5
             },
             "pattern": {
              "fillmode": "overlay",
              "size": 10,
              "solidity": 0.2
             }
            },
            "type": "barpolar"
           }
          ],
          "carpet": [
           {
            "aaxis": {
             "endlinecolor": "#2a3f5f",
             "gridcolor": "white",
             "linecolor": "white",
             "minorgridcolor": "white",
             "startlinecolor": "#2a3f5f"
            },
            "baxis": {
             "endlinecolor": "#2a3f5f",
             "gridcolor": "white",
             "linecolor": "white",
             "minorgridcolor": "white",
             "startlinecolor": "#2a3f5f"
            },
            "type": "carpet"
           }
          ],
          "choropleth": [
           {
            "colorbar": {
             "outlinewidth": 0,
             "ticks": ""
            },
            "type": "choropleth"
           }
          ],
          "contour": [
           {
            "colorbar": {
             "outlinewidth": 0,
             "ticks": ""
            },
            "colorscale": [
             [
              0,
              "#0d0887"
             ],
             [
              0.1111111111111111,
              "#46039f"
             ],
             [
              0.2222222222222222,
              "#7201a8"
             ],
             [
              0.3333333333333333,
              "#9c179e"
             ],
             [
              0.4444444444444444,
              "#bd3786"
             ],
             [
              0.5555555555555556,
              "#d8576b"
             ],
             [
              0.6666666666666666,
              "#ed7953"
             ],
             [
              0.7777777777777778,
              "#fb9f3a"
             ],
             [
              0.8888888888888888,
              "#fdca26"
             ],
             [
              1,
              "#f0f921"
             ]
            ],
            "type": "contour"
           }
          ],
          "contourcarpet": [
           {
            "colorbar": {
             "outlinewidth": 0,
             "ticks": ""
            },
            "type": "contourcarpet"
           }
          ],
          "heatmap": [
           {
            "colorbar": {
             "outlinewidth": 0,
             "ticks": ""
            },
            "colorscale": [
             [
              0,
              "#0d0887"
             ],
             [
              0.1111111111111111,
              "#46039f"
             ],
             [
              0.2222222222222222,
              "#7201a8"
             ],
             [
              0.3333333333333333,
              "#9c179e"
             ],
             [
              0.4444444444444444,
              "#bd3786"
             ],
             [
              0.5555555555555556,
              "#d8576b"
             ],
             [
              0.6666666666666666,
              "#ed7953"
             ],
             [
              0.7777777777777778,
              "#fb9f3a"
             ],
             [
              0.8888888888888888,
              "#fdca26"
             ],
             [
              1,
              "#f0f921"
             ]
            ],
            "type": "heatmap"
           }
          ],
          "heatmapgl": [
           {
            "colorbar": {
             "outlinewidth": 0,
             "ticks": ""
            },
            "colorscale": [
             [
              0,
              "#0d0887"
             ],
             [
              0.1111111111111111,
              "#46039f"
             ],
             [
              0.2222222222222222,
              "#7201a8"
             ],
             [
              0.3333333333333333,
              "#9c179e"
             ],
             [
              0.4444444444444444,
              "#bd3786"
             ],
             [
              0.5555555555555556,
              "#d8576b"
             ],
             [
              0.6666666666666666,
              "#ed7953"
             ],
             [
              0.7777777777777778,
              "#fb9f3a"
             ],
             [
              0.8888888888888888,
              "#fdca26"
             ],
             [
              1,
              "#f0f921"
             ]
            ],
            "type": "heatmapgl"
           }
          ],
          "histogram": [
           {
            "marker": {
             "pattern": {
              "fillmode": "overlay",
              "size": 10,
              "solidity": 0.2
             }
            },
            "type": "histogram"
           }
          ],
          "histogram2d": [
           {
            "colorbar": {
             "outlinewidth": 0,
             "ticks": ""
            },
            "colorscale": [
             [
              0,
              "#0d0887"
             ],
             [
              0.1111111111111111,
              "#46039f"
             ],
             [
              0.2222222222222222,
              "#7201a8"
             ],
             [
              0.3333333333333333,
              "#9c179e"
             ],
             [
              0.4444444444444444,
              "#bd3786"
             ],
             [
              0.5555555555555556,
              "#d8576b"
             ],
             [
              0.6666666666666666,
              "#ed7953"
             ],
             [
              0.7777777777777778,
              "#fb9f3a"
             ],
             [
              0.8888888888888888,
              "#fdca26"
             ],
             [
              1,
              "#f0f921"
             ]
            ],
            "type": "histogram2d"
           }
          ],
          "histogram2dcontour": [
           {
            "colorbar": {
             "outlinewidth": 0,
             "ticks": ""
            },
            "colorscale": [
             [
              0,
              "#0d0887"
             ],
             [
              0.1111111111111111,
              "#46039f"
             ],
             [
              0.2222222222222222,
              "#7201a8"
             ],
             [
              0.3333333333333333,
              "#9c179e"
             ],
             [
              0.4444444444444444,
              "#bd3786"
             ],
             [
              0.5555555555555556,
              "#d8576b"
             ],
             [
              0.6666666666666666,
              "#ed7953"
             ],
             [
              0.7777777777777778,
              "#fb9f3a"
             ],
             [
              0.8888888888888888,
              "#fdca26"
             ],
             [
              1,
              "#f0f921"
             ]
            ],
            "type": "histogram2dcontour"
           }
          ],
          "mesh3d": [
           {
            "colorbar": {
             "outlinewidth": 0,
             "ticks": ""
            },
            "type": "mesh3d"
           }
          ],
          "parcoords": [
           {
            "line": {
             "colorbar": {
              "outlinewidth": 0,
              "ticks": ""
             }
            },
            "type": "parcoords"
           }
          ],
          "pie": [
           {
            "automargin": true,
            "type": "pie"
           }
          ],
          "scatter": [
           {
            "fillpattern": {
             "fillmode": "overlay",
             "size": 10,
             "solidity": 0.2
            },
            "type": "scatter"
           }
          ],
          "scatter3d": [
           {
            "line": {
             "colorbar": {
              "outlinewidth": 0,
              "ticks": ""
             }
            },
            "marker": {
             "colorbar": {
              "outlinewidth": 0,
              "ticks": ""
             }
            },
            "type": "scatter3d"
           }
          ],
          "scattercarpet": [
           {
            "marker": {
             "colorbar": {
              "outlinewidth": 0,
              "ticks": ""
             }
            },
            "type": "scattercarpet"
           }
          ],
          "scattergeo": [
           {
            "marker": {
             "colorbar": {
              "outlinewidth": 0,
              "ticks": ""
             }
            },
            "type": "scattergeo"
           }
          ],
          "scattergl": [
           {
            "marker": {
             "colorbar": {
              "outlinewidth": 0,
              "ticks": ""
             }
            },
            "type": "scattergl"
           }
          ],
          "scattermapbox": [
           {
            "marker": {
             "colorbar": {
              "outlinewidth": 0,
              "ticks": ""
             }
            },
            "type": "scattermapbox"
           }
          ],
          "scatterpolar": [
           {
            "marker": {
             "colorbar": {
              "outlinewidth": 0,
              "ticks": ""
             }
            },
            "type": "scatterpolar"
           }
          ],
          "scatterpolargl": [
           {
            "marker": {
             "colorbar": {
              "outlinewidth": 0,
              "ticks": ""
             }
            },
            "type": "scatterpolargl"
           }
          ],
          "scatterternary": [
           {
            "marker": {
             "colorbar": {
              "outlinewidth": 0,
              "ticks": ""
             }
            },
            "type": "scatterternary"
           }
          ],
          "surface": [
           {
            "colorbar": {
             "outlinewidth": 0,
             "ticks": ""
            },
            "colorscale": [
             [
              0,
              "#0d0887"
             ],
             [
              0.1111111111111111,
              "#46039f"
             ],
             [
              0.2222222222222222,
              "#7201a8"
             ],
             [
              0.3333333333333333,
              "#9c179e"
             ],
             [
              0.4444444444444444,
              "#bd3786"
             ],
             [
              0.5555555555555556,
              "#d8576b"
             ],
             [
              0.6666666666666666,
              "#ed7953"
             ],
             [
              0.7777777777777778,
              "#fb9f3a"
             ],
             [
              0.8888888888888888,
              "#fdca26"
             ],
             [
              1,
              "#f0f921"
             ]
            ],
            "type": "surface"
           }
          ],
          "table": [
           {
            "cells": {
             "fill": {
              "color": "#EBF0F8"
             },
             "line": {
              "color": "white"
             }
            },
            "header": {
             "fill": {
              "color": "#C8D4E3"
             },
             "line": {
              "color": "white"
             }
            },
            "type": "table"
           }
          ]
         },
         "layout": {
          "annotationdefaults": {
           "arrowcolor": "#2a3f5f",
           "arrowhead": 0,
           "arrowwidth": 1
          },
          "autotypenumbers": "strict",
          "coloraxis": {
           "colorbar": {
            "outlinewidth": 0,
            "ticks": ""
           }
          },
          "colorscale": {
           "diverging": [
            [
             0,
             "#8e0152"
            ],
            [
             0.1,
             "#c51b7d"
            ],
            [
             0.2,
             "#de77ae"
            ],
            [
             0.3,
             "#f1b6da"
            ],
            [
             0.4,
             "#fde0ef"
            ],
            [
             0.5,
             "#f7f7f7"
            ],
            [
             0.6,
             "#e6f5d0"
            ],
            [
             0.7,
             "#b8e186"
            ],
            [
             0.8,
             "#7fbc41"
            ],
            [
             0.9,
             "#4d9221"
            ],
            [
             1,
             "#276419"
            ]
           ],
           "sequential": [
            [
             0,
             "#0d0887"
            ],
            [
             0.1111111111111111,
             "#46039f"
            ],
            [
             0.2222222222222222,
             "#7201a8"
            ],
            [
             0.3333333333333333,
             "#9c179e"
            ],
            [
             0.4444444444444444,
             "#bd3786"
            ],
            [
             0.5555555555555556,
             "#d8576b"
            ],
            [
             0.6666666666666666,
             "#ed7953"
            ],
            [
             0.7777777777777778,
             "#fb9f3a"
            ],
            [
             0.8888888888888888,
             "#fdca26"
            ],
            [
             1,
             "#f0f921"
            ]
           ],
           "sequentialminus": [
            [
             0,
             "#0d0887"
            ],
            [
             0.1111111111111111,
             "#46039f"
            ],
            [
             0.2222222222222222,
             "#7201a8"
            ],
            [
             0.3333333333333333,
             "#9c179e"
            ],
            [
             0.4444444444444444,
             "#bd3786"
            ],
            [
             0.5555555555555556,
             "#d8576b"
            ],
            [
             0.6666666666666666,
             "#ed7953"
            ],
            [
             0.7777777777777778,
             "#fb9f3a"
            ],
            [
             0.8888888888888888,
             "#fdca26"
            ],
            [
             1,
             "#f0f921"
            ]
           ]
          },
          "colorway": [
           "#636efa",
           "#EF553B",
           "#00cc96",
           "#ab63fa",
           "#FFA15A",
           "#19d3f3",
           "#FF6692",
           "#B6E880",
           "#FF97FF",
           "#FECB52"
          ],
          "font": {
           "color": "#2a3f5f"
          },
          "geo": {
           "bgcolor": "white",
           "lakecolor": "white",
           "landcolor": "#E5ECF6",
           "showlakes": true,
           "showland": true,
           "subunitcolor": "white"
          },
          "hoverlabel": {
           "align": "left"
          },
          "hovermode": "closest",
          "mapbox": {
           "style": "light"
          },
          "paper_bgcolor": "white",
          "plot_bgcolor": "#E5ECF6",
          "polar": {
           "angularaxis": {
            "gridcolor": "white",
            "linecolor": "white",
            "ticks": ""
           },
           "bgcolor": "#E5ECF6",
           "radialaxis": {
            "gridcolor": "white",
            "linecolor": "white",
            "ticks": ""
           }
          },
          "scene": {
           "xaxis": {
            "backgroundcolor": "#E5ECF6",
            "gridcolor": "white",
            "gridwidth": 2,
            "linecolor": "white",
            "showbackground": true,
            "ticks": "",
            "zerolinecolor": "white"
           },
           "yaxis": {
            "backgroundcolor": "#E5ECF6",
            "gridcolor": "white",
            "gridwidth": 2,
            "linecolor": "white",
            "showbackground": true,
            "ticks": "",
            "zerolinecolor": "white"
           },
           "zaxis": {
            "backgroundcolor": "#E5ECF6",
            "gridcolor": "white",
            "gridwidth": 2,
            "linecolor": "white",
            "showbackground": true,
            "ticks": "",
            "zerolinecolor": "white"
           }
          },
          "shapedefaults": {
           "line": {
            "color": "#2a3f5f"
           }
          },
          "ternary": {
           "aaxis": {
            "gridcolor": "white",
            "linecolor": "white",
            "ticks": ""
           },
           "baxis": {
            "gridcolor": "white",
            "linecolor": "white",
            "ticks": ""
           },
           "bgcolor": "#E5ECF6",
           "caxis": {
            "gridcolor": "white",
            "linecolor": "white",
            "ticks": ""
           }
          },
          "title": {
           "x": 0.05
          },
          "xaxis": {
           "automargin": true,
           "gridcolor": "white",
           "linecolor": "white",
           "ticks": "",
           "title": {
            "standoff": 15
           },
           "zerolinecolor": "white",
           "zerolinewidth": 2
          },
          "yaxis": {
           "automargin": true,
           "gridcolor": "white",
           "linecolor": "white",
           "ticks": "",
           "title": {
            "standoff": 15
           },
           "zerolinecolor": "white",
           "zerolinewidth": 2
          }
         }
        },
        "xaxis": {
         "anchor": "y",
         "domain": [
          0,
          1
         ],
         "title": {
          "text": "Description"
         }
        },
        "yaxis": {
         "anchor": "x",
         "domain": [
          0,
          1
         ],
         "title": {
          "text": "Quantity"
         }
        }
       }
      }
     },
     "metadata": {},
     "output_type": "display_data"
    }
   ],
   "source": [
    "import plotly.express as px\n",
    "fig = px.bar(df_groupby.head(30), x='Description', y='Quantity')\n",
    "fig.show()"
   ]
  },
  {
   "cell_type": "markdown",
   "metadata": {},
   "source": [
    "¿Los artículos más vendidos son los mismos que generan más ganancias?\n",
    "\n",
    "R: No, debido a que las ganancias están dadas por la cantidad de ventas multiplicadas por el precio del producto. Dicho esto, un artículo puede generar mayores ganancias que otro (teniendo el primero una menor cantidad de ventas) si es que su precio es lo suficientemente alto. Esto en particular se nota en la tabla del ranking de beneficios, dónde el tercer puesto está dado por un artículo que a pesar de sólo haber vendido 2000 unidades, debido a su precio elevado generó más beneficios que el producto en cuarta posición, el cual vendió 44431 unidades."
   ]
  },
  {
   "cell_type": "markdown",
   "metadata": {
    "cell_id": "00032-61832905-3832-49f7-884b-4ffdd1045252",
    "deepnote_cell_height": 61.03334045410156,
    "deepnote_cell_type": "markdown",
    "tags": []
   },
   "source": [
    "### 1.2.5 Visualización del registro temporal [0,75 ptos]"
   ]
  },
  {
   "cell_type": "markdown",
   "metadata": {
    "cell_id": "00033-7886e714-8ad0-4387-b204-9d01f927df14",
    "deepnote_cell_height": 118.63333129882812,
    "deepnote_cell_type": "markdown",
    "tags": []
   },
   "source": [
    "El dueño del retail en su afán por saber más sobre los datos de su firma les solicita que grafiquen las ventas respecto al tiempo. Con esto les aclara que durante el día tienen muchas variaciones en sus ventas, por lo que les recomienda que consideren el registro temporal como `año-mes-día`. ¿Es posible observar datos extraños?, Comente lo que observa del gráfico."
   ]
  },
  {
   "cell_type": "code",
   "execution_count": 25,
   "metadata": {
    "cell_id": "00034-de869967-0472-43f2-b4c7-63ec649e6447",
    "deepnote_cell_height": 98.03334045410156,
    "deepnote_cell_type": "code",
    "deepnote_to_be_reexecuted": false,
    "execution_millis": 1,
    "execution_start": 1634274396771,
    "id": "SBr7gQOAkmGV",
    "source_hash": "1c692b9d"
   },
   "outputs": [
    {
     "data": {
      "application/vnd.plotly.v1+json": {
       "config": {
        "plotlyServerURL": "https://plot.ly"
       },
       "data": [
        {
         "hovertemplate": "InvoiceDate=%{x}<br>beneficios=%{y}<extra></extra>",
         "legendgroup": "",
         "line": {
          "color": "#636efa",
          "dash": "solid"
         },
         "marker": {
          "symbol": "circle"
         },
         "mode": "lines",
         "name": "",
         "orientation": "v",
         "showlegend": false,
         "type": "scatter",
         "x": [
          "2009-12-01",
          "2009-12-02",
          "2009-12-03",
          "2009-12-04",
          "2009-12-05",
          "2009-12-06",
          "2009-12-07",
          "2009-12-08",
          "2009-12-09",
          "2009-12-10",
          "2009-12-11",
          "2009-12-13",
          "2009-12-14",
          "2009-12-15",
          "2009-12-16",
          "2009-12-17",
          "2009-12-18",
          "2009-12-20",
          "2009-12-21",
          "2009-12-22",
          "2009-12-23",
          "2010-01-04",
          "2010-01-05",
          "2010-01-06",
          "2010-01-07",
          "2010-01-08",
          "2010-01-10",
          "2010-01-11",
          "2010-01-12",
          "2010-01-13",
          "2010-01-14",
          "2010-01-15",
          "2010-01-17",
          "2010-01-18",
          "2010-01-19",
          "2010-01-20",
          "2010-01-21",
          "2010-01-22",
          "2010-01-24",
          "2010-01-25",
          "2010-01-26",
          "2010-01-27",
          "2010-01-28",
          "2010-01-29",
          "2010-01-31",
          "2010-02-01",
          "2010-02-02",
          "2010-02-03",
          "2010-02-04",
          "2010-02-05",
          "2010-02-07",
          "2010-02-08",
          "2010-02-09",
          "2010-02-10",
          "2010-02-11",
          "2010-02-12",
          "2010-02-14",
          "2010-02-15",
          "2010-02-16",
          "2010-02-17",
          "2010-02-18",
          "2010-02-19",
          "2010-02-21",
          "2010-02-22",
          "2010-02-23",
          "2010-02-24",
          "2010-02-25",
          "2010-02-26",
          "2010-02-28",
          "2010-03-01",
          "2010-03-02",
          "2010-03-03",
          "2010-03-04",
          "2010-03-05",
          "2010-03-07",
          "2010-03-08",
          "2010-03-09",
          "2010-03-10",
          "2010-03-11",
          "2010-03-12",
          "2010-03-14",
          "2010-03-15",
          "2010-03-16",
          "2010-03-17",
          "2010-03-18",
          "2010-03-19",
          "2010-03-21",
          "2010-03-22",
          "2010-03-23",
          "2010-03-24",
          "2010-03-25",
          "2010-03-26",
          "2010-03-28",
          "2010-03-29",
          "2010-03-30",
          "2010-03-31",
          "2010-04-01",
          "2010-04-06",
          "2010-04-07",
          "2010-04-08",
          "2010-04-09",
          "2010-04-11",
          "2010-04-12",
          "2010-04-13",
          "2010-04-14",
          "2010-04-15",
          "2010-04-16",
          "2010-04-18",
          "2010-04-19",
          "2010-04-20",
          "2010-04-21",
          "2010-04-22",
          "2010-04-23",
          "2010-04-25",
          "2010-04-26",
          "2010-04-27",
          "2010-04-28",
          "2010-04-29",
          "2010-04-30",
          "2010-05-02",
          "2010-05-04",
          "2010-05-05",
          "2010-05-06",
          "2010-05-07",
          "2010-05-09",
          "2010-05-10",
          "2010-05-11",
          "2010-05-12",
          "2010-05-13",
          "2010-05-14",
          "2010-05-16",
          "2010-05-17",
          "2010-05-18",
          "2010-05-19",
          "2010-05-20",
          "2010-05-21",
          "2010-05-23",
          "2010-05-24",
          "2010-05-25",
          "2010-05-26",
          "2010-05-27",
          "2010-05-28",
          "2010-05-30",
          "2010-06-01",
          "2010-06-02",
          "2010-06-03",
          "2010-06-04",
          "2010-06-06",
          "2010-06-07",
          "2010-06-08",
          "2010-06-09",
          "2010-06-10",
          "2010-06-11",
          "2010-06-13",
          "2010-06-14",
          "2010-06-15",
          "2010-06-16",
          "2010-06-17",
          "2010-06-18",
          "2010-06-20",
          "2010-06-21",
          "2010-06-22",
          "2010-06-23",
          "2010-06-24",
          "2010-06-25",
          "2010-06-27",
          "2010-06-28",
          "2010-06-29",
          "2010-06-30",
          "2010-07-01",
          "2010-07-02",
          "2010-07-04",
          "2010-07-05",
          "2010-07-06",
          "2010-07-07",
          "2010-07-08",
          "2010-07-09",
          "2010-07-11",
          "2010-07-12",
          "2010-07-13",
          "2010-07-14",
          "2010-07-15",
          "2010-07-16",
          "2010-07-18",
          "2010-07-19",
          "2010-07-20",
          "2010-07-21",
          "2010-07-22",
          "2010-07-23",
          "2010-07-25",
          "2010-07-26",
          "2010-07-27",
          "2010-07-28",
          "2010-07-29",
          "2010-07-30",
          "2010-08-01",
          "2010-08-02",
          "2010-08-03",
          "2010-08-04",
          "2010-08-05",
          "2010-08-06",
          "2010-08-08",
          "2010-08-09",
          "2010-08-10",
          "2010-08-11",
          "2010-08-12",
          "2010-08-13",
          "2010-08-15",
          "2010-08-16",
          "2010-08-17",
          "2010-08-18",
          "2010-08-19",
          "2010-08-20",
          "2010-08-22",
          "2010-08-23",
          "2010-08-24",
          "2010-08-25",
          "2010-08-26",
          "2010-08-27",
          "2010-08-29",
          "2010-08-31",
          "2010-09-01",
          "2010-09-02",
          "2010-09-03",
          "2010-09-05",
          "2010-09-06",
          "2010-09-07",
          "2010-09-08",
          "2010-09-09",
          "2010-09-10",
          "2010-09-12",
          "2010-09-13",
          "2010-09-14",
          "2010-09-15",
          "2010-09-16",
          "2010-09-17",
          "2010-09-19",
          "2010-09-20",
          "2010-09-21",
          "2010-09-22",
          "2010-09-23",
          "2010-09-24",
          "2010-09-26",
          "2010-09-27",
          "2010-09-28",
          "2010-09-29",
          "2010-09-30",
          "2010-10-01",
          "2010-10-03",
          "2010-10-04",
          "2010-10-05",
          "2010-10-06",
          "2010-10-07",
          "2010-10-08",
          "2010-10-10",
          "2010-10-11",
          "2010-10-12",
          "2010-10-13",
          "2010-10-14",
          "2010-10-15",
          "2010-10-17",
          "2010-10-18",
          "2010-10-19",
          "2010-10-20",
          "2010-10-21",
          "2010-10-22",
          "2010-10-24",
          "2010-10-25",
          "2010-10-26",
          "2010-10-27",
          "2010-10-28",
          "2010-10-29",
          "2010-10-31",
          "2010-11-01",
          "2010-11-02",
          "2010-11-03",
          "2010-11-04",
          "2010-11-05",
          "2010-11-07",
          "2010-11-08",
          "2010-11-09",
          "2010-11-10",
          "2010-11-11",
          "2010-11-12",
          "2010-11-14",
          "2010-11-15",
          "2010-11-16",
          "2010-11-17",
          "2010-11-18",
          "2010-11-19",
          "2010-11-21",
          "2010-11-22",
          "2010-11-23",
          "2010-11-24",
          "2010-11-25",
          "2010-11-26",
          "2010-11-28",
          "2010-11-29",
          "2010-11-30",
          "2010-12-01",
          "2010-12-02",
          "2010-12-03",
          "2010-12-05",
          "2010-12-06",
          "2010-12-07",
          "2010-12-08",
          "2010-12-09"
         ],
         "xaxis": "x",
         "y": [
          43894.87,
          52762.06,
          67413.62,
          33913.81,
          9803.05,
          24390.1,
          33002.49,
          44763.34,
          30763.170000000002,
          38598.21,
          39204.17,
          21577.35,
          51245.159999999996,
          46836.63,
          36927.3,
          29758.87,
          31562.72,
          11355.19,
          15549.64,
          10696.59,
          9485.67,
          13415.09,
          19051.19,
          8731.26,
          72989.38,
          30292.7,
          23157.33,
          19684.49,
          38833.58,
          12391.1,
          23721.64,
          13499.55,
          17363.25,
          12078.84,
          21892.791,
          13244.34,
          27359.23,
          29345.83,
          15552.32,
          18346.54,
          38570.37,
          23722.72,
          18914.83,
          25382.441,
          18261.86,
          16606.931,
          19532.03,
          17230.061,
          22486.01,
          19420.74,
          17023.920000000002,
          13016.04,
          18398.26,
          6082.34,
          15061.87,
          9728.96,
          17772.19,
          42318.211,
          25669.010000000002,
          26455.22,
          35737.24,
          18931.99,
          11394.731,
          26336.24,
          20840.01,
          30392.661,
          44604.16,
          12778.641,
          16741.49,
          23933.87,
          21667.8,
          31849.7,
          29966.350000000002,
          25361.64,
          19034.6,
          26605.58,
          19665.69,
          22905.79,
          21537.09,
          19123.05,
          8947.9,
          20536.681,
          21048.78,
          29543.78,
          37570.75,
          35274.3,
          20485.48,
          21494.16,
          41826.29,
          25970.5,
          30503.38,
          29867.35,
          22402,
          31740.38,
          33524.51,
          24591.07,
          28646.66,
          17900.83,
          32146.75,
          39866.6,
          14668.53,
          19732.05,
          25912.471,
          25736.04,
          27054.25,
          19538.34,
          19363.82,
          23934.46,
          24561.04,
          21202.35,
          25873.86,
          35741.2,
          14969.64,
          16574.53,
          29734.03,
          43534.06,
          31181.87,
          29575.671,
          24532.95,
          12342.17,
          18945.33,
          23625.22,
          51704.13,
          31976.09,
          22852.06,
          26496.43,
          25201.04,
          29744.74,
          38966,
          16895.24,
          18370.09,
          23290.76,
          26164.58,
          16575.5,
          25331.44,
          22494.36,
          24824.93,
          33536.19,
          20415.92,
          29586.64,
          29221.670000000002,
          18569.88,
          10702.97,
          13093.79,
          13714.76,
          26644.63,
          11447.73,
          25457.15,
          45523.11,
          48215.48,
          36508.94,
          18009.12,
          30835.29,
          21147.77,
          21317.37,
          26937.46,
          29229.94,
          22635.35,
          17788.69,
          9078.58,
          18116.21,
          12414.03,
          25098.239999999998,
          17217.85,
          12371.59,
          18706.92,
          51132.78,
          32236.920000000002,
          31491.43,
          28830.02,
          16726.13,
          10376.29,
          30963.57,
          19917.28,
          24902.95,
          19973.45,
          33408.64,
          7609.23,
          16101.17,
          17419.12,
          19418.63,
          55836.91,
          21137.76,
          14581.99,
          28611.56,
          23124.39,
          19142.73,
          21620.39,
          23886.329999999998,
          17230.6,
          20232.85,
          28265.86,
          23252.72,
          32801.91,
          14363.69,
          30637.95,
          26124.16,
          22362.79,
          17555.5,
          23145.06,
          14728.15,
          13950.71,
          31336.59,
          28209.74,
          18629.86,
          26031.28,
          15150.14,
          20484.46,
          14270.74,
          28802.52,
          35122.520000000004,
          30663.35,
          23250.77,
          22677.010000000002,
          20655.35,
          26577.16,
          30466.76,
          31964.34,
          12166.64,
          14449.3,
          22811.75,
          20351.36,
          33430.57,
          34739.159999999996,
          12286.710000000001,
          23717.79,
          24397.45,
          16175.22,
          23526.38,
          15988.35,
          15528.75,
          32892.16,
          19705.02,
          33812.4,
          27099.271,
          19486.54,
          22783.53,
          38563.96,
          54698.89,
          27208.8,
          34305.1,
          47106.39,
          21703.9,
          115172.24,
          40015.41,
          36740.03,
          37578.57,
          34550.89,
          38335.52,
          34956.56,
          55108.91,
          30355.010000000002,
          47610.92,
          51836.73,
          23139.31,
          39962.9,
          46566.35,
          51564.7,
          86945.13,
          42398.82,
          31176.14,
          36591.44,
          46577.64,
          43387.26,
          32847.8,
          32843.94,
          28634.59,
          27945.06,
          42545.95,
          30480.55,
          30701.3,
          36100.95,
          29947.64,
          20730.24,
          42866.91,
          42870.87,
          83876.12,
          40907.93,
          31345.79,
          32303.991,
          53013.21,
          73575.93000000001,
          59712.61,
          36167.25,
          27934.71,
          42964.04,
          63788.840000000004,
          45726.741,
          37074.97,
          39999.42,
          32056.05,
          31724.88,
          49805.35,
          41138.6,
          67870.96,
          28828.04,
          27125.16,
          63245.18,
          49806.23,
          46192.49,
          47197.57,
          23876.63,
          31361.28,
          31009.33,
          53730.96,
          39094.2,
          38193.91
         ],
         "yaxis": "y"
        }
       ],
       "layout": {
        "legend": {
         "tracegroupgap": 0
        },
        "margin": {
         "t": 60
        },
        "template": {
         "data": {
          "bar": [
           {
            "error_x": {
             "color": "#2a3f5f"
            },
            "error_y": {
             "color": "#2a3f5f"
            },
            "marker": {
             "line": {
              "color": "#E5ECF6",
              "width": 0.5
             },
             "pattern": {
              "fillmode": "overlay",
              "size": 10,
              "solidity": 0.2
             }
            },
            "type": "bar"
           }
          ],
          "barpolar": [
           {
            "marker": {
             "line": {
              "color": "#E5ECF6",
              "width": 0.5
             },
             "pattern": {
              "fillmode": "overlay",
              "size": 10,
              "solidity": 0.2
             }
            },
            "type": "barpolar"
           }
          ],
          "carpet": [
           {
            "aaxis": {
             "endlinecolor": "#2a3f5f",
             "gridcolor": "white",
             "linecolor": "white",
             "minorgridcolor": "white",
             "startlinecolor": "#2a3f5f"
            },
            "baxis": {
             "endlinecolor": "#2a3f5f",
             "gridcolor": "white",
             "linecolor": "white",
             "minorgridcolor": "white",
             "startlinecolor": "#2a3f5f"
            },
            "type": "carpet"
           }
          ],
          "choropleth": [
           {
            "colorbar": {
             "outlinewidth": 0,
             "ticks": ""
            },
            "type": "choropleth"
           }
          ],
          "contour": [
           {
            "colorbar": {
             "outlinewidth": 0,
             "ticks": ""
            },
            "colorscale": [
             [
              0,
              "#0d0887"
             ],
             [
              0.1111111111111111,
              "#46039f"
             ],
             [
              0.2222222222222222,
              "#7201a8"
             ],
             [
              0.3333333333333333,
              "#9c179e"
             ],
             [
              0.4444444444444444,
              "#bd3786"
             ],
             [
              0.5555555555555556,
              "#d8576b"
             ],
             [
              0.6666666666666666,
              "#ed7953"
             ],
             [
              0.7777777777777778,
              "#fb9f3a"
             ],
             [
              0.8888888888888888,
              "#fdca26"
             ],
             [
              1,
              "#f0f921"
             ]
            ],
            "type": "contour"
           }
          ],
          "contourcarpet": [
           {
            "colorbar": {
             "outlinewidth": 0,
             "ticks": ""
            },
            "type": "contourcarpet"
           }
          ],
          "heatmap": [
           {
            "colorbar": {
             "outlinewidth": 0,
             "ticks": ""
            },
            "colorscale": [
             [
              0,
              "#0d0887"
             ],
             [
              0.1111111111111111,
              "#46039f"
             ],
             [
              0.2222222222222222,
              "#7201a8"
             ],
             [
              0.3333333333333333,
              "#9c179e"
             ],
             [
              0.4444444444444444,
              "#bd3786"
             ],
             [
              0.5555555555555556,
              "#d8576b"
             ],
             [
              0.6666666666666666,
              "#ed7953"
             ],
             [
              0.7777777777777778,
              "#fb9f3a"
             ],
             [
              0.8888888888888888,
              "#fdca26"
             ],
             [
              1,
              "#f0f921"
             ]
            ],
            "type": "heatmap"
           }
          ],
          "heatmapgl": [
           {
            "colorbar": {
             "outlinewidth": 0,
             "ticks": ""
            },
            "colorscale": [
             [
              0,
              "#0d0887"
             ],
             [
              0.1111111111111111,
              "#46039f"
             ],
             [
              0.2222222222222222,
              "#7201a8"
             ],
             [
              0.3333333333333333,
              "#9c179e"
             ],
             [
              0.4444444444444444,
              "#bd3786"
             ],
             [
              0.5555555555555556,
              "#d8576b"
             ],
             [
              0.6666666666666666,
              "#ed7953"
             ],
             [
              0.7777777777777778,
              "#fb9f3a"
             ],
             [
              0.8888888888888888,
              "#fdca26"
             ],
             [
              1,
              "#f0f921"
             ]
            ],
            "type": "heatmapgl"
           }
          ],
          "histogram": [
           {
            "marker": {
             "pattern": {
              "fillmode": "overlay",
              "size": 10,
              "solidity": 0.2
             }
            },
            "type": "histogram"
           }
          ],
          "histogram2d": [
           {
            "colorbar": {
             "outlinewidth": 0,
             "ticks": ""
            },
            "colorscale": [
             [
              0,
              "#0d0887"
             ],
             [
              0.1111111111111111,
              "#46039f"
             ],
             [
              0.2222222222222222,
              "#7201a8"
             ],
             [
              0.3333333333333333,
              "#9c179e"
             ],
             [
              0.4444444444444444,
              "#bd3786"
             ],
             [
              0.5555555555555556,
              "#d8576b"
             ],
             [
              0.6666666666666666,
              "#ed7953"
             ],
             [
              0.7777777777777778,
              "#fb9f3a"
             ],
             [
              0.8888888888888888,
              "#fdca26"
             ],
             [
              1,
              "#f0f921"
             ]
            ],
            "type": "histogram2d"
           }
          ],
          "histogram2dcontour": [
           {
            "colorbar": {
             "outlinewidth": 0,
             "ticks": ""
            },
            "colorscale": [
             [
              0,
              "#0d0887"
             ],
             [
              0.1111111111111111,
              "#46039f"
             ],
             [
              0.2222222222222222,
              "#7201a8"
             ],
             [
              0.3333333333333333,
              "#9c179e"
             ],
             [
              0.4444444444444444,
              "#bd3786"
             ],
             [
              0.5555555555555556,
              "#d8576b"
             ],
             [
              0.6666666666666666,
              "#ed7953"
             ],
             [
              0.7777777777777778,
              "#fb9f3a"
             ],
             [
              0.8888888888888888,
              "#fdca26"
             ],
             [
              1,
              "#f0f921"
             ]
            ],
            "type": "histogram2dcontour"
           }
          ],
          "mesh3d": [
           {
            "colorbar": {
             "outlinewidth": 0,
             "ticks": ""
            },
            "type": "mesh3d"
           }
          ],
          "parcoords": [
           {
            "line": {
             "colorbar": {
              "outlinewidth": 0,
              "ticks": ""
             }
            },
            "type": "parcoords"
           }
          ],
          "pie": [
           {
            "automargin": true,
            "type": "pie"
           }
          ],
          "scatter": [
           {
            "fillpattern": {
             "fillmode": "overlay",
             "size": 10,
             "solidity": 0.2
            },
            "type": "scatter"
           }
          ],
          "scatter3d": [
           {
            "line": {
             "colorbar": {
              "outlinewidth": 0,
              "ticks": ""
             }
            },
            "marker": {
             "colorbar": {
              "outlinewidth": 0,
              "ticks": ""
             }
            },
            "type": "scatter3d"
           }
          ],
          "scattercarpet": [
           {
            "marker": {
             "colorbar": {
              "outlinewidth": 0,
              "ticks": ""
             }
            },
            "type": "scattercarpet"
           }
          ],
          "scattergeo": [
           {
            "marker": {
             "colorbar": {
              "outlinewidth": 0,
              "ticks": ""
             }
            },
            "type": "scattergeo"
           }
          ],
          "scattergl": [
           {
            "marker": {
             "colorbar": {
              "outlinewidth": 0,
              "ticks": ""
             }
            },
            "type": "scattergl"
           }
          ],
          "scattermapbox": [
           {
            "marker": {
             "colorbar": {
              "outlinewidth": 0,
              "ticks": ""
             }
            },
            "type": "scattermapbox"
           }
          ],
          "scatterpolar": [
           {
            "marker": {
             "colorbar": {
              "outlinewidth": 0,
              "ticks": ""
             }
            },
            "type": "scatterpolar"
           }
          ],
          "scatterpolargl": [
           {
            "marker": {
             "colorbar": {
              "outlinewidth": 0,
              "ticks": ""
             }
            },
            "type": "scatterpolargl"
           }
          ],
          "scatterternary": [
           {
            "marker": {
             "colorbar": {
              "outlinewidth": 0,
              "ticks": ""
             }
            },
            "type": "scatterternary"
           }
          ],
          "surface": [
           {
            "colorbar": {
             "outlinewidth": 0,
             "ticks": ""
            },
            "colorscale": [
             [
              0,
              "#0d0887"
             ],
             [
              0.1111111111111111,
              "#46039f"
             ],
             [
              0.2222222222222222,
              "#7201a8"
             ],
             [
              0.3333333333333333,
              "#9c179e"
             ],
             [
              0.4444444444444444,
              "#bd3786"
             ],
             [
              0.5555555555555556,
              "#d8576b"
             ],
             [
              0.6666666666666666,
              "#ed7953"
             ],
             [
              0.7777777777777778,
              "#fb9f3a"
             ],
             [
              0.8888888888888888,
              "#fdca26"
             ],
             [
              1,
              "#f0f921"
             ]
            ],
            "type": "surface"
           }
          ],
          "table": [
           {
            "cells": {
             "fill": {
              "color": "#EBF0F8"
             },
             "line": {
              "color": "white"
             }
            },
            "header": {
             "fill": {
              "color": "#C8D4E3"
             },
             "line": {
              "color": "white"
             }
            },
            "type": "table"
           }
          ]
         },
         "layout": {
          "annotationdefaults": {
           "arrowcolor": "#2a3f5f",
           "arrowhead": 0,
           "arrowwidth": 1
          },
          "autotypenumbers": "strict",
          "coloraxis": {
           "colorbar": {
            "outlinewidth": 0,
            "ticks": ""
           }
          },
          "colorscale": {
           "diverging": [
            [
             0,
             "#8e0152"
            ],
            [
             0.1,
             "#c51b7d"
            ],
            [
             0.2,
             "#de77ae"
            ],
            [
             0.3,
             "#f1b6da"
            ],
            [
             0.4,
             "#fde0ef"
            ],
            [
             0.5,
             "#f7f7f7"
            ],
            [
             0.6,
             "#e6f5d0"
            ],
            [
             0.7,
             "#b8e186"
            ],
            [
             0.8,
             "#7fbc41"
            ],
            [
             0.9,
             "#4d9221"
            ],
            [
             1,
             "#276419"
            ]
           ],
           "sequential": [
            [
             0,
             "#0d0887"
            ],
            [
             0.1111111111111111,
             "#46039f"
            ],
            [
             0.2222222222222222,
             "#7201a8"
            ],
            [
             0.3333333333333333,
             "#9c179e"
            ],
            [
             0.4444444444444444,
             "#bd3786"
            ],
            [
             0.5555555555555556,
             "#d8576b"
            ],
            [
             0.6666666666666666,
             "#ed7953"
            ],
            [
             0.7777777777777778,
             "#fb9f3a"
            ],
            [
             0.8888888888888888,
             "#fdca26"
            ],
            [
             1,
             "#f0f921"
            ]
           ],
           "sequentialminus": [
            [
             0,
             "#0d0887"
            ],
            [
             0.1111111111111111,
             "#46039f"
            ],
            [
             0.2222222222222222,
             "#7201a8"
            ],
            [
             0.3333333333333333,
             "#9c179e"
            ],
            [
             0.4444444444444444,
             "#bd3786"
            ],
            [
             0.5555555555555556,
             "#d8576b"
            ],
            [
             0.6666666666666666,
             "#ed7953"
            ],
            [
             0.7777777777777778,
             "#fb9f3a"
            ],
            [
             0.8888888888888888,
             "#fdca26"
            ],
            [
             1,
             "#f0f921"
            ]
           ]
          },
          "colorway": [
           "#636efa",
           "#EF553B",
           "#00cc96",
           "#ab63fa",
           "#FFA15A",
           "#19d3f3",
           "#FF6692",
           "#B6E880",
           "#FF97FF",
           "#FECB52"
          ],
          "font": {
           "color": "#2a3f5f"
          },
          "geo": {
           "bgcolor": "white",
           "lakecolor": "white",
           "landcolor": "#E5ECF6",
           "showlakes": true,
           "showland": true,
           "subunitcolor": "white"
          },
          "hoverlabel": {
           "align": "left"
          },
          "hovermode": "closest",
          "mapbox": {
           "style": "light"
          },
          "paper_bgcolor": "white",
          "plot_bgcolor": "#E5ECF6",
          "polar": {
           "angularaxis": {
            "gridcolor": "white",
            "linecolor": "white",
            "ticks": ""
           },
           "bgcolor": "#E5ECF6",
           "radialaxis": {
            "gridcolor": "white",
            "linecolor": "white",
            "ticks": ""
           }
          },
          "scene": {
           "xaxis": {
            "backgroundcolor": "#E5ECF6",
            "gridcolor": "white",
            "gridwidth": 2,
            "linecolor": "white",
            "showbackground": true,
            "ticks": "",
            "zerolinecolor": "white"
           },
           "yaxis": {
            "backgroundcolor": "#E5ECF6",
            "gridcolor": "white",
            "gridwidth": 2,
            "linecolor": "white",
            "showbackground": true,
            "ticks": "",
            "zerolinecolor": "white"
           },
           "zaxis": {
            "backgroundcolor": "#E5ECF6",
            "gridcolor": "white",
            "gridwidth": 2,
            "linecolor": "white",
            "showbackground": true,
            "ticks": "",
            "zerolinecolor": "white"
           }
          },
          "shapedefaults": {
           "line": {
            "color": "#2a3f5f"
           }
          },
          "ternary": {
           "aaxis": {
            "gridcolor": "white",
            "linecolor": "white",
            "ticks": ""
           },
           "baxis": {
            "gridcolor": "white",
            "linecolor": "white",
            "ticks": ""
           },
           "bgcolor": "#E5ECF6",
           "caxis": {
            "gridcolor": "white",
            "linecolor": "white",
            "ticks": ""
           }
          },
          "title": {
           "x": 0.05
          },
          "xaxis": {
           "automargin": true,
           "gridcolor": "white",
           "linecolor": "white",
           "ticks": "",
           "title": {
            "standoff": 15
           },
           "zerolinecolor": "white",
           "zerolinewidth": 2
          },
          "yaxis": {
           "automargin": true,
           "gridcolor": "white",
           "linecolor": "white",
           "ticks": "",
           "title": {
            "standoff": 15
           },
           "zerolinecolor": "white",
           "zerolinewidth": 2
          }
         }
        },
        "xaxis": {
         "anchor": "y",
         "domain": [
          0,
          1
         ],
         "title": {
          "text": "InvoiceDate"
         }
        },
        "yaxis": {
         "anchor": "x",
         "domain": [
          0,
          1
         ],
         "title": {
          "text": "beneficios"
         }
        }
       }
      }
     },
     "metadata": {},
     "output_type": "display_data"
    }
   ],
   "source": [
    "def plot_ventas(dataframe,date_col=\"InvoiceDate\"):\n",
    "    df=dataframe.copy()\n",
    "    df[date_col]=pd.to_datetime(df[date_col]).dt.date\n",
    "\n",
    "    df_groupby=df.groupby(date_col).sum(\"beneficios\").reset_index()\n",
    "    fig = px.line(df_groupby, x=date_col, y='beneficios')\n",
    "    fig.show()\n",
    "    \n",
    "    \n",
    "plot_ventas(df_retail_clean) "
   ]
  },
  {
   "cell_type": "markdown",
   "metadata": {},
   "source": [
    "¿Es posible observar datos extraños?, Comente lo que observa del gráfico.\n",
    "\n",
    "R: Se observa que para ciertos días hay peaks de ingresos generados. Esto se puede deber a que quizás para esas fechas hubo rebajas o están cerca de algún día festivo. Por otro lado, se ve que las ventas entre octubre y febrero generan una mayor cantidad de beneficios. Esto se puede deber a que entre esas fechas hay una gran cantidad de eventos festivos y ofertas (Halloweeen, Black Friday, Navidad, año nuevo, etc.)"
   ]
  },
  {
   "cell_type": "markdown",
   "metadata": {
    "cell_id": "00043-719d1a35-6773-42d7-8f88-1cc37eda7a1b",
    "deepnote_cell_height": 491.23333740234375,
    "deepnote_cell_type": "markdown",
    "id": "Rg4ZMq8ezAH6"
   },
   "source": [
    "# Conclusión\n",
    "Eso ha sido todo para el lab de hoy, recuerden que el laboratorio tiene un plazo de entrega de una semana y que **los días de atraso no se pueden utilizar para entregas de lab** solo para tareas. Cualquier duda del laboratorio, no duden en contactarnos por mail o U-cursos.\n",
    "\n",
    "![Gracias Totales!](https://i.pinimg.com/originals/65/ae/27/65ae270df87c3c4adcea997e48f60852.gif \"bruno\")\n"
   ]
  },
  {
   "cell_type": "markdown",
   "metadata": {
    "cell_id": "00044-b636da8f-c28b-4f2c-894e-1326a421926b",
    "deepnote_cell_height": 170.4499969482422,
    "deepnote_cell_type": "markdown",
    "id": "wCL1lACBzAH7"
   },
   "source": [
    "<br>\n",
    "<center>\n",
    "<img src=\"https://i.kym-cdn.com/photos/images/original/001/194/195/b18.png\" width=100 height=50 />\n",
    "</center>\n",
    "<br>"
   ]
  },
  {
   "cell_type": "markdown",
   "metadata": {
    "created_in_deepnote_cell": true,
    "deepnote_cell_type": "markdown",
    "tags": []
   },
   "source": [
    "<a style='text-decoration:none;line-height:16px;display:flex;color:#5B5B62;padding:10px;justify-content:end;' href='https://deepnote.com?utm_source=created-in-deepnote-cell&projectId=87110296-876e-426f-b91d-aaf681223468' target=\"_blank\">\n",
    "<img alt='Created in deepnote.com' style='display:inline;max-height:16px;margin:0px;margin-right:7.5px;' src='data:image/svg+xml;base64,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' > </img>\n",
    "Created in <span style='font-weight:600;margin-left:4px;'>Deepnote</span></a>"
   ]
  }
 ],
 "metadata": {
  "colab": {
   "collapsed_sections": [
    "Rcjs-dd1V-1u",
    "dkyp81nkBghF",
    "THmFfYs1AhAW"
   ],
   "name": "Copia de Tarea1.ipynb",
   "provenance": [],
   "toc_visible": true
  },
  "deepnote": {},
  "deepnote_execution_queue": [],
  "deepnote_notebook_id": "15b5ce14-e074-4f33-9c56-8f169cc96a69",
  "interpreter": {
   "hash": "b0e9e96f4c5ccb3705c4fe1faff469f2fbff6ae2ce10bd76dfdb605780f5fd91"
  },
  "kernelspec": {
   "display_name": "Python 3.9.7 ('base')",
   "language": "python",
   "name": "python3"
  },
  "language_info": {
   "codemirror_mode": {
    "name": "ipython",
    "version": 3
   },
   "file_extension": ".py",
   "mimetype": "text/x-python",
   "name": "python",
   "nbconvert_exporter": "python",
   "pygments_lexer": "ipython3",
   "version": "3.9.7"
  },
  "toc": {
   "base_numbering": 1,
   "nav_menu": {},
   "number_sections": true,
   "sideBar": true,
   "skip_h1_title": true,
   "title_cell": "Tabla de Contenidos",
   "title_sidebar": "Contenidos",
   "toc_cell": false,
   "toc_position": {
    "height": "calc(100% - 180px)",
    "left": "10px",
    "top": "150px",
    "width": "241.867px"
   },
   "toc_section_display": true,
   "toc_window_display": true
  },
  "varInspector": {
   "cols": {
    "lenName": 16,
    "lenType": 16,
    "lenVar": 40
   },
   "kernels_config": {
    "python": {
     "delete_cmd_postfix": "",
     "delete_cmd_prefix": "del ",
     "library": "var_list.py",
     "varRefreshCmd": "print(var_dic_list())"
    },
    "r": {
     "delete_cmd_postfix": ") ",
     "delete_cmd_prefix": "rm(",
     "library": "var_list.r",
     "varRefreshCmd": "cat(var_dic_list()) "
    }
   },
   "types_to_exclude": [
    "module",
    "function",
    "builtin_function_or_method",
    "instance",
    "_Feature"
   ],
   "window_display": false
  }
 },
 "nbformat": 4,
 "nbformat_minor": 0
}
