{
 "cells": [
  {
   "cell_type": "markdown",
   "metadata": {
    "cell_id": "00000-73f3e32f-2ef2-4c8f-8a16-d0512209e3ca",
    "deepnote_cell_height": 103.43333435058594,
    "deepnote_cell_type": "markdown",
    "id": "XUZ1dFPHzAHl"
   },
   "source": [
    "<h1><center>Laboratorio 7: Aprendizaje Supervisado 🔮</center></h1>\n",
    "\n",
    "<center><strong>MDS7202: Laboratorio de Programación Científica para Ciencia de Datos</strong></center>"
   ]
  },
  {
   "cell_type": "markdown",
   "metadata": {
    "cell_id": "00001-f0f6f193-27cb-4e14-8eb4-8192d12f7721",
    "deepnote_cell_height": 165.78334045410156,
    "deepnote_cell_type": "markdown",
    "id": "UD8X1uhGzAHq"
   },
   "source": [
    "### Cuerpo Docente:\n",
    "\n",
    "- Profesor: Pablo Badilla\n",
    "- Auxiliar: Ignacio Meza D.\n",
    "- Ayudante: Patricio Ortiz"
   ]
  },
  {
   "cell_type": "markdown",
   "metadata": {
    "cell_id": "00002-cbc359e4-c6bf-4a18-b935-8b000e48c13d",
    "deepnote_cell_height": 139.86666870117188,
    "deepnote_cell_type": "markdown",
    "id": "tXflExjqzAHr"
   },
   "source": [
    "### Equipo: SUPER IMPORTANTE - notebooks sin nombre no serán revisados\n",
    "\n",
    "- Nombre de alumno 1: Natalia Abarca G.\n",
    "- Nombre de alumno 2: César Véliz R.\n"
   ]
  },
  {
   "cell_type": "markdown",
   "metadata": {
    "cell_id": "00003-50e2b812-e515-42a0-b713-6dbfaa83c601",
    "deepnote_cell_height": 61.56666564941406,
    "deepnote_cell_type": "markdown",
    "id": "AD-V0bbZzAHr"
   },
   "source": [
    "### **Link de repositorio de GitHub:**`` https://github.com/CVelizR/evaluaciones-mds7202 ``"
   ]
  },
  {
   "cell_type": "markdown",
   "metadata": {
    "cell_id": "00005-119cf881-89af-4ccc-8bf7-2763d5eb0785",
    "deepnote_cell_height": 606.316650390625,
    "deepnote_cell_type": "markdown",
    "id": "6uBLPj1PzAHs"
   },
   "source": [
    "## Temas a tratar\n",
    "\n",
    "- Aprendizaje Supervisado\n",
    "- Flujos de datos a través de `Pipelines`.\n",
    "\n",
    "## Reglas\n",
    "\n",
    "- Fecha de entrega: TBD\n",
    "- **Grupos de 2 personas**\n",
    "- **Ausentes** deberán realizar la actividad solos. \n",
    "- Cualquier duda fuera del horario de clases al foro. Mensajes al equipo docente serán respondidos por este medio.\n",
    "- Prohibidas las copias. \n",
    "- Pueden usar cualquer matrial del curso que estimen conveniente.\n",
    "\n",
    "## Objetivos principales del laboratorio\n",
    "\n",
    "- Comprender el funcionamiento de clasificadores/regresores.\n",
    "- Generar múltiples modelos predictivos.\n",
    "- Comprender las ventajas de crear modelos en pipeline vs hacer las operaciones a mano.\n",
    "\n",
    "El laboratorio deberá ser desarrollado sin el uso indiscriminado de iteradores nativos de python (aka \"for\", \"while\"). La idea es que aprendan a exprimir al máximo las funciones optimizadas que nos entrega `pandas`, las cuales vale mencionar, son bastante más eficientes que los iteradores nativos sobre `DataFrames`."
   ]
  },
  {
   "cell_type": "markdown",
   "metadata": {
    "cell_id": "00006-d1bce751-1f1d-4470-8cbb-a77ba271ef39",
    "deepnote_cell_height": 61.03334045410156,
    "deepnote_cell_type": "markdown",
    "id": "MhISwri4zAHy"
   },
   "source": [
    "### Importamos librerias utiles 😸"
   ]
  },
  {
   "cell_type": "code",
   "execution_count": 27,
   "metadata": {
    "ExecuteTime": {
     "end_time": "2021-03-29T00:08:16.884674Z",
     "start_time": "2021-03-29T00:08:16.349846Z"
    },
    "cell_id": "00007-e1ebdc56-4008-489c-85bc-b1ffb9cbbced",
    "colab": {
     "base_uri": "https://localhost:8080/"
    },
    "deepnote_cell_height": 954.25,
    "deepnote_cell_type": "code",
    "deepnote_to_be_reexecuted": false,
    "execution_millis": 7630,
    "execution_start": 1636741163382,
    "id": "uyc33dKdzAHy",
    "outputId": "e8cc251c-aa25-4fdb-db15-3027707cfbdf",
    "source_hash": "cb3614e"
   },
   "outputs": [
    {
     "name": "stdout",
     "output_type": "stream",
     "text": [
      "Requirement already satisfied: plotly in c:\\users\\cesar\\anaconda3\\lib\\site-packages (5.8.2)\n",
      "Requirement already satisfied: tenacity>=6.2.0 in c:\\users\\cesar\\anaconda3\\lib\\site-packages (from plotly) (8.0.1)\n"
     ]
    },
    {
     "name": "stderr",
     "output_type": "stream",
     "text": [
      "WARNING: Ignoring invalid distribution -atplotlib (c:\\users\\cesar\\anaconda3\\lib\\site-packages)\n",
      "WARNING: Ignoring invalid distribution -atplotlib (c:\\users\\cesar\\anaconda3\\lib\\site-packages)\n",
      "WARNING: Ignoring invalid distribution -atplotlib (c:\\users\\cesar\\anaconda3\\lib\\site-packages)\n",
      "WARNING: Ignoring invalid distribution -atplotlib (c:\\users\\cesar\\anaconda3\\lib\\site-packages)\n",
      "WARNING: Ignoring invalid distribution -atplotlib (c:\\users\\cesar\\anaconda3\\lib\\site-packages)\n",
      "WARNING: Ignoring invalid distribution -atplotlib (c:\\users\\cesar\\anaconda3\\lib\\site-packages)\n"
     ]
    },
    {
     "name": "stdout",
     "output_type": "stream",
     "text": [
      "Requirement already satisfied: umap-learn in c:\\users\\cesar\\anaconda3\\lib\\site-packages (0.5.3)\n",
      "Requirement already satisfied: pynndescent>=0.5 in c:\\users\\cesar\\anaconda3\\lib\\site-packages (from umap-learn) (0.5.7)\n",
      "Requirement already satisfied: scikit-learn>=0.22 in c:\\users\\cesar\\anaconda3\\lib\\site-packages (from umap-learn) (0.24.2)\n",
      "Requirement already satisfied: numba>=0.49 in c:\\users\\cesar\\anaconda3\\lib\\site-packages (from umap-learn) (0.54.1)\n",
      "Requirement already satisfied: scipy>=1.0 in c:\\users\\cesar\\anaconda3\\lib\\site-packages (from umap-learn) (1.7.1)\n",
      "Requirement already satisfied: tqdm in c:\\users\\cesar\\anaconda3\\lib\\site-packages (from umap-learn) (4.62.3)\n",
      "Requirement already satisfied: numpy>=1.17 in c:\\users\\cesar\\anaconda3\\lib\\site-packages (from umap-learn) (1.20.3)\n",
      "Requirement already satisfied: setuptools in c:\\users\\cesar\\anaconda3\\lib\\site-packages (from numba>=0.49->umap-learn) (58.0.4)\n",
      "Requirement already satisfied: llvmlite<0.38,>=0.37.0rc1 in c:\\users\\cesar\\anaconda3\\lib\\site-packages (from numba>=0.49->umap-learn) (0.37.0)\n",
      "Requirement already satisfied: joblib>=0.11 in c:\\users\\cesar\\anaconda3\\lib\\site-packages (from pynndescent>=0.5->umap-learn) (1.1.0)\n",
      "Requirement already satisfied: threadpoolctl>=2.0.0 in c:\\users\\cesar\\anaconda3\\lib\\site-packages (from scikit-learn>=0.22->umap-learn) (2.2.0)\n",
      "Requirement already satisfied: colorama in c:\\users\\cesar\\anaconda3\\lib\\site-packages (from tqdm->umap-learn) (0.4.3)\n"
     ]
    },
    {
     "name": "stderr",
     "output_type": "stream",
     "text": [
      "WARNING: Ignoring invalid distribution -atplotlib (c:\\users\\cesar\\anaconda3\\lib\\site-packages)\n",
      "WARNING: Ignoring invalid distribution -atplotlib (c:\\users\\cesar\\anaconda3\\lib\\site-packages)\n",
      "WARNING: Ignoring invalid distribution -atplotlib (c:\\users\\cesar\\anaconda3\\lib\\site-packages)\n",
      "WARNING: Ignoring invalid distribution -atplotlib (c:\\users\\cesar\\anaconda3\\lib\\site-packages)\n",
      "WARNING: Ignoring invalid distribution -atplotlib (c:\\users\\cesar\\anaconda3\\lib\\site-packages)\n",
      "WARNING: Ignoring invalid distribution -atplotlib (c:\\users\\cesar\\anaconda3\\lib\\site-packages)\n"
     ]
    }
   ],
   "source": [
    "# Libreria Core del lab.\n",
    "import numpy as np\n",
    "import pandas as pd\n",
    "from sklearn.pipeline import Pipeline\n",
    "from sklearn.compose import ColumnTransformer\n",
    "from sklearn.model_selection import train_test_split \n",
    "\n",
    "# Pre-procesamiento\n",
    "from sklearn.preprocessing import MinMaxScaler\n",
    "from sklearn.preprocessing import StandardScaler\n",
    "from sklearn.preprocessing import FunctionTransformer\n",
    "from sklearn.preprocessing import PowerTransformer\n",
    "from sklearn.preprocessing import OneHotEncoder\n",
    "from sklearn.tree import DecisionTreeClassifier\n",
    "\n",
    "# Metricas de evaluación\n",
    "from sklearn.metrics import classification_report\n",
    "from sklearn.metrics import accuracy_score\n",
    "from sklearn.metrics import f1_score\n",
    "from sklearn.metrics import cohen_kappa_score\n",
    "from sklearn.metrics import r2_score\n",
    "from sklearn.linear_model import ElasticNet\n",
    "\n",
    "\n",
    "#Libreria para plotear\n",
    "!pip install --upgrade plotly\n",
    "import plotly.express as px\n",
    "from plotly.subplots import make_subplots\n",
    "import plotly.graph_objects as go\n",
    "\n",
    "# UMAP\n",
    "!pip install umap-learn"
   ]
  },
  {
   "cell_type": "markdown",
   "metadata": {
    "cell_id": "00008-7877e530-5ed5-483e-af0a-4fd26434d7dc",
    "deepnote_cell_height": 51.43333435058594,
    "deepnote_cell_type": "markdown",
    "id": "5FTGE74b3FBU"
   },
   "source": [
    "https://www.kaggle.com/antoinekrajnc/soccer-players-statistics"
   ]
  },
  {
   "cell_type": "markdown",
   "metadata": {
    "cell_id": "00009-2d8a21b8-a5ac-41ee-9a17-15c179c9b666",
    "deepnote_cell_height": 645.0166625976562,
    "deepnote_cell_type": "markdown",
    "id": "xpOTbQcxbSiy"
   },
   "source": [
    "# 1. Predicciones Futboleras\n",
    "\n",
    "<p align=\"center\">\n",
    "  <img src=\"https://drive.google.com/uc?export=view&id=1BnO4tyh3vM2P199Ec9s3JjngQ4qQ9seP\"\n",
    "\" width=\"300\">\n",
    "</p>\n",
    "\n",
    "\n",
    "Tras el trágico despido de la mítica mascota de Maipú, Renacín decide adentrarse como consultor en el mercado futbolero, el cuál (para variar...) está cargado en especulaciones. \n",
    "\n",
    "Como su principal tarea será asesorar a los directivos de los clubes sobre cuál jugador comprar y cuál no, Renacín desea generar modelos predictivos que evaluén distintas características de los jugadores; todo con el fin de tomar decisiones concretas basadas en los datos.\n",
    "\n",
    "Sin embargo, su condición de corporeo le impidió tomar la versión anterior de MDS7202, por lo que este motivo Renacín contrata a su equipo para lograr su objetivo final. Dado que aún tiene fuertes vínculos con la dirección de deportes de la municipalidad, el corporeo le entrega base de datos con las estadísticas de cada jugador para que su equipo empieze a trabajar ya con un dataset listo para ser usado.\n"
   ]
  },
  {
   "cell_type": "markdown",
   "metadata": {
    "cell_id": "00010-6b2847d4-5b92-44b7-9ce0-c6b6779ac157",
    "deepnote_cell_height": 169.03334045410156,
    "deepnote_cell_type": "markdown",
    "id": "jnmZfFpxTTYX"
   },
   "source": [
    "**Los Datos**\n",
    "\n",
    "Para este laboratorio deberán trabajar con los csv `statsplayers.csv` y `salarios.pickle`, donde deberán aplicar algoritmos de de aprendizaje supervisado (clasificación y regresión) en base a características que describen de jugadores de futbol.\n",
    "\n",
    "Para comenzar cargue el dataset señalado y a continuación vea el reporte **`Player_Stats_Report.html`** (adjunto en la carpeta del enunciado) que describe las características principales del `DataFrame`."
   ]
  },
  {
   "cell_type": "code",
   "execution_count": 2,
   "metadata": {
    "cell_id": "00011-41e0cc7d-f280-4fd4-9186-b97a9c9f2245",
    "colab": {
     "base_uri": "https://localhost:8080/"
    },
    "deepnote_cell_height": 218.53334045410156,
    "deepnote_cell_type": "code",
    "deepnote_to_be_reexecuted": false,
    "execution_millis": 7,
    "execution_start": 1636741171022,
    "id": "Jqq-s010Iwl1",
    "outputId": "f4cecd84-95c6-4a80-e472-5b8ea011e843",
    "source_hash": "c60dc4a7"
   },
   "outputs": [
    {
     "name": "stdout",
     "output_type": "stream",
     "text": [
      "Ignorando conexión drive-colab\n"
     ]
    }
   ],
   "source": [
    "# Si usted está utilizando Colabolatory le puede ser útil este código para cargar los archivos.\n",
    "try:\n",
    "    from google.colab import drive\n",
    "    drive.mount(\"/content/drive\")\n",
    "    path = 'Dirección donde tiene los archivos en el Drive'\n",
    "except: \n",
    "    print('Ignorando conexión drive-colab')"
   ]
  },
  {
   "cell_type": "code",
   "execution_count": 2,
   "metadata": {
    "cell_id": "00012-64bcb839-4478-423e-9bd1-cdb81eefc97e",
    "colab": {
     "base_uri": "https://localhost:8080/",
     "height": 309
    },
    "deepnote_cell_height": 489.54998779296875,
    "deepnote_cell_type": "code",
    "deepnote_output_heights": [
     376
    ],
    "deepnote_to_be_reexecuted": false,
    "execution_millis": 184,
    "execution_start": 1636742947300,
    "id": "bED3w3tDbSCf",
    "outputId": "8961b413-9ab2-4d57-8d77-648860771520",
    "source_hash": "65944a94"
   },
   "outputs": [
    {
     "data": {
      "text/html": [
       "<div>\n",
       "<style scoped>\n",
       "    .dataframe tbody tr th:only-of-type {\n",
       "        vertical-align: middle;\n",
       "    }\n",
       "\n",
       "    .dataframe tbody tr th {\n",
       "        vertical-align: top;\n",
       "    }\n",
       "\n",
       "    .dataframe thead th {\n",
       "        text-align: right;\n",
       "    }\n",
       "</style>\n",
       "<table border=\"1\" class=\"dataframe\">\n",
       "  <thead>\n",
       "    <tr style=\"text-align: right;\">\n",
       "      <th></th>\n",
       "      <th>Name</th>\n",
       "      <th>Nationality</th>\n",
       "      <th>National_Position</th>\n",
       "      <th>Club_Position</th>\n",
       "      <th>Height</th>\n",
       "      <th>Weight</th>\n",
       "      <th>Preffered_Foot</th>\n",
       "      <th>Age</th>\n",
       "      <th>Work_Rate</th>\n",
       "      <th>Weak_foot</th>\n",
       "      <th>...</th>\n",
       "      <th>Agility</th>\n",
       "      <th>Jumping</th>\n",
       "      <th>Heading</th>\n",
       "      <th>Shot_Power</th>\n",
       "      <th>Finishing</th>\n",
       "      <th>Long_Shots</th>\n",
       "      <th>Curve</th>\n",
       "      <th>Freekick_Accuracy</th>\n",
       "      <th>Penalties</th>\n",
       "      <th>Volleys</th>\n",
       "    </tr>\n",
       "  </thead>\n",
       "  <tbody>\n",
       "    <tr>\n",
       "      <th>0</th>\n",
       "      <td>Cristiano Ronaldo</td>\n",
       "      <td>Portugal</td>\n",
       "      <td>LS</td>\n",
       "      <td>LW</td>\n",
       "      <td>185</td>\n",
       "      <td>80</td>\n",
       "      <td>Right</td>\n",
       "      <td>32</td>\n",
       "      <td>High / Low</td>\n",
       "      <td>4</td>\n",
       "      <td>...</td>\n",
       "      <td>90</td>\n",
       "      <td>95</td>\n",
       "      <td>85</td>\n",
       "      <td>92</td>\n",
       "      <td>93</td>\n",
       "      <td>90</td>\n",
       "      <td>81</td>\n",
       "      <td>76</td>\n",
       "      <td>85</td>\n",
       "      <td>88</td>\n",
       "    </tr>\n",
       "    <tr>\n",
       "      <th>1</th>\n",
       "      <td>Lionel Messi</td>\n",
       "      <td>Argentina</td>\n",
       "      <td>RW</td>\n",
       "      <td>RW</td>\n",
       "      <td>170</td>\n",
       "      <td>72</td>\n",
       "      <td>Left</td>\n",
       "      <td>29</td>\n",
       "      <td>Medium / Medium</td>\n",
       "      <td>4</td>\n",
       "      <td>...</td>\n",
       "      <td>90</td>\n",
       "      <td>68</td>\n",
       "      <td>71</td>\n",
       "      <td>85</td>\n",
       "      <td>95</td>\n",
       "      <td>88</td>\n",
       "      <td>89</td>\n",
       "      <td>90</td>\n",
       "      <td>74</td>\n",
       "      <td>85</td>\n",
       "    </tr>\n",
       "    <tr>\n",
       "      <th>2</th>\n",
       "      <td>Neymar</td>\n",
       "      <td>Brazil</td>\n",
       "      <td>LW</td>\n",
       "      <td>LW</td>\n",
       "      <td>174</td>\n",
       "      <td>68</td>\n",
       "      <td>Right</td>\n",
       "      <td>25</td>\n",
       "      <td>High / Medium</td>\n",
       "      <td>5</td>\n",
       "      <td>...</td>\n",
       "      <td>96</td>\n",
       "      <td>61</td>\n",
       "      <td>62</td>\n",
       "      <td>78</td>\n",
       "      <td>89</td>\n",
       "      <td>77</td>\n",
       "      <td>79</td>\n",
       "      <td>84</td>\n",
       "      <td>81</td>\n",
       "      <td>83</td>\n",
       "    </tr>\n",
       "    <tr>\n",
       "      <th>3</th>\n",
       "      <td>Luis Suárez</td>\n",
       "      <td>Uruguay</td>\n",
       "      <td>LS</td>\n",
       "      <td>ST</td>\n",
       "      <td>182</td>\n",
       "      <td>85</td>\n",
       "      <td>Right</td>\n",
       "      <td>30</td>\n",
       "      <td>High / Medium</td>\n",
       "      <td>4</td>\n",
       "      <td>...</td>\n",
       "      <td>86</td>\n",
       "      <td>69</td>\n",
       "      <td>77</td>\n",
       "      <td>87</td>\n",
       "      <td>94</td>\n",
       "      <td>86</td>\n",
       "      <td>86</td>\n",
       "      <td>84</td>\n",
       "      <td>85</td>\n",
       "      <td>88</td>\n",
       "    </tr>\n",
       "    <tr>\n",
       "      <th>4</th>\n",
       "      <td>Manuel Neuer</td>\n",
       "      <td>Germany</td>\n",
       "      <td>GK</td>\n",
       "      <td>GK</td>\n",
       "      <td>193</td>\n",
       "      <td>92</td>\n",
       "      <td>Right</td>\n",
       "      <td>31</td>\n",
       "      <td>Medium / Medium</td>\n",
       "      <td>4</td>\n",
       "      <td>...</td>\n",
       "      <td>52</td>\n",
       "      <td>78</td>\n",
       "      <td>25</td>\n",
       "      <td>25</td>\n",
       "      <td>13</td>\n",
       "      <td>16</td>\n",
       "      <td>14</td>\n",
       "      <td>11</td>\n",
       "      <td>47</td>\n",
       "      <td>11</td>\n",
       "    </tr>\n",
       "    <tr>\n",
       "      <th>...</th>\n",
       "      <td>...</td>\n",
       "      <td>...</td>\n",
       "      <td>...</td>\n",
       "      <td>...</td>\n",
       "      <td>...</td>\n",
       "      <td>...</td>\n",
       "      <td>...</td>\n",
       "      <td>...</td>\n",
       "      <td>...</td>\n",
       "      <td>...</td>\n",
       "      <td>...</td>\n",
       "      <td>...</td>\n",
       "      <td>...</td>\n",
       "      <td>...</td>\n",
       "      <td>...</td>\n",
       "      <td>...</td>\n",
       "      <td>...</td>\n",
       "      <td>...</td>\n",
       "      <td>...</td>\n",
       "      <td>...</td>\n",
       "      <td>...</td>\n",
       "    </tr>\n",
       "    <tr>\n",
       "      <th>17583</th>\n",
       "      <td>Adam Dunbar</td>\n",
       "      <td>Republic of Ireland</td>\n",
       "      <td>NaN</td>\n",
       "      <td>Sub</td>\n",
       "      <td>183</td>\n",
       "      <td>82</td>\n",
       "      <td>Right</td>\n",
       "      <td>19</td>\n",
       "      <td>Medium / Medium</td>\n",
       "      <td>1</td>\n",
       "      <td>...</td>\n",
       "      <td>27</td>\n",
       "      <td>56</td>\n",
       "      <td>14</td>\n",
       "      <td>16</td>\n",
       "      <td>13</td>\n",
       "      <td>13</td>\n",
       "      <td>11</td>\n",
       "      <td>13</td>\n",
       "      <td>15</td>\n",
       "      <td>12</td>\n",
       "    </tr>\n",
       "    <tr>\n",
       "      <th>17584</th>\n",
       "      <td>Dylan McGoey</td>\n",
       "      <td>Republic of Ireland</td>\n",
       "      <td>NaN</td>\n",
       "      <td>Sub</td>\n",
       "      <td>185</td>\n",
       "      <td>80</td>\n",
       "      <td>Right</td>\n",
       "      <td>19</td>\n",
       "      <td>Medium / Medium</td>\n",
       "      <td>2</td>\n",
       "      <td>...</td>\n",
       "      <td>28</td>\n",
       "      <td>53</td>\n",
       "      <td>12</td>\n",
       "      <td>17</td>\n",
       "      <td>12</td>\n",
       "      <td>11</td>\n",
       "      <td>12</td>\n",
       "      <td>13</td>\n",
       "      <td>16</td>\n",
       "      <td>12</td>\n",
       "    </tr>\n",
       "    <tr>\n",
       "      <th>17585</th>\n",
       "      <td>Tommy Ouldridge</td>\n",
       "      <td>England</td>\n",
       "      <td>NaN</td>\n",
       "      <td>Res</td>\n",
       "      <td>173</td>\n",
       "      <td>61</td>\n",
       "      <td>Right</td>\n",
       "      <td>18</td>\n",
       "      <td>High / Medium</td>\n",
       "      <td>2</td>\n",
       "      <td>...</td>\n",
       "      <td>54</td>\n",
       "      <td>61</td>\n",
       "      <td>41</td>\n",
       "      <td>44</td>\n",
       "      <td>28</td>\n",
       "      <td>42</td>\n",
       "      <td>35</td>\n",
       "      <td>36</td>\n",
       "      <td>42</td>\n",
       "      <td>37</td>\n",
       "    </tr>\n",
       "    <tr>\n",
       "      <th>17586</th>\n",
       "      <td>Mark Foden</td>\n",
       "      <td>Scotland</td>\n",
       "      <td>NaN</td>\n",
       "      <td>Sub</td>\n",
       "      <td>180</td>\n",
       "      <td>80</td>\n",
       "      <td>Right</td>\n",
       "      <td>21</td>\n",
       "      <td>Medium / Medium</td>\n",
       "      <td>3</td>\n",
       "      <td>...</td>\n",
       "      <td>34</td>\n",
       "      <td>48</td>\n",
       "      <td>15</td>\n",
       "      <td>23</td>\n",
       "      <td>14</td>\n",
       "      <td>12</td>\n",
       "      <td>13</td>\n",
       "      <td>12</td>\n",
       "      <td>24</td>\n",
       "      <td>12</td>\n",
       "    </tr>\n",
       "    <tr>\n",
       "      <th>17587</th>\n",
       "      <td>Barry Richardson</td>\n",
       "      <td>England</td>\n",
       "      <td>NaN</td>\n",
       "      <td>Sub</td>\n",
       "      <td>185</td>\n",
       "      <td>77</td>\n",
       "      <td>Right</td>\n",
       "      <td>47</td>\n",
       "      <td>Medium / Medium</td>\n",
       "      <td>2</td>\n",
       "      <td>...</td>\n",
       "      <td>38</td>\n",
       "      <td>51</td>\n",
       "      <td>12</td>\n",
       "      <td>13</td>\n",
       "      <td>11</td>\n",
       "      <td>16</td>\n",
       "      <td>12</td>\n",
       "      <td>11</td>\n",
       "      <td>22</td>\n",
       "      <td>12</td>\n",
       "    </tr>\n",
       "  </tbody>\n",
       "</table>\n",
       "<p>17588 rows × 39 columns</p>\n",
       "</div>"
      ],
      "text/plain": [
       "                    Name          Nationality National_Position Club_Position  \\\n",
       "0      Cristiano Ronaldo             Portugal                LS            LW   \n",
       "1           Lionel Messi            Argentina                RW            RW   \n",
       "2                 Neymar               Brazil                LW            LW   \n",
       "3            Luis Suárez              Uruguay                LS            ST   \n",
       "4           Manuel Neuer              Germany                GK            GK   \n",
       "...                  ...                  ...               ...           ...   \n",
       "17583        Adam Dunbar  Republic of Ireland               NaN           Sub   \n",
       "17584       Dylan McGoey  Republic of Ireland               NaN           Sub   \n",
       "17585    Tommy Ouldridge              England               NaN           Res   \n",
       "17586         Mark Foden             Scotland               NaN           Sub   \n",
       "17587   Barry Richardson              England               NaN           Sub   \n",
       "\n",
       "       Height  Weight Preffered_Foot  Age        Work_Rate  Weak_foot  ...  \\\n",
       "0         185      80          Right   32       High / Low          4  ...   \n",
       "1         170      72           Left   29  Medium / Medium          4  ...   \n",
       "2         174      68          Right   25    High / Medium          5  ...   \n",
       "3         182      85          Right   30    High / Medium          4  ...   \n",
       "4         193      92          Right   31  Medium / Medium          4  ...   \n",
       "...       ...     ...            ...  ...              ...        ...  ...   \n",
       "17583     183      82          Right   19  Medium / Medium          1  ...   \n",
       "17584     185      80          Right   19  Medium / Medium          2  ...   \n",
       "17585     173      61          Right   18    High / Medium          2  ...   \n",
       "17586     180      80          Right   21  Medium / Medium          3  ...   \n",
       "17587     185      77          Right   47  Medium / Medium          2  ...   \n",
       "\n",
       "       Agility  Jumping  Heading  Shot_Power  Finishing  Long_Shots  Curve  \\\n",
       "0           90       95       85          92         93          90     81   \n",
       "1           90       68       71          85         95          88     89   \n",
       "2           96       61       62          78         89          77     79   \n",
       "3           86       69       77          87         94          86     86   \n",
       "4           52       78       25          25         13          16     14   \n",
       "...        ...      ...      ...         ...        ...         ...    ...   \n",
       "17583       27       56       14          16         13          13     11   \n",
       "17584       28       53       12          17         12          11     12   \n",
       "17585       54       61       41          44         28          42     35   \n",
       "17586       34       48       15          23         14          12     13   \n",
       "17587       38       51       12          13         11          16     12   \n",
       "\n",
       "       Freekick_Accuracy  Penalties  Volleys  \n",
       "0                     76         85       88  \n",
       "1                     90         74       85  \n",
       "2                     84         81       83  \n",
       "3                     84         85       88  \n",
       "4                     11         47       11  \n",
       "...                  ...        ...      ...  \n",
       "17583                 13         15       12  \n",
       "17584                 13         16       12  \n",
       "17585                 36         42       37  \n",
       "17586                 12         24       12  \n",
       "17587                 11         22       12  \n",
       "\n",
       "[17588 rows x 39 columns]"
      ]
     },
     "execution_count": 2,
     "metadata": {},
     "output_type": "execute_result"
    }
   ],
   "source": [
    "df_players = pd.read_csv('stats_players.csv')\n",
    "df_players"
   ]
  },
  {
   "cell_type": "markdown",
   "metadata": {
    "cell_id": "00013-1b1d1556-4dbe-499e-8a34-90748e76565e",
    "deepnote_cell_height": 169.8333282470703,
    "deepnote_cell_type": "markdown",
    "id": "2R3b7Qe501t5"
   },
   "source": [
    "## 1.1 Predicción de Seleccionados Nacionales \n",
    "\n",
    "Como primera tarea, Renacín, intrigado por la posibilidad de saber qué tan reconocido es un jugador, le consulta a su equipo si es posible predecir si un jugador será o no seleccionado nacional a partir de sus estadísticas en el juego. \n",
    "\n",
    "<p align=\"center\">\n",
    "  <img src=\"https://thumbs.gfycat.com/ThornyFrankFoxhound-size_restricted.gif\" width=\"500\">\n",
    "</p>"
   ]
  },
  {
   "cell_type": "markdown",
   "metadata": {
    "cell_id": "00014-33fe54d0-08a3-457a-932d-d07eb29b7ee3",
    "deepnote_cell_height": 158.23333740234375,
    "deepnote_cell_type": "markdown",
    "id": "PIe_Ha58pQRC"
   },
   "source": [
    "### 1.1.1 Generación de Labels para la Clasificación [Sin Puntaje]\n",
    "\n",
    "\n",
    "Primero comience generando las labels para la clasificación. Para esto, trabaje sobre el atributo ```National_Position``` suponiendo que los valores nulos son jugadores no seleccionados para representar a su país. \n",
    "\n",
    "Hecho esto, ¿Cuantos ejemplos por cada clase se tienen? Comente lo que observa.\n",
    "\n"
   ]
  },
  {
   "cell_type": "markdown",
   "metadata": {
    "cell_id": "00015-f7029512-357f-4f07-9897-aaf5d65430a6",
    "deepnote_cell_height": 51.43333435058594,
    "deepnote_cell_type": "markdown",
    "tags": []
   },
   "source": [
    "**Respuesta:**"
   ]
  },
  {
   "cell_type": "code",
   "execution_count": 3,
   "metadata": {
    "cell_id": "00016-ea27a011-47ab-4d54-b2cf-f07037d65135",
    "deepnote_cell_height": 80.03334045410156,
    "deepnote_cell_type": "code",
    "deepnote_to_be_reexecuted": false,
    "execution_millis": 3,
    "execution_start": 1636741171250,
    "id": "uwKaIuho4lqn",
    "source_hash": "43ce1981"
   },
   "outputs": [
    {
     "data": {
      "text/html": [
       "<div>\n",
       "<style scoped>\n",
       "    .dataframe tbody tr th:only-of-type {\n",
       "        vertical-align: middle;\n",
       "    }\n",
       "\n",
       "    .dataframe tbody tr th {\n",
       "        vertical-align: top;\n",
       "    }\n",
       "\n",
       "    .dataframe thead th {\n",
       "        text-align: right;\n",
       "    }\n",
       "</style>\n",
       "<table border=\"1\" class=\"dataframe\">\n",
       "  <thead>\n",
       "    <tr style=\"text-align: right;\">\n",
       "      <th></th>\n",
       "      <th>Name</th>\n",
       "      <th>Nationality</th>\n",
       "      <th>National_Position</th>\n",
       "      <th>Club_Position</th>\n",
       "      <th>Height</th>\n",
       "      <th>Weight</th>\n",
       "      <th>Preffered_Foot</th>\n",
       "      <th>Age</th>\n",
       "      <th>Work_Rate</th>\n",
       "      <th>Weak_foot</th>\n",
       "      <th>...</th>\n",
       "      <th>Jumping</th>\n",
       "      <th>Heading</th>\n",
       "      <th>Shot_Power</th>\n",
       "      <th>Finishing</th>\n",
       "      <th>Long_Shots</th>\n",
       "      <th>Curve</th>\n",
       "      <th>Freekick_Accuracy</th>\n",
       "      <th>Penalties</th>\n",
       "      <th>Volleys</th>\n",
       "      <th>label</th>\n",
       "    </tr>\n",
       "  </thead>\n",
       "  <tbody>\n",
       "    <tr>\n",
       "      <th>0</th>\n",
       "      <td>Cristiano Ronaldo</td>\n",
       "      <td>Portugal</td>\n",
       "      <td>LS</td>\n",
       "      <td>LW</td>\n",
       "      <td>185</td>\n",
       "      <td>80</td>\n",
       "      <td>Right</td>\n",
       "      <td>32</td>\n",
       "      <td>High / Low</td>\n",
       "      <td>4</td>\n",
       "      <td>...</td>\n",
       "      <td>95</td>\n",
       "      <td>85</td>\n",
       "      <td>92</td>\n",
       "      <td>93</td>\n",
       "      <td>90</td>\n",
       "      <td>81</td>\n",
       "      <td>76</td>\n",
       "      <td>85</td>\n",
       "      <td>88</td>\n",
       "      <td>1</td>\n",
       "    </tr>\n",
       "    <tr>\n",
       "      <th>1</th>\n",
       "      <td>Lionel Messi</td>\n",
       "      <td>Argentina</td>\n",
       "      <td>RW</td>\n",
       "      <td>RW</td>\n",
       "      <td>170</td>\n",
       "      <td>72</td>\n",
       "      <td>Left</td>\n",
       "      <td>29</td>\n",
       "      <td>Medium / Medium</td>\n",
       "      <td>4</td>\n",
       "      <td>...</td>\n",
       "      <td>68</td>\n",
       "      <td>71</td>\n",
       "      <td>85</td>\n",
       "      <td>95</td>\n",
       "      <td>88</td>\n",
       "      <td>89</td>\n",
       "      <td>90</td>\n",
       "      <td>74</td>\n",
       "      <td>85</td>\n",
       "      <td>1</td>\n",
       "    </tr>\n",
       "    <tr>\n",
       "      <th>2</th>\n",
       "      <td>Neymar</td>\n",
       "      <td>Brazil</td>\n",
       "      <td>LW</td>\n",
       "      <td>LW</td>\n",
       "      <td>174</td>\n",
       "      <td>68</td>\n",
       "      <td>Right</td>\n",
       "      <td>25</td>\n",
       "      <td>High / Medium</td>\n",
       "      <td>5</td>\n",
       "      <td>...</td>\n",
       "      <td>61</td>\n",
       "      <td>62</td>\n",
       "      <td>78</td>\n",
       "      <td>89</td>\n",
       "      <td>77</td>\n",
       "      <td>79</td>\n",
       "      <td>84</td>\n",
       "      <td>81</td>\n",
       "      <td>83</td>\n",
       "      <td>1</td>\n",
       "    </tr>\n",
       "    <tr>\n",
       "      <th>3</th>\n",
       "      <td>Luis Suárez</td>\n",
       "      <td>Uruguay</td>\n",
       "      <td>LS</td>\n",
       "      <td>ST</td>\n",
       "      <td>182</td>\n",
       "      <td>85</td>\n",
       "      <td>Right</td>\n",
       "      <td>30</td>\n",
       "      <td>High / Medium</td>\n",
       "      <td>4</td>\n",
       "      <td>...</td>\n",
       "      <td>69</td>\n",
       "      <td>77</td>\n",
       "      <td>87</td>\n",
       "      <td>94</td>\n",
       "      <td>86</td>\n",
       "      <td>86</td>\n",
       "      <td>84</td>\n",
       "      <td>85</td>\n",
       "      <td>88</td>\n",
       "      <td>1</td>\n",
       "    </tr>\n",
       "    <tr>\n",
       "      <th>4</th>\n",
       "      <td>Manuel Neuer</td>\n",
       "      <td>Germany</td>\n",
       "      <td>GK</td>\n",
       "      <td>GK</td>\n",
       "      <td>193</td>\n",
       "      <td>92</td>\n",
       "      <td>Right</td>\n",
       "      <td>31</td>\n",
       "      <td>Medium / Medium</td>\n",
       "      <td>4</td>\n",
       "      <td>...</td>\n",
       "      <td>78</td>\n",
       "      <td>25</td>\n",
       "      <td>25</td>\n",
       "      <td>13</td>\n",
       "      <td>16</td>\n",
       "      <td>14</td>\n",
       "      <td>11</td>\n",
       "      <td>47</td>\n",
       "      <td>11</td>\n",
       "      <td>1</td>\n",
       "    </tr>\n",
       "    <tr>\n",
       "      <th>...</th>\n",
       "      <td>...</td>\n",
       "      <td>...</td>\n",
       "      <td>...</td>\n",
       "      <td>...</td>\n",
       "      <td>...</td>\n",
       "      <td>...</td>\n",
       "      <td>...</td>\n",
       "      <td>...</td>\n",
       "      <td>...</td>\n",
       "      <td>...</td>\n",
       "      <td>...</td>\n",
       "      <td>...</td>\n",
       "      <td>...</td>\n",
       "      <td>...</td>\n",
       "      <td>...</td>\n",
       "      <td>...</td>\n",
       "      <td>...</td>\n",
       "      <td>...</td>\n",
       "      <td>...</td>\n",
       "      <td>...</td>\n",
       "      <td>...</td>\n",
       "    </tr>\n",
       "    <tr>\n",
       "      <th>17583</th>\n",
       "      <td>Adam Dunbar</td>\n",
       "      <td>Republic of Ireland</td>\n",
       "      <td>NaN</td>\n",
       "      <td>Sub</td>\n",
       "      <td>183</td>\n",
       "      <td>82</td>\n",
       "      <td>Right</td>\n",
       "      <td>19</td>\n",
       "      <td>Medium / Medium</td>\n",
       "      <td>1</td>\n",
       "      <td>...</td>\n",
       "      <td>56</td>\n",
       "      <td>14</td>\n",
       "      <td>16</td>\n",
       "      <td>13</td>\n",
       "      <td>13</td>\n",
       "      <td>11</td>\n",
       "      <td>13</td>\n",
       "      <td>15</td>\n",
       "      <td>12</td>\n",
       "      <td>0</td>\n",
       "    </tr>\n",
       "    <tr>\n",
       "      <th>17584</th>\n",
       "      <td>Dylan McGoey</td>\n",
       "      <td>Republic of Ireland</td>\n",
       "      <td>NaN</td>\n",
       "      <td>Sub</td>\n",
       "      <td>185</td>\n",
       "      <td>80</td>\n",
       "      <td>Right</td>\n",
       "      <td>19</td>\n",
       "      <td>Medium / Medium</td>\n",
       "      <td>2</td>\n",
       "      <td>...</td>\n",
       "      <td>53</td>\n",
       "      <td>12</td>\n",
       "      <td>17</td>\n",
       "      <td>12</td>\n",
       "      <td>11</td>\n",
       "      <td>12</td>\n",
       "      <td>13</td>\n",
       "      <td>16</td>\n",
       "      <td>12</td>\n",
       "      <td>0</td>\n",
       "    </tr>\n",
       "    <tr>\n",
       "      <th>17585</th>\n",
       "      <td>Tommy Ouldridge</td>\n",
       "      <td>England</td>\n",
       "      <td>NaN</td>\n",
       "      <td>Res</td>\n",
       "      <td>173</td>\n",
       "      <td>61</td>\n",
       "      <td>Right</td>\n",
       "      <td>18</td>\n",
       "      <td>High / Medium</td>\n",
       "      <td>2</td>\n",
       "      <td>...</td>\n",
       "      <td>61</td>\n",
       "      <td>41</td>\n",
       "      <td>44</td>\n",
       "      <td>28</td>\n",
       "      <td>42</td>\n",
       "      <td>35</td>\n",
       "      <td>36</td>\n",
       "      <td>42</td>\n",
       "      <td>37</td>\n",
       "      <td>0</td>\n",
       "    </tr>\n",
       "    <tr>\n",
       "      <th>17586</th>\n",
       "      <td>Mark Foden</td>\n",
       "      <td>Scotland</td>\n",
       "      <td>NaN</td>\n",
       "      <td>Sub</td>\n",
       "      <td>180</td>\n",
       "      <td>80</td>\n",
       "      <td>Right</td>\n",
       "      <td>21</td>\n",
       "      <td>Medium / Medium</td>\n",
       "      <td>3</td>\n",
       "      <td>...</td>\n",
       "      <td>48</td>\n",
       "      <td>15</td>\n",
       "      <td>23</td>\n",
       "      <td>14</td>\n",
       "      <td>12</td>\n",
       "      <td>13</td>\n",
       "      <td>12</td>\n",
       "      <td>24</td>\n",
       "      <td>12</td>\n",
       "      <td>0</td>\n",
       "    </tr>\n",
       "    <tr>\n",
       "      <th>17587</th>\n",
       "      <td>Barry Richardson</td>\n",
       "      <td>England</td>\n",
       "      <td>NaN</td>\n",
       "      <td>Sub</td>\n",
       "      <td>185</td>\n",
       "      <td>77</td>\n",
       "      <td>Right</td>\n",
       "      <td>47</td>\n",
       "      <td>Medium / Medium</td>\n",
       "      <td>2</td>\n",
       "      <td>...</td>\n",
       "      <td>51</td>\n",
       "      <td>12</td>\n",
       "      <td>13</td>\n",
       "      <td>11</td>\n",
       "      <td>16</td>\n",
       "      <td>12</td>\n",
       "      <td>11</td>\n",
       "      <td>22</td>\n",
       "      <td>12</td>\n",
       "      <td>0</td>\n",
       "    </tr>\n",
       "  </tbody>\n",
       "</table>\n",
       "<p>17588 rows × 40 columns</p>\n",
       "</div>"
      ],
      "text/plain": [
       "                    Name          Nationality National_Position Club_Position  \\\n",
       "0      Cristiano Ronaldo             Portugal                LS            LW   \n",
       "1           Lionel Messi            Argentina                RW            RW   \n",
       "2                 Neymar               Brazil                LW            LW   \n",
       "3            Luis Suárez              Uruguay                LS            ST   \n",
       "4           Manuel Neuer              Germany                GK            GK   \n",
       "...                  ...                  ...               ...           ...   \n",
       "17583        Adam Dunbar  Republic of Ireland               NaN           Sub   \n",
       "17584       Dylan McGoey  Republic of Ireland               NaN           Sub   \n",
       "17585    Tommy Ouldridge              England               NaN           Res   \n",
       "17586         Mark Foden             Scotland               NaN           Sub   \n",
       "17587   Barry Richardson              England               NaN           Sub   \n",
       "\n",
       "       Height  Weight Preffered_Foot  Age        Work_Rate  Weak_foot  ...  \\\n",
       "0         185      80          Right   32       High / Low          4  ...   \n",
       "1         170      72           Left   29  Medium / Medium          4  ...   \n",
       "2         174      68          Right   25    High / Medium          5  ...   \n",
       "3         182      85          Right   30    High / Medium          4  ...   \n",
       "4         193      92          Right   31  Medium / Medium          4  ...   \n",
       "...       ...     ...            ...  ...              ...        ...  ...   \n",
       "17583     183      82          Right   19  Medium / Medium          1  ...   \n",
       "17584     185      80          Right   19  Medium / Medium          2  ...   \n",
       "17585     173      61          Right   18    High / Medium          2  ...   \n",
       "17586     180      80          Right   21  Medium / Medium          3  ...   \n",
       "17587     185      77          Right   47  Medium / Medium          2  ...   \n",
       "\n",
       "       Jumping  Heading  Shot_Power  Finishing  Long_Shots  Curve  \\\n",
       "0           95       85          92         93          90     81   \n",
       "1           68       71          85         95          88     89   \n",
       "2           61       62          78         89          77     79   \n",
       "3           69       77          87         94          86     86   \n",
       "4           78       25          25         13          16     14   \n",
       "...        ...      ...         ...        ...         ...    ...   \n",
       "17583       56       14          16         13          13     11   \n",
       "17584       53       12          17         12          11     12   \n",
       "17585       61       41          44         28          42     35   \n",
       "17586       48       15          23         14          12     13   \n",
       "17587       51       12          13         11          16     12   \n",
       "\n",
       "       Freekick_Accuracy  Penalties  Volleys  label  \n",
       "0                     76         85       88      1  \n",
       "1                     90         74       85      1  \n",
       "2                     84         81       83      1  \n",
       "3                     84         85       88      1  \n",
       "4                     11         47       11      1  \n",
       "...                  ...        ...      ...    ...  \n",
       "17583                 13         15       12      0  \n",
       "17584                 13         16       12      0  \n",
       "17585                 36         42       37      0  \n",
       "17586                 12         24       12      0  \n",
       "17587                 11         22       12      0  \n",
       "\n",
       "[17588 rows x 40 columns]"
      ]
     },
     "execution_count": 3,
     "metadata": {},
     "output_type": "execute_result"
    }
   ],
   "source": [
    "df1 = df_players.copy()\n",
    "df1[\"label\"] = df1[\"National_Position\"]\n",
    "df1.loc[~df1[\"label\"].isnull(), \"label\"] = 1\n",
    "df1.loc[df1[\"label\"].isnull(), \"label\"] = 0\n",
    "df1"
   ]
  },
  {
   "cell_type": "markdown",
   "metadata": {},
   "source": [
    "Notar que la clase 0 corresponde a los jugadores no seleccionados y la clase 1 los que sí lo son:"
   ]
  },
  {
   "cell_type": "code",
   "execution_count": 4,
   "metadata": {},
   "outputs": [
    {
     "name": "stdout",
     "output_type": "stream",
     "text": [
      "Cantidad de filas para clase 0: 16513\n",
      "Cantidad de filas para clase 1: 1075\n"
     ]
    }
   ],
   "source": [
    "print(\"Cantidad de filas para clase 0: \"+str(df1[\"label\"].value_counts()[0]))\n",
    "\n",
    "print(\"Cantidad de filas para clase 1: \"+str(df1[\"label\"].value_counts()[1]))"
   ]
  },
  {
   "cell_type": "markdown",
   "metadata": {},
   "source": [
    "Dado los resultados obtenidos, se aprecia un desbalance de clases. Es decir, se tiene una cantidad bastante mayor de filas pertenecientes a la clase 0 en comparación con filas pertenecientes a la clase 1."
   ]
  },
  {
   "cell_type": "markdown",
   "metadata": {
    "cell_id": "00019-645127af-999a-40ce-b7a1-aa62bb742b4a",
    "deepnote_cell_height": 1393.3499755859375,
    "deepnote_cell_type": "markdown",
    "id": "0F70XPRFpWH9",
    "owner_user_id": "badcc427-fd3d-4615-9296-faa43ec69cfb"
   },
   "source": [
    "### 1.1.2 Camino a la clasificación [1 punto]\n",
    "\n",
    "<p align=\"center\">\n",
    "  <img src=\"https://c.tenor.com/SoXZJHWnhKAAAAAC/pitbull-medel.gif\" width=\"500\">\n",
    "</p>\n",
    "\n",
    "Para preprocesar el dataset, genere un `ColumnTransformer` en donde especifique las transformaciones que hay que realizar para cada columna (por ejemplo StandarScaler, MinMaxScaler, OneHotEncoder, etc...) para que puedan ser utilizadas correctamente por el modelo predictivo y guardelo en algúna variable.\n",
    "\n",
    "Luego, comente y justifique las transformaciones elegidas sobre cada una de las variables (para esto utilice el material ```Player_Stats_Report.html``` que viene en el zip del lab), al igual que las transformaciones aplicadas.\n",
    "\n",
    "Hecho lo anterior, **defina al menos 3 pipelines para la clasificación**, en donde utilice el mismo ColumnTransformer definido anteriormente, pero que varie entre cada pipeline los clasificadores. \n",
    "\n",
    "Para seleccionar los clasificadores más adecuados, utilice la siguiente guía:\n",
    "\n",
    "<p align=\"center\">\n",
    "  <img src=\"https://scikit-learn.org/stable/_static/ml_map.png\" width=\"500\">\n",
    "</p>\n",
    "\n",
    "<br/>\n",
    "\n",
    "Con ella, comente y justifique cada una de las decisiones tomadas al momento de desarrollar su pipeline.\n",
    "\n",
    "**Nota:** Si tiene problemas al utilizar OneHotEncoder puede utilizar el parámetro handle_unknown='ignore'. Esto hace que en la codificación se omitan las categorias que no aparecen en el entrenamiento. Pregunta dudosa (no tiene puntaje), ¿esto tiene sentido a nivel de modelos?.\n",
    "\n",
    "**To-Do:**\n",
    "\n",
    "- [X] Genere un ```ColumnTransformer``` enfocado en preprocesar los datos.\n",
    "- [X] Indicar y Justificar que preprocesamiento utiliza sobre cada columna.\n",
    "- [X] Crear 3 ``pipelines`` con diferentes clasificadores.\n",
    "- [X] Para seleccionar los clasificadores base sus decisiones en la siguiente [guía](https://scikit-learn.org/stable/tutorial/machine_learning_map/index.html)\n",
    "- [X] No entrenar los ``pipelines`` aún.\n",
    "\n",
    "**Nota:** No es necesario entrenar los clasificadores aún."
   ]
  },
  {
   "cell_type": "markdown",
   "metadata": {
    "cell_id": "00020-4620fe7d-8e00-4c8b-976f-4212347359e6",
    "deepnote_cell_height": 51.43333435058594,
    "deepnote_cell_type": "markdown",
    "tags": []
   },
   "source": [
    "**Respuesta:**\n",
    "\n",
    "Para aplicar ColumnTransformer, todas las variables que tengan una distribución aproximadamente normal se les aplicará StandardScaler con el fin de que tengan media 0 y desviación estándar unitaria. Por otro lado, aquellas variables que tengan \"skewness\" se les aplicará PowerTransform. Además, aquellas que estén relativamente uniformemente distribuidas se les aplicará MinMaxScaler. Finalmente, las variables dummy y categóricas se les aplicará OneHotEncoder. Es importante notar que no se utilizarán todas las características pues algunas tienen alta correlación entre sí.\n",
    "\n",
    "Dicho esto, el ColumnTransformer queda como a continuación:"
   ]
  },
  {
   "cell_type": "code",
   "execution_count": 5,
   "metadata": {},
   "outputs": [],
   "source": [
    "ct= ColumnTransformer([\n",
    "    (\"StandardScaler\",StandardScaler(),[\"Height\",\"Weight\",\"Aggression\",\"Reactions\",\"Vision\",\"Composure\",\"Crossing\",\"Short_Pass\",\"Long_Pass\",\"Acceleration\",\"Speed\",\"Stamina\",\"Strength\",\"Balance\",\"Agility\",\"Jumping\",\"Freekick_Accuracy\"]),\n",
    "    (\"PowerTransform\",PowerTransformer(),['Age',\"Ball_Control\",\"Dribbling\",\"Marking\",\"Sliding_Tackle\",\"Standing_Tackle\",\"Interceptions\",\"Heading\",\"Shot_Power\"]),\n",
    "    (\"MinMaxScaler\",MinMaxScaler(),[\"Finishing\",\"Long_Shots\",\"Curve\",\"Penalties\",\"Volleys\"]),\n",
    "    (\"OneHot\",OneHotEncoder(handle_unknown=\"ignore\"),[\"Preffered_Foot\",\"Work_Rate\",\"Skill_Moves\"])\n",
    "])"
   ]
  },
  {
   "cell_type": "markdown",
   "metadata": {},
   "source": [
    "Luego, para crear los Pipeline, se utilizó la guía. Dada la naturaleza del problema, utilizaremos 3 modelos de clasificación, los cuales serán: DecisionTreeClassifier, SupportVectorClassifier y KNeighbourClassifier."
   ]
  },
  {
   "cell_type": "code",
   "execution_count": 6,
   "metadata": {},
   "outputs": [],
   "source": [
    "pipe1 = Pipeline([(\"ColumnTransform\", ct),\n",
    "                     (\"DTC\", DecisionTreeClassifier(random_state=0))])"
   ]
  },
  {
   "cell_type": "code",
   "execution_count": 7,
   "metadata": {},
   "outputs": [],
   "source": [
    "from sklearn.svm import SVC\n",
    "pipe2 = Pipeline([(\"ColumnTransform\", ct),\n",
    "                     (\"SVC\", SVC())])"
   ]
  },
  {
   "cell_type": "code",
   "execution_count": 8,
   "metadata": {},
   "outputs": [],
   "source": [
    "from sklearn.neighbors import KNeighborsClassifier\n",
    "pipe3 = Pipeline([(\"ColumnTransform\", ct),\n",
    "                     (\"KNeighbour\", KNeighborsClassifier())])"
   ]
  },
  {
   "cell_type": "markdown",
   "metadata": {
    "cell_id": "00022-c2604b33-63e0-4f34-88cf-019afa3b2225",
    "deepnote_cell_height": 440.1333312988281,
    "deepnote_cell_type": "markdown",
    "id": "MpKq6oO3vCNL"
   },
   "source": [
    "### 1.1.3 Entrenemos los pipelines [1 punto]\n",
    "\n",
    "<p align=\"center\">\n",
    "  <img src=\"https://i.gifer.com/7Cc8.gif\" width=\"350\">\n",
    "</p>\n"
   ]
  },
  {
   "cell_type": "markdown",
   "metadata": {
    "cell_id": "00023-664600ec-8c7d-4e9a-8673-edd18d5145a3",
    "deepnote_cell_height": 455.73333740234375,
    "deepnote_cell_type": "markdown",
    "id": "wE_1aZaIvOeN"
   },
   "source": [
    "Ahora, entrene los `pipeline` generados en los pasos anteriores. Para esto, primero separe los datos de entrenamiento en un conjunto de entrenamiento y de prueba  (la proporción queda a su juicio).\n",
    "\n",
    "En este paso, seleccione los ejemplos de forma aleatoria e intente mantener la distribución original de labels de cada clase en los conjuntos de prueba/entrenamiento. (vea la documentación de `train_test_split`).\n",
    "\n",
    "\n",
    "Luego, entrene los pipelines\n",
    "\n",
    "Una vez entrenado su modelo, evalue su rendimiento a través de diferentes métricas, comentando que significa cada uno de los valores obtenidos. Puede usar la función `classification_report` para corroborar sus resultados.\n",
    "\n",
    "- ¿Qué implican los valores de accuracy, precisión y recall de la clase positiva (la que indica que un jugador es seleccionado nacional)?\n",
    "- ¿Podrían mejorarse los resultados?, ¿Cómo?\n",
    "- ¿Influye la cantidad de ejemplos por clase?\n",
    "\n",
    "**To-Do**:\n",
    "\n",
    "- [X] Separar el conjunto de datos en entrenamiento y de prueba.\n",
    "- [X] Entrenar los `pipelines`.\n",
    "- [X] Utilizar las métricas para evaluar los modelos generados.\n"
   ]
  },
  {
   "cell_type": "markdown",
   "metadata": {
    "cell_id": "00024-b842d4aa-fb47-4513-8649-e942f6094140",
    "deepnote_cell_height": 51.43333435058594,
    "deepnote_cell_type": "markdown",
    "tags": []
   },
   "source": [
    "**Respuesta:**"
   ]
  },
  {
   "cell_type": "code",
   "execution_count": 9,
   "metadata": {
    "cell_id": "00023-f6cdd4bf-3786-444f-a249-62e47133e558",
    "deepnote_cell_height": 65.03334045410156,
    "deepnote_cell_type": "code",
    "tags": []
   },
   "outputs": [
    {
     "name": "stderr",
     "output_type": "stream",
     "text": [
      "C:\\Users\\Cesar\\AppData\\Local\\Temp/ipykernel_15716/2073846275.py:2: FutureWarning: In a future version of pandas all arguments of DataFrame.drop except for the argument 'labels' will be keyword-only.\n",
      "  X = df.drop([\"Name\", \"Nationality\", \"label\"], 1)\n"
     ]
    }
   ],
   "source": [
    "df = df1.copy()\n",
    "X = df.drop([\"Name\", \"Nationality\", \"label\"], 1)\n",
    "Y = df1[\"label\"].to_list()\n",
    "X_train, X_test, y_train, y_test = train_test_split(X, Y, test_size=0.3, random_state=24)"
   ]
  },
  {
   "cell_type": "code",
   "execution_count": 10,
   "metadata": {},
   "outputs": [
    {
     "name": "stdout",
     "output_type": "stream",
     "text": [
      "Proporcion labels 1 en train: 0.061164811956786615\n",
      "Proporcion labels 1 en test: 0.06101951866590866\n"
     ]
    }
   ],
   "source": [
    "# Verificar proporciones\n",
    "train = sum(y_train)/ len(y_train) \n",
    "test = sum(y_test) / len(y_test) \n",
    "print(f\"Proporcion labels 1 en train: {train}\")\n",
    "print(f\"Proporcion labels 1 en test: {test}\")"
   ]
  },
  {
   "cell_type": "code",
   "execution_count": 11,
   "metadata": {},
   "outputs": [
    {
     "name": "stdout",
     "output_type": "stream",
     "text": [
      "              precision    recall  f1-score   support\n",
      "\n",
      "           0       0.95      0.94      0.94      4955\n",
      "           1       0.19      0.22      0.20       322\n",
      "\n",
      "    accuracy                           0.90      5277\n",
      "   macro avg       0.57      0.58      0.57      5277\n",
      "weighted avg       0.90      0.90      0.90      5277\n",
      "\n"
     ]
    }
   ],
   "source": [
    "# Entrenamiento pipeline 1\n",
    "pipe1.fit(X_train, y_train)\n",
    "y_pred1 = pipe1.predict(X_test)\n",
    "print(classification_report(y_test, y_pred1))"
   ]
  },
  {
   "cell_type": "code",
   "execution_count": 12,
   "metadata": {},
   "outputs": [
    {
     "name": "stdout",
     "output_type": "stream",
     "text": [
      "              precision    recall  f1-score   support\n",
      "\n",
      "           0       0.94      1.00      0.97      4955\n",
      "           1       1.00      0.00      0.01       322\n",
      "\n",
      "    accuracy                           0.94      5277\n",
      "   macro avg       0.97      0.50      0.49      5277\n",
      "weighted avg       0.94      0.94      0.91      5277\n",
      "\n"
     ]
    }
   ],
   "source": [
    "# Entrenamiento pipeline 2\n",
    "pipe2.fit(X_train, y_train)\n",
    "y_pred2 = pipe2.predict(X_test)\n",
    "print(classification_report(y_test, y_pred2))"
   ]
  },
  {
   "cell_type": "code",
   "execution_count": 13,
   "metadata": {},
   "outputs": [
    {
     "name": "stdout",
     "output_type": "stream",
     "text": [
      "              precision    recall  f1-score   support\n",
      "\n",
      "           0       0.94      0.99      0.97      4955\n",
      "           1       0.42      0.09      0.15       322\n",
      "\n",
      "    accuracy                           0.94      5277\n",
      "   macro avg       0.68      0.54      0.56      5277\n",
      "weighted avg       0.91      0.94      0.92      5277\n",
      "\n"
     ]
    }
   ],
   "source": [
    "# Entrenamiento pipeline 3\n",
    "pipe3.fit(X_train, y_train)\n",
    "y_pred3 = pipe3.predict(X_test)\n",
    "print(classification_report(y_test, y_pred3))"
   ]
  },
  {
   "cell_type": "markdown",
   "metadata": {
    "cell_id": "00028-42eb3af5-2635-48e6-9049-736e2d4b3306",
    "deepnote_cell_height": 106.23333740234375,
    "deepnote_cell_type": "markdown",
    "id": "QgSeo0aIx9ow"
   },
   "source": [
    "**Respuesta**:\n",
    "\n",
    "- ¿Qué implican los valores de accuracy, precisión y recall de la clase positiva (la que indica que un jugador es seleccionado nacional)?\n",
    "\n",
    "Accuracy indica la cantidad de predicciones correctas que se realizaron. Precision indica la proporción de ejemplos correctamente predichos a cierta clase con respecto a todos los que se predijeron como dicha clase y recall corresponde a la proporción de ejemplos correctamente predichos para cierta clase con respecto a la cantidad de ejemplos que efectivamente deberían haber sido clasificados para dicha clase. De los resultados obtenidos, se aprecia un alto accuracy, pero esto se debe al desbalance de clases, lo cual hace que nuestro modelo se sobreajuste a la clase 0. Esto se aprecia en las métricas de precisión y recall, debido a que son notoriamente más bajas para los datos pertenecientes a la clase 1.\n",
    "\n",
    "\n",
    "- ¿Podrían mejorarse los resultados?, ¿Cómo?\n",
    "\n",
    "Los resultados podrían mejorarse con técnicas de preprocesamiento. Aplicar tipos de transformaciones distintos a los implementados, reducir atributos redundantes o agregar características nuevas. Por otro lado, se nota una clara tendencia a predecir bien los datos de clase 0 en comparación con aquellos de clase 1, esto debido al desbalance. Contar con una mayor cantidad de datos que pertenezcan a la clase 1 podría mejorar los resultados (también aplicar técnicas de oversampling/subsampling).\n",
    "\n",
    "- ¿Influye la cantidad de ejemplos por clase?\n",
    "\n",
    "Sí, debido a que si se tienen clases muy desbalanceadas, el modelo posiblemente se sobreajuste a la clase que predomine cuando se entrene.\n",
    "\n",
    "\n",
    "\n"
   ]
  },
  {
   "cell_type": "markdown",
   "metadata": {
    "cell_id": "00029-25d6c3d3-9c25-49f0-a27b-beface2dd794",
    "deepnote_cell_height": 420.2833251953125,
    "deepnote_cell_type": "markdown",
    "id": "ix97Ho4uOARH"
   },
   "source": [
    "## 1.2 Predicción de posiciones de jugadores [2 puntos]\n",
    "\n",
    "<p align=\"center\">\n",
    "  <img src=\"https://pbs.twimg.com/media/E1rfA1aWEAYU6Ny.jpg\" width=\"500\">\n",
    "</p>"
   ]
  },
  {
   "cell_type": "markdown",
   "metadata": {
    "cell_id": "00030-38a30ede-8d53-4a7c-930b-bfeaa4d499ff",
    "deepnote_cell_height": 687.2999877929688,
    "deepnote_cell_type": "markdown",
    "id": "oHAwZfV8hMsk"
   },
   "source": [
    "En una nueva jornada de desmesuradas transacciones deportivas, Renacín escuchó a sus colegas discutir acerca de que el precio de cada jugador depende en gran medida de la posición en la cancha en la que juega. Y además, que hay bastantes jugadores nuevos que no tienen muy claro en que posición verdaderamente brillarían, por lo que actualmente puede que actualmente estén jugando en posiciones sub-optimas. \n",
    "\n",
    "Viendo que los resultados del primer análisis no son tan esperanzadores, el corporeo los comanda a cambiar su tarea: ahora, les solicita que construyan un clasificador enfocado en predecir la mejor posición de los jugadores en la cancha según sus características. \n",
    "\n",
    "Para lograr esto, primero, les pide que etiqueten de la siguiente manera los valores que aparecen en el atributo ```Club_Position```, pidiendo que agrupen los valores en los siguientes grupos:\n",
    "\n",
    "**Nota**:  Renacín les recalca que **no deben utilizar los valores ```Sub``` y ```Res``` de esta columna**.\n",
    "\n",
    "```python\n",
    "ataque = ['ST', 'CF'] \n",
    "central_ataque = ['RW', 'CAM', 'LW'] \n",
    "central = ['RM', 'CM', 'LM'] \n",
    "central_defensa = ['RWB', 'CDM', 'LWB']\n",
    "defensa = ['RB', 'CB', 'LB']\n",
    "arquero = ['GK']\n",
    "```\n",
    "\n",
    "Cabe señalar que al igual como lo realizado con la clasificación binaria, deberá justificar en base a la [guía](https://scikit-learn.org/stable/tutorial/machine_learning_map/index.html) la elección del clasificador y se deben comentar los resultados obtenidos en la clasificación.\n",
    "\n",
    "**Nota:** Clasifique solamente con las clases señaladas, si observa mas clases eliminelas de la clasficación.\n",
    "\n",
    "**To-Do**:\n",
    "\n",
    "- [X] Aplique las etiquetas descritas anteriormente en cada uno de los valores señalados en esta sección.\n",
    "- [X] Cuente cuantos por clase quedan.\n",
    "- [X] Entrene el nuevo pipeline y ejecute una evaluación de este.  \n",
    "- [X] Comente los resultados obtenidos."
   ]
  },
  {
   "cell_type": "markdown",
   "metadata": {
    "cell_id": "00031-e53db99a-2bcc-474a-92b1-1f55458afc1d",
    "deepnote_cell_height": 51.43333435058594,
    "deepnote_cell_type": "markdown",
    "tags": []
   },
   "source": [
    "**Respuesta:**"
   ]
  },
  {
   "cell_type": "code",
   "execution_count": 14,
   "metadata": {
    "cell_id": "00028-f8dd9230-e314-42be-a0f8-2c295dd45e54",
    "deepnote_cell_height": 65.03334045410156,
    "deepnote_cell_type": "code",
    "tags": []
   },
   "outputs": [],
   "source": [
    "# Mapeo de Club Position\n",
    "df2 = df_players.copy()\n",
    "df2[\"Club_Position\"] = df2[\"Club_Position\"].map({'ST': \"ataque\", 'CF': \"ataque\",\n",
    "                                'RW': \"central_ataque\", 'CAM': \"central_ataque\", 'LW': \"central_ataque\", \n",
    "                                'RM': \"central\", 'CM': \"central\", 'LM': \"central\", \n",
    "                                'RWB': \"central_defensa\", 'CDM': \"central_defensa\", 'LWB': \"central_defensa\",\n",
    "                                'RB': \"defensa\", 'CB': \"defensa\", 'LB': \"defensa\",\n",
    "                                'GK': \"arquero\"})\n",
    "df2 = df2.dropna(subset=\"Club_Position\", axis=0)"
   ]
  },
  {
   "cell_type": "code",
   "execution_count": 15,
   "metadata": {},
   "outputs": [
    {
     "data": {
      "text/plain": [
       "defensa            1180\n",
       "central             907\n",
       "arquero             632\n",
       "central_ataque      581\n",
       "ataque              430\n",
       "central_defensa     209\n",
       "Name: Club_Position, dtype: int64"
      ]
     },
     "execution_count": 15,
     "metadata": {},
     "output_type": "execute_result"
    }
   ],
   "source": [
    "# Contar valores por clase\n",
    "df2[\"Club_Position\"].value_counts()"
   ]
  },
  {
   "cell_type": "code",
   "execution_count": 16,
   "metadata": {},
   "outputs": [],
   "source": [
    "# Crear columnas con etiquetas\n",
    "df2[\"Labels\"] = df2[\"Club_Position\"].map({\"defensa\": 0,\n",
    "                                         \"central\": 1,\n",
    "                                         \"arquero\": 2,\n",
    "                                         \"central_ataque\": 3,\n",
    "                                         \"ataque\": 4,\n",
    "                                         \"central_defensa\": 5})"
   ]
  },
  {
   "cell_type": "code",
   "execution_count": 17,
   "metadata": {},
   "outputs": [],
   "source": [
    "ct2= ColumnTransformer([\n",
    "    (\"StandardScaler\",StandardScaler(),[\"Height\",\"Weight\",\"Aggression\",\"Reactions\",\"Vision\",\"Composure\",\"Crossing\",\"Short_Pass\",\"Long_Pass\",\"Acceleration\",\"Speed\",\"Stamina\",\"Strength\",\"Balance\",\"Agility\",\"Jumping\",\"Freekick_Accuracy\"]),\n",
    "    (\"PowerTransform\",PowerTransformer(),['Age',\"Ball_Control\",\"Dribbling\",\"Marking\",\"Sliding_Tackle\",\"Standing_Tackle\",\"Interceptions\",\"Heading\",\"Shot_Power\"]),\n",
    "    (\"MinMaxScaler\",MinMaxScaler(),[\"Finishing\",\"Long_Shots\",\"Curve\",\"Penalties\",\"Volleys\"]),\n",
    "    (\"OneHot\",OneHotEncoder(handle_unknown=\"ignore\"),[\"Preffered_Foot\",\"Work_Rate\",\"Skill_Moves\"])\n",
    "])\n",
    "\n",
    "pipe2 = Pipeline([(\"ColumnTransform\", ct2),\n",
    "                     (\"SVC\", SVC())])"
   ]
  },
  {
   "cell_type": "code",
   "execution_count": 18,
   "metadata": {},
   "outputs": [
    {
     "name": "stderr",
     "output_type": "stream",
     "text": [
      "C:\\Users\\Cesar\\AppData\\Local\\Temp/ipykernel_15716/2966790828.py:3: FutureWarning: In a future version of pandas all arguments of DataFrame.drop except for the argument 'labels' will be keyword-only.\n",
      "  X = df.drop([\"Name\", \"Nationality\", \"National_Position\", \"Labels\", \"Club_Position\"], 1)\n"
     ]
    }
   ],
   "source": [
    "# Separación de train-test\n",
    "df = df2.copy()\n",
    "X = df.drop([\"Name\", \"Nationality\", \"National_Position\", \"Labels\", \"Club_Position\"], 1)\n",
    "Y = df2[\"Labels\"].to_list()\n",
    "X_train, X_test, y_train, y_test = train_test_split(X, Y, test_size=0.3, random_state=42)"
   ]
  },
  {
   "cell_type": "code",
   "execution_count": 19,
   "metadata": {},
   "outputs": [
    {
     "name": "stdout",
     "output_type": "stream",
     "text": [
      "Proporcion labels en train: [0.2992383  0.22488212 0.16503446 0.15161407 0.10591222 0.05331882]\n",
      "Proporcion labels en test: [0.30033841 0.2428088  0.14974619 0.13790186 0.11675127 0.05245347]\n"
     ]
    }
   ],
   "source": [
    "# Propoción de clases en train y test\n",
    "u_train, c_train = np.unique(y_train, return_counts=True)\n",
    "u_test, c_test = np.unique(y_test, return_counts=True)\n",
    "\n",
    "train = c_train / len(y_train)\n",
    "test = c_test/ len(y_test)\n",
    "print(f\"Proporcion labels en train: {train}\")\n",
    "print(f\"Proporcion labels en test: {test}\")"
   ]
  },
  {
   "cell_type": "code",
   "execution_count": 20,
   "metadata": {},
   "outputs": [
    {
     "name": "stdout",
     "output_type": "stream",
     "text": [
      "              precision    recall  f1-score   support\n",
      "\n",
      "           0       0.80      0.97      0.88       355\n",
      "           1       0.60      0.66      0.63       287\n",
      "           2       1.00      1.00      1.00       177\n",
      "           3       0.51      0.27      0.35       163\n",
      "           4       0.81      0.82      0.81       138\n",
      "           5       0.46      0.19      0.27        62\n",
      "\n",
      "    accuracy                           0.75      1182\n",
      "   macro avg       0.69      0.65      0.66      1182\n",
      "weighted avg       0.72      0.75      0.72      1182\n",
      "\n"
     ]
    }
   ],
   "source": [
    "# Entrenamiento y predicción\n",
    "pipe2.fit(X_train, y_train)\n",
    "y_pred2 = pipe2.predict(X_test)\n",
    "print(classification_report(y_test, y_pred2))"
   ]
  },
  {
   "cell_type": "markdown",
   "metadata": {},
   "source": [
    "De los resultados obtenidos, se aprecia que para ciertas clases se logra predecir de forma decente, pero para otras no. Esto se puede deber al desbalance de clases que existe en el dataset y a la cantidad de datos que se tiene para entrenar. "
   ]
  },
  {
   "cell_type": "markdown",
   "metadata": {
    "cell_id": "00038-b8c6c19d-0688-4899-9abb-c89f94c2b89a",
    "deepnote_cell_height": 312.20001220703125,
    "deepnote_cell_type": "markdown",
    "id": "C-vkB4xoOGtM"
   },
   "source": [
    "## 1.3 Predicción de Sueldos [2 puntos]\n",
    "\n",
    "<p align=\"center\">\n",
    "  <img src=\"https://media.giphy.com/media/3oEjHWtHAFcOKS4iA0/giphy.gif\" width=\"460\">\n",
    "</p>"
   ]
  },
  {
   "cell_type": "markdown",
   "metadata": {
    "cell_id": "00039-e50ff971-8882-46be-832a-deaff22bdf89",
    "deepnote_cell_height": 423.70001220703125,
    "deepnote_cell_type": "markdown",
    "tags": []
   },
   "source": [
    "Queriendo ahondar aún más en el mercado del balompíe, Renacin, logra obtener (de una manera no muy formal) los sueldos de múltiples futbolistas y los guarda en el archivo ```sueldos.csv```. Con ellos les solicita que generen un regresor que les permita predecir el sueldo de los futbolistas en base a las características de los pichichis, esto, debido a su motivación por invertir y/o realizar especulación sobre los sueldos de jugadores.\n",
    "\n",
    "Renacin es claro señalando que deben seguir utilizando la [guía](https://scikit-learn.org/stable/tutorial/machine_learning_map/index.html) y comenten cada uno de los pasos realizados, para obtener su regresión lineal. Señalándoles que no aceptara un $R^2$ inferior a 0.35 para el modelo solicitado.\n",
    "\n",
    "Para esta parte usted tiene total libertad en la generación del regresor, la unica exigencia es que utilice un pipeline para generar la regresión y utilice la metrica $R^2$ para medir el rendimiento de esta.\n",
    "\n",
    "**To-Do**:\n",
    "\n",
    "- [X] Explique en que consiste la métrica $R^2$\n",
    "- [X] Generar un pipeline para la regresión.\n",
    "- [X] Obtener un regresor con un $R^2$ superior a  $0.35$.\n",
    "- [X] Comente sus resultados y si es posible mejorar los resultados obtenidos. ¿Se necesitarían más datos o otros tipos de características o una combinación de ambos?"
   ]
  },
  {
   "cell_type": "markdown",
   "metadata": {
    "cell_id": "00040-487b67d5-7731-400d-8fa5-a8fb3b59c7f5",
    "deepnote_cell_height": 51.43333435058594,
    "deepnote_cell_type": "markdown",
    "tags": []
   },
   "source": [
    "**Respuesta**"
   ]
  },
  {
   "cell_type": "markdown",
   "metadata": {},
   "source": [
    "La métrica **$R^2$** consiste en un score o puntaje que representa la proporción de varianza de los valores predichos por el modelo con respecto a la las etiquetas reales. Dicho esto, el mejor puntaje posible es 1 y si el modelo es extremadamente malo, pueden obtenerse resultados negativos."
   ]
  },
  {
   "cell_type": "code",
   "execution_count": 21,
   "metadata": {
    "cell_id": "00041-012da19b-8f64-4971-84d6-e95502b74afb",
    "deepnote_cell_height": 65.03334045410156,
    "deepnote_cell_type": "code",
    "tags": []
   },
   "outputs": [
    {
     "name": "stderr",
     "output_type": "stream",
     "text": [
      "C:\\Users\\Cesar\\AppData\\Local\\Temp/ipykernel_15716/28356162.py:2: FutureWarning: In a future version of pandas all arguments of DataFrame.drop except for the argument 'labels' will be keyword-only.\n",
      "  salarios = salarios.drop(\"Unnamed: 0\", 1)\n"
     ]
    }
   ],
   "source": [
    "salarios = pd.read_csv(\"salarios.csv\")\n",
    "salarios = salarios.drop(\"Unnamed: 0\", 1)\n",
    "salarios = salarios.rename(columns={\"Player\": \"Name\"})"
   ]
  },
  {
   "cell_type": "code",
   "execution_count": 22,
   "metadata": {},
   "outputs": [],
   "source": [
    "df3 = pd.merge(left=df_players,\n",
    "                    right=salarios,\n",
    "                    on=\"Name\",\n",
    "                    sort=True,\n",
    "                    how=\"outer\")\n",
    "df3 = df3.dropna(subset=\"Weekly Salary\", axis=0)\n",
    "df3 = df3.dropna(subset=\"Height\", axis=0)"
   ]
  },
  {
   "cell_type": "code",
   "execution_count": 23,
   "metadata": {},
   "outputs": [
    {
     "data": {
      "text/html": [
       "<div>\n",
       "<style scoped>\n",
       "    .dataframe tbody tr th:only-of-type {\n",
       "        vertical-align: middle;\n",
       "    }\n",
       "\n",
       "    .dataframe tbody tr th {\n",
       "        vertical-align: top;\n",
       "    }\n",
       "\n",
       "    .dataframe thead th {\n",
       "        text-align: right;\n",
       "    }\n",
       "</style>\n",
       "<table border=\"1\" class=\"dataframe\">\n",
       "  <thead>\n",
       "    <tr style=\"text-align: right;\">\n",
       "      <th></th>\n",
       "      <th>Height</th>\n",
       "      <th>Weight</th>\n",
       "      <th>Age</th>\n",
       "      <th>Weak_foot</th>\n",
       "      <th>Skill_Moves</th>\n",
       "      <th>Ball_Control</th>\n",
       "      <th>Dribbling</th>\n",
       "      <th>Marking</th>\n",
       "      <th>Sliding_Tackle</th>\n",
       "      <th>Standing_Tackle</th>\n",
       "      <th>...</th>\n",
       "      <th>Jumping</th>\n",
       "      <th>Heading</th>\n",
       "      <th>Shot_Power</th>\n",
       "      <th>Finishing</th>\n",
       "      <th>Long_Shots</th>\n",
       "      <th>Curve</th>\n",
       "      <th>Freekick_Accuracy</th>\n",
       "      <th>Penalties</th>\n",
       "      <th>Volleys</th>\n",
       "      <th>Weekly Salary</th>\n",
       "    </tr>\n",
       "  </thead>\n",
       "  <tbody>\n",
       "    <tr>\n",
       "      <th>count</th>\n",
       "      <td>1866.000000</td>\n",
       "      <td>1866.000000</td>\n",
       "      <td>1866.000000</td>\n",
       "      <td>1866.000000</td>\n",
       "      <td>1866.000000</td>\n",
       "      <td>1866.000000</td>\n",
       "      <td>1866.000000</td>\n",
       "      <td>1866.000000</td>\n",
       "      <td>1866.000000</td>\n",
       "      <td>1866.00000</td>\n",
       "      <td>...</td>\n",
       "      <td>1866.000000</td>\n",
       "      <td>1866.000000</td>\n",
       "      <td>1866.000000</td>\n",
       "      <td>1866.000000</td>\n",
       "      <td>1866.000000</td>\n",
       "      <td>1866.000000</td>\n",
       "      <td>1866.000000</td>\n",
       "      <td>1866.000000</td>\n",
       "      <td>1866.000000</td>\n",
       "      <td>1.866000e+03</td>\n",
       "    </tr>\n",
       "    <tr>\n",
       "      <th>mean</th>\n",
       "      <td>182.366559</td>\n",
       "      <td>76.266345</td>\n",
       "      <td>24.930868</td>\n",
       "      <td>3.052519</td>\n",
       "      <td>2.457663</td>\n",
       "      <td>65.370311</td>\n",
       "      <td>61.552519</td>\n",
       "      <td>48.619507</td>\n",
       "      <td>50.511790</td>\n",
       "      <td>53.00000</td>\n",
       "      <td>...</td>\n",
       "      <td>68.071811</td>\n",
       "      <td>56.762594</td>\n",
       "      <td>61.620043</td>\n",
       "      <td>49.897642</td>\n",
       "      <td>53.172026</td>\n",
       "      <td>53.268489</td>\n",
       "      <td>47.702036</td>\n",
       "      <td>52.474812</td>\n",
       "      <td>48.392283</td>\n",
       "      <td>5.363130e+04</td>\n",
       "    </tr>\n",
       "    <tr>\n",
       "      <th>std</th>\n",
       "      <td>6.546156</td>\n",
       "      <td>7.033456</td>\n",
       "      <td>4.131101</td>\n",
       "      <td>0.680976</td>\n",
       "      <td>0.856815</td>\n",
       "      <td>18.225297</td>\n",
       "      <td>20.614518</td>\n",
       "      <td>24.436182</td>\n",
       "      <td>24.733586</td>\n",
       "      <td>24.68378</td>\n",
       "      <td>...</td>\n",
       "      <td>11.157666</td>\n",
       "      <td>19.228412</td>\n",
       "      <td>18.777998</td>\n",
       "      <td>21.645839</td>\n",
       "      <td>20.897269</td>\n",
       "      <td>20.428841</td>\n",
       "      <td>19.502833</td>\n",
       "      <td>16.936046</td>\n",
       "      <td>20.205789</td>\n",
       "      <td>8.193256e+04</td>\n",
       "    </tr>\n",
       "    <tr>\n",
       "      <th>min</th>\n",
       "      <td>162.000000</td>\n",
       "      <td>48.000000</td>\n",
       "      <td>17.000000</td>\n",
       "      <td>1.000000</td>\n",
       "      <td>1.000000</td>\n",
       "      <td>10.000000</td>\n",
       "      <td>5.000000</td>\n",
       "      <td>5.000000</td>\n",
       "      <td>8.000000</td>\n",
       "      <td>9.00000</td>\n",
       "      <td>...</td>\n",
       "      <td>30.000000</td>\n",
       "      <td>8.000000</td>\n",
       "      <td>11.000000</td>\n",
       "      <td>5.000000</td>\n",
       "      <td>5.000000</td>\n",
       "      <td>6.000000</td>\n",
       "      <td>7.000000</td>\n",
       "      <td>11.000000</td>\n",
       "      <td>5.000000</td>\n",
       "      <td>6.200000e+02</td>\n",
       "    </tr>\n",
       "    <tr>\n",
       "      <th>25%</th>\n",
       "      <td>178.000000</td>\n",
       "      <td>72.000000</td>\n",
       "      <td>22.000000</td>\n",
       "      <td>3.000000</td>\n",
       "      <td>2.000000</td>\n",
       "      <td>62.000000</td>\n",
       "      <td>56.000000</td>\n",
       "      <td>23.000000</td>\n",
       "      <td>24.000000</td>\n",
       "      <td>28.00000</td>\n",
       "      <td>...</td>\n",
       "      <td>61.000000</td>\n",
       "      <td>49.000000</td>\n",
       "      <td>52.000000</td>\n",
       "      <td>32.000000</td>\n",
       "      <td>38.000000</td>\n",
       "      <td>40.000000</td>\n",
       "      <td>33.250000</td>\n",
       "      <td>42.000000</td>\n",
       "      <td>32.250000</td>\n",
       "      <td>1.413700e+04</td>\n",
       "    </tr>\n",
       "    <tr>\n",
       "      <th>50%</th>\n",
       "      <td>183.000000</td>\n",
       "      <td>76.000000</td>\n",
       "      <td>25.000000</td>\n",
       "      <td>3.000000</td>\n",
       "      <td>2.000000</td>\n",
       "      <td>71.000000</td>\n",
       "      <td>68.000000</td>\n",
       "      <td>56.000000</td>\n",
       "      <td>59.000000</td>\n",
       "      <td>63.00000</td>\n",
       "      <td>...</td>\n",
       "      <td>69.000000</td>\n",
       "      <td>61.000000</td>\n",
       "      <td>68.000000</td>\n",
       "      <td>54.000000</td>\n",
       "      <td>59.000000</td>\n",
       "      <td>58.000000</td>\n",
       "      <td>48.000000</td>\n",
       "      <td>54.000000</td>\n",
       "      <td>51.000000</td>\n",
       "      <td>2.940400e+04</td>\n",
       "    </tr>\n",
       "    <tr>\n",
       "      <th>75%</th>\n",
       "      <td>187.000000</td>\n",
       "      <td>81.000000</td>\n",
       "      <td>28.000000</td>\n",
       "      <td>3.000000</td>\n",
       "      <td>3.000000</td>\n",
       "      <td>77.000000</td>\n",
       "      <td>75.000000</td>\n",
       "      <td>71.000000</td>\n",
       "      <td>72.000000</td>\n",
       "      <td>74.00000</td>\n",
       "      <td>...</td>\n",
       "      <td>75.000000</td>\n",
       "      <td>70.000000</td>\n",
       "      <td>75.750000</td>\n",
       "      <td>68.000000</td>\n",
       "      <td>69.000000</td>\n",
       "      <td>69.000000</td>\n",
       "      <td>64.000000</td>\n",
       "      <td>65.000000</td>\n",
       "      <td>65.000000</td>\n",
       "      <td>6.502900e+04</td>\n",
       "    </tr>\n",
       "    <tr>\n",
       "      <th>max</th>\n",
       "      <td>201.000000</td>\n",
       "      <td>99.000000</td>\n",
       "      <td>39.000000</td>\n",
       "      <td>5.000000</td>\n",
       "      <td>5.000000</td>\n",
       "      <td>95.000000</td>\n",
       "      <td>97.000000</td>\n",
       "      <td>92.000000</td>\n",
       "      <td>91.000000</td>\n",
       "      <td>92.00000</td>\n",
       "      <td>...</td>\n",
       "      <td>95.000000</td>\n",
       "      <td>93.000000</td>\n",
       "      <td>92.000000</td>\n",
       "      <td>95.000000</td>\n",
       "      <td>91.000000</td>\n",
       "      <td>90.000000</td>\n",
       "      <td>91.000000</td>\n",
       "      <td>92.000000</td>\n",
       "      <td>91.000000</td>\n",
       "      <td>1.538905e+06</td>\n",
       "    </tr>\n",
       "  </tbody>\n",
       "</table>\n",
       "<p>8 rows × 34 columns</p>\n",
       "</div>"
      ],
      "text/plain": [
       "            Height       Weight          Age    Weak_foot  Skill_Moves  \\\n",
       "count  1866.000000  1866.000000  1866.000000  1866.000000  1866.000000   \n",
       "mean    182.366559    76.266345    24.930868     3.052519     2.457663   \n",
       "std       6.546156     7.033456     4.131101     0.680976     0.856815   \n",
       "min     162.000000    48.000000    17.000000     1.000000     1.000000   \n",
       "25%     178.000000    72.000000    22.000000     3.000000     2.000000   \n",
       "50%     183.000000    76.000000    25.000000     3.000000     2.000000   \n",
       "75%     187.000000    81.000000    28.000000     3.000000     3.000000   \n",
       "max     201.000000    99.000000    39.000000     5.000000     5.000000   \n",
       "\n",
       "       Ball_Control    Dribbling      Marking  Sliding_Tackle  \\\n",
       "count   1866.000000  1866.000000  1866.000000     1866.000000   \n",
       "mean      65.370311    61.552519    48.619507       50.511790   \n",
       "std       18.225297    20.614518    24.436182       24.733586   \n",
       "min       10.000000     5.000000     5.000000        8.000000   \n",
       "25%       62.000000    56.000000    23.000000       24.000000   \n",
       "50%       71.000000    68.000000    56.000000       59.000000   \n",
       "75%       77.000000    75.000000    71.000000       72.000000   \n",
       "max       95.000000    97.000000    92.000000       91.000000   \n",
       "\n",
       "       Standing_Tackle  ...      Jumping      Heading   Shot_Power  \\\n",
       "count       1866.00000  ...  1866.000000  1866.000000  1866.000000   \n",
       "mean          53.00000  ...    68.071811    56.762594    61.620043   \n",
       "std           24.68378  ...    11.157666    19.228412    18.777998   \n",
       "min            9.00000  ...    30.000000     8.000000    11.000000   \n",
       "25%           28.00000  ...    61.000000    49.000000    52.000000   \n",
       "50%           63.00000  ...    69.000000    61.000000    68.000000   \n",
       "75%           74.00000  ...    75.000000    70.000000    75.750000   \n",
       "max           92.00000  ...    95.000000    93.000000    92.000000   \n",
       "\n",
       "         Finishing   Long_Shots        Curve  Freekick_Accuracy    Penalties  \\\n",
       "count  1866.000000  1866.000000  1866.000000        1866.000000  1866.000000   \n",
       "mean     49.897642    53.172026    53.268489          47.702036    52.474812   \n",
       "std      21.645839    20.897269    20.428841          19.502833    16.936046   \n",
       "min       5.000000     5.000000     6.000000           7.000000    11.000000   \n",
       "25%      32.000000    38.000000    40.000000          33.250000    42.000000   \n",
       "50%      54.000000    59.000000    58.000000          48.000000    54.000000   \n",
       "75%      68.000000    69.000000    69.000000          64.000000    65.000000   \n",
       "max      95.000000    91.000000    90.000000          91.000000    92.000000   \n",
       "\n",
       "           Volleys  Weekly Salary  \n",
       "count  1866.000000   1.866000e+03  \n",
       "mean     48.392283   5.363130e+04  \n",
       "std      20.205789   8.193256e+04  \n",
       "min       5.000000   6.200000e+02  \n",
       "25%      32.250000   1.413700e+04  \n",
       "50%      51.000000   2.940400e+04  \n",
       "75%      65.000000   6.502900e+04  \n",
       "max      91.000000   1.538905e+06  \n",
       "\n",
       "[8 rows x 34 columns]"
      ]
     },
     "execution_count": 23,
     "metadata": {},
     "output_type": "execute_result"
    }
   ],
   "source": [
    "df3.describe()"
   ]
  },
  {
   "cell_type": "code",
   "execution_count": 24,
   "metadata": {},
   "outputs": [],
   "source": [
    "ct3= ColumnTransformer([\n",
    "    (\"StandardScaler\",StandardScaler(),[\"Height\",\"Weight\",\"Aggression\",\"Reactions\",\"Vision\",\"Composure\",\"Crossing\",\"Short_Pass\",\"Long_Pass\",\"Acceleration\",\"Speed\",\"Stamina\",\"Strength\",\"Balance\",\"Agility\",\"Jumping\",\"Freekick_Accuracy\"]),\n",
    "    (\"PowerTransform\",PowerTransformer(),['Age',\"Ball_Control\",\"Dribbling\",\"Marking\",\"Sliding_Tackle\",\"Standing_Tackle\",\"Interceptions\",\"Heading\",\"Shot_Power\"]),\n",
    "    (\"MinMaxScaler\",MinMaxScaler(),[\"Finishing\",\"Long_Shots\",\"Curve\",\"Penalties\",\"Volleys\"]),\n",
    "    (\"OneHot\",OneHotEncoder(handle_unknown=\"ignore\"),[\"Nationality\",\"Preffered_Foot\",\"Work_Rate\",\"Skill_Moves\"])\n",
    "])"
   ]
  },
  {
   "cell_type": "code",
   "execution_count": 25,
   "metadata": {},
   "outputs": [
    {
     "name": "stderr",
     "output_type": "stream",
     "text": [
      "C:\\Users\\Cesar\\AppData\\Local\\Temp/ipykernel_15716/2664637799.py:2: FutureWarning: In a future version of pandas all arguments of DataFrame.drop except for the argument 'labels' will be keyword-only.\n",
      "  X = df.drop([\"Name\", \"Weekly Salary\"], 1)\n"
     ]
    }
   ],
   "source": [
    "df = df3.copy()\n",
    "X = df.drop([\"Name\", \"Weekly Salary\"], 1)\n",
    "Y = df3[\"Weekly Salary\"].to_list()\n",
    "X_train, X_test, y_train, y_test = train_test_split(X, Y, test_size=0.3, random_state=24)"
   ]
  },
  {
   "cell_type": "markdown",
   "metadata": {},
   "source": [
    "Debido a que este es un problema de regresión (es decir, predecir un valor continuo) y siguiendo las intrucciones de la guía se decidió utilizar el modelo de ElasticNet"
   ]
  },
  {
   "cell_type": "code",
   "execution_count": 28,
   "metadata": {},
   "outputs": [
    {
     "name": "stdout",
     "output_type": "stream",
     "text": [
      " R² score: 0.36680824803810697\n"
     ]
    }
   ],
   "source": [
    "# Club_position, weak_foot, preffered foot, Work_Rate, stamina\n",
    "elastic_pipe =Pipeline([('ColumnTransform', ct3) , \n",
    "                       ('Regresor', ElasticNet(alpha=0.01))])\n",
    "\n",
    "elastic_pipe.fit(X_train, y_train)\n",
    "\n",
    "elastic_y_pred = elastic_pipe.predict(X_test)\n",
    "\n",
    "print(f\" R² score: {r2_score(y_test, elastic_y_pred)}\")                       "
   ]
  },
  {
   "cell_type": "markdown",
   "metadata": {
    "cell_id": "00044-db7abb06-7339-40b0-9021-01c6111e5459",
    "deepnote_cell_height": 106.23333740234375,
    "deepnote_cell_type": "markdown",
    "tags": []
   },
   "source": [
    "**Respuesta**:\n",
    "\n",
    "De los resultados obtenidos, se obtuvo un score de aproximadamente 0,366. Este score como tal no es muy bueno, pero se debe tener en cuenta que la base de datos que se utilizó para entrenar no tiene muchas filas, lo cual perjudica a la hora de entrenar el modelo. Por otro lado, quizás métodos de creación de variables, como lo puede ser aplicar ciertos estadísticos, podrían ayudar a obtener mejores resultados."
   ]
  },
  {
   "cell_type": "markdown",
   "metadata": {
    "cell_id": "00045-bd3cc055-46c7-47ae-ac82-07ddb96f99de",
    "deepnote_cell_height": 490.83331298828125,
    "deepnote_cell_type": "markdown",
    "id": "Rg4ZMq8ezAH6"
   },
   "source": [
    "# Conclusión\n",
    "Eso ha sido todo para el lab de hoy, recuerden que el laboratorio tiene un plazo de entrega de una semana. Cualquier duda del laboratorio, no duden en contactarnos por mail o U-cursos.\n",
    "\n",
    "<p align=\"center\">\n",
    "  <img src=\"https://media2.giphy.com/media/l1J3CbFgn5o7DGRuE/giphy.gif\">\n",
    "</p>"
   ]
  },
  {
   "cell_type": "markdown",
   "metadata": {
    "cell_id": "00047-2acde338-38a4-455c-879b-3be406525767",
    "deepnote_cell_height": 170.4499969482422,
    "deepnote_cell_type": "markdown",
    "id": "wCL1lACBzAH7"
   },
   "source": [
    "<br>\n",
    "<center>\n",
    "<img src=\"https://i.kym-cdn.com/photos/images/original/001/194/195/b18.png\" width=100 height=50 />\n",
    "</center>\n",
    "<br>"
   ]
  },
  {
   "cell_type": "markdown",
   "metadata": {
    "created_in_deepnote_cell": true,
    "deepnote_cell_type": "markdown",
    "tags": []
   },
   "source": [
    "<a style='text-decoration:none;line-height:16px;display:flex;color:#5B5B62;padding:10px;justify-content:end;' href='https://deepnote.com?utm_source=created-in-deepnote-cell&projectId=87110296-876e-426f-b91d-aaf681223468' target=\"_blank\">\n",
    "<img alt='Created in deepnote.com' style='display:inline;max-height:16px;margin:0px;margin-right:7.5px;' src='data:image/svg+xml;base64,PD94bWwgdmVyc2lvbj0iMS4wIiBlbmNvZGluZz0iVVRGLTgiPz4KPHN2ZyB3aWR0aD0iODBweCIgaGVpZ2h0PSI4MHB4IiB2aWV3Qm94PSIwIDAgODAgODAiIHZlcnNpb249IjEuMSIgeG1sbnM9Imh0dHA6Ly93d3cudzMub3JnLzIwMDAvc3ZnIiB4bWxuczp4bGluaz0iaHR0cDovL3d3dy53My5vcmcvMTk5OS94bGluayI+CiAgICA8IS0tIEdlbmVyYXRvcjogU2tldGNoIDU0LjEgKDc2NDkwKSAtIGh0dHBzOi8vc2tldGNoYXBwLmNvbSAtLT4KICAgIDx0aXRsZT5Hcm91cCAzPC90aXRsZT4KICAgIDxkZXNjPkNyZWF0ZWQgd2l0aCBTa2V0Y2guPC9kZXNjPgogICAgPGcgaWQ9IkxhbmRpbmciIHN0cm9rZT0ibm9uZSIgc3Ryb2tlLXdpZHRoPSIxIiBmaWxsPSJub25lIiBmaWxsLXJ1bGU9ImV2ZW5vZGQiPgogICAgICAgIDxnIGlkPSJBcnRib2FyZCIgdHJhbnNmb3JtPSJ0cmFuc2xhdGUoLTEyMzUuMDAwMDAwLCAtNzkuMDAwMDAwKSI+CiAgICAgICAgICAgIDxnIGlkPSJHcm91cC0zIiB0cmFuc2Zvcm09InRyYW5zbGF0ZSgxMjM1LjAwMDAwMCwgNzkuMDAwMDAwKSI+CiAgICAgICAgICAgICAgICA8cG9seWdvbiBpZD0iUGF0aC0yMCIgZmlsbD0iIzAyNjVCNCIgcG9pbnRzPSIyLjM3NjIzNzYyIDgwIDM4LjA0NzY2NjcgODAgNTcuODIxNzgyMiA3My44MDU3NTkyIDU3LjgyMTc4MjIgMzIuNzU5MjczOSAzOS4xNDAyMjc4IDMxLjY4MzE2ODMiPjwvcG9seWdvbj4KICAgICAgICAgICAgICAgIDxwYXRoIGQ9Ik0zNS4wMDc3MTgsODAgQzQyLjkwNjIwMDcsNzYuNDU0OTM1OCA0Ny41NjQ5MTY3LDcxLjU0MjI2NzEgNDguOTgzODY2LDY1LjI2MTk5MzkgQzUxLjExMjI4OTksNTUuODQxNTg0MiA0MS42NzcxNzk1LDQ5LjIxMjIyODQgMjUuNjIzOTg0Niw0OS4yMTIyMjg0IEMyNS40ODQ5Mjg5LDQ5LjEyNjg0NDggMjkuODI2MTI5Niw0My4yODM4MjQ4IDM4LjY0NzU4NjksMzEuNjgzMTY4MyBMNzIuODcxMjg3MSwzMi41NTQ0MjUgTDY1LjI4MDk3Myw2Ny42NzYzNDIxIEw1MS4xMTIyODk5LDc3LjM3NjE0NCBMMzUuMDA3NzE4LDgwIFoiIGlkPSJQYXRoLTIyIiBmaWxsPSIjMDAyODY4Ij48L3BhdGg+CiAgICAgICAgICAgICAgICA8cGF0aCBkPSJNMCwzNy43MzA0NDA1IEwyNy4xMTQ1MzcsMC4yNTcxMTE0MzYgQzYyLjM3MTUxMjMsLTEuOTkwNzE3MDEgODAsMTAuNTAwMzkyNyA4MCwzNy43MzA0NDA1IEM4MCw2NC45NjA0ODgyIDY0Ljc3NjUwMzgsNzkuMDUwMzQxNCAzNC4zMjk1MTEzLDgwIEM0Ny4wNTUzNDg5LDc3LjU2NzA4MDggNTMuNDE4MjY3Nyw3MC4zMTM2MTAzIDUzLjQxODI2NzcsNTguMjM5NTg4NSBDNTMuNDE4MjY3Nyw0MC4xMjg1NTU3IDM2LjMwMzk1NDQsMzcuNzMwNDQwNSAyNS4yMjc0MTcsMzcuNzMwNDQwNSBDMTcuODQzMDU4NiwzNy43MzA0NDA1IDkuNDMzOTE5NjYsMzcuNzMwNDQwNSAwLDM3LjczMDQ0MDUgWiIgaWQ9IlBhdGgtMTkiIGZpbGw9IiMzNzkzRUYiPjwvcGF0aD4KICAgICAgICAgICAgPC9nPgogICAgICAgIDwvZz4KICAgIDwvZz4KPC9zdmc+' > </img>\n",
    "Created in <span style='font-weight:600;margin-left:4px;'>Deepnote</span></a>"
   ]
  }
 ],
 "metadata": {
  "colab": {
   "collapsed_sections": [],
   "name": "Laboratorio3.ipynb",
   "provenance": []
  },
  "deepnote": {},
  "deepnote_execution_queue": [],
  "deepnote_notebook_id": "350d39d6-937f-44f2-9da5-3b4d715597f9",
  "kernelspec": {
   "display_name": "Python 3.9.7 ('base')",
   "language": "python",
   "name": "python3"
  },
  "language_info": {
   "codemirror_mode": {
    "name": "ipython",
    "version": 3
   },
   "file_extension": ".py",
   "mimetype": "text/x-python",
   "name": "python",
   "nbconvert_exporter": "python",
   "pygments_lexer": "ipython3",
   "version": "3.9.7"
  },
  "toc": {
   "base_numbering": 1,
   "nav_menu": {},
   "number_sections": true,
   "sideBar": true,
   "skip_h1_title": true,
   "title_cell": "Tabla de Contenidos",
   "title_sidebar": "Contenidos",
   "toc_cell": false,
   "toc_position": {
    "height": "calc(100% - 180px)",
    "left": "10px",
    "top": "150px",
    "width": "241.867px"
   },
   "toc_section_display": true,
   "toc_window_display": true
  },
  "varInspector": {
   "cols": {
    "lenName": 16,
    "lenType": 16,
    "lenVar": 40
   },
   "kernels_config": {
    "python": {
     "delete_cmd_postfix": "",
     "delete_cmd_prefix": "del ",
     "library": "var_list.py",
     "varRefreshCmd": "print(var_dic_list())"
    },
    "r": {
     "delete_cmd_postfix": ") ",
     "delete_cmd_prefix": "rm(",
     "library": "var_list.r",
     "varRefreshCmd": "cat(var_dic_list()) "
    }
   },
   "types_to_exclude": [
    "module",
    "function",
    "builtin_function_or_method",
    "instance",
    "_Feature"
   ],
   "window_display": false
  },
  "vscode": {
   "interpreter": {
    "hash": "b0e9e96f4c5ccb3705c4fe1faff469f2fbff6ae2ce10bd76dfdb605780f5fd91"
   }
  }
 },
 "nbformat": 4,
 "nbformat_minor": 4
}
