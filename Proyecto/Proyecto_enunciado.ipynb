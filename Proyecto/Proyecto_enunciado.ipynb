{
 "cells": [
  {
   "cell_type": "markdown",
   "id": "d6405873",
   "metadata": {
    "cell_id": "1afe48f4-24bb-456a-8ebb-b21f17292fae",
    "deepnote_cell_height": 291.98333740234375,
    "deepnote_cell_type": "markdown"
   },
   "source": [
    "# Proyecto\n",
    "\n",
    "**MDS7202: Laboratorio de Programación Científica para Ciencia de Datos**\n",
    "\n",
    "### Cuerpo Docente:\n",
    "\n",
    "- Profesor: Pablo Badilla\n",
    "- Auxiliar: Ignacio Meza D.\n",
    "- Ayudante: Patricio Ortiz\n",
    "\n",
    "*Por favor, lean detalladamente las instrucciones de la tarea antes de empezar a escribir.*\n"
   ]
  },
  {
   "cell_type": "markdown",
   "id": "e28bb2e2",
   "metadata": {
    "cell_id": "00001-08980085-11ff-46bb-ad0e-cfeebe049a14",
    "deepnote_cell_height": 225.11666870117188,
    "deepnote_cell_type": "markdown"
   },
   "source": [
    "----\n",
    "\n",
    "## Reglas\n",
    "\n",
    "- Fecha de entrega: 15/07/2021 (atrasos hasta el domingo 17 de julio)\n",
    "- **Grupos de 2 personas.**\n",
    "- Cualquier duda fuera del horario de clases al foro. Mensajes al equipo docente serán respondidos por este medio.\n",
    "- Estrictamente prohibida la copia. \n",
    "- Pueden usar cualquier material del curso que estimen conveniente."
   ]
  },
  {
   "cell_type": "markdown",
   "id": "176d46e7",
   "metadata": {
    "cell_id": "00002-00231602-ae19-4e86-8713-55497e9c1dc0",
    "deepnote_cell_height": 785.2166748046875,
    "deepnote_cell_type": "markdown",
    "owner_user_id": "d50c3174-babb-4861-9c71-7e3af66458b8"
   },
   "source": [
    "---\n",
    "\n",
    "## El Desafío de Renacín 🧸\n",
    "\n",
    "<div align='center'>\n",
    "<img src='https://media.cnnchile.com/sites/2/2018/09/maipu-renacin-740x430.jpg' width=300>\n",
    "</div>\n",
    "\n",
    "Renacín, ex-influencer y figura (de peluche) publica; luego de su despido, decide que será una buena idea darle un giro a su vida y dedicarse al rubro del asesoramiento de inversionistas en la industria del cine. \n",
    "\n",
    "El futuro empresario plantea que el éxito potencial de una propuesta película debe ser analizado en base a evidencia histórica de cintas similares y no en la intuición ni en simples corazonadas. \n",
    "Por esto, plantea a las gerencias de las principales productoras de cine que sería ideal contar con una máquina que, dada las características de una propuesta de película (su género, la productora, su duración, su historia, etc...), prediga si esta será potencialmente una inversión rentable o no.\n",
    "\n",
    "Renacín está convencido que el éxito de una inversión en un filme debe estar relacionada por dos características muy relevantes de estas una vez que salen al mercado:\n",
    "\n",
    "**1. La potencial evaluación (Positiva, Negativa, etc...) que le dan sus consumidores.**\n",
    "\n",
    "**2. Las potenciales ganancias de la película.**\n",
    "\n",
    "Si bien la idea puede sonar excelente, Renacín carece en su totalidad de una formación en Ciencia de los Datos, por lo que decide ir en ayuda de expertos para implementar su idea. \n",
    "\n",
    "Sin embargo, decide no contratar a un equipo en particular, si no que tener la libertad de elegir entre muchos equipos que compiten entre si para saber cuál contratar. Para esto recurre a una triquiñuela recurrentemente utilizada en Data Science: Establecer una competencia abierta y pagar por el mejor modelo (i.e, que cumpla mejor sus requisitos).\n",
    "\n",
    "Para esto, el ex-influencer decide abrir una competencia en la plataforma [Codalab](https://codalab.lisn.upsaclay.fr/competitions/5521?secret_key=7ecfd279-9521-457d-8602-616532fcd813) (plataforma similar a Kaggle) la cuál, espera que se replete de buenos modelos. Los equipos que mejor evaluaciones obtengan (los primeros 3 de cada tabla) serán contratados y retribuidos con un cupón canjeable con la friolera cantidad de 1 punto bonus para el proyecto en el curso MDS7202.\n",
    "\n"
   ]
  },
  {
   "cell_type": "markdown",
   "id": "0484116c",
   "metadata": {
    "cell_id": "00003-c3cde4b4-710d-4987-b470-2494e93fb1ec",
    "deepnote_cell_height": 964.3333129882812,
    "deepnote_cell_type": "markdown",
    "tags": []
   },
   "source": [
    "\n",
    "\n",
    "### Definición Formal del Problema\n",
    "\n",
    "El objetivo de este proyecto es aplicar todo lo aprendido hasta este momento con el fin de solucionar 2 problemas distintos: \n",
    "\n",
    "1. **Clasificación de potenciales evaluaciones con las que los consumidores evaluarán las películas**. Las posibles clases que deben asignar a cada juego son `('Negative', 'Mixed', 'Mostly Positive', 'Positive', 'Very Positive')`. La métrica de evaluación utilizada para medir la clasificación es `f1_macro`.\n",
    "2. **Regresión de los potenciales ingresos que tendrán las películas**. La métrica de evaluación utilizada para medir la clasificación es `r_2`.\n",
    "\n",
    "Para esto, ustedes contarán un dataset que cuenta con diversa información sobre películas (tales como productora, actores, duración, fecha de lanzamiento, keywords, etc...) más las etiquetas y valores a predecir.\n",
    "\n",
    "El objetivo final es que generen el mejor modelo posible para ambos problemas y que con estos, participen en la competencia habilitada en el siguiente ([link](https://codalab.lisn.upsaclay.fr/competitions/5521?secret_key=7ecfd279-9521-457d-8602-616532fcd813)).\n",
    "\n",
    "### Competencias de Data Science\n",
    "\n",
    "> Una competencia de Data Science funciona generalmente de la siguiente manera: \n",
    "\n",
    "1. Se plantea un problema que los equipos deben resolver.\n",
    "2. Se provee de datos de entrenamiento a los equipos para que generen modelos que resuelvan el problema.\n",
    "3. Se provee de datos de prueba que los equipos deberán predecir con los modelos creados. Una vez predichos, los equipos deben subir los archivos a la plataforma, la cuál los evaluará y publicará en un tablero disponible para todos los participantes.\n",
    "\n",
    "Existen muchos sitios en donde se publican competencias recurrentemente tales como [Kaggle](https://www.kaggle.com/) y [Codalab](https://codalab.lisn.upsaclay.fr/).\n",
    "\n",
    "### Competencia del Proyecto\n",
    "\n",
    "Para este proyecto, para participar en la competencia se les proveerá de tres datasets: `train_numerical_features.parquet`, `train_text_features.parquet` y `test.pickle`.\n",
    "\n",
    "- `train_numerical_features.parquet` y `train_text_features.parquet` deben usarlos como conjunto de entrenamiento del modelo; por lo que incluye las etiquetas y valores por predecir. noten que esto no implica que no deban hacer *holdout* para evaluar internamente su modelo (en este caso, el set de test es llamado de *validación*). Por otro lado, se recomienda que junten ambos archivos para generar el tablón final de entrenamiento.\n",
    "\n",
    "- `test.pickle` se usará para evaluar el rendimiento de sus modelos en la competencia. Es decir, este dataset solo contiene características de las películas y ustedes deberán predecir tanto las potenciales evaluaciones como las ganancias de estas y subir sus resultados.\n",
    "\n",
    "Para subir archivos a la competencia deberán registrarse en Codalab. Para evitar overfitting y/o que intenten adivinar los datos de testing, **puden participar máximo 5 veces en la competencia**. Usenlos sabiamente.\n",
    "\n",
    "**MUY IMPORTANTE**: Para la clasificación no usen las ganancias (target de la regresión) como atributo. Por otro lado, para la regresión no utilicen las evaluaciones como atributo para predecir. **Infringir estas reglas implicará en no contar el puntaje de la competencia como también descuentos en los items de clasificación como de regresión.** Recuerden que esta es información del \"futuro\": cuando estén las propuestas de películas no dispondremos de estas.\n",
    "\n",
    "\n"
   ]
  },
  {
   "cell_type": "markdown",
   "id": "dc0593a5",
   "metadata": {
    "cell_id": "00004-a4f74232-f16f-4b68-9488-a39082e07e79",
    "deepnote_cell_height": 8913.283203125,
    "deepnote_cell_type": "markdown",
    "owner_user_id": "badcc427-fd3d-4615-9296-faa43ec69cfb"
   },
   "source": [
    "---\n",
    "\n",
    "## Secciones Requeridas en el Informe\n",
    "\n",
    "La siguiente lista detalla las secciones que debe contener su notebook para resolver el proyecto. Es importante que al momento de desarrollar cada una de las secciones, estas sean escritas en un formato tipo **informe**, donde describan detalladamente cada uno de los puntos realizados.\n",
    "\n",
    "### 1. Introducción [0.5 Puntos]\n",
    "\n",
    "*Esta sección es literalmente una muy breve introducción con todo lo necesario para entender que hicieron en su proyecto.*\n",
    "\n",
    "- Describir brevemente ambos problemas planteados (clasificación y regresión).\n",
    "- Describir brevemente los datos de entrada que les provee el problema. \n",
    "- Describir qué métricas se ocupan para la evaluación del problema y por qué se utilizan.\n",
    "- [Escribir al final] Describir brevemente el modelo que usaron para resolver el problema (incluyendo las transformaciones intermedias de datos).\n",
    "- [Escribir al final] Indicar si lograron resolver el problema a través de su modelo. Indiquen además si creen que los resultados de su mejor modelo son aceptables y como les fue con respecto al resto de los equipos.\n",
    "\n",
    "### 2. Preparación del Dataset y Análisis Exploratorio de Datos [2 Puntos]\n",
    "\n",
    "\n",
    "*La idea de esta sección es que preparen y exploren el dataset y obtengan una idea de como son los datos de su problema para que en la siguientes secciones, puedan modelarlos.*\n",
    "\n",
    "#### Carga y Preparación de los Datos\n",
    "\n",
    "Primero, se les solicita que ejecuten los siguientes pasos de carga de datos:\n",
    "\n",
    "- Cargar los datos con Pandas y fusionar por `id`.\n",
    "- Eliminar columnas `'poster_path'`, `'backdrop_path'`, `'recommendations'`.\n",
    "- Filtrar ejemplos con `revenue` igual a 0.\n",
    "- Filtrar ejemplos con `release_date` y `runtime` nulos.\n",
    "- Convertir fechas de release_date a `pd.DateTime`.\n",
    "- Conservar solo los ejemplos con `status` `\"Released\"`.\n",
    "- Rellenar valores nulos categóricos y de texto con `''`.\n",
    "- Discretizar `vote_average` a los siguientes bins y guardar los resultados en la columna `label`: \n",
    "  - (0, 5]: `'Negative'`\n",
    "  - (5, 6]: `'Mixed'`\n",
    "  - (6, 7]: `'Mostly Positive'`\n",
    "  - (7, 8]: `'Positive'`\n",
    "  - (8, 10]: `'Very Positive'`\n",
    "- Eliminar la columna `vote_average` e `id`\n",
    "- Renombrar la columna `revenue` por `target`.\n",
    "\n",
    "Todos los pasos anteriormente nombrados deben ser realizados con Pandas y sus métodos, y sin la ayuda de ningún ciclo `for`. Si no conoce alguna operación, se recomienda fuertemente buscar en la web antes de intentar hacerlo por fuerza bruta.\n",
    "\n",
    "#### EDA\n",
    "\n",
    "Luego, se les solicita que realizen un EDA en donde hagan tareas generales como:\n",
    "\n",
    "- Analizar los tipos de datos y distribuciones de las variables a través de histogramas.\n",
    "- Generar visualizaciones de las interacciones (como por ejemplo, una scatter matrix) en las distintas variables.\n",
    "- Ver las correlaciones entre las distintas variables y los valores faltantes de cada una de estas. \n",
    "- Proyectar los datos con UMAP para ver si existen relaciones entre las distintas variables de forma bi o tri dimensional.\n",
    "- Reportar los patrones y relaciones interesantes.\n",
    "\n",
    "Como también tareas particulares como:\n",
    "\n",
    "- Genenrar un scatterplot de `budget` vs `target` (ex-revenue).\n",
    "- Buscar las peliculas de Marvel y hacer un scatter plot que en el eje x contenga `budget` y en el eje y `target` (ex-revenue). Utilice las columnas `` como `` y como `hover_name` .\n",
    "- Graficar a través de un gráfico de barras las 50 productoras más frecuentes. Incluya la cantidad de `nans`.\n",
    "- Graficar a través de un gráfico de barras los 50 artistas más frecuentes. \n",
    "\n",
    "Las tareas mencionadas anteriormente son lo mínimo. Sin embargo, ojalá no se restringan a lo mencionado anteriormente y exploren aún más en profundidad. Pueden usar tanto **`pandas`** como **plotly** y ``pandas profiling`` para esto. En el caso de generar un profile, adjuntar los resultados en el notebook.\n",
    "\n",
    "### 3. Preparación de Datos [0.5 Punto]\n",
    "\n",
    "#### ColumnTransformer y Holdout\n",
    "\n",
    "*Esta sección consiste en generar los distintos pasos para preparar sus datos con el fin de luego poder crear su modelo.*\n",
    "\n",
    "Generar un ColumnTransformer que:\n",
    "\n",
    "- Preprocese datos categóricos y ordinales.\n",
    "- Escale/estandarice datos numéricos.\n",
    "- Codifique texto.\n",
    "\n",
    "Luego, pruebe las transformaciones utilizando `fit_transform` y `get_feature_names out`.\n",
    "\n",
    "Posteriormente, ejecute un Holdout que le permita más adelante evaluar los modelos. **Recuerde eliminar los target y las labels del dataset antes de dividirlo**.\n",
    "\n",
    "#### Feature Engineering\n",
    "\n",
    "Adicionalmente puede generar una nueva transformación que genere nuevas features y que se aplique antes del ColumnTransformer dentro del pipeline de los modelos. Investigar [`FunctionTransformer`](https://scikit-learn.org/stable/modules/generated/sklearn.preprocessing.FunctionTransformer.html) para ver como implementar una transformación a partir de una función que tome un dataframe y entregue uno distinto en la salida.\n",
    "\n",
    "- Encodear ciclicamente los meses/días de las fechas de lanzamiento.\n",
    "- Contar cuantas veces aparecen en las peliculas ciertos personajes célebres.\n",
    "- Indicar si la pelicula es de una productora famosa o no.\n",
    "- Agrupar distintas keywords en categorías más generales.\n",
    "- Generar ratios con las variables numericas del dataset (como duración de la película/presupuesto).\n",
    "- Contar los diferentes generos similares que posee una pelicula.\n",
    "- Extraer vectores desde los overviews de las peliculas.\n",
    "- Contar el número de actores/productoras/géneros.\n",
    "- Etc... Usen su creatividad!\n",
    "\n",
    "Nuevamente, recuerde no utilizar ni los targets ni las labels para generar nuevas features.\n",
    "\n",
    "Nota: Este último paso no es requisito pero puede catapultarlos a la cima del tablero de las competencias.\n",
    "\n",
    "### 4. Clasificación [1.5 puntos]\n",
    "\n",
    "#### Creación del modelo **Dummy** y del *Baseline* [0.5 Puntos]\n",
    "\n",
    "*En esta sección crearán el modelo más básico posible que resuelva el problema. La idea de este modelo usarlo como comparación para que en el siguiente paso lo puedan mejorar.*\n",
    "\n",
    "- Generar un modelo Dummy con estrategia estratificada que les permita comparar más adelante si su baseline de clasificación es mejor que el azar.\n",
    "- Generar un pipeline para la clasificación con un clasificador relativamente sencillo a la salida (a su elección, recomendado: arbol de decisión).\n",
    "- Evaluar ambos modelos según las métricas de evaluación y reportar.\n",
    "\n",
    "#### Optimización del Modelo [1 Puntos]\n",
    "\n",
    "*Aquí deberán mejorar del modelo de clasificación al variar los algoritmos/hiperparámetros que están ocupando.*\n",
    "\n",
    "- Generar una nueva `Pipeline` enfocada en buscar el mejor modelo usando GridSearch.\n",
    "- Usar **`GridSearchCV`** o **`HalvingGridSearchCV`** para tunear hipermarámetros. La primera demorará más que la segunda pero les traerá potencialmente mejores resultados. Pueden probar también [`OptunaSearchCV`](https://optuna.readthedocs.io/en/stable/reference/generated/optuna.integration.OptunaSearchCV.html) de la librería [`Optuna`](https://optuna.org/) , la cuál es bastante popular para buscar modelos de redes neuronales.\n",
    "- Agregar técnicas de seleccion de atributos, como también usar mejores clasificadores y explorar sus hiperparámetros. \n",
    "- Probar distintos parámetros para las transformaciones de datos, seleccion de atributos, clasificadores, etc...\n",
    "- Probar modelos basados en gradient boosting/bagging. **Recomendación fuerte:** Probar [`LightGMB`](https://lightgbm.readthedocs.io/en/latest/) o [`xgboost`](https://xgboost.readthedocs.io/en/stable/).\n",
    "- Probar activando/descativando los procesadores de texto, de categorías, etc...\n",
    "- Recuerden setear la búsqueda para optimizar la métrica que se evalua en la competencia.\n",
    "\n",
    "Algunas notas interesantes sobre este proceso: \n",
    "\n",
    "- No se les pide rendimientos cercanos al 100% de la métrica para concretar exitosamente el proyecto. Por otra parte, celebren cada progreso que obtengan.\n",
    "- Hagan grillas computables: Si la grilla se va a demorar 1/3 la edad del universo en explorarse completamente, entonces achíquenla a algo que sepan que va a terminar. \n",
    "- Aprovechen el procesamiento paralelo (con `njobs`) para acelerar la búsqueda. Sin embargo, si tienen problemas con la memoria RAM, reduzca la cantidad de jobs a algo que su computador/interprete web pueda procesar.\n",
    "\n",
    "**Al final de este proceso, seleccione el mejor modelo de clasificación encontrado, prediga las labels del test set de la competencia y envíelos a Codalab.**\n",
    "\n",
    "### 4. Regresión [1.5 Puntos]\n",
    "\n",
    "#### Creación del modelo **Dummy** y del *Baseline* [0.5 Punto]\n",
    "\n",
    "*En esta sección crearán el modelo más básico posible que resuelva el segundo problema, el de las ganancias. La idea de este modelo usarlo como comparación para que en el siguiente paso lo puedan mejorar.*\n",
    "\n",
    "- Generar un modelo Dummy que les permita comparar más adelante si su baseline de regresión es mejor que el azar.\n",
    "- Generar un pipeline para la regresión con un regresor relativamente sencillo de utilizar (a su elección, recomendado: arbol de decisión).\n",
    "- Evaluar ambos modelos según las métricas de evaluación y reportar.\n",
    "\n",
    "#### Optimización del Modelo [1 Puntos]\n",
    "\n",
    "*Aquí deberán mejorar del modelo de regresión al variar los algoritmos/hiperparámetros que están ocupando.*\n",
    "\n",
    "- Generar una nueva `Pipeline` enfocada en buscar el mejor modelo usando GridSearch.\n",
    "- Usar **`GridSearchCV`** o **`HalvingGridSearchCV`** para tunear hipermarámetros. La primera demorará más que la segunda pero les traerá potencialmente mejores resultados. Pueden probar también [`OptunaSearchCV`](https://optuna.readthedocs.io/en/stable/reference/generated/optuna.integration.OptunaSearchCV.html) de la librería [`Optuna`](https://optuna.org/) , la cuál es bastante popular para buscar modelos de redes neuronales.\n",
    "- Agregar técnicas de seleccion de atributos, como también usar mejores clasificadores y explorar sus hiperparámetros. \n",
    "- Probar distintos parámetros para las transformaciones de datos, seleccion de atributos, clasificadores, etc...\n",
    "- Probar modelos basados en gradient boosting/bagging. **Recomendación fuerte:** Probar las librerías [`LightGMB`](https://lightgbm.readthedocs.io/en/latest/) o [`xgboost`](https://xgboost.readthedocs.io/en/stable/).\n",
    "- Probar activando/descativando los procesadores de texto, de categorías, etc...\n",
    "- Recuerden setear la búsqueda para optimizar la métrica que se evalua en la competencia.\n",
    "\n",
    "\n",
    "\n",
    "Algunas notas interesantes sobre este proceso (las mismas que antes...): \n",
    "\n",
    "- No se les pide rendimientos cercanos al 100% de la métrica para concretar exitosamente el proyecto. Por otra parte, celebren cada progreso que obtengan.\n",
    "- Hagan grillas computables: Si la grilla se va a demorar 1/3 la edad del universo en explorarse completamente, entonces achíquenla a algo que sepan que va a terminar. \n",
    "- Aprovechen el procesamiento paralelo (con `njobs`) para acelerar la búsqueda. Sin embargo, si tienen problemas con la memoria RAM, reduzca la cantidad de jobs a algo que su computador/interprete web pueda procesar.\n",
    "\n",
    "**Al final de este proceso, seleccione el mejor modelo de regresión encontrado, prediga los target del test set de la competencia y envíelos a Codalab.**\n",
    "\n",
    "\n",
    "### 6. Concluir [0.5 Punto] \n",
    "\n",
    "\n",
    "*Aquí deben escribir una breve conclusión del trabajo que hicieron en donde incluyan (pero no se limiten) a responder las siguientes preguntas:*\n",
    "\n",
    "- ¿Pudieron resolver exitosamente el problema?\n",
    "- ¿Son aceptables los resultados obtenidos?\n",
    "- ¿En que medida el EDA ayudó a comprender los datos en miras de generar un modelo predictivo?\n",
    "\n",
    "Respecto a la clasificación:\n",
    "\n",
    "- ¿Como fue el rendimiento del baseline para la clasificación?\n",
    "- ¿Pudieron optimizar el baseline para la clasificación?\n",
    "- ¿Que tanto mejoro el baseline de la clasificación con respecto a sus optimizaciones?\n",
    "\n",
    "Respecto a la regresión:\n",
    "\n",
    "- ¿Como fue el rendimiento del baseline para la clasificación?\n",
    "- ¿Pudieron optimizar el baseline para la clasificación?\n",
    "- ¿Que tanto mejoro el baseline de la clasificación con respecto a sus optimizaciones?\n",
    "\n",
    "Finalmente: \n",
    "\n",
    "- ¿Estuvieron conformes con sus resultados?\n",
    "- ¿Creen que hayan mejores formas de modelar el problema?\n",
    "- ¿En general, qué aprendieron del proyecto? ¿Qué no aprendieron y les gustaría haber aprendido?\n",
    "\n",
    "**OJO** si usted decide responder parte de estas preguntas, debe redactarlas en un formato de informe y no responderlas directamente.\n",
    "\n",
    "### 7. Punto por superar el baseline de la competencia. [1 Punto]\n",
    "\n",
    "*Este punto es solo informativo, no deben escribir nada aquí*\n",
    "\n",
    "\n",
    "### Otras Instrucciones\n",
    "\n",
    "Pueden separar las tareas en 3 notebooks distintos: EDA, clasificación y regresión. Esto les permitirá tener el código de estas tres secciones separadas y mejor ordenado a la vez que reduce el uso de memoria RAM.\n",
    "Noten que una estructura así requerirá que la etapa de carga y preparación de los datos esté presente en los 3 notebooks (para que trabaje con el mismo dataset en cada instancia). "
   ]
  },
  {
   "cell_type": "markdown",
   "id": "60a78c39",
   "metadata": {
    "cell_id": "00005-aeba1c85-fe35-4f74-9923-d2edc00d7e60",
    "deepnote_cell_height": 249.23333740234375,
    "deepnote_cell_type": "markdown"
   },
   "source": [
    "---\n",
    "\n",
    "## Esquema de la Tarea\n",
    "\n",
    "\n",
    "Pueden usar el siguiente esquema para organizar la tarea (y borrar todo lo anterior).\n",
    "Obviamente **no deben limitarse a lo que está escrito en esta**: puede incrementar en caso de más técnicas y obviar algunas partes en caso que alguna y otro punto no aplique a su problema.\n",
    "\n",
    "Pueden borrar las instrucciones anteriores y quedarse solo con lo que viene a continuación.\n",
    "\n",
    "\n",
    "---\n",
    "---\n",
    "<br>\n",
    "\n",
    "<br>\n",
    "\n",
    "<br>"
   ]
  },
  {
   "cell_type": "markdown",
   "id": "2c496a6f",
   "metadata": {
    "cell_id": "00006-84a35c5d-0758-4cbb-b2ca-b182898b80d0",
    "deepnote_cell_height": 295.8833312988281,
    "deepnote_cell_type": "markdown"
   },
   "source": [
    "\n",
    "\n",
    "# Proyecto\n",
    "\n",
    "### Equipo:\n",
    "\n",
    "- \\<Primer integrante\\>\n",
    "- \\<Segundo integrante\\>\n",
    "\n",
    "- \\<Nombre de usuarios en Codalab\\>\n",
    "\n",
    "- \\<Nombre del Equipo en Codalab\\>\n",
    "\n",
    "### Link de repositorio de GitHub: `\\<http://....\\>`\n",
    "\n"
   ]
  },
  {
   "cell_type": "code",
   "execution_count": 2,
   "id": "d75e9eb0-c860-4ee0-bbd6-fbfc15bbcab2",
   "metadata": {},
   "outputs": [],
   "source": [
    "import pandas as pd\n",
    "import numpy as np"
   ]
  },
  {
   "cell_type": "markdown",
   "id": "a6dbfdc8",
   "metadata": {
    "cell_id": "00007-447f1977-318e-432f-ba83-12d7e667ae68",
    "deepnote_cell_height": 253.13333129882812,
    "deepnote_cell_type": "markdown"
   },
   "source": [
    "\n",
    "## 1. Introducción\n",
    "\n",
    "El objetivo de este proyecto consiste en ...\n",
    "\n",
    "Los datos que proveen es un dataset con X ejemplos que describen una observación de ... \n",
    "Son N atributos y la variables objetivos son de tipo ... y ...\n",
    "\n",
    "La primera tarea se evalua en base a la métrica ... ya que esta permite medir ...\n",
    "\n",
    "Nuestra propuesta para resolver el problema consistió en modelo de clasificación basado en...\n",
    "\n",
    "Nuestro modelo cumplió/no cumplió las expectativas..."
   ]
  },
  {
   "cell_type": "markdown",
   "id": "43d84ef1",
   "metadata": {
    "cell_id": "00008-6607fdcd-a35f-4e75-9b46-da3b181c1551",
    "deepnote_cell_height": 69.69999694824219,
    "deepnote_cell_type": "markdown"
   },
   "source": [
    "---\n",
    "## 2. Prepración y Análisis Exploratorio de Datos"
   ]
  },
  {
   "cell_type": "code",
   "execution_count": 3,
   "id": "e484191b",
   "metadata": {
    "cell_id": "00009-e413acae-3cf7-44db-847c-b846e3673adc",
    "deepnote_cell_height": 80.13333129882812,
    "deepnote_cell_type": "code",
    "deepnote_to_be_reexecuted": false,
    "execution_start": 1637954166425,
    "source_hash": "55969c6e"
   },
   "outputs": [],
   "source": [
    "##  Código Preparación de Datos.\n",
    "train_numerical = pd.read_parquet(\"train_numerical_features.parquet\")\n",
    "train_text = pd.read_parquet(\"train_text_features.parquet\")\n",
    "test = pd.read_pickle(\"test.pickle\")"
   ]
  },
  {
   "cell_type": "code",
   "execution_count": 4,
   "id": "d6ea2090-b08e-44d5-ab62-fc6e3f5e0cdf",
   "metadata": {},
   "outputs": [],
   "source": [
    "# Fusionar datos\n",
    "train = pd.merge(\n",
    "    left = train_numerical,\n",
    "    right = train_text,\n",
    "    on = \"id\",\n",
    "    sort = True,\n",
    "    how = \"outer\")"
   ]
  },
  {
   "cell_type": "code",
   "execution_count": 5,
   "id": "bdfa56ee-8311-4eca-a498-568ecf0ec712",
   "metadata": {},
   "outputs": [],
   "source": [
    "# Dropear columnas\n",
    "train.drop([\"poster_path\", \"backdrop_path\", \"recommendations\"], axis=1, inplace=True)"
   ]
  },
  {
   "cell_type": "code",
   "execution_count": 6,
   "id": "549f8b19-3b2e-4b66-b900-7ee67d3b01f8",
   "metadata": {},
   "outputs": [],
   "source": [
    "# Filtrar\n",
    "train = train[train.revenue != 0]\n",
    "train = train[train.release_date != 0]\n",
    "train = train[train.runtime != 0]"
   ]
  },
  {
   "cell_type": "code",
   "execution_count": 7,
   "id": "39e8b343-1b3f-4cce-9320-c4a7b89eb4b4",
   "metadata": {},
   "outputs": [],
   "source": [
    "# Convertir fechas\n",
    "train[\"release_date\"] = pd.to_datetime(train[\"release_date\"])"
   ]
  },
  {
   "cell_type": "code",
   "execution_count": 8,
   "id": "8d002e29-0e47-4c84-8d0d-0bbf5acde212",
   "metadata": {},
   "outputs": [],
   "source": [
    "# Conservar solo los ejemplos con status \"Released\".\n",
    "train = train[train.status == \"Released\"]"
   ]
  },
  {
   "cell_type": "code",
   "execution_count": 9,
   "id": "d0daf83e-41f5-4698-975d-16502c08570b",
   "metadata": {},
   "outputs": [],
   "source": [
    "# Rellenar valores nulos categóricos y de texto con ''\n",
    "numeric = [\"id\", \"budget\", \"revenue\", \"runtime\"]\n",
    "not_numeric = train.columns.to_list() \n",
    "for n in numeric:\n",
    "    not_numeric.remove(n)\n",
    "\n",
    "train[not_numeric] = train[not_numeric].replace(np.nan, \"\")"
   ]
  },
  {
   "cell_type": "code",
   "execution_count": 10,
   "id": "cdd04a5e-a2b7-4fe5-8294-5039e7f7d66e",
   "metadata": {},
   "outputs": [],
   "source": [
    "# Discretizar vote_avarage\n",
    "train[\"vote_average\"] = pd.cut(train[\"vote_average\"], \n",
    "                               bins=[0, 5, 6, 7, 8, 10],\n",
    "                               labels=[\"Negative\", \"Mixed\", \"Mostly Positive\", \"Positive\", \"Very Positive\"])\n",
    "\n",
    "train[\"label\"] = train[\"vote_average\"].to_list()"
   ]
  },
  {
   "cell_type": "code",
   "execution_count": 12,
   "id": "f8698dc5-5be0-4ece-9186-6e56d72ae868",
   "metadata": {},
   "outputs": [],
   "source": [
    "# Eliminar la columna vote_average e id\n",
    "train.drop([\"vote_average\", \"id\"], axis=1, inplace=True)"
   ]
  },
  {
   "cell_type": "code",
   "execution_count": 13,
   "id": "5ad60d1e-766d-42fd-81e9-2a114ed064bc",
   "metadata": {},
   "outputs": [],
   "source": [
    "# Renombrar la columna revenue por target\n",
    "train.rename(columns={\"revenue\": \"target\"}, inplace=True)"
   ]
  },
  {
   "cell_type": "code",
   "execution_count": 14,
   "id": "86922b75-2a1d-48af-b01a-03385488476c",
   "metadata": {},
   "outputs": [
    {
     "data": {
      "text/html": [
       "<div>\n",
       "<style scoped>\n",
       "    .dataframe tbody tr th:only-of-type {\n",
       "        vertical-align: middle;\n",
       "    }\n",
       "\n",
       "    .dataframe tbody tr th {\n",
       "        vertical-align: top;\n",
       "    }\n",
       "\n",
       "    .dataframe thead th {\n",
       "        text-align: right;\n",
       "    }\n",
       "</style>\n",
       "<table border=\"1\" class=\"dataframe\">\n",
       "  <thead>\n",
       "    <tr style=\"text-align: right;\">\n",
       "      <th></th>\n",
       "      <th>title_x</th>\n",
       "      <th>budget</th>\n",
       "      <th>target</th>\n",
       "      <th>runtime</th>\n",
       "      <th>status</th>\n",
       "      <th>tagline_x</th>\n",
       "      <th>credits_x</th>\n",
       "      <th>title_y</th>\n",
       "      <th>genres</th>\n",
       "      <th>original_language</th>\n",
       "      <th>overview</th>\n",
       "      <th>production_companies</th>\n",
       "      <th>release_date</th>\n",
       "      <th>tagline_y</th>\n",
       "      <th>credits_y</th>\n",
       "      <th>keywords</th>\n",
       "      <th>label</th>\n",
       "    </tr>\n",
       "  </thead>\n",
       "  <tbody>\n",
       "    <tr>\n",
       "      <th>0</th>\n",
       "      <td>Four Rooms</td>\n",
       "      <td>4000000.0</td>\n",
       "      <td>4257354.0</td>\n",
       "      <td>98.0</td>\n",
       "      <td>Released</td>\n",
       "      <td>Twelve outrageous guests. Four scandalous requ...</td>\n",
       "      <td>Tim Roth-Jennifer Beals-Antonio Banderas-Valer...</td>\n",
       "      <td>Four Rooms</td>\n",
       "      <td>Crime-Comedy</td>\n",
       "      <td>en</td>\n",
       "      <td>It's Ted the Bellhop's first night on the job....</td>\n",
       "      <td>Miramax-A Band Apart</td>\n",
       "      <td>1995-12-09</td>\n",
       "      <td>Twelve outrageous guests. Four scandalous requ...</td>\n",
       "      <td>Tim Roth-Jennifer Beals-Antonio Banderas-Valer...</td>\n",
       "      <td>hotel-new year's eve-witch-bet-hotel room-sper...</td>\n",
       "      <td>Mixed</td>\n",
       "    </tr>\n",
       "    <tr>\n",
       "      <th>1</th>\n",
       "      <td>Judgment Night</td>\n",
       "      <td>21000000.0</td>\n",
       "      <td>12136938.0</td>\n",
       "      <td>110.0</td>\n",
       "      <td>Released</td>\n",
       "      <td>Don't move. Don't whisper. Don't even breathe.</td>\n",
       "      <td>Emilio Estevez-Cuba Gooding Jr.-Denis Leary-St...</td>\n",
       "      <td>Judgment Night</td>\n",
       "      <td>Action-Thriller-Crime</td>\n",
       "      <td>en</td>\n",
       "      <td>While racing to a boxing match Frank Mike John...</td>\n",
       "      <td>Universal Pictures-Largo Entertainment-JVC</td>\n",
       "      <td>1993-10-15</td>\n",
       "      <td>Don't move. Don't whisper. Don't even breathe.</td>\n",
       "      <td>Emilio Estevez-Cuba Gooding Jr.-Denis Leary-St...</td>\n",
       "      <td>chicago illinois-drug dealer-escape-one night-...</td>\n",
       "      <td>Mostly Positive</td>\n",
       "    </tr>\n",
       "    <tr>\n",
       "      <th>2</th>\n",
       "      <td>Star Wars</td>\n",
       "      <td>11000000.0</td>\n",
       "      <td>775398007.0</td>\n",
       "      <td>121.0</td>\n",
       "      <td>Released</td>\n",
       "      <td>A long time ago in a galaxy far, far away...</td>\n",
       "      <td>Mark Hamill-Harrison Ford-Carrie Fisher-Peter ...</td>\n",
       "      <td>Star Wars</td>\n",
       "      <td>Adventure-Action-Science Fiction</td>\n",
       "      <td>en</td>\n",
       "      <td>Princess Leia is captured and held hostage by ...</td>\n",
       "      <td>Lucasfilm Ltd.-20th Century Fox</td>\n",
       "      <td>1977-05-25</td>\n",
       "      <td>A long time ago in a galaxy far, far away...</td>\n",
       "      <td>Mark Hamill-Harrison Ford-Carrie Fisher-Peter ...</td>\n",
       "      <td>android-galaxy-hermit-smuggling (contraband)-d...</td>\n",
       "      <td>Very Positive</td>\n",
       "    </tr>\n",
       "    <tr>\n",
       "      <th>3</th>\n",
       "      <td>Finding Nemo</td>\n",
       "      <td>94000000.0</td>\n",
       "      <td>940335536.0</td>\n",
       "      <td>100.0</td>\n",
       "      <td>Released</td>\n",
       "      <td>There are 3.7 trillion fish in the ocean. They...</td>\n",
       "      <td>Albert Brooks-Ellen DeGeneres-Alexander Gould-...</td>\n",
       "      <td>Finding Nemo</td>\n",
       "      <td>Animation-Family</td>\n",
       "      <td>en</td>\n",
       "      <td>Nemo an adventurous young clownfish is unexpec...</td>\n",
       "      <td>Pixar</td>\n",
       "      <td>2003-05-30</td>\n",
       "      <td>There are 3.7 trillion fish in the ocean. They...</td>\n",
       "      <td>Albert Brooks-Ellen DeGeneres-Alexander Gould-...</td>\n",
       "      <td>parent child relationship-sydney australia-har...</td>\n",
       "      <td>Positive</td>\n",
       "    </tr>\n",
       "    <tr>\n",
       "      <th>4</th>\n",
       "      <td>Forrest Gump</td>\n",
       "      <td>55000000.0</td>\n",
       "      <td>677387716.0</td>\n",
       "      <td>142.0</td>\n",
       "      <td>Released</td>\n",
       "      <td>The world will never be the same once you've s...</td>\n",
       "      <td>Tom Hanks-Robin Wright-Gary Sinise-Mykelti Wil...</td>\n",
       "      <td>Forrest Gump</td>\n",
       "      <td>Comedy-Drama-Romance</td>\n",
       "      <td>en</td>\n",
       "      <td>A man with a low IQ has accomplished great thi...</td>\n",
       "      <td>Paramount-The Steve Tisch Company-Wendy Finerm...</td>\n",
       "      <td>1994-06-23</td>\n",
       "      <td>The world will never be the same once you've s...</td>\n",
       "      <td>Tom Hanks-Robin Wright-Gary Sinise-Mykelti Wil...</td>\n",
       "      <td>vietnam veteran-hippie-washington dc usa-menta...</td>\n",
       "      <td>Very Positive</td>\n",
       "    </tr>\n",
       "    <tr>\n",
       "      <th>...</th>\n",
       "      <td>...</td>\n",
       "      <td>...</td>\n",
       "      <td>...</td>\n",
       "      <td>...</td>\n",
       "      <td>...</td>\n",
       "      <td>...</td>\n",
       "      <td>...</td>\n",
       "      <td>...</td>\n",
       "      <td>...</td>\n",
       "      <td>...</td>\n",
       "      <td>...</td>\n",
       "      <td>...</td>\n",
       "      <td>...</td>\n",
       "      <td>...</td>\n",
       "      <td>...</td>\n",
       "      <td>...</td>\n",
       "      <td>...</td>\n",
       "    </tr>\n",
       "    <tr>\n",
       "      <th>9564</th>\n",
       "      <td>Belfast</td>\n",
       "      <td>0.0</td>\n",
       "      <td>30000000.0</td>\n",
       "      <td>98.0</td>\n",
       "      <td>Released</td>\n",
       "      <td>No matter how far you go, you never forget whe...</td>\n",
       "      <td>Jude Hill-Caitríona Balfe-Jamie Dornan-Judi De...</td>\n",
       "      <td>Belfast</td>\n",
       "      <td>Drama</td>\n",
       "      <td>en</td>\n",
       "      <td>Buddy is a young boy on the cusp of adolescenc...</td>\n",
       "      <td>Northern Ireland Screen-TKBC-Focus Features</td>\n",
       "      <td>2021-11-12</td>\n",
       "      <td>No matter how far you go, you never forget whe...</td>\n",
       "      <td>Jude Hill-Caitríona Balfe-Jamie Dornan-Judi De...</td>\n",
       "      <td>working class-black and white-belfast north ir...</td>\n",
       "      <td>Positive</td>\n",
       "    </tr>\n",
       "    <tr>\n",
       "      <th>9587</th>\n",
       "      <td>The Outfit</td>\n",
       "      <td>0.0</td>\n",
       "      <td>3186865.0</td>\n",
       "      <td>105.0</td>\n",
       "      <td>Released</td>\n",
       "      <td>Everyone has something up their sleeve.</td>\n",
       "      <td>Mark Rylance-Johnny Flynn-Zoey Deutch-Dylan O'...</td>\n",
       "      <td>The Outfit</td>\n",
       "      <td>Crime-Drama-Thriller</td>\n",
       "      <td>en</td>\n",
       "      <td>Leonard is an English tailor who used to craft...</td>\n",
       "      <td>Focus Features-FilmNation Entertainment-Unifie...</td>\n",
       "      <td>2022-02-25</td>\n",
       "      <td>Everyone has something up their sleeve.</td>\n",
       "      <td>Mark Rylance-Johnny Flynn-Zoey Deutch-Dylan O'...</td>\n",
       "      <td>chicago illinois-murder-organized crime-mobste...</td>\n",
       "      <td>Positive</td>\n",
       "    </tr>\n",
       "    <tr>\n",
       "      <th>9588</th>\n",
       "      <td>Werewolves Within</td>\n",
       "      <td>6500000.0</td>\n",
       "      <td>250811.0</td>\n",
       "      <td>97.0</td>\n",
       "      <td>Released</td>\n",
       "      <td>A whodunnit with teeth.</td>\n",
       "      <td>Sam Richardson-Milana Vayntrub-George Basil-Sa...</td>\n",
       "      <td>Werewolves Within</td>\n",
       "      <td>Horror-Comedy</td>\n",
       "      <td>en</td>\n",
       "      <td>When a proposed pipeline creates hostilities b...</td>\n",
       "      <td>Ubisoft Film &amp; Television-Vanishing Angle</td>\n",
       "      <td>2021-06-25</td>\n",
       "      <td>A whodunnit with teeth.</td>\n",
       "      <td>Sam Richardson-Milana Vayntrub-George Basil-Sa...</td>\n",
       "      <td>hotel-isolation-snowstorm-transformation-fores...</td>\n",
       "      <td>Mostly Positive</td>\n",
       "    </tr>\n",
       "    <tr>\n",
       "      <th>9603</th>\n",
       "      <td>Memory</td>\n",
       "      <td>0.0</td>\n",
       "      <td>11300000.0</td>\n",
       "      <td>114.0</td>\n",
       "      <td>Released</td>\n",
       "      <td>His mind is fading. His conscience is clear.</td>\n",
       "      <td>Liam Neeson-Guy Pearce-Taj Atwal-Harold Torres...</td>\n",
       "      <td>Memory</td>\n",
       "      <td>Action-Thriller-Crime</td>\n",
       "      <td>en</td>\n",
       "      <td>Alex an assassin-for-hire finds that he's beco...</td>\n",
       "      <td>Black Bear Pictures-Welle Entertainment-Savill...</td>\n",
       "      <td>2022-04-28</td>\n",
       "      <td>His mind is fading. His conscience is clear.</td>\n",
       "      <td>Liam Neeson-Guy Pearce-Taj Atwal-Harold Torres...</td>\n",
       "      <td>assassin-remake</td>\n",
       "      <td>Positive</td>\n",
       "    </tr>\n",
       "    <tr>\n",
       "      <th>9607</th>\n",
       "      <td>Blacklight</td>\n",
       "      <td>43000000.0</td>\n",
       "      <td>15400000.0</td>\n",
       "      <td>104.0</td>\n",
       "      <td>Released</td>\n",
       "      <td>They're gonna need more men.</td>\n",
       "      <td>Liam Neeson-Emmy Raver-Lampman-Taylor John Smi...</td>\n",
       "      <td>Blacklight</td>\n",
       "      <td>Action-Thriller</td>\n",
       "      <td>en</td>\n",
       "      <td>Travis Block is a shadowy Government agent who...</td>\n",
       "      <td>The Solution-Zero Gravity Management-Film Vict...</td>\n",
       "      <td>2022-02-10</td>\n",
       "      <td>They're gonna need more men.</td>\n",
       "      <td>Liam Neeson-Emmy Raver-Lampman-Taylor John Smi...</td>\n",
       "      <td>luz negra</td>\n",
       "      <td>Mostly Positive</td>\n",
       "    </tr>\n",
       "  </tbody>\n",
       "</table>\n",
       "<p>6451 rows × 17 columns</p>\n",
       "</div>"
      ],
      "text/plain": [
       "                title_x      budget       target  runtime    status  \\\n",
       "0            Four Rooms   4000000.0    4257354.0     98.0  Released   \n",
       "1        Judgment Night  21000000.0   12136938.0    110.0  Released   \n",
       "2             Star Wars  11000000.0  775398007.0    121.0  Released   \n",
       "3          Finding Nemo  94000000.0  940335536.0    100.0  Released   \n",
       "4          Forrest Gump  55000000.0  677387716.0    142.0  Released   \n",
       "...                 ...         ...          ...      ...       ...   \n",
       "9564            Belfast         0.0   30000000.0     98.0  Released   \n",
       "9587         The Outfit         0.0    3186865.0    105.0  Released   \n",
       "9588  Werewolves Within   6500000.0     250811.0     97.0  Released   \n",
       "9603             Memory         0.0   11300000.0    114.0  Released   \n",
       "9607         Blacklight  43000000.0   15400000.0    104.0  Released   \n",
       "\n",
       "                                              tagline_x  \\\n",
       "0     Twelve outrageous guests. Four scandalous requ...   \n",
       "1        Don't move. Don't whisper. Don't even breathe.   \n",
       "2          A long time ago in a galaxy far, far away...   \n",
       "3     There are 3.7 trillion fish in the ocean. They...   \n",
       "4     The world will never be the same once you've s...   \n",
       "...                                                 ...   \n",
       "9564  No matter how far you go, you never forget whe...   \n",
       "9587            Everyone has something up their sleeve.   \n",
       "9588                            A whodunnit with teeth.   \n",
       "9603       His mind is fading. His conscience is clear.   \n",
       "9607                       They're gonna need more men.   \n",
       "\n",
       "                                              credits_x            title_y  \\\n",
       "0     Tim Roth-Jennifer Beals-Antonio Banderas-Valer...         Four Rooms   \n",
       "1     Emilio Estevez-Cuba Gooding Jr.-Denis Leary-St...     Judgment Night   \n",
       "2     Mark Hamill-Harrison Ford-Carrie Fisher-Peter ...          Star Wars   \n",
       "3     Albert Brooks-Ellen DeGeneres-Alexander Gould-...       Finding Nemo   \n",
       "4     Tom Hanks-Robin Wright-Gary Sinise-Mykelti Wil...       Forrest Gump   \n",
       "...                                                 ...                ...   \n",
       "9564  Jude Hill-Caitríona Balfe-Jamie Dornan-Judi De...            Belfast   \n",
       "9587  Mark Rylance-Johnny Flynn-Zoey Deutch-Dylan O'...         The Outfit   \n",
       "9588  Sam Richardson-Milana Vayntrub-George Basil-Sa...  Werewolves Within   \n",
       "9603  Liam Neeson-Guy Pearce-Taj Atwal-Harold Torres...             Memory   \n",
       "9607  Liam Neeson-Emmy Raver-Lampman-Taylor John Smi...         Blacklight   \n",
       "\n",
       "                                genres original_language  \\\n",
       "0                         Crime-Comedy                en   \n",
       "1                Action-Thriller-Crime                en   \n",
       "2     Adventure-Action-Science Fiction                en   \n",
       "3                     Animation-Family                en   \n",
       "4                 Comedy-Drama-Romance                en   \n",
       "...                                ...               ...   \n",
       "9564                             Drama                en   \n",
       "9587              Crime-Drama-Thriller                en   \n",
       "9588                     Horror-Comedy                en   \n",
       "9603             Action-Thriller-Crime                en   \n",
       "9607                   Action-Thriller                en   \n",
       "\n",
       "                                               overview  \\\n",
       "0     It's Ted the Bellhop's first night on the job....   \n",
       "1     While racing to a boxing match Frank Mike John...   \n",
       "2     Princess Leia is captured and held hostage by ...   \n",
       "3     Nemo an adventurous young clownfish is unexpec...   \n",
       "4     A man with a low IQ has accomplished great thi...   \n",
       "...                                                 ...   \n",
       "9564  Buddy is a young boy on the cusp of adolescenc...   \n",
       "9587  Leonard is an English tailor who used to craft...   \n",
       "9588  When a proposed pipeline creates hostilities b...   \n",
       "9603  Alex an assassin-for-hire finds that he's beco...   \n",
       "9607  Travis Block is a shadowy Government agent who...   \n",
       "\n",
       "                                   production_companies release_date  \\\n",
       "0                                  Miramax-A Band Apart   1995-12-09   \n",
       "1            Universal Pictures-Largo Entertainment-JVC   1993-10-15   \n",
       "2                       Lucasfilm Ltd.-20th Century Fox   1977-05-25   \n",
       "3                                                 Pixar   2003-05-30   \n",
       "4     Paramount-The Steve Tisch Company-Wendy Finerm...   1994-06-23   \n",
       "...                                                 ...          ...   \n",
       "9564        Northern Ireland Screen-TKBC-Focus Features   2021-11-12   \n",
       "9587  Focus Features-FilmNation Entertainment-Unifie...   2022-02-25   \n",
       "9588          Ubisoft Film & Television-Vanishing Angle   2021-06-25   \n",
       "9603  Black Bear Pictures-Welle Entertainment-Savill...   2022-04-28   \n",
       "9607  The Solution-Zero Gravity Management-Film Vict...   2022-02-10   \n",
       "\n",
       "                                              tagline_y  \\\n",
       "0     Twelve outrageous guests. Four scandalous requ...   \n",
       "1        Don't move. Don't whisper. Don't even breathe.   \n",
       "2          A long time ago in a galaxy far, far away...   \n",
       "3     There are 3.7 trillion fish in the ocean. They...   \n",
       "4     The world will never be the same once you've s...   \n",
       "...                                                 ...   \n",
       "9564  No matter how far you go, you never forget whe...   \n",
       "9587            Everyone has something up their sleeve.   \n",
       "9588                            A whodunnit with teeth.   \n",
       "9603       His mind is fading. His conscience is clear.   \n",
       "9607                       They're gonna need more men.   \n",
       "\n",
       "                                              credits_y  \\\n",
       "0     Tim Roth-Jennifer Beals-Antonio Banderas-Valer...   \n",
       "1     Emilio Estevez-Cuba Gooding Jr.-Denis Leary-St...   \n",
       "2     Mark Hamill-Harrison Ford-Carrie Fisher-Peter ...   \n",
       "3     Albert Brooks-Ellen DeGeneres-Alexander Gould-...   \n",
       "4     Tom Hanks-Robin Wright-Gary Sinise-Mykelti Wil...   \n",
       "...                                                 ...   \n",
       "9564  Jude Hill-Caitríona Balfe-Jamie Dornan-Judi De...   \n",
       "9587  Mark Rylance-Johnny Flynn-Zoey Deutch-Dylan O'...   \n",
       "9588  Sam Richardson-Milana Vayntrub-George Basil-Sa...   \n",
       "9603  Liam Neeson-Guy Pearce-Taj Atwal-Harold Torres...   \n",
       "9607  Liam Neeson-Emmy Raver-Lampman-Taylor John Smi...   \n",
       "\n",
       "                                               keywords            label  \n",
       "0     hotel-new year's eve-witch-bet-hotel room-sper...            Mixed  \n",
       "1     chicago illinois-drug dealer-escape-one night-...  Mostly Positive  \n",
       "2     android-galaxy-hermit-smuggling (contraband)-d...    Very Positive  \n",
       "3     parent child relationship-sydney australia-har...         Positive  \n",
       "4     vietnam veteran-hippie-washington dc usa-menta...    Very Positive  \n",
       "...                                                 ...              ...  \n",
       "9564  working class-black and white-belfast north ir...         Positive  \n",
       "9587  chicago illinois-murder-organized crime-mobste...         Positive  \n",
       "9588  hotel-isolation-snowstorm-transformation-fores...  Mostly Positive  \n",
       "9603                                    assassin-remake         Positive  \n",
       "9607                                          luz negra  Mostly Positive  \n",
       "\n",
       "[6451 rows x 17 columns]"
      ]
     },
     "execution_count": 14,
     "metadata": {},
     "output_type": "execute_result"
    }
   ],
   "source": [
    "train"
   ]
  },
  {
   "cell_type": "code",
   "execution_count": 9,
   "id": "413fce63",
   "metadata": {
    "cell_id": "051fb133d1264c4dab1de21415aa18b6",
    "deepnote_cell_height": 66,
    "deepnote_cell_type": "code",
    "tags": []
   },
   "outputs": [],
   "source": [
    "## Código EDA"
   ]
  },
  {
   "cell_type": "markdown",
   "id": "95579ef8",
   "metadata": {
    "cell_id": "6dfb65f58341449fb33eb025db788790",
    "deepnote_cell_height": 69.93333435058594,
    "deepnote_cell_type": "markdown",
    "tags": []
   },
   "source": [
    "```\n",
    "Análisis del EDA.\n",
    "```"
   ]
  },
  {
   "cell_type": "markdown",
   "id": "58f198fd",
   "metadata": {
    "cell_id": "00011-95957584-71f1-4669-a6e5-9b8ac7b8d4e0",
    "deepnote_cell_height": 69.69999694824219,
    "deepnote_cell_type": "markdown"
   },
   "source": [
    "---\n",
    "\n",
    "## 3. Preprocesamiento, Holdout y Feature Engineering"
   ]
  },
  {
   "cell_type": "code",
   "execution_count": null,
   "id": "0491fd2f",
   "metadata": {
    "cell_id": "00012-f977f172-2409-44c1-9ff4-118d043985cc",
    "deepnote_cell_height": 80.13333129882812,
    "deepnote_cell_type": "code",
    "deepnote_to_be_reexecuted": false,
    "execution_start": 1637954166470,
    "source_hash": "2dc8e0f4"
   },
   "outputs": [],
   "source": [
    "## Código Holdout"
   ]
  },
  {
   "cell_type": "code",
   "execution_count": null,
   "id": "433a61ac",
   "metadata": {
    "cell_id": "00014-3a4f50bf-0f3a-496f-9360-ce23ceaba0cb",
    "deepnote_cell_height": 80.13333129882812,
    "deepnote_cell_type": "code",
    "deepnote_to_be_reexecuted": false,
    "execution_start": 1637954166470,
    "source_hash": "2dc8e0f4"
   },
   "outputs": [],
   "source": [
    "## Código ColumnTransformer"
   ]
  },
  {
   "cell_type": "code",
   "execution_count": null,
   "id": "1f1c19c7",
   "metadata": {
    "cell_id": "00016-5586ef61-95ea-4f5a-8ad0-796be8c78ac0",
    "deepnote_cell_height": 80.13333129882812,
    "deepnote_cell_type": "code",
    "deepnote_to_be_reexecuted": false,
    "execution_start": 1637954166471,
    "source_hash": "2dc8e0f4"
   },
   "outputs": [],
   "source": [
    "## Código Feature Engineering (Opcional)"
   ]
  },
  {
   "cell_type": "code",
   "execution_count": null,
   "id": "5d51e87f",
   "metadata": {
    "cell_id": "ec9c0f8a2b044f858858ef3c3248c239",
    "deepnote_cell_height": 102,
    "deepnote_cell_type": "code",
    "tags": []
   },
   "outputs": [],
   "source": [
    "```\n",
    "Comentarios\n",
    "```"
   ]
  },
  {
   "cell_type": "markdown",
   "id": "dd2841be",
   "metadata": {
    "cell_id": "00018-d6de5b4a-3ce2-4aaa-9421-121c4fcaf3b5",
    "deepnote_cell_height": 117.69999694824219,
    "deepnote_cell_type": "markdown"
   },
   "source": [
    "---\n",
    "\n",
    "## 4. Clasificación\n",
    "\n",
    "### 4.1 Dummy y Baseline"
   ]
  },
  {
   "cell_type": "code",
   "execution_count": null,
   "id": "abaef2e0",
   "metadata": {
    "cell_id": "00020-830185e8-7ee6-44a5-89f0-ccb5e5d4ef76",
    "deepnote_cell_height": 80.13333129882812,
    "deepnote_cell_type": "code",
    "deepnote_to_be_reexecuted": false,
    "execution_start": 1637954166499,
    "source_hash": "3e943dc6"
   },
   "outputs": [],
   "source": [
    "## Código Dummy"
   ]
  },
  {
   "cell_type": "code",
   "execution_count": null,
   "id": "8cd8b014",
   "metadata": {
    "cell_id": "767a72b6c3ca4caa86bf94ce7f00421b",
    "deepnote_cell_height": 66,
    "deepnote_cell_type": "code",
    "tags": []
   },
   "outputs": [],
   "source": [
    "## Código Clasificador"
   ]
  },
  {
   "cell_type": "code",
   "execution_count": null,
   "id": "2a898cdb",
   "metadata": {
    "cell_id": "57e26f4f95c440a2be8794ea16cb12db",
    "deepnote_cell_height": 66,
    "deepnote_cell_type": "code",
    "tags": []
   },
   "outputs": [],
   "source": [
    "## Código Comparación de métricas"
   ]
  },
  {
   "cell_type": "markdown",
   "id": "fe1ad8b1",
   "metadata": {
    "cell_id": "8b46d8fd6f9544b199b67020abad2562",
    "deepnote_cell_height": 69.93333435058594,
    "deepnote_cell_type": "markdown",
    "tags": []
   },
   "source": [
    "```\n",
    "Justificación\n",
    "```"
   ]
  },
  {
   "cell_type": "markdown",
   "id": "a19cefe4",
   "metadata": {
    "cell_id": "00021-c294ef41-853d-4297-b051-d5d4e6577715",
    "deepnote_cell_height": 61.69999694824219,
    "deepnote_cell_type": "markdown"
   },
   "source": [
    "---\n",
    "\n",
    "### 4.2 Búsqueda del mejor modelo de Clasificación\n"
   ]
  },
  {
   "cell_type": "code",
   "execution_count": null,
   "id": "e318e536",
   "metadata": {
    "cell_id": "00022-b323dc3e-6fa0-4d50-8a50-56ad708178ba",
    "deepnote_cell_height": 80.13333129882812,
    "deepnote_cell_type": "code",
    "deepnote_to_be_reexecuted": false,
    "execution_start": 1637954166499,
    "source_hash": "8f673430",
    "tags": []
   },
   "outputs": [],
   "source": [
    "### Código GridSearch"
   ]
  },
  {
   "cell_type": "code",
   "execution_count": null,
   "id": "02d21ed2",
   "metadata": {
    "cell_id": "12d71cdc88dd4c06b9a7e1696853f7b2",
    "deepnote_cell_height": 66,
    "deepnote_cell_type": "code",
    "tags": []
   },
   "outputs": [],
   "source": [
    "### Código Predicción de datos de la competencia aquí"
   ]
  },
  {
   "cell_type": "markdown",
   "id": "a0259787",
   "metadata": {
    "cell_id": "00023-73786884-e1b2-448a-9636-ab05cf3c1fc5",
    "deepnote_cell_height": 69.93333435058594,
    "deepnote_cell_type": "markdown"
   },
   "source": [
    "```\n",
    "Justificación Aquí\n",
    "```"
   ]
  },
  {
   "cell_type": "markdown",
   "id": "3619ba01",
   "metadata": {
    "cell_id": "2d58aececbe34d6184477c8e3cfaa2e3",
    "deepnote_cell_height": 117.69999694824219,
    "deepnote_cell_type": "markdown",
    "tags": []
   },
   "source": [
    "---\n",
    "\n",
    "## 5. Regresión\n",
    "\n",
    "### 5.1 Dummy y Baseline"
   ]
  },
  {
   "cell_type": "code",
   "execution_count": null,
   "id": "9ded0400",
   "metadata": {
    "cell_id": "86fd465c690a46d1bafed3115c0bceff",
    "deepnote_cell_height": 66,
    "deepnote_cell_type": "code",
    "tags": []
   },
   "outputs": [],
   "source": [
    "## Código Dummy"
   ]
  },
  {
   "cell_type": "code",
   "execution_count": null,
   "id": "63af54ad",
   "metadata": {
    "cell_id": "faaf5b0b0d34479bad168c8dd4cbe508",
    "deepnote_cell_height": 66,
    "deepnote_cell_type": "code",
    "tags": []
   },
   "outputs": [],
   "source": [
    "## Código Regresor"
   ]
  },
  {
   "cell_type": "code",
   "execution_count": null,
   "id": "65fb9771",
   "metadata": {
    "cell_id": "4e397759bca54254b536d998f20cbd08",
    "deepnote_cell_height": 66,
    "deepnote_cell_type": "code",
    "tags": []
   },
   "outputs": [],
   "source": [
    "## Código Comparación de métricas"
   ]
  },
  {
   "cell_type": "markdown",
   "id": "673ae79a",
   "metadata": {
    "cell_id": "23ba7e6c56c841d8b2c11563ca64bf20",
    "deepnote_cell_height": 69.93333435058594,
    "deepnote_cell_type": "markdown",
    "tags": []
   },
   "source": [
    "```\n",
    "Justificación\n",
    "```"
   ]
  },
  {
   "cell_type": "markdown",
   "id": "556e03e9",
   "metadata": {
    "cell_id": "df491c3ed9704211be52235df236b889",
    "deepnote_cell_height": 61.69999694824219,
    "deepnote_cell_type": "markdown",
    "tags": []
   },
   "source": [
    "---\n",
    "\n",
    "### 5.2 Búsqueda del mejor modelo de Regresión\n"
   ]
  },
  {
   "cell_type": "code",
   "execution_count": null,
   "id": "1701d286",
   "metadata": {
    "cell_id": "cfc6786c0598444bb8070990453da397",
    "deepnote_cell_height": 66,
    "deepnote_cell_type": "code",
    "tags": []
   },
   "outputs": [],
   "source": [
    "### Código GridSearch"
   ]
  },
  {
   "cell_type": "code",
   "execution_count": null,
   "id": "b0a2d609",
   "metadata": {
    "cell_id": "b00b9baef48947d9abcfb6972bdaa3aa",
    "deepnote_cell_height": 66,
    "deepnote_cell_type": "code",
    "tags": []
   },
   "outputs": [],
   "source": [
    "### Código Predicción de datos de la competencia aquí"
   ]
  },
  {
   "cell_type": "markdown",
   "id": "d085be36",
   "metadata": {
    "cell_id": "00025-2acf9c12-da85-4c1f-add5-f2b0f600177f",
    "deepnote_cell_height": 69.69999694824219,
    "deepnote_cell_type": "markdown"
   },
   "source": [
    "---\n",
    "\n",
    "## 6. Conclusiones"
   ]
  },
  {
   "cell_type": "markdown",
   "id": "f1107719",
   "metadata": {
    "cell_id": "00026-15c07b20-0e16-48fa-bf3c-33aeb2c4c1db",
    "deepnote_cell_height": 51.53334045410156,
    "deepnote_cell_type": "markdown"
   },
   "source": [
    "Conclusiones...\n",
    "\n"
   ]
  },
  {
   "cell_type": "markdown",
   "id": "39f4301e",
   "metadata": {
    "cell_id": "00027-1e362e1d-a776-4423-93d5-0f568476e4c1",
    "deepnote_cell_height": 84.10000610351562,
    "deepnote_cell_type": "markdown",
    "tags": []
   },
   "source": [
    "---\n",
    "\n",
    "<br>\n",
    "\n",
    "### Anexo: Generación de Archivo Submit de la Competencia"
   ]
  },
  {
   "cell_type": "markdown",
   "id": "b055acf9",
   "metadata": {
    "cell_id": "00028-0a64e7e8-1077-4868-8c96-db3d51323157",
    "deepnote_cell_height": 671.9000244140625,
    "deepnote_cell_type": "markdown",
    "tags": []
   },
   "source": [
    "Para subir los resultados obtenidos a la pagina de CodaLab utilice la función `generateFiles` entregada mas abajo. Esto es debido a que usted deberá generar archivos que respeten extrictamente el formato de CodaLab, de lo contario los resultados no se veran reflejados en la pagina de la competencia.\n",
    "\n",
    "Para los resultados obtenidos en su modelo de clasificación y regresión, estos serán guardados en un archivo zip que contenga los archivos `predicctions_clf.txt` para la clasificación y `predicctions_rgr.clf` para la regresión. Los resultados, como se comento antes, deberan ser obtenidos en base al dataset `test.pickle` y en cada una de las lineas deberan presentar las predicciones realizadas.\n",
    "\n",
    "Ejemplos de archivos:\n",
    "\n",
    "- [ ] `predicctions_clf.txt`\n",
    "\n",
    "        Mostly Positive\n",
    "        Mostly Positive\n",
    "        Negative\n",
    "        Positive\n",
    "        Negative\n",
    "        Positive\n",
    "        ...\n",
    "\n",
    "- [ ] `predicctions_rgr.txt`\n",
    "\n",
    "        16103.58\n",
    "        16103.58\n",
    "        16041.89\n",
    "        9328.62\n",
    "        107976.03\n",
    "        194374.08\n",
    "        ...\n",
    "\n"
   ]
  },
  {
   "cell_type": "code",
   "execution_count": null,
   "id": "5eb95307",
   "metadata": {
    "cell_id": "00029-55f95a4c-2d1f-4354-a690-049fea34bdac",
    "deepnote_cell_height": 620.13330078125,
    "deepnote_cell_type": "code",
    "deepnote_to_be_reexecuted": false,
    "execution_start": 1637954166501,
    "source_hash": "b1cdf32f",
    "tags": []
   },
   "outputs": [],
   "source": [
    "from zipfile import ZipFile\n",
    "import os\n",
    "\n",
    "def generateFiles(predict_data, clf_pipe, rgr_pipe):\n",
    "    \"\"\"Genera los archivos a subir en CodaLab\n",
    "\n",
    "    Input\n",
    "    predict_data: Dataframe con los datos de entrada a predecir\n",
    "    clf_pipe: pipeline del clf\n",
    "    rgr_pipe: pipeline del rgr\n",
    "\n",
    "    Ouput\n",
    "    archivo de txt\n",
    "    \"\"\"\n",
    "    y_pred_clf = clf_pipe.predict(predict_data)\n",
    "    y_pred_rgr = rgr_pipe.predict(predict_data)\n",
    "    \n",
    "    with open('./predictions_clf.txt', 'w') as f:\n",
    "        for item in y_pred_clf:\n",
    "            f.write(\"%s\\n\" % item)\n",
    "\n",
    "    with open('./predictions_rgr.txt', 'w') as f:\n",
    "        for item in y_pred_rgr:\n",
    "            f.write(\"%s\\n\" % item)\n",
    "\n",
    "    with ZipFile('predictions.zip', 'w') as zipObj2:\n",
    "       zipObj2.write('predictions_rgr.txt')\n",
    "       zipObj2.write('predictions_clf.txt')\n",
    "\n",
    "    os.remove(\"predictions_rgr.txt\")\n",
    "    os.remove(\"predictions_clf.txt\")"
   ]
  },
  {
   "cell_type": "code",
   "execution_count": null,
   "id": "58b6d627",
   "metadata": {
    "cell_id": "b589f659ce2246919e3707e79420aff2",
    "deepnote_cell_height": 138,
    "deepnote_cell_type": "code",
    "tags": []
   },
   "outputs": [],
   "source": [
    "# Ejecutar función para generar el archivo de predicciones.\n",
    "# perdict_data debe tener cargada los datos del text.pickle\n",
    "# mientras que clf_pipe y rgr_pipe, son los pipeline de \n",
    "# clasificación y regresión respectivamente.\n",
    "generateFiles(predict_data, clf_pipe, rgr_pipe)"
   ]
  },
  {
   "cell_type": "markdown",
   "id": "22202136",
   "metadata": {
    "created_in_deepnote_cell": true,
    "deepnote_cell_type": "markdown",
    "tags": []
   },
   "source": [
    "<a style='text-decoration:none;line-height:16px;display:flex;color:#5B5B62;padding:10px;justify-content:end;' href='https://deepnote.com?utm_source=created-in-deepnote-cell&projectId=87110296-876e-426f-b91d-aaf681223468' target=\"_blank\">\n",
    "<img alt='Created in deepnote.com' style='display:inline;max-height:16px;margin:0px;margin-right:7.5px;' src='data:image/svg+xml;base64,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' > </img>\n",
    "Created in <span style='font-weight:600;margin-left:4px;'>Deepnote</span></a>"
   ]
  }
 ],
 "metadata": {
  "deepnote": {},
  "deepnote_execution_queue": [],
  "deepnote_notebook_id": "dbddc0f3-10b8-4160-bc27-ac993196164c",
  "kernelspec": {
   "display_name": "Python 3 (ipykernel)",
   "language": "python",
   "name": "python3"
  },
  "language_info": {
   "codemirror_mode": {
    "name": "ipython",
    "version": 3
   },
   "file_extension": ".py",
   "mimetype": "text/x-python",
   "name": "python",
   "nbconvert_exporter": "python",
   "pygments_lexer": "ipython3",
   "version": "3.9.12"
  }
 },
 "nbformat": 4,
 "nbformat_minor": 5
}
